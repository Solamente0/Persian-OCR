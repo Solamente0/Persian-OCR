{
 "cells": [
  {
   "cell_type": "code",
   "execution_count": 1,
   "id": "09edf3fa",
   "metadata": {},
   "outputs": [],
   "source": [
    "import pandas as pd\n",
    "import matplotlib.pyplot as plt"
   ]
  },
  {
   "cell_type": "code",
   "execution_count": 2,
   "id": "ffa8da74",
   "metadata": {},
   "outputs": [
    {
     "data": {
      "text/html": [
       "<div>\n",
       "<style scoped>\n",
       "    .dataframe tbody tr th:only-of-type {\n",
       "        vertical-align: middle;\n",
       "    }\n",
       "\n",
       "    .dataframe tbody tr th {\n",
       "        vertical-align: top;\n",
       "    }\n",
       "\n",
       "    .dataframe thead th {\n",
       "        text-align: right;\n",
       "    }\n",
       "</style>\n",
       "<table border=\"1\" class=\"dataframe\">\n",
       "  <thead>\n",
       "    <tr style=\"text-align: right;\">\n",
       "      <th></th>\n",
       "      <th>File_Name</th>\n",
       "      <th>Label</th>\n",
       "    </tr>\n",
       "  </thead>\n",
       "  <tbody>\n",
       "    <tr>\n",
       "      <th>0</th>\n",
       "      <td>0</td>\n",
       "      <td>ﺭ</td>\n",
       "    </tr>\n",
       "    <tr>\n",
       "      <th>1</th>\n",
       "      <td>1</td>\n",
       "      <td>ﺍ</td>\n",
       "    </tr>\n",
       "    <tr>\n",
       "      <th>2</th>\n",
       "      <td>2</td>\n",
       "      <td>ﯾ</td>\n",
       "    </tr>\n",
       "    <tr>\n",
       "      <th>3</th>\n",
       "      <td>3</td>\n",
       "      <td>ﺎ</td>\n",
       "    </tr>\n",
       "    <tr>\n",
       "      <th>4</th>\n",
       "      <td>4</td>\n",
       "      <td>ﻧ</td>\n",
       "    </tr>\n",
       "  </tbody>\n",
       "</table>\n",
       "</div>"
      ],
      "text/plain": [
       "   File_Name Label\n",
       "0          0     ﺭ\n",
       "1          1     ﺍ\n",
       "2          2     ﯾ\n",
       "3          3     ﺎ\n",
       "4          4     ﻧ"
      ]
     },
     "execution_count": 2,
     "metadata": {},
     "output_type": "execute_result"
    }
   ],
   "source": [
    "df=pd.read_csv('FinalDataLabel.csv')\n",
    "df.head()"
   ]
  },
  {
   "cell_type": "code",
   "execution_count": 3,
   "id": "08c5a3ad",
   "metadata": {},
   "outputs": [
    {
     "data": {
      "text/plain": [
       "(84986, 2)"
      ]
     },
     "execution_count": 3,
     "metadata": {},
     "output_type": "execute_result"
    }
   ],
   "source": [
    "df.shape"
   ]
  },
  {
   "cell_type": "code",
   "execution_count": 4,
   "id": "9b949e3a",
   "metadata": {},
   "outputs": [
    {
     "data": {
      "text/plain": [
       "ﺎ    6337\n",
       "ﺍ    5966\n",
       "ﺭ    4326\n",
       "ﺩ    3580\n",
       "ﺑ    3340\n",
       "ﻪ    3236\n",
       "ﻭ    3177\n",
       "ﺪ    2878\n",
       "ﯾ    2494\n",
       "ﺮ    2305\n",
       "ﻮ    2111\n",
       "ﻣ    2061\n",
       "ﻧ    2048\n",
       "ﮐ    2041\n",
       "ﯿ    2019\n",
       "Name: Label, dtype: int64"
      ]
     },
     "execution_count": 4,
     "metadata": {},
     "output_type": "execute_result"
    }
   ],
   "source": [
    "df['Label'].value_counts().head(15)"
   ]
  },
  {
   "cell_type": "code",
   "execution_count": 5,
   "id": "0a4a43a8",
   "metadata": {},
   "outputs": [
    {
     "data": {
      "text/plain": [
       "ﺥ    8\n",
       "ﺔ    7\n",
       ".    6\n",
       "ﻳ    6\n",
       "ﭖ    6\n",
       "ﻚ    5\n",
       ":    4\n",
       "ﮥ    2\n",
       "ﺀ    2\n",
       "ﺓ    2\n",
       "ﺙ    2\n",
       "ﺄ    2\n",
       "ﻴ    2\n",
       "ﷲ    1\n",
       "ﻎ    1\n",
       "Name: Label, dtype: int64"
      ]
     },
     "execution_count": 5,
     "metadata": {},
     "output_type": "execute_result"
    }
   ],
   "source": [
    "df['Label'].value_counts().tail(15)"
   ]
  },
  {
   "cell_type": "code",
   "execution_count": 6,
   "id": "51199b4d",
   "metadata": {},
   "outputs": [],
   "source": [
    "df['Label'].replace( 'ﭖ','پ' , inplace=True)\n",
    "df['Label'].replace( 'ﭗ','پ' , inplace=True)\n",
    "\n",
    "df['Label'].replace( 'ﭘ','ﭘ' , inplace=True)\n",
    "df['Label'].replace( 'ﭙ','ﭘ' , inplace=True)\n",
    "\n",
    "df['Label'].replace( 'ﭻ','چ' , inplace=True)\n",
    "\n",
    "df['Label'].replace( 'ﭼ','ﭼ' , inplace=True)\n",
    "df['Label'].replace( 'ﭽ','ﭼ' , inplace=True)\n",
    "\n",
    "df['Label'].replace( 'ﮊ','ژ' , inplace=True)\n",
    "df['Label'].replace( 'ﮋ','ژ' , inplace=True)\n",
    "\n",
    "df['Label'].replace( 'ﮎ','ک' , inplace=True)\n",
    "df['Label'].replace( 'ﮏ','ک' , inplace=True)\n",
    "\n",
    "df['Label'].replace( 'ﮐ','ﮐ' , inplace=True)\n",
    "df['Label'].replace( 'ﮑ','ﮐ' , inplace=True)\n",
    "\n",
    "df['Label'].replace( 'ﮒ','گ' , inplace=True)\n",
    "df['Label'].replace( 'ﮓ','گ' , inplace=True)\n",
    "\n",
    "df['Label'].replace( 'ﮔ','ﮔ' , inplace=True)\n",
    "df['Label'].replace( 'ﮕ','ﮔ' , inplace=True)\n",
    "\n",
    "df['Label'].replace( 'ﯼ','ی' , inplace=True)\n",
    "df['Label'].replace( 'ﯽ','ی' , inplace=True)\n",
    "\n",
    "df['Label'].replace( 'ﯾ','ﯾ' , inplace=True)\n",
    "df['Label'].replace( 'ﯿ','ﯾ' , inplace=True)\n",
    "\n",
    "df['Label'].replace( 'ﮥ','ﻪ' , inplace=True)\n",
    "df['Label'].replace( 'ﺔ','ﻪ' , inplace=True)\n",
    "df['Label'].replace( 'ﻪ','ﻪ' , inplace=True)\n",
    "\n",
    "df['Label'].replace( 'ﺁ','آ' , inplace=True)\n",
    "df['Label'].replace( 'ﺄ','آ' , inplace=True)\n",
    "\n",
    "df['Label'].replace( 'ﺋ','ﺋ' , inplace=True)\n",
    "df['Label'].replace( 'ﺌ','ﺋ' , inplace=True)\n",
    "\n",
    "df['Label'].replace( 'ﺍ','ا' , inplace=True)\n",
    "df['Label'].replace( 'ﺎ','ا' , inplace=True)\n",
    "\n",
    "df['Label'].replace( 'ﺐ','ب' , inplace=True)\n",
    "df['Label'].replace( 'ﺏ','ب' , inplace=True)\n",
    "\n",
    "df['Label'].replace( 'ﺑ','ﺑ' , inplace=True)\n",
    "df['Label'].replace( 'ﺒ','ﺑ' , inplace=True)\n",
    "\n",
    "df['Label'].replace( 'ﺓ','ه' , inplace=True)\n",
    "df['Label'].replace( 'ﻩ','ه' , inplace=True)\n",
    "\n",
    "df['Label'].replace( 'ﺕ','ت' , inplace=True)\n",
    "df['Label'].replace( 'ﺖ','ت' , inplace=True)\n",
    "\n",
    "df['Label'].replace( 'ﺗ','ﺗ' , inplace=True)\n",
    "df['Label'].replace( 'ﺘ','ﺗ' , inplace=True)\n",
    "\n",
    "df['Label'].replace( 'ﺙ','ث' , inplace=True)\n",
    "df['Label'].replace( 'ﺚ','ث' , inplace=True)\n",
    "\n",
    "df['Label'].replace( 'ﺛ','ﺛ' , inplace=True)\n",
    "df['Label'].replace( 'ﺜ','ﺛ' , inplace=True)\n",
    "\n",
    "df['Label'].replace( 'ﺝ','ج' , inplace=True)\n",
    "df['Label'].replace( 'ﺞ','ج' , inplace=True)\n",
    "\n",
    "df['Label'].replace( 'ﺟ','ﺟ' , inplace=True)\n",
    "df['Label'].replace( 'ﺠ','ﺟ' , inplace=True)\n",
    "\n",
    "df['Label'].replace( 'ﺡ','ح' , inplace=True)\n",
    "df['Label'].replace( 'ﺢ','ح' , inplace=True)\n",
    "\n",
    "df['Label'].replace( 'ﺣ','ﺣ' , inplace=True)\n",
    "df['Label'].replace( 'ﺤ','ﺣ' , inplace=True)\n",
    "\n",
    "df['Label'].replace( 'ﺥ','خ' , inplace=True)\n",
    "df['Label'].replace( 'ﺦ','خ' , inplace=True)\n",
    "\n",
    "df['Label'].replace( 'ﺧ','ﺧ' , inplace=True)\n",
    "df['Label'].replace( 'ﺨ','ﺧ' , inplace=True)\n",
    "\n",
    "df['Label'].replace( 'ﺩ','د' , inplace=True)\n",
    "df['Label'].replace( 'ﺪ','د' , inplace=True)\n",
    "\n",
    "df['Label'].replace( 'ﺫ','ذ' , inplace=True)\n",
    "df['Label'].replace( 'ﺬ','ذ' , inplace=True)\n",
    "\n",
    "df['Label'].replace( 'ﺭ','ر' , inplace=True)\n",
    "df['Label'].replace( 'ﺮ','ر' , inplace=True)\n",
    "\n",
    "df['Label'].replace( 'ﺯ','ز' , inplace=True)\n",
    "df['Label'].replace( 'ﺰ','ز' , inplace=True)\n",
    "\n",
    "df['Label'].replace( 'ﺱ','س' , inplace=True)\n",
    "df['Label'].replace( 'ﺲ','س' , inplace=True)\n",
    "\n",
    "df['Label'].replace( 'ﺳ','ﺳ' , inplace=True)\n",
    "df['Label'].replace( 'ﺴ','ﺳ' , inplace=True)\n",
    "\n",
    "df['Label'].replace( 'ﺵ','ش' , inplace=True)\n",
    "df['Label'].replace( 'ﺶ','ش' , inplace=True)\n",
    "\n",
    "df['Label'].replace( 'ﺷ','ﺷ' , inplace=True)\n",
    "df['Label'].replace( 'ﺸ','ﺷ' , inplace=True)\n",
    "\n",
    "df['Label'].replace( 'ﺹ','ص' , inplace=True)\n",
    "df['Label'].replace( 'ﺺ','ص' , inplace=True)\n",
    "\n",
    "df['Label'].replace( 'ﺻ','ﺻ' , inplace=True)\n",
    "df['Label'].replace( 'ﺼ','ﺻ' , inplace=True)\n",
    "\n",
    "df['Label'].replace( 'ﺽ','ض' , inplace=True)\n",
    "df['Label'].replace( 'ﺾ','ض' , inplace=True)\n",
    "\n",
    "df['Label'].replace( 'ﺿ','ﺿ' , inplace=True)\n",
    "df['Label'].replace( 'ﻀ','ﺿ' , inplace=True)\n",
    "\n",
    "df['Label'].replace( 'ﻁ','ط' , inplace=True)\n",
    "df['Label'].replace( 'ﻂ','ط' , inplace=True)\n",
    "df['Label'].replace( 'ﻃ','ط' , inplace=True)\n",
    "df['Label'].replace( 'ﻄ','ط' , inplace=True)\n",
    "\n",
    "df['Label'].replace( 'ﻆ','ظ' , inplace=True)\n",
    "df['Label'].replace( 'ﻇ','ظ' , inplace=True)\n",
    "df['Label'].replace( 'ﻈ','ظ' , inplace=True)\n",
    "\n",
    "df['Label'].replace( 'ﻑ','ف' , inplace=True)\n",
    "df['Label'].replace( 'ﻒ','ف' , inplace=True)\n",
    "\n",
    "df['Label'].replace( 'ﻓ','ﻓ' , inplace=True)\n",
    "df['Label'].replace( 'ﻔ','ﻓ' , inplace=True)\n",
    "\n",
    "df['Label'].replace( 'ﻕ','ق' , inplace=True)\n",
    "df['Label'].replace( 'ﻖ','ق' , inplace=True)\n",
    "\n",
    "df['Label'].replace( 'ﻗ','ﻗ' , inplace=True)\n",
    "df['Label'].replace( 'ﻘ','ﻗ' , inplace=True)\n",
    "\n",
    "df['Label'].replace( 'ﻚ','ک' , inplace=True)\n",
    "df['Label'].replace( 'ﻛ','ﻛ' , inplace=True)\n",
    "df['Label'].replace( 'ﻜ','ﻛ' , inplace=True)\n",
    "\n",
    "df['Label'].replace( 'ﻝ','ل' , inplace=True)\n",
    "df['Label'].replace( 'ﻞ','ل' , inplace=True)\n",
    "\n",
    "df['Label'].replace( 'ﻟ','ﻟ' , inplace=True)\n",
    "df['Label'].replace( 'ﻠ','ﻟ' , inplace=True)\n",
    "\n",
    "df['Label'].replace( 'ﻡ','م' , inplace=True)\n",
    "df['Label'].replace( 'ﻢ','م' , inplace=True)\n",
    "\n",
    "df['Label'].replace( 'ﻣ','ﻣ' , inplace=True)\n",
    "df['Label'].replace( 'ﻤ','ﻣ' , inplace=True)\n",
    "\n",
    "df['Label'].replace( 'ﻥ','ن' , inplace=True)\n",
    "df['Label'].replace( 'ﻦ','ن' , inplace=True)\n",
    "\n",
    "df['Label'].replace( 'ﻧ','ﻧ' , inplace=True)\n",
    "df['Label'].replace( 'ﻨ','ﻧ' , inplace=True)\n",
    "\n",
    "df['Label'].replace( 'ﻭ','و' , inplace=True)\n",
    "df['Label'].replace( 'ﻮ','و' , inplace=True)\n",
    "\n",
    "df['Label'].replace( 'ﻳ','ﻳ' , inplace=True)\n",
    "df['Label'].replace( 'ﻴ','ﻳ' , inplace=True)\n",
    "\n",
    "df['Label'].replace( 'ﻻ','ﻻ' , inplace=True)\n",
    "df['Label'].replace( 'ﻼ','ﻻ' , inplace=True)\n",
    "\n",
    "df['Label'].replace( 'ﻛ','ﮐ' , inplace=True)\n",
    "df['Label'].replace( 'ﻎ','غ' , inplace=True)\n",
    "df['Label'].replace( 'ﻊ','ع' , inplace=True)\n",
    "\n",
    "df['Label'].replace( 'ﻉ','ع' , inplace=True)\n",
    "df['Label'].replace( 'ﻍ','غ' , inplace=True)\n",
    "\n",
    "df = df[df['Label'] != 'ﺀ']\n",
    "df = df[df['Label'] != 'ﷲ']"
   ]
  },
  {
   "cell_type": "code",
   "execution_count": 7,
   "id": "a758a492",
   "metadata": {},
   "outputs": [
    {
     "data": {
      "text/plain": [
       "(84983, 2)"
      ]
     },
     "execution_count": 7,
     "metadata": {},
     "output_type": "execute_result"
    }
   ],
   "source": [
    "df.shape"
   ]
  },
  {
   "cell_type": "code",
   "execution_count": 8,
   "id": "ea04509d",
   "metadata": {},
   "outputs": [
    {
     "data": {
      "text/plain": [
       "ا    12303\n",
       "ر     6631\n",
       "د     6458\n",
       "و     5288\n",
       "ﯾ     4513\n",
       "ﺑ     3762\n",
       "ﻪ     3245\n",
       "ﻧ     3200\n",
       "ﻣ     2867\n",
       "ﮐ     2482\n",
       "ن     2182\n",
       "ﺗ     2107\n",
       "ﺳ     2055\n",
       "ز     1846\n",
       "ی     1793\n",
       "Name: Label, dtype: int64"
      ]
     },
     "execution_count": 8,
     "metadata": {},
     "output_type": "execute_result"
    }
   ],
   "source": [
    "df['Label'].value_counts().head(15)"
   ]
  },
  {
   "cell_type": "code",
   "execution_count": 9,
   "id": "36bbbfd7",
   "metadata": {},
   "outputs": [
    {
     "data": {
      "text/plain": [
       "ژ    53\n",
       "ص    48\n",
       "غ    47\n",
       "چ    43\n",
       "ح    41\n",
       "پ    38\n",
       "گ    30\n",
       "ﺋ    28\n",
       "خ    25\n",
       "،    24\n",
       "ث    23\n",
       "ض    17\n",
       "ﻳ     8\n",
       ".     6\n",
       ":     4\n",
       "Name: Label, dtype: int64"
      ]
     },
     "execution_count": 9,
     "metadata": {},
     "output_type": "execute_result"
    }
   ],
   "source": [
    "df['Label'].value_counts().tail(15)"
   ]
  },
  {
   "cell_type": "code",
   "execution_count": 10,
   "id": "1d2b83fe",
   "metadata": {},
   "outputs": [
    {
     "name": "stdout",
     "output_type": "stream",
     "text": [
      "<class 'pandas.core.series.Series'>\n",
      "Int64Index: 84983 entries, 0 to 84985\n",
      "Series name: Label\n",
      "Non-Null Count  Dtype \n",
      "--------------  ----- \n",
      "84983 non-null  object\n",
      "dtypes: object(1)\n",
      "memory usage: 1.3+ MB\n"
     ]
    }
   ],
   "source": [
    "df['Label'].info()"
   ]
  },
  {
   "cell_type": "code",
   "execution_count": 11,
   "id": "37564361",
   "metadata": {},
   "outputs": [],
   "source": [
    "unique_values = df['Label'].unique()"
   ]
  },
  {
   "cell_type": "code",
   "execution_count": 12,
   "id": "0ec13249",
   "metadata": {},
   "outputs": [
    {
     "data": {
      "text/plain": [
       "array(['ر', 'ا', 'ﯾ', 'ﻧ', 'ﻪ', 'ﻗ', 'ﭘ', 'ن', 'د', 'ﺗ', 'پ', 'ز', 'ﻫ',\n",
       "       'ل', 'ﺳ', 'و', 'م', 'ﺣ', 'ﻣ', 'ط', 'آ', 'ﭼ', 'ﻓ', 'ه', 'ﺑ', 'ی',\n",
       "       'ﮐ', 'ﻟ', 'ژ', 'ﺟ', 'ﺧ', 'ﻻ', 'ﺻ', 'ص', 'ﺷ', 'ت', 'ﮔ', 'ف', 'ک',\n",
       "       'ع', 'ﻌ', 'ﻬ', 'ذ', 'ح', 'س', 'گ', 'خ', 'ش', 'ﺿ', 'ﻋ', 'ب', 'ظ',\n",
       "       'ﻏ', 'ض', '،', 'ق', 'ج', '.', 'چ', 'ﺋ', 'غ', 'ث', 'ﺛ', 'ﻐ', ':',\n",
       "       'ﻳ', '9', '8', '6', '5', '4', '1', '0', '3', '2'], dtype=object)"
      ]
     },
     "execution_count": 12,
     "metadata": {},
     "output_type": "execute_result"
    }
   ],
   "source": [
    "unique_values"
   ]
  },
  {
   "cell_type": "code",
   "execution_count": 13,
   "id": "91e84b99",
   "metadata": {},
   "outputs": [
    {
     "data": {
      "text/plain": [
       "75"
      ]
     },
     "execution_count": 13,
     "metadata": {},
     "output_type": "execute_result"
    }
   ],
   "source": [
    "df['Label'].nunique()"
   ]
  },
  {
   "cell_type": "code",
   "execution_count": 14,
   "id": "d22a5a8d",
   "metadata": {},
   "outputs": [
    {
     "data": {
      "text/plain": [
       "(84983, 2)"
      ]
     },
     "execution_count": 14,
     "metadata": {},
     "output_type": "execute_result"
    }
   ],
   "source": [
    "df.shape"
   ]
  },
  {
   "cell_type": "code",
   "execution_count": 15,
   "id": "a615615d",
   "metadata": {},
   "outputs": [],
   "source": [
    "df.to_csv('f_labels.csv',encoding='utf-8-sig',index=False)"
   ]
  },
  {
   "cell_type": "code",
   "execution_count": null,
   "id": "6cd735b7",
   "metadata": {},
   "outputs": [],
   "source": []
  }
 ],
 "metadata": {
  "kernelspec": {
   "display_name": "Python 3 (ipykernel)",
   "language": "python",
   "name": "python3"
  },
  "language_info": {
   "codemirror_mode": {
    "name": "ipython",
    "version": 3
   },
   "file_extension": ".py",
   "mimetype": "text/x-python",
   "name": "python",
   "nbconvert_exporter": "python",
   "pygments_lexer": "ipython3",
   "version": "3.10.7"
  }
 },
 "nbformat": 4,
 "nbformat_minor": 5
}
