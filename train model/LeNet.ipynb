{
  "cells": [
    {
      "cell_type": "code",
      "execution_count": 1,
      "metadata": {
        "id": "mnnCcu2bAAeU"
      },
      "outputs": [],
      "source": [
        "import pandas as pd\n",
        "import numpy as np\n",
        "import matplotlib.pyplot as plt\n",
        "import cv2 as cv2\n",
        "import tensorflow as tf\n",
        "import os\n",
        "from sklearn.model_selection import train_test_split\n",
        "from tensorflow.keras.models import Sequential\n",
        "from tensorflow.keras.layers import Conv2D, MaxPooling2D, Bidirectional, LSTM, Dense, Dropout, Flatten, Embedding,Reshape,TimeDistributed\n",
        "from tensorflow.keras.preprocessing.text import Tokenizer\n",
        "from tensorflow.keras.preprocessing.sequence import pad_sequences\n",
        "from tensorflow.keras.preprocessing.image import img_to_array\n",
        "from tensorflow.keras.callbacks import EarlyStopping\n",
        "from tensorflow.keras.utils import to_categorical\n",
        "from tensorflow.keras.preprocessing.image import ImageDataGenerator\n",
        "from tensorflow.keras import layers, models\n",
        "from keras.utils import to_categorical\n",
        "from keras import layers\n",
        "import warnings\n",
        "\n",
        "warnings.filterwarnings('ignore')"
      ]
    },
    {
      "cell_type": "code",
      "execution_count": 2,
      "metadata": {
        "colab": {
          "base_uri": "https://localhost:8080/"
        },
        "id": "Ag-o6RcmBKF7",
        "outputId": "d045bb38-57dd-4f81-c591-774b1da5a9c8"
      },
      "outputs": [
        {
          "output_type": "stream",
          "name": "stdout",
          "text": [
            "Mounted at /content/drive\n"
          ]
        }
      ],
      "source": [
        "from google.colab import drive\n",
        "drive.mount('/content/drive')"
      ]
    },
    {
      "cell_type": "code",
      "execution_count": 3,
      "metadata": {
        "id": "s0LyeuacAAeX"
      },
      "outputs": [],
      "source": [
        "df=pd.read_csv('/content/drive/MyDrive/OCR/OCR Data/integrate_2.csv')\n",
        "label=df['Label']"
      ]
    },
    {
      "cell_type": "code",
      "execution_count": null,
      "metadata": {
        "colab": {
          "base_uri": "https://localhost:8080/"
        },
        "id": "hFCeb-TjBgMp",
        "outputId": "4af7008b-2167-4d15-9c06-564191ac4467"
      },
      "outputs": [
        {
          "data": {
            "text/plain": [
              "(998431, 2)"
            ]
          },
          "execution_count": 4,
          "metadata": {},
          "output_type": "execute_result"
        }
      ],
      "source": [
        "df.shape"
      ]
    },
    {
      "cell_type": "code",
      "execution_count": 4,
      "metadata": {
        "id": "z4DUbRTKAAeX"
      },
      "outputs": [],
      "source": [
        "import zipfile\n",
        "import io\n",
        "\n",
        "\n",
        "with zipfile.ZipFile('/content/drive/MyDrive/OCR/OCR Data/New folder.zip', 'r') as zip_ref:\n",
        "    zip_ref.extractall()"
      ]
    },
    {
      "cell_type": "code",
      "execution_count": 5,
      "metadata": {
        "id": "qEtjXq84LUkI"
      },
      "outputs": [],
      "source": [
        "images = []\n",
        "\n",
        "for i in range(570749):\n",
        "    img_dir = f'New folder/{i}.png'\n",
        "    try:\n",
        "        img = cv2.imread(img_dir, cv2.IMREAD_GRAYSCALE)  # Read image in grayscale\n",
        "\n",
        "        height, original_width = img.shape\n",
        "        if 25 - original_width > 0:\n",
        "            add_width = (25 - original_width) / 2\n",
        "            left_columns = int(add_width)\n",
        "            right_columns = int(add_width)\n",
        "            new_width = 25\n",
        "            new_img = np.zeros((height, new_width), dtype=np.uint8)\n",
        "            new_img[:, left_columns:left_columns + original_width] = img\n",
        "            new_img = cv2.resize(new_img, (new_width, 30))\n",
        "        else:\n",
        "            new_img = cv2.resize(img, (25, 30))\n",
        "\n",
        "        _, binary_image = cv2.threshold(new_img, 128, 255, cv2.THRESH_BINARY)\n",
        "        images.append(binary_image)\n",
        "    except Exception as e:\n",
        "        print(f\"Error processing image {i}.png:\", str(e))"
      ]
    },
    {
      "cell_type": "code",
      "execution_count": 6,
      "metadata": {
        "colab": {
          "base_uri": "https://localhost:8080/"
        },
        "id": "1ubPXaxXAAeY",
        "outputId": "6fd3289f-a2ad-4b2f-b1ba-24d1b191b784"
      },
      "outputs": [
        {
          "output_type": "execute_result",
          "data": {
            "text/plain": [
              "570749"
            ]
          },
          "metadata": {},
          "execution_count": 6
        }
      ],
      "source": [
        "len(images)"
      ]
    },
    {
      "cell_type": "code",
      "execution_count": null,
      "metadata": {
        "colab": {
          "base_uri": "https://localhost:8080/"
        },
        "id": "UKhcUbp-lU49",
        "outputId": "ae0a6af5-d67e-436a-bf6a-229d0ab4ec05"
      },
      "outputs": [
        {
          "data": {
            "text/plain": [
              "998431"
            ]
          },
          "execution_count": 8,
          "metadata": {},
          "output_type": "execute_result"
        }
      ],
      "source": [
        "len(df)"
      ]
    },
    {
      "cell_type": "code",
      "execution_count": null,
      "metadata": {
        "colab": {
          "base_uri": "https://localhost:8080/"
        },
        "id": "83QZHignlqwl",
        "outputId": "7e14ae43-6b32-45b7-ff91-77ad3ddfa477"
      },
      "outputs": [
        {
          "data": {
            "text/plain": [
              "998431"
            ]
          },
          "execution_count": 9,
          "metadata": {},
          "output_type": "execute_result"
        }
      ],
      "source": [
        "len(label)"
      ]
    },
    {
      "cell_type": "code",
      "execution_count": 7,
      "metadata": {
        "colab": {
          "base_uri": "https://localhost:8080/",
          "height": 423
        },
        "id": "yWzJjleDAAeY",
        "outputId": "d107eed5-d550-4502-bd84-51de481b31a3"
      },
      "outputs": [
        {
          "output_type": "display_data",
          "data": {
            "text/plain": [
              "<Figure size 640x480 with 1 Axes>"
            ],
            "image/png": "[encoded data removed]"
          },
          "metadata": {}
        },
        {
          "output_type": "stream",
          "name": "stdout",
          "text": [
            "ر\n"
          ]
        }
      ],
      "source": [
        "i=570748\n",
        "plt.imshow(cv2.cvtColor(images[i], cv2.COLOR_BGR2RGB))\n",
        "plt.axis('off')\n",
        "plt.show()\n",
        "print(label[i])"
      ]
    },
    {
      "cell_type": "code",
      "execution_count": 8,
      "metadata": {
        "id": "JmcpXPZltKfN"
      },
      "outputs": [],
      "source": [
        "images = images[:570749]\n",
        "label = label[:570749]"
      ]
    },
    {
      "cell_type": "code",
      "execution_count": null,
      "metadata": {
        "colab": {
          "base_uri": "https://localhost:8080/"
        },
        "id": "tgriTA1ftOkj",
        "outputId": "14504257-699a-42f0-99f3-c1f1fa62e1aa"
      },
      "outputs": [
        {
          "data": {
            "text/plain": [
              "570749"
            ]
          },
          "execution_count": 10,
          "metadata": {},
          "output_type": "execute_result"
        }
      ],
      "source": [
        "len(label)"
      ]
    },
    {
      "cell_type": "code",
      "execution_count": 9,
      "metadata": {
        "id": "EWhxQUEittM4"
      },
      "outputs": [],
      "source": [
        "label_map = {}\n",
        "current_label = 0\n",
        "numeric_labels = []\n",
        "\n",
        "for char in label:\n",
        "    if char not in label_map:\n",
        "        # If not, assign a new label\n",
        "        label_map[char] = current_label\n",
        "        current_label += 1\n",
        "    numeric_labels.append(label_map[char])"
      ]
    },
    {
      "cell_type": "code",
      "execution_count": 10,
      "metadata": {
        "colab": {
          "base_uri": "https://localhost:8080/"
        },
        "id": "nwPyp5FUAAeZ",
        "outputId": "5a158cec-da31-47cb-ef4e-1c8d72b004b5"
      },
      "outputs": [
        {
          "output_type": "execute_result",
          "data": {
            "text/plain": [
              "{'ر': 0,\n",
              " 'ا': 1,\n",
              " 'ﯾ': 2,\n",
              " 'ﻧ': 3,\n",
              " 'ﻪ': 4,\n",
              " 'ﻗ': 5,\n",
              " 'ﭘ': 6,\n",
              " 'ن': 7,\n",
              " 'د': 8,\n",
              " 'ﺗ': 9,\n",
              " 'پ': 10,\n",
              " 'ز': 11,\n",
              " 'ﻫ': 12,\n",
              " 'ل': 13,\n",
              " 'ﺳ': 14,\n",
              " 'و': 15,\n",
              " 'م': 16,\n",
              " 'ﺣ': 17,\n",
              " 'ﻣ': 18,\n",
              " 'ط': 19,\n",
              " 'آ': 20,\n",
              " 'ﭼ': 21,\n",
              " 'ﻓ': 22,\n",
              " 'ه': 23,\n",
              " 'ﺑ': 24,\n",
              " 'ی': 25,\n",
              " 'ﮐ': 26,\n",
              " 'ﻟ': 27,\n",
              " 'ژ': 28,\n",
              " 'ﺟ': 29,\n",
              " 'ﺧ': 30,\n",
              " 'ﻻ': 31,\n",
              " 'ﺻ': 32,\n",
              " 'ص': 33,\n",
              " 'ﺷ': 34,\n",
              " 'ت': 35,\n",
              " 'ﮔ': 36,\n",
              " 'ف': 37,\n",
              " 'ک': 38,\n",
              " 'ع': 39,\n",
              " 'ﻌ': 40,\n",
              " 'ﻬ': 41,\n",
              " 'ذ': 42,\n",
              " 'ح': 43,\n",
              " 'س': 44,\n",
              " 'گ': 45,\n",
              " 'خ': 46,\n",
              " 'ش': 47,\n",
              " 'ﺿ': 48,\n",
              " 'ﻋ': 49,\n",
              " 'ب': 50,\n",
              " 'ظ': 51,\n",
              " 'ﻏ': 52,\n",
              " 'ض': 53,\n",
              " 'ق': 54,\n",
              " 'ج': 55,\n",
              " 'چ': 56,\n",
              " 'ﺋ': 57,\n",
              " 'غ': 58,\n",
              " 'ث': 59,\n",
              " 'ﺛ': 60,\n",
              " 'ﻐ': 61,\n",
              " 'ﻳ': 62,\n",
              " '7': 63,\n",
              " '3': 64,\n",
              " '2': 65,\n",
              " '9': 66,\n",
              " '8': 67,\n",
              " '6': 68,\n",
              " '5': 69,\n",
              " '4': 70,\n",
              " '1': 71,\n",
              " '0': 72}"
            ]
          },
          "metadata": {},
          "execution_count": 10
        }
      ],
      "source": [
        "label_map"
      ]
    },
    {
      "cell_type": "code",
      "execution_count": null,
      "metadata": {
        "colab": {
          "base_uri": "https://localhost:8080/"
        },
        "id": "_TAgGdvrN1Nx",
        "outputId": "a7121684-5ddd-413d-8345-77ea11d753e8"
      },
      "outputs": [
        {
          "data": {
            "text/plain": [
              "73"
            ]
          },
          "execution_count": 13,
          "metadata": {},
          "output_type": "execute_result"
        }
      ],
      "source": [
        "len(label_map)"
      ]
    },
    {
      "cell_type": "code",
      "execution_count": null,
      "metadata": {
        "colab": {
          "base_uri": "https://localhost:8080/"
        },
        "id": "9vsUlqKOAAea",
        "outputId": "5f77f569-d406-4fd0-bc31-a1d69fba78bd"
      },
      "outputs": [
        {
          "name": "stdout",
          "output_type": "stream",
          "text": [
            "د\n",
            "8\n"
          ]
        }
      ],
      "source": [
        "print(label[1523])\n",
        "print(numeric_labels[1523])"
      ]
    },
    {
      "cell_type": "code",
      "execution_count": 11,
      "metadata": {
        "colab": {
          "base_uri": "https://localhost:8080/"
        },
        "id": "ps9sazcVAAeb",
        "outputId": "e0abb356-0db5-4db3-8de4-8e2d1f31a226"
      },
      "outputs": [
        {
          "output_type": "stream",
          "name": "stdout",
          "text": [
            "Shape of One-Hot Encoded Labels: (570749, 73)\n"
          ]
        }
      ],
      "source": [
        "one_hot_labels = to_categorical(numeric_labels)\n",
        "print(\"Shape of One-Hot Encoded Labels:\", one_hot_labels.shape)"
      ]
    },
    {
      "cell_type": "code",
      "execution_count": null,
      "metadata": {
        "id": "FUD2M0AQwAG8"
      },
      "outputs": [],
      "source": []
    },
    {
      "cell_type": "code",
      "execution_count": 12,
      "metadata": {
        "id": "PnOWyo98AAeb"
      },
      "outputs": [],
      "source": [
        "from sklearn.utils import shuffle\n",
        "\n",
        "imgs, OHL = shuffle(images, one_hot_labels, random_state=42)"
      ]
    },
    {
      "cell_type": "code",
      "execution_count": 13,
      "metadata": {
        "id": "umyNM2CzwAgk"
      },
      "outputs": [],
      "source": [
        "del images\n",
        "del one_hot_labels\n"
      ]
    },
    {
      "cell_type": "code",
      "execution_count": null,
      "metadata": {
        "colab": {
          "base_uri": "https://localhost:8080/",
          "height": 447
        },
        "id": "JtoJUnvCAAec",
        "outputId": "255eda48-6182-4193-a747-32957c1298fc"
      },
      "outputs": [
        {
          "name": "stdout",
          "output_type": "stream",
          "text": [
            "50\n"
          ]
        },
        {
          "data": {
            "image/png": "[encoded data removed]",
            "text/plain": [
              "<Figure size 640x480 with 1 Axes>"
            ]
          },
          "metadata": {},
          "output_type": "display_data"
        }
      ],
      "source": [
        "plt.imshow(imgs[15162])\n",
        "print(np.argmax(OHL[15162]))"
      ]
    },
    {
      "cell_type": "code",
      "execution_count": null,
      "metadata": {
        "colab": {
          "base_uri": "https://localhost:8080/"
        },
        "id": "gJ4QuH1Fu3G1",
        "outputId": "4fe12460-52b4-46d4-cfb1-bf1fca6c9848"
      },
      "outputs": [
        {
          "data": {
            "text/plain": [
              "73"
            ]
          },
          "execution_count": 129,
          "metadata": {},
          "output_type": "execute_result"
        }
      ],
      "source": [
        "len(label.unique())"
      ]
    },
    {
      "cell_type": "code",
      "execution_count": 14,
      "metadata": {
        "id": "4YT37N9NAAec"
      },
      "outputs": [],
      "source": [
        "imgs=np.expand_dims(imgs,axis=-1)\n",
        "imgs = np.array(imgs)\n",
        "imgs = imgs / 255.0"
      ]
    },
    {
      "cell_type": "code",
      "execution_count": 15,
      "metadata": {
        "id": "qqWXlwZlAAec"
      },
      "outputs": [],
      "source": [
        "X_train, X_test, y_train, y_test = train_test_split(imgs, OHL, test_size=0.2, random_state=42,shuffle=False)"
      ]
    },
    {
      "cell_type": "code",
      "execution_count": 16,
      "metadata": {
        "id": "ggs2d1I0xohT"
      },
      "outputs": [],
      "source": [
        "del imgs\n",
        "del OHL"
      ]
    },
    {
      "cell_type": "code",
      "execution_count": 17,
      "metadata": {
        "id": "OeuhYO_rbrBz"
      },
      "outputs": [],
      "source": [
        "def LeNet5(input_shape, num_classes):\n",
        "    model = models.Sequential()\n",
        "    model.add(layers.Conv2D(32, kernel_size=(3, 3), strides=(1, 1), activation='relu', input_shape=input_shape))\n",
        "    model.add(layers.AveragePooling2D(pool_size=(2, 2), strides=(2, 2)))\n",
        "    model.add(layers.Conv2D(64, kernel_size=(3, 3), strides=(1, 1), activation='relu'))\n",
        "    model.add(layers.AveragePooling2D(pool_size=(2, 2), strides=(2, 2)))\n",
        "    model.add(layers.Conv2D(128, kernel_size=(3, 2), strides=(1, 1), activation='relu'))\n",
        "    model.add(layers.Flatten())\n",
        "    model.add(layers.Dense(120, activation='relu'))\n",
        "    model.add(layers.Dense(84, activation='relu'))\n",
        "    model.add(layers.Dense(num_classes, activation='softmax'))\n",
        "\n",
        "    return model"
      ]
    },
    {
      "cell_type": "code",
      "execution_count": 18,
      "metadata": {
        "id": "oWYgiJUzcV3P"
      },
      "outputs": [],
      "source": [
        "input_shape = (30, 25, 1)\n",
        "num_classes = len(label.unique())\n",
        "NN = LeNet5(input_shape, num_classes)"
      ]
    },
    {
      "cell_type": "code",
      "execution_count": 19,
      "metadata": {
        "colab": {
          "base_uri": "https://localhost:8080/"
        },
        "id": "4ZVk6kFSAAed",
        "outputId": "cdc05d3a-1028-4b65-ea8c-cfbc66ed73db"
      },
      "outputs": [
        {
          "output_type": "stream",
          "name": "stdout",
          "text": [
            "Model: \"sequential\"\n",
            "_________________________________________________________________\n",
            " Layer (type)                Output Shape              Param #   \n",
            "=================================================================\n",
            " conv2d (Conv2D)             (None, 28, 23, 32)        320       \n",
            "                                                                 \n",
            " average_pooling2d (Average  (None, 14, 11, 32)        0         \n",
            " Pooling2D)                                                      \n",
            "                                                                 \n",
            " conv2d_1 (Conv2D)           (None, 12, 9, 64)         18496     \n",
            "                                                                 \n",
            " average_pooling2d_1 (Avera  (None, 6, 4, 64)          0         \n",
            " gePooling2D)                                                    \n",
            "                                                                 \n",
            " conv2d_2 (Conv2D)           (None, 4, 3, 128)         49280     \n",
            "                                                                 \n",
            " flatten (Flatten)           (None, 1536)              0         \n",
            "                                                                 \n",
            " dense (Dense)               (None, 120)               184440    \n",
            "                                                                 \n",
            " dense_1 (Dense)             (None, 84)                10164     \n",
            "                                                                 \n",
            " dense_2 (Dense)             (None, 73)                6205      \n",
            "                                                                 \n",
            "=================================================================\n",
            "Total params: 268905 (1.03 MB)\n",
            "Trainable params: 268905 (1.03 MB)\n",
            "Non-trainable params: 0 (0.00 Byte)\n",
            "_________________________________________________________________\n"
          ]
        }
      ],
      "source": [
        "NN.compile(optimizer='adam', loss='categorical_crossentropy', metrics=['accuracy'])\n",
        "NN.summary()"
      ]
    },
    {
      "cell_type": "code",
      "execution_count": 20,
      "metadata": {
        "colab": {
          "base_uri": "https://localhost:8080/"
        },
        "id": "42SIWhPXAAed",
        "outputId": "5055f621-8459-416f-914e-bb82c928065f"
      },
      "outputs": [
        {
          "output_type": "stream",
          "name": "stdout",
          "text": [
            "Epoch 1/15\n",
            "14269/14269 [==============================] - 116s 8ms/step - loss: 0.6609 - accuracy: 0.8780 - val_loss: 0.5031 - val_accuracy: 0.9082\n",
            "Epoch 2/15\n",
            "14269/14269 [==============================] - 109s 8ms/step - loss: 0.4924 - accuracy: 0.9103 - val_loss: 0.4838 - val_accuracy: 0.9115\n",
            "Epoch 3/15\n",
            "14269/14269 [==============================] - 128s 9ms/step - loss: 0.4676 - accuracy: 0.9127 - val_loss: 0.4671 - val_accuracy: 0.9135\n",
            "Epoch 4/15\n",
            "14269/14269 [==============================] - 112s 8ms/step - loss: 0.4545 - accuracy: 0.9136 - val_loss: 0.4589 - val_accuracy: 0.9142\n",
            "Epoch 5/15\n",
            "14269/14269 [==============================] - 110s 8ms/step - loss: 0.4457 - accuracy: 0.9143 - val_loss: 0.4580 - val_accuracy: 0.9142\n",
            "Epoch 6/15\n",
            "14269/14269 [==============================] - 114s 8ms/step - loss: 0.4394 - accuracy: 0.9149 - val_loss: 0.4546 - val_accuracy: 0.9141\n",
            "Epoch 7/15\n",
            "14269/14269 [==============================] - 101s 7ms/step - loss: 0.4333 - accuracy: 0.9153 - val_loss: 0.4528 - val_accuracy: 0.9143\n",
            "Epoch 8/15\n",
            "14269/14269 [==============================] - 118s 8ms/step - loss: 0.4293 - accuracy: 0.9154 - val_loss: 0.4549 - val_accuracy: 0.9143\n",
            "Epoch 9/15\n",
            "14269/14269 [==============================] - 113s 8ms/step - loss: 0.4260 - accuracy: 0.9156 - val_loss: 0.4559 - val_accuracy: 0.9142\n",
            "Epoch 10/15\n",
            "14269/14269 [==============================] - 115s 8ms/step - loss: 0.4230 - accuracy: 0.9159 - val_loss: 0.4545 - val_accuracy: 0.9146\n",
            "Epoch 11/15\n",
            "14269/14269 [==============================] - 115s 8ms/step - loss: 0.4209 - accuracy: 0.9160 - val_loss: 0.4557 - val_accuracy: 0.9147\n"
          ]
        }
      ],
      "source": [
        "early_stopping = EarlyStopping(monitor='val_loss', patience=4, restore_best_weights=True)\n",
        "history = NN.fit(X_train, y_train, epochs=15, batch_size=32,\n",
        "                         validation_data=(X_test, y_test), callbacks=[early_stopping])"
      ]
    },
    {
      "cell_type": "code",
      "execution_count": 21,
      "metadata": {
        "colab": {
          "base_uri": "https://localhost:8080/",
          "height": 492
        },
        "id": "dkL5KhnpAAed",
        "outputId": "459baf6c-5e4c-420c-c39b-39d85a711819"
      },
      "outputs": [
        {
          "output_type": "display_data",
          "data": {
            "text/plain": [
              "<Figure size 1200x600 with 2 Axes>"
            ],
            "image/png": "[encoded data removed]"
          },
          "metadata": {}
        }
      ],
      "source": [
        "training_loss = history.history['loss']\n",
        "validation_loss = history.history['val_loss']\n",
        "training_accuracy = history.history['accuracy']\n",
        "validation_accuracy = history.history['val_accuracy']\n",
        "\n",
        "# Plotting the loss\n",
        "plt.figure(figsize=(12, 6))\n",
        "\n",
        "plt.subplot(1, 2, 1)\n",
        "plt.plot(training_loss, label='Training Loss')\n",
        "plt.plot(validation_loss, label='Validation Loss')\n",
        "plt.title('Training and Validation Loss')\n",
        "plt.xlabel('Epoch')\n",
        "plt.ylabel('Loss')\n",
        "plt.legend()\n",
        "\n",
        "# Plotting the accuracy\n",
        "plt.subplot(1, 2, 2)\n",
        "plt.plot(training_accuracy, label='Training Accuracy')\n",
        "plt.plot(validation_accuracy, label='Validation Accuracy')\n",
        "plt.title('Training and Validation Accuracy')\n",
        "plt.xlabel('Epoch')\n",
        "plt.ylabel('Accuracy')\n",
        "plt.legend()\n",
        "\n",
        "plt.tight_layout()\n",
        "plt.show()"
      ]
    },
    {
      "cell_type": "markdown",
      "metadata": {
        "id": "as2Iw1OmAAed"
      },
      "source": [
        "****Test The Model****"
      ]
    },
    {
      "cell_type": "code",
      "execution_count": 22,
      "metadata": {
        "colab": {
          "base_uri": "https://localhost:8080/"
        },
        "id": "RzahKweUAAef",
        "outputId": "a4fc3774-7a7b-4848-f82a-5af50e88e650"
      },
      "outputs": [
        {
          "output_type": "stream",
          "name": "stdout",
          "text": [
            "3568/3568 [==============================] - 10s 3ms/step\n"
          ]
        }
      ],
      "source": [
        "predictions=NN.predict(X_test,32)"
      ]
    },
    {
      "cell_type": "code",
      "execution_count": 23,
      "metadata": {
        "colab": {
          "base_uri": "https://localhost:8080/"
        },
        "id": "Kh88IU-3AAef",
        "outputId": "773545aa-d8d9-4de5-8b5d-f1f2b6ba5f2a"
      },
      "outputs": [
        {
          "output_type": "stream",
          "name": "stdout",
          "text": [
            "24\n",
            "24\n"
          ]
        }
      ],
      "source": [
        "print(np.argmax(predictions[48]))\n",
        "print(np.argmax(y_test[48]))"
      ]
    },
    {
      "cell_type": "code",
      "execution_count": 24,
      "metadata": {
        "colab": {
          "base_uri": "https://localhost:8080/"
        },
        "id": "L6kW1r84AAef",
        "outputId": "8e4893f8-13ac-42b7-ac20-8dd3da5f51e3"
      },
      "outputs": [
        {
          "output_type": "stream",
          "name": "stdout",
          "text": [
            "40\n",
            "40\n"
          ]
        }
      ],
      "source": [
        "print(np.argmax(predictions[12]))\n",
        "print(np.argmax(y_test[12]))"
      ]
    },
    {
      "cell_type": "code",
      "execution_count": 25,
      "metadata": {
        "colab": {
          "base_uri": "https://localhost:8080/"
        },
        "id": "rM6RzQtTAAeg",
        "outputId": "ae0b9834-5b1f-4e6d-b1a8-5025e4717579"
      },
      "outputs": [
        {
          "output_type": "stream",
          "name": "stdout",
          "text": [
            "3568/3568 [==============================] - 18s 5ms/step - loss: 0.4528 - accuracy: 0.9143\n"
          ]
        },
        {
          "output_type": "execute_result",
          "data": {
            "text/plain": [
              "[0.45282065868377686, 0.9143495559692383]"
            ]
          },
          "metadata": {},
          "execution_count": 25
        }
      ],
      "source": [
        "NN.evaluate(X_test,y_test)"
      ]
    },
    {
      "cell_type": "code",
      "execution_count": 26,
      "metadata": {
        "id": "9fT2_Yt3AAeg"
      },
      "outputs": [],
      "source": [
        "# NN.save('ocr-NN',save_format='h5')\n",
        "NN.save('LeNet5.h5')\n"
      ]
    },
    {
      "cell_type": "code",
      "execution_count": null,
      "metadata": {
        "id": "I475NEcwAAeh"
      },
      "outputs": [],
      "source": []
    }
  ],
  "metadata": {
    "accelerator": "GPU",
    "colab": {
      "gpuType": "T4",
      "provenance": []
    },
    "kaggle": {
      "accelerator": "gpu",
      "dataSources": [
        {
          "datasetId": 4232268,
          "sourceId": 7303217,
          "sourceType": "datasetVersion"
        }
      ],
      "dockerImageVersionId": 30627,
      "isGpuEnabled": true,
      "isInternetEnabled": true,
      "language": "python",
      "sourceType": "notebook"
    },
    "kernelspec": {
      "display_name": "Python 3",
      "name": "python3"
    },
    "language_info": {
      "codemirror_mode": {
        "name": "ipython",
        "version": 3
      },
      "file_extension": ".py",
      "mimetype": "text/x-python",
      "name": "python",
      "nbconvert_exporter": "python",
      "pygments_lexer": "ipython3",
      "version": "3.10.7"
    }
  },
  "nbformat": 4,
  "nbformat_minor": 0
}