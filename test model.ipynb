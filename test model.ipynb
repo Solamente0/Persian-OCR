{
 "cells": [
  {
   "cell_type": "code",
   "execution_count": 1,
   "id": "ecb7dfa2",
   "metadata": {},
   "outputs": [],
   "source": [
    "import pandas as pd\n",
    "import numpy as np\n",
    "import matplotlib.pyplot as plt\n",
    "import cv2\n",
    "import keras \n",
    "import tensorflow as tf\n",
    "from tensorflow.keras.models import load_model\n",
    "from imutils.contours import sort_contours\n",
    "import imutils"
   ]
  },
  {
   "cell_type": "code",
   "execution_count": 2,
   "id": "62a384c4",
   "metadata": {},
   "outputs": [],
   "source": [
    "lenet=load_model('LeNet5.h5')\n",
    "# cnn3=load_model('ocr_tuesday.h5')"
   ]
  },
  {
   "cell_type": "code",
   "execution_count": 3,
   "id": "cc717156",
   "metadata": {},
   "outputs": [
    {
     "data": {
      "text/plain": [
       "<keras.src.engine.sequential.Sequential at 0x1c101ed5450>"
      ]
     },
     "execution_count": 3,
     "metadata": {},
     "output_type": "execute_result"
    }
   ],
   "source": [
    "lenet"
   ]
  },
  {
   "cell_type": "code",
   "execution_count": 4,
   "id": "fcaf8ca3",
   "metadata": {},
   "outputs": [
    {
     "name": "stdout",
     "output_type": "stream",
     "text": [
      "Model: \"sequential\"\n",
      "_________________________________________________________________\n",
      " Layer (type)                Output Shape              Param #   \n",
      "=================================================================\n",
      " conv2d (Conv2D)             (None, 28, 23, 32)        320       \n",
      "                                                                 \n",
      " average_pooling2d (Average  (None, 14, 11, 32)        0         \n",
      " Pooling2D)                                                      \n",
      "                                                                 \n",
      " conv2d_1 (Conv2D)           (None, 12, 9, 64)         18496     \n",
      "                                                                 \n",
      " average_pooling2d_1 (Avera  (None, 6, 4, 64)          0         \n",
      " gePooling2D)                                                    \n",
      "                                                                 \n",
      " conv2d_2 (Conv2D)           (None, 4, 3, 128)         49280     \n",
      "                                                                 \n",
      " flatten (Flatten)           (None, 1536)              0         \n",
      "                                                                 \n",
      " dense (Dense)               (None, 120)               184440    \n",
      "                                                                 \n",
      " dense_1 (Dense)             (None, 84)                10164     \n",
      "                                                                 \n",
      " dense_2 (Dense)             (None, 73)                6205      \n",
      "                                                                 \n",
      "=================================================================\n",
      "Total params: 268905 (1.03 MB)\n",
      "Trainable params: 268905 (1.03 MB)\n",
      "Non-trainable params: 0 (0.00 Byte)\n",
      "_________________________________________________________________\n"
     ]
    }
   ],
   "source": [
    "lenet.summary()"
   ]
  },
  {
   "cell_type": "code",
   "execution_count": 5,
   "id": "0bb92ab2",
   "metadata": {},
   "outputs": [],
   "source": [
    "persian_letters = ['ر', 'ا', 'ﯾ', 'ﻧ', 'ﻪ', 'ﻗ', 'ﭘ', 'ن', 'د', 'ﺗ', 'پ', 'ز', 'ﻫ', 'ل', 'ﺳ', 'و', 'م', 'ﺣ', 'ﻣ', 'ط', 'آ', 'ﭼ', 'ﻓ', 'ه', 'ﺑ', 'ی', 'ﮐ', 'ﻟ', 'ژ', 'ﺟ', 'ﺧ', 'ﻻ', 'ﺻ', 'ص', 'ﺷ', 'ت', 'ﮔ', 'ف', 'ک', 'ع', 'ﻌ', 'ﻬ', 'ذ', 'ح', 'س', 'گ', 'خ', 'ش', 'ﺿ', 'ﻋ', 'ب', 'ظ', 'ﻏ', 'ض', 'ق', 'ج', 'چ', 'ﺋ', 'غ', 'ث', 'ﺛ', 'ﻐ', 'ﻳ', '7', '3', '2', '9', '8', '6', '5', '4', '1', '0']\n"
   ]
  },
  {
   "cell_type": "code",
   "execution_count": 9,
   "id": "20366abe",
   "metadata": {},
   "outputs": [
    {
     "data": {
      "text/plain": [
       "'ب'"
      ]
     },
     "execution_count": 9,
     "metadata": {},
     "output_type": "execute_result"
    }
   ],
   "source": [
    "persian_letters[50]"
   ]
  },
  {
   "cell_type": "code",
   "execution_count": 16,
   "id": "d450d8ca",
   "metadata": {},
   "outputs": [
    {
     "data": {
      "text/plain": [
       "<matplotlib.image.AxesImage at 0x1c11b2e9ff0>"
      ]
     },
     "execution_count": 16,
     "metadata": {},
     "output_type": "execute_result"
    },
    {
     "data": {
      "image/png": "[encoded data removed]",
      "text/plain": [
       "<Figure size 640x480 with 1 Axes>"
      ]
     },
     "metadata": {},
     "output_type": "display_data"
    }
   ],
   "source": [
    "img = cv.imread(\"2023-12-29 19_49_48-Document1 - Word.png\")\n",
    "plt.imshow(img)"
   ]
  },
  {
   "cell_type": "code",
   "execution_count": 17,
   "id": "0cbf9d48",
   "metadata": {},
   "outputs": [],
   "source": [
    "def OCR(img):\n",
    "    text=[]\n",
    "    c=0\n",
    "    #segment main image to image of lines\n",
    "    lines = line_horizontal_projection(img)\n",
    "    for line in lines:\n",
    "        #segment image to image of a lines to images of words\n",
    "        words = word_vertical_projection(line)\n",
    "        for word in words:\n",
    "            if c!=0:\n",
    "                text.append(' ')\n",
    "            c+=1\n",
    "            #segment image to image of a word to images of characters\n",
    "            alphas = segment(line, word)\n",
    "            for alpha in alphas:\n",
    "                height, original_width = alpha.shape\n",
    "                if 25 - original_width > 0:\n",
    "                    add_width = (25 - original_width) / 2\n",
    "                    left_columns = int(add_width)\n",
    "                    right_columns = int(add_width)\n",
    "                    new_width = 25\n",
    "                    new_img = np.zeros((height, new_width), dtype=np.uint8)\n",
    "                    new_img[:, left_columns:left_columns + original_width] = alpha\n",
    "                    new_img = cv2.resize(new_img, (new_width, 30))\n",
    "                else:\n",
    "                    new_img = cv2.resize(alpha, (25, 30))\n",
    "\n",
    "                _, targ = cv2.threshold(new_img, 128, 255, cv2.THRESH_BINARY)\n",
    "                targ=np.expand_dims(targ,axis=-1)\n",
    "                targ = np.array(targ)\n",
    "                targ = targ / 255.0\n",
    "                targ = targ.reshape((1, 30, 25, 1))\n",
    "                text.append(persian_letters[np.argmax(lenet.predict(targ))])\n",
    "                \n",
    "    return text        \n"
   ]
  },
  {
   "cell_type": "code",
   "execution_count": 18,
   "id": "1696ceca",
   "metadata": {},
   "outputs": [
    {
     "name": "stderr",
     "output_type": "stream",
     "text": [
      "C:\\Users\\Mostafa\\AppData\\Local\\Temp\\ipykernel_3560\\3936572966.py:25: DeprecationWarning: Please use `rotate` from the `scipy.ndimage` namespace, the `scipy.ndimage.interpolation` namespace is deprecated.\n",
      "  data = inter.rotate(arr, angle, reshape=False, order=0)\n",
      "C:\\Users\\Mostafa\\AppData\\Local\\Temp\\ipykernel_3560\\3936572966.py:44: DeprecationWarning: Please use `rotate` from the `scipy.ndimage` namespace, the `scipy.ndimage.interpolation` namespace is deprecated.\n",
      "  data = inter.rotate(bin_img, best_angle, reshape=False, order=0)\n"
     ]
    },
    {
     "name": "stdout",
     "output_type": "stream",
     "text": [
      "1/1 [==============================] - 1s 1s/step\n",
      "1/1 [==============================] - 0s 18ms/step\n",
      "1/1 [==============================] - 0s 17ms/step\n",
      "1/1 [==============================] - 0s 17ms/step\n",
      "1/1 [==============================] - 0s 17ms/step\n",
      "1/1 [==============================] - 0s 17ms/step\n",
      "1/1 [==============================] - 0s 18ms/step\n",
      "1/1 [==============================] - 0s 18ms/step\n",
      "1/1 [==============================] - 0s 18ms/step\n",
      "1/1 [==============================] - 0s 18ms/step\n",
      "1/1 [==============================] - 0s 18ms/step\n",
      "1/1 [==============================] - 0s 18ms/step\n",
      "1/1 [==============================] - 0s 17ms/step\n",
      "1/1 [==============================] - 0s 17ms/step\n",
      "['ﺳ', 'ﻪ', 'ض', 'م', ' ', 'ه', 'ر', ' ', 'ه', 'ﺻ', 'د', 'ی', ' ', 'ه', 'ﺳ', 'ﺗ', 'م']\n"
     ]
    }
   ],
   "source": [
    "t=OCR(img)\n",
    "print(t)"
   ]
  },
  {
   "cell_type": "code",
   "execution_count": null,
   "id": "491f7d2d",
   "metadata": {},
   "outputs": [],
   "source": []
  },
  {
   "cell_type": "code",
   "execution_count": null,
   "id": "43ef02a1",
   "metadata": {},
   "outputs": [],
   "source": []
  },
  {
   "cell_type": "code",
   "execution_count": null,
   "id": "0afb1c1b",
   "metadata": {},
   "outputs": [],
   "source": []
  },
  {
   "cell_type": "code",
   "execution_count": 19,
   "id": "91455e3b",
   "metadata": {},
   "outputs": [
    {
     "data": {
      "text/plain": [
       "<matplotlib.image.AxesImage at 0x1c11e9f2fb0>"
      ]
     },
     "execution_count": 19,
     "metadata": {},
     "output_type": "execute_result"
    },
    {
     "data": {
      "image/png": "[encoded data removed]",
      "text/plain": [
       "<Figure size 640x480 with 1 Axes>"
      ]
     },
     "metadata": {},
     "output_type": "display_data"
    }
   ],
   "source": [
    "img5=cv.imread(\"test 5.png\")\n",
    "plt.imshow(img5)"
   ]
  },
  {
   "cell_type": "code",
   "execution_count": 20,
   "id": "605be4ef",
   "metadata": {},
   "outputs": [
    {
     "name": "stderr",
     "output_type": "stream",
     "text": [
      "C:\\Users\\Mostafa\\AppData\\Local\\Temp\\ipykernel_3560\\3936572966.py:25: DeprecationWarning: Please use `rotate` from the `scipy.ndimage` namespace, the `scipy.ndimage.interpolation` namespace is deprecated.\n",
      "  data = inter.rotate(arr, angle, reshape=False, order=0)\n"
     ]
    },
    {
     "name": "stdout",
     "output_type": "stream",
     "text": [
      "1/1 [==============================] - 0s 17ms/step\n",
      "1/1 [==============================] - 0s 18ms/step\n"
     ]
    },
    {
     "name": "stderr",
     "output_type": "stream",
     "text": [
      "C:\\Users\\Mostafa\\AppData\\Local\\Temp\\ipykernel_3560\\3936572966.py:44: DeprecationWarning: Please use `rotate` from the `scipy.ndimage` namespace, the `scipy.ndimage.interpolation` namespace is deprecated.\n",
      "  data = inter.rotate(bin_img, best_angle, reshape=False, order=0)\n"
     ]
    },
    {
     "name": "stdout",
     "output_type": "stream",
     "text": [
      "1/1 [==============================] - 0s 30ms/step\n",
      "1/1 [==============================] - 0s 20ms/step\n",
      "1/1 [==============================] - 0s 18ms/step\n",
      "1/1 [==============================] - 0s 20ms/step\n",
      "1/1 [==============================] - 0s 17ms/step\n",
      "1/1 [==============================] - 0s 17ms/step\n",
      "1/1 [==============================] - 0s 18ms/step\n",
      "1/1 [==============================] - 0s 17ms/step\n",
      "1/1 [==============================] - 0s 20ms/step\n",
      "1/1 [==============================] - 0s 19ms/step\n",
      "1/1 [==============================] - 0s 22ms/step\n",
      "1/1 [==============================] - 0s 18ms/step\n",
      "1/1 [==============================] - 0s 19ms/step\n",
      "1/1 [==============================] - 0s 17ms/step\n",
      "1/1 [==============================] - 0s 18ms/step\n",
      "1/1 [==============================] - 0s 18ms/step\n",
      "1/1 [==============================] - 0s 18ms/step\n",
      "1/1 [==============================] - 0s 19ms/step\n",
      "1/1 [==============================] - 0s 18ms/step\n",
      "1/1 [==============================] - 0s 19ms/step\n",
      "1/1 [==============================] - 0s 20ms/step\n",
      "1/1 [==============================] - 0s 20ms/step\n",
      "1/1 [==============================] - 0s 20ms/step\n",
      "1/1 [==============================] - 0s 20ms/step\n",
      "1/1 [==============================] - 0s 19ms/step\n",
      "1/1 [==============================] - 0s 19ms/step\n",
      "1/1 [==============================] - 0s 18ms/step\n",
      "1/1 [==============================] - 0s 21ms/step\n",
      "1/1 [==============================] - 0s 18ms/step\n",
      "1/1 [==============================] - 0s 17ms/step\n",
      "1/1 [==============================] - 0s 18ms/step\n",
      "1/1 [==============================] - 0s 18ms/step\n",
      "1/1 [==============================] - 0s 27ms/step\n",
      "1/1 [==============================] - 0s 18ms/step\n",
      "1/1 [==============================] - 0s 18ms/step\n",
      "1/1 [==============================] - 0s 18ms/step\n",
      "1/1 [==============================] - 0s 17ms/step\n",
      "1/1 [==============================] - 0s 18ms/step\n",
      "1/1 [==============================] - 0s 18ms/step\n",
      "1/1 [==============================] - 0s 19ms/step\n",
      "1/1 [==============================] - 0s 17ms/step\n",
      "1/1 [==============================] - 0s 17ms/step\n",
      "1/1 [==============================] - 0s 18ms/step\n",
      "1/1 [==============================] - 0s 24ms/step\n",
      "1/1 [==============================] - 0s 18ms/step\n",
      "1/1 [==============================] - 0s 18ms/step\n",
      "1/1 [==============================] - 0s 17ms/step\n",
      "1/1 [==============================] - 0s 18ms/step\n",
      "1/1 [==============================] - 0s 17ms/step\n",
      "1/1 [==============================] - 0s 17ms/step\n",
      "1/1 [==============================] - 0s 18ms/step\n",
      "1/1 [==============================] - 0s 18ms/step\n",
      "1/1 [==============================] - 0s 18ms/step\n",
      "1/1 [==============================] - 0s 18ms/step\n",
      "1/1 [==============================] - 0s 19ms/step\n",
      "1/1 [==============================] - 0s 18ms/step\n",
      "1/1 [==============================] - 0s 17ms/step\n",
      "1/1 [==============================] - 0s 18ms/step\n",
      "1/1 [==============================] - 0s 17ms/step\n",
      "1/1 [==============================] - 0s 17ms/step\n",
      "1/1 [==============================] - 0s 17ms/step\n",
      "1/1 [==============================] - 0s 18ms/step\n",
      "1/1 [==============================] - 0s 18ms/step\n",
      "1/1 [==============================] - 0s 17ms/step\n",
      "1/1 [==============================] - 0s 18ms/step\n",
      "1/1 [==============================] - 0s 18ms/step\n",
      "1/1 [==============================] - 0s 19ms/step\n",
      "1/1 [==============================] - 0s 18ms/step\n",
      "1/1 [==============================] - 0s 17ms/step\n",
      "1/1 [==============================] - 0s 18ms/step\n",
      "1/1 [==============================] - 0s 19ms/step\n",
      "1/1 [==============================] - 0s 19ms/step\n",
      "1/1 [==============================] - 0s 18ms/step\n",
      "1/1 [==============================] - 0s 17ms/step\n",
      "1/1 [==============================] - 0s 17ms/step\n",
      "1/1 [==============================] - 0s 18ms/step\n",
      "1/1 [==============================] - 0s 17ms/step\n",
      "1/1 [==============================] - 0s 24ms/step\n",
      "1/1 [==============================] - 0s 17ms/step\n",
      "1/1 [==============================] - 0s 18ms/step\n",
      "1/1 [==============================] - 0s 17ms/step\n",
      "1/1 [==============================] - 0s 18ms/step\n",
      "1/1 [==============================] - 0s 17ms/step\n",
      "1/1 [==============================] - 0s 18ms/step\n",
      "1/1 [==============================] - 0s 17ms/step\n",
      "1/1 [==============================] - 0s 17ms/step\n",
      "1/1 [==============================] - 0s 17ms/step\n",
      "1/1 [==============================] - 0s 17ms/step\n",
      "1/1 [==============================] - 0s 18ms/step\n",
      "1/1 [==============================] - 0s 17ms/step\n",
      "1/1 [==============================] - 0s 17ms/step\n",
      "1/1 [==============================] - 0s 17ms/step\n",
      "1/1 [==============================] - 0s 17ms/step\n",
      "1/1 [==============================] - 0s 18ms/step\n",
      "1/1 [==============================] - 0s 18ms/step\n",
      "1/1 [==============================] - 0s 22ms/step\n",
      "1/1 [==============================] - 0s 18ms/step\n",
      "1/1 [==============================] - 0s 17ms/step\n",
      "1/1 [==============================] - 0s 17ms/step\n",
      "1/1 [==============================] - 0s 17ms/step\n",
      "1/1 [==============================] - 0s 18ms/step\n",
      "1/1 [==============================] - 0s 21ms/step\n",
      "1/1 [==============================] - 0s 18ms/step\n",
      "1/1 [==============================] - 0s 18ms/step\n",
      "1/1 [==============================] - 0s 17ms/step\n"
     ]
    }
   ],
   "source": [
    "t5=OCR(img5)"
   ]
  },
  {
   "cell_type": "code",
   "execution_count": 21,
   "id": "0cf601b5",
   "metadata": {},
   "outputs": [
    {
     "name": "stdout",
     "output_type": "stream",
     "text": [
      "['ر', 'ﯾ', 'ﯾ', 'س', ' ', 'د', 'ا', 'ﻧ', 'ﺷ', 'ﮔ', 'ا', 'ه', ' ', 'ﺣ', 'ﻧ', 'ﻗ', 'م', ' ', 'ﻗ', 'و', 'ﭼ', 'ا', 'ن', ' ', 'ﺑ', 'ا', ' ', 'ﺑ', 'ﯾ', 'ا', 'ن', ' ', 'ا', 'ﯾ', 'ﻧ', 'ﮐ', 'ﻪ', ' ', 'ا', 'ﯾ', 'ن', ' ', 'ﻓ', 'ﯾ', 'ﻟ', 'م', ' ', 'ﮐ', 'و', 'ﺗ', 'ا', 'ه', ' ', 'ﺑ', 'ر', 'ا', 'و', 'ی', ' ', 'ﺣ', 'ﻓ', 'ه', 'ر', ' ', 'د', 'ر', ' ', 'ﭼ', 'ﻬ', 'ا', 'ر', 'ﺑ', 'ﯾ', 'ن', 'ی', ' ', 'ر', 'و', 'ﯾ', 'د', 'ا', 'د', ' ', 'ﺑ', 'ﯾ', 'ن', 'ا', 'ﻟ', 'ﻣ', 'ﻟ', 'د', 'ی', ' ', 'ﻓ', 'ﯾ', 'ﻟ', 'م', ' ', 'ﮐ', 'و', 'ﺗ', 'ا', 'ه', ' ', 'د', 'ﻧ', 'ﺻ', 'و', 'ﯾ', 'ر', ' ', 'د', 'ﻫ', 'م', 'ه', ' ', 'آ', 'ﻣ', 'ا', 'د', 'ه', 'ﺷ', 'د', 'ه', ' ', 'ا', 'ﺑ', 'ت']\n"
     ]
    }
   ],
   "source": [
    "print(t5)"
   ]
  },
  {
   "cell_type": "code",
   "execution_count": 22,
   "id": "3372f7d3",
   "metadata": {},
   "outputs": [
    {
     "name": "stdout",
     "output_type": "stream",
     "text": [
      "رﯾﯾس داﻧﺷﮔاه ﺣﻧﻗم ﻗوﭼان ﺑا ﺑﯾان اﯾﻧﮐﻪ اﯾن ﻓﯾﻟم ﮐوﺗاه ﺑراوی ﺣﻓهر در ﭼﻬارﺑﯾنی روﯾداد ﺑﯾناﻟﻣﻟدی ﻓﯾﻟم ﮐوﺗاه دﻧﺻوﯾر دﻫمه آﻣادهﺷده اﺑت\n"
     ]
    }
   ],
   "source": [
    "result_string = ''.join(t5)\n",
    "print(result_string)"
   ]
  },
  {
   "cell_type": "code",
   "execution_count": null,
   "id": "2cbfda4a",
   "metadata": {},
   "outputs": [],
   "source": []
  },
  {
   "cell_type": "code",
   "execution_count": null,
   "id": "effdce2d",
   "metadata": {},
   "outputs": [],
   "source": []
  },
  {
   "cell_type": "code",
   "execution_count": 24,
   "id": "05a92ab1",
   "metadata": {},
   "outputs": [],
   "source": [
    "alexnet=load_model('AlexNet.h5')"
   ]
  },
  {
   "cell_type": "code",
   "execution_count": 25,
   "id": "478073b0",
   "metadata": {},
   "outputs": [],
   "source": [
    "def OCR_alex(img):\n",
    "    text=[]\n",
    "    c=0\n",
    "    #segment main image to image of lines\n",
    "    lines = line_horizontal_projection(img)\n",
    "    for line in lines:\n",
    "        #segment image to image of a lines to images of words\n",
    "        words = word_vertical_projection(line)\n",
    "        for word in words:\n",
    "            if c!=0:\n",
    "                text.append(' ')\n",
    "            c+=1\n",
    "            #segment image to image of a word to images of characters\n",
    "            alphas = segment(line, word)\n",
    "            for alpha in alphas:\n",
    "                height, original_width = alpha.shape\n",
    "                if 25 - original_width > 0:\n",
    "                    add_width = (25 - original_width) / 2\n",
    "                    left_columns = int(add_width)\n",
    "                    right_columns = int(add_width)\n",
    "                    new_width = 25\n",
    "                    new_img = np.zeros((height, new_width), dtype=np.uint8)\n",
    "                    new_img[:, left_columns:left_columns + original_width] = alpha\n",
    "                    new_img = cv2.resize(new_img, (new_width, 30))\n",
    "                else:\n",
    "                    new_img = cv2.resize(alpha, (25, 30))\n",
    "\n",
    "                _, targ = cv2.threshold(new_img, 128, 255, cv2.THRESH_BINARY)\n",
    "                targ=np.expand_dims(targ,axis=-1)\n",
    "                targ = np.array(targ)\n",
    "                targ = targ / 255.0\n",
    "                targ = targ.reshape((1, 30, 25, 1))\n",
    "                text.append(persian_letters[np.argmax(alexnet.predict(targ))])\n",
    "                \n",
    "    return text        \n"
   ]
  },
  {
   "cell_type": "code",
   "execution_count": 26,
   "id": "9694a924",
   "metadata": {},
   "outputs": [
    {
     "name": "stderr",
     "output_type": "stream",
     "text": [
      "C:\\Users\\Mostafa\\AppData\\Local\\Temp\\ipykernel_3560\\3936572966.py:25: DeprecationWarning: Please use `rotate` from the `scipy.ndimage` namespace, the `scipy.ndimage.interpolation` namespace is deprecated.\n",
      "  data = inter.rotate(arr, angle, reshape=False, order=0)\n"
     ]
    },
    {
     "name": "stdout",
     "output_type": "stream",
     "text": [
      "1/1 [==============================] - 0s 116ms/step\n"
     ]
    },
    {
     "name": "stderr",
     "output_type": "stream",
     "text": [
      "C:\\Users\\Mostafa\\AppData\\Local\\Temp\\ipykernel_3560\\3936572966.py:44: DeprecationWarning: Please use `rotate` from the `scipy.ndimage` namespace, the `scipy.ndimage.interpolation` namespace is deprecated.\n",
      "  data = inter.rotate(bin_img, best_angle, reshape=False, order=0)\n"
     ]
    },
    {
     "name": "stdout",
     "output_type": "stream",
     "text": [
      "1/1 [==============================] - 0s 30ms/step\n",
      "1/1 [==============================] - 0s 27ms/step\n",
      "1/1 [==============================] - 0s 27ms/step\n",
      "1/1 [==============================] - 0s 26ms/step\n",
      "1/1 [==============================] - 0s 26ms/step\n",
      "1/1 [==============================] - 0s 26ms/step\n",
      "1/1 [==============================] - 0s 26ms/step\n",
      "1/1 [==============================] - 0s 26ms/step\n",
      "1/1 [==============================] - 0s 26ms/step\n",
      "1/1 [==============================] - 0s 26ms/step\n",
      "1/1 [==============================] - 0s 26ms/step\n",
      "1/1 [==============================] - 0s 26ms/step\n",
      "1/1 [==============================] - 0s 27ms/step\n",
      "['ﺳ', 'ا', 'ب', 'م', ' ', 'ﻌ', 'خ', ' ', 'ﻌ', 'ﺻ', 'ط', 'س', ' ', 'ﻫ', 'ﺳ', 'ﺗ', 'م']\n"
     ]
    }
   ],
   "source": [
    "t=OCR_alex(img)\n",
    "print(t)"
   ]
  },
  {
   "cell_type": "code",
   "execution_count": 27,
   "id": "25e8adc5",
   "metadata": {},
   "outputs": [
    {
     "name": "stderr",
     "output_type": "stream",
     "text": [
      "C:\\Users\\Mostafa\\AppData\\Local\\Temp\\ipykernel_3560\\3936572966.py:25: DeprecationWarning: Please use `rotate` from the `scipy.ndimage` namespace, the `scipy.ndimage.interpolation` namespace is deprecated.\n",
      "  data = inter.rotate(arr, angle, reshape=False, order=0)\n"
     ]
    },
    {
     "name": "stdout",
     "output_type": "stream",
     "text": [
      "1/1 [==============================] - 0s 27ms/step\n",
      "1/1 [==============================] - 0s 26ms/step\n"
     ]
    },
    {
     "name": "stderr",
     "output_type": "stream",
     "text": [
      "C:\\Users\\Mostafa\\AppData\\Local\\Temp\\ipykernel_3560\\3936572966.py:44: DeprecationWarning: Please use `rotate` from the `scipy.ndimage` namespace, the `scipy.ndimage.interpolation` namespace is deprecated.\n",
      "  data = inter.rotate(bin_img, best_angle, reshape=False, order=0)\n"
     ]
    },
    {
     "name": "stdout",
     "output_type": "stream",
     "text": [
      "1/1 [==============================] - 0s 34ms/step\n",
      "1/1 [==============================] - 0s 27ms/step\n",
      "1/1 [==============================] - 0s 26ms/step\n",
      "1/1 [==============================] - 0s 27ms/step\n",
      "1/1 [==============================] - 0s 28ms/step\n",
      "1/1 [==============================] - 0s 28ms/step\n",
      "1/1 [==============================] - 0s 28ms/step\n",
      "1/1 [==============================] - 0s 26ms/step\n",
      "1/1 [==============================] - 0s 45ms/step\n",
      "1/1 [==============================] - 0s 46ms/step\n",
      "1/1 [==============================] - 0s 41ms/step\n",
      "1/1 [==============================] - 0s 27ms/step\n",
      "1/1 [==============================] - 0s 27ms/step\n",
      "1/1 [==============================] - 0s 28ms/step\n",
      "1/1 [==============================] - 0s 28ms/step\n",
      "1/1 [==============================] - 0s 27ms/step\n",
      "1/1 [==============================] - 0s 30ms/step\n",
      "1/1 [==============================] - 0s 27ms/step\n",
      "1/1 [==============================] - 0s 27ms/step\n",
      "1/1 [==============================] - 0s 25ms/step\n",
      "1/1 [==============================] - 0s 31ms/step\n",
      "1/1 [==============================] - 0s 30ms/step\n",
      "1/1 [==============================] - 0s 29ms/step\n",
      "1/1 [==============================] - 0s 29ms/step\n",
      "1/1 [==============================] - 0s 27ms/step\n",
      "1/1 [==============================] - 0s 30ms/step\n",
      "1/1 [==============================] - 0s 29ms/step\n",
      "1/1 [==============================] - 0s 28ms/step\n",
      "1/1 [==============================] - 0s 30ms/step\n",
      "1/1 [==============================] - 0s 28ms/step\n",
      "1/1 [==============================] - 0s 30ms/step\n",
      "1/1 [==============================] - 0s 28ms/step\n",
      "1/1 [==============================] - 0s 25ms/step\n",
      "1/1 [==============================] - 0s 28ms/step\n",
      "1/1 [==============================] - 0s 27ms/step\n",
      "1/1 [==============================] - 0s 30ms/step\n",
      "1/1 [==============================] - 0s 29ms/step\n",
      "1/1 [==============================] - 0s 30ms/step\n",
      "1/1 [==============================] - 0s 27ms/step\n",
      "1/1 [==============================] - 0s 32ms/step\n",
      "1/1 [==============================] - 0s 28ms/step\n",
      "1/1 [==============================] - 0s 29ms/step\n",
      "1/1 [==============================] - 0s 28ms/step\n",
      "1/1 [==============================] - 0s 29ms/step\n",
      "1/1 [==============================] - 0s 28ms/step\n",
      "1/1 [==============================] - 0s 36ms/step\n",
      "1/1 [==============================] - 0s 27ms/step\n",
      "1/1 [==============================] - 0s 27ms/step\n",
      "1/1 [==============================] - 0s 27ms/step\n",
      "1/1 [==============================] - 0s 26ms/step\n",
      "1/1 [==============================] - 0s 26ms/step\n",
      "1/1 [==============================] - 0s 30ms/step\n",
      "1/1 [==============================] - 0s 26ms/step\n",
      "1/1 [==============================] - 0s 26ms/step\n",
      "1/1 [==============================] - 0s 28ms/step\n",
      "1/1 [==============================] - 0s 28ms/step\n",
      "1/1 [==============================] - 0s 28ms/step\n",
      "1/1 [==============================] - 0s 29ms/step\n",
      "1/1 [==============================] - 0s 30ms/step\n",
      "1/1 [==============================] - 0s 27ms/step\n",
      "1/1 [==============================] - 0s 27ms/step\n",
      "1/1 [==============================] - 0s 26ms/step\n",
      "1/1 [==============================] - 0s 25ms/step\n",
      "1/1 [==============================] - 0s 28ms/step\n",
      "1/1 [==============================] - 0s 25ms/step\n",
      "1/1 [==============================] - 0s 26ms/step\n",
      "1/1 [==============================] - 0s 25ms/step\n",
      "1/1 [==============================] - 0s 26ms/step\n",
      "1/1 [==============================] - 0s 27ms/step\n",
      "1/1 [==============================] - 0s 27ms/step\n",
      "1/1 [==============================] - 0s 27ms/step\n",
      "1/1 [==============================] - 0s 26ms/step\n",
      "1/1 [==============================] - 0s 26ms/step\n",
      "1/1 [==============================] - 0s 30ms/step\n",
      "1/1 [==============================] - 0s 26ms/step\n",
      "1/1 [==============================] - 0s 27ms/step\n",
      "1/1 [==============================] - 0s 26ms/step\n",
      "1/1 [==============================] - 0s 26ms/step\n",
      "1/1 [==============================] - 0s 25ms/step\n",
      "1/1 [==============================] - 0s 25ms/step\n",
      "1/1 [==============================] - 0s 26ms/step\n",
      "1/1 [==============================] - 0s 29ms/step\n",
      "1/1 [==============================] - 0s 27ms/step\n",
      "1/1 [==============================] - 0s 26ms/step\n",
      "1/1 [==============================] - 0s 32ms/step\n",
      "1/1 [==============================] - 0s 28ms/step\n",
      "1/1 [==============================] - 0s 27ms/step\n",
      "1/1 [==============================] - 0s 32ms/step\n",
      "1/1 [==============================] - 0s 26ms/step\n",
      "1/1 [==============================] - 0s 26ms/step\n",
      "1/1 [==============================] - 0s 26ms/step\n",
      "1/1 [==============================] - 0s 31ms/step\n",
      "1/1 [==============================] - 0s 26ms/step\n",
      "1/1 [==============================] - 0s 25ms/step\n",
      "1/1 [==============================] - 0s 25ms/step\n",
      "1/1 [==============================] - 0s 32ms/step\n",
      "1/1 [==============================] - 0s 39ms/step\n",
      "1/1 [==============================] - 0s 32ms/step\n",
      "1/1 [==============================] - 0s 32ms/step\n",
      "1/1 [==============================] - 0s 30ms/step\n",
      "1/1 [==============================] - 0s 31ms/step\n",
      "1/1 [==============================] - 0s 31ms/step\n",
      "1/1 [==============================] - 0s 30ms/step\n",
      "1/1 [==============================] - 0s 26ms/step\n",
      "1/1 [==============================] - 0s 25ms/step\n"
     ]
    }
   ],
   "source": [
    "t5=OCR_alex(img5)"
   ]
  },
  {
   "cell_type": "code",
   "execution_count": 28,
   "id": "bed68ebf",
   "metadata": {},
   "outputs": [
    {
     "name": "stdout",
     "output_type": "stream",
     "text": [
      "رﯾﯾب داﻧثﮔاه ﺻﻧﻗق ﻗوﭼان ﺑا ﯾﯾان اﯾﻧﮐﻪ اﻳن ﻓﯾﻟم ﮐقﺗاه ﯾراوی ﺣﻐور در ﭼﻬارﻣﯾز3 روﯾداد ﺑﯾناﻟﻫﻟﻟش ﻓﯾﻟم ﮐوﺗاه ﻗﻧﺻقﯾر دﻫمه آﻣادهﺷده اﺳت\n"
     ]
    }
   ],
   "source": [
    "result_string = ''.join(t5)\n",
    "print(result_string)"
   ]
  },
  {
   "cell_type": "code",
   "execution_count": null,
   "id": "f2200f4b",
   "metadata": {},
   "outputs": [],
   "source": [
    "رﯾﯾس داﻧﺷﮔاه ﺣﻧﻗم ﻗوﭼان ﺑا ﺑﯾان اﯾﻧﮐﻪ اﯾن ﻓﯾﻟم ﮐوﺗاه ﺑراوی ﺣﻓهر در ﭼﻬارﺑﯾنی روﯾداد ﺑﯾناﻟﻣﻟدی ﻓﯾﻟم ﮐوﺗاه دﻧﺻوﯾر دﻫمه آﻣادهﺷده اﺑت"
   ]
  },
  {
   "cell_type": "code",
   "execution_count": null,
   "id": "066ff93d",
   "metadata": {},
   "outputs": [],
   "source": []
  },
  {
   "cell_type": "code",
   "execution_count": null,
   "id": "ae0cbdef",
   "metadata": {},
   "outputs": [],
   "source": []
  },
  {
   "cell_type": "code",
   "execution_count": null,
   "id": "05d9e477",
   "metadata": {},
   "outputs": [],
   "source": []
  },
  {
   "cell_type": "code",
   "execution_count": null,
   "id": "f6edb314",
   "metadata": {},
   "outputs": [],
   "source": []
  },
  {
   "cell_type": "code",
   "execution_count": null,
   "id": "d25c61ac",
   "metadata": {},
   "outputs": [],
   "source": []
  },
  {
   "cell_type": "code",
   "execution_count": null,
   "id": "6c047bfb",
   "metadata": {},
   "outputs": [],
   "source": []
  },
  {
   "cell_type": "code",
   "execution_count": null,
   "id": "4b94bd3d",
   "metadata": {},
   "outputs": [],
   "source": []
  },
  {
   "cell_type": "code",
   "execution_count": 11,
   "id": "534888cc",
   "metadata": {},
   "outputs": [],
   "source": [
    "import numpy as np\n",
    "import cv2 as cv\n",
    "from scipy.ndimage import interpolation as inter\n",
    "from PIL import Image as im\n",
    "\n",
    "def binary_otsus(image, filter:int=1):\n",
    "    \"\"\"Binarize an image 0's and 255's using Otsu's Binarization\"\"\"\n",
    "\n",
    "    if len(image.shape) == 3:\n",
    "        gray_img = cv.cvtColor(image, cv.COLOR_BGR2GRAY)\n",
    "    else:\n",
    "        gray_img = image\n",
    "\n",
    "    # Otsus Binarization\n",
    "    if filter != 0:\n",
    "        blur = cv.GaussianBlur(gray_img, (3,3), 0)\n",
    "        binary_img = cv.threshold(blur, 0, 255, cv.THRESH_BINARY+cv.THRESH_OTSU)[1]\n",
    "    else:\n",
    "        binary_img = cv.threshold(gray_img, 0, 255, cv.THRESH_BINARY+cv.THRESH_OTSU)[1]\n",
    "\n",
    "    return binary_img\n",
    "\n",
    "\n",
    "def find_score(arr, angle):\n",
    "    data = inter.rotate(arr, angle, reshape=False, order=0)\n",
    "    hist = np.sum(data, axis=1)\n",
    "    score = np.sum((hist[1:] - hist[:-1]) ** 2)\n",
    "    return hist, score\n",
    "\n",
    "def deskew(binary_img):\n",
    "    ht, wd = binary_img.shape\n",
    "    bin_img = (binary_img // 255.0)\n",
    "\n",
    "    delta = 0.1\n",
    "    limit = 3\n",
    "    angles = np.arange(-limit, limit+delta, delta)\n",
    "    scores = []\n",
    "    for angle in angles:\n",
    "        hist, score = find_score(bin_img, angle)\n",
    "        scores.append(score)\n",
    "\n",
    "    best_score = max(scores)\n",
    "    best_angle = angles[scores.index(best_score)]\n",
    "    data = inter.rotate(bin_img, best_angle, reshape=False, order=0)\n",
    "    img = im.fromarray((255 * data).astype(\"uint8\"))\n",
    "\n",
    "    pix = np.array(img)\n",
    "    return pix\n",
    "\n",
    "def vexpand(gray_img, color:int):\n",
    "    \"\"\"Expand the image by some space vertically in both directions\"\"\"\n",
    "\n",
    "    color = 1 if color > 0 else 0\n",
    "    (h, w) = gray_img.shape[:2]\n",
    "    space = np.ones((10, w)) * 255 * color\n",
    "\n",
    "    return np.block([[space], [gray_img], [space]])\n",
    "\n",
    "\n",
    "def hexpand(gray_img, color:int):\n",
    "    \"\"\"Expand the image by some space horizontally in both directions\"\"\"\n",
    "\n",
    "    color = 1 if color > 0 else 0\n",
    "    (h, w) = gray_img.shape[:2]\n",
    "    space = np.ones((h, 10)) * 255 * color\n",
    "\n",
    "    return np.block([space, gray_img, space])\n",
    "\n",
    "def valid(row, col, vis, word):\n",
    "    return (row < vis.shape[0] and col < vis.shape[1] and row >= 0 and col >=0 and vis[row][col] == 0 and word[row][col] > 0)\n",
    "\n",
    "def dfs(row, col, vis, word):\n",
    "\n",
    "    dX = [0,0,1,1,-1,-1,1,-1]\n",
    "    dY = [1,-1,0,1,0,-1,-1,1]\n",
    "    vis[row][col] += 1\n",
    "    for i in range(8):\n",
    "        if(valid(row+dX[i],col+dY[i],vis, word)):\n",
    "            dfs(row+dX[i], col+dY[i], vis, word)\n",
    "    return"
   ]
  },
  {
   "cell_type": "code",
   "execution_count": 12,
   "id": "c1285bbe",
   "metadata": {},
   "outputs": [],
   "source": [
    "import numpy as np\n",
    "import cv2 as cv\n",
    "\n",
    "\n",
    "def save_image(img, folder, title):\n",
    "    cv.imwrite(f'./{folder}/{title}.png', img)\n",
    "\n",
    "\n",
    "def projection(gray_img, axis:str='horizontal'):\n",
    "    \"\"\" Compute the horizontal or the vertical projection of a gray image \"\"\"\n",
    "\n",
    "    if axis == 'horizontal':\n",
    "        projection_bins = np.sum(gray_img, 1).astype('int32')\n",
    "    elif axis == 'vertical':\n",
    "        projection_bins = np.sum(gray_img, 0).astype('int32')\n",
    "\n",
    "    return projection_bins"
   ]
  },
  {
   "cell_type": "code",
   "execution_count": 13,
   "id": "6a9ce467",
   "metadata": {},
   "outputs": [],
   "source": [
    "import numpy as np\n",
    "import cv2 as cv\n",
    "# from preprocessing import binary_otsus, deskew\n",
    "# from utilities import projection, save_image\n",
    "from glob import glob\n",
    "\n",
    "\n",
    "def preprocess(image):\n",
    "    gray_img = cv.cvtColor(image, cv.COLOR_BGR2GRAY)\n",
    "    gray_img = cv.bitwise_not(gray_img)\n",
    "\n",
    "    binary_img = binary_otsus(gray_img, 0)\n",
    "    deskewed_img = deskew(binary_img)\n",
    "    return deskewed_img\n",
    "\n",
    "\n",
    "def projection_segmentation(clean_img, axis, cut=3):\n",
    "    \n",
    "    segments = []\n",
    "    start = -1\n",
    "    cnt = 0\n",
    "\n",
    "    projection_bins = projection(clean_img, axis)\n",
    "    for idx, projection_bin in enumerate(projection_bins):\n",
    "\n",
    "        if projection_bin != 0:\n",
    "            cnt = 0\n",
    "        if projection_bin != 0 and start == -1:\n",
    "            start = idx\n",
    "        if projection_bin == 0 and start != -1:\n",
    "            cnt += 1\n",
    "            if cnt >= cut:\n",
    "                if axis == 'horizontal':\n",
    "                    segments.append(clean_img[max(start-1, 0):idx, :])\n",
    "                elif axis == 'vertical':\n",
    "                    segments.append(clean_img[:, max(start-1, 0):idx])\n",
    "                cnt = 0\n",
    "                start = -1\n",
    "    \n",
    "    return segments\n",
    "\n",
    "\n",
    "# Line Segmentation\n",
    "#----------------------------------------------------------------------------------------\n",
    "def line_horizontal_projection(image, cut=3):\n",
    "\n",
    "    # Preprocess input image\n",
    "    clean_img = preprocess(image)\n",
    "\n",
    "\n",
    "    # Segmentation    \n",
    "    lines = projection_segmentation(clean_img, axis='horizontal', cut=cut)\n",
    "\n",
    "    return lines\n",
    "\n",
    "\n",
    "# Word Segmentation\n",
    "#----------------------------------------------------------------------------------------\n",
    "def word_vertical_projection(line_image, cut=3):\n",
    "    \n",
    "    line_words = projection_segmentation(line_image, axis='vertical', cut=cut)\n",
    "    line_words.reverse()\n",
    "    \n",
    "    return line_words\n",
    "\n",
    "\n",
    "def extract_words(img, visual=0):\n",
    "\n",
    "    lines = line_horizontal_projection(img)\n",
    "    words = []\n",
    "    \n",
    "    for idx, line in enumerate(lines):\n",
    "        \n",
    "        if visual:\n",
    "            save_image(line, 'lines', f'line{idx}')\n",
    "\n",
    "        line_words = word_vertical_projection(line)\n",
    "        for w in line_words:\n",
    "            words.append((w, line))\n",
    "\n",
    "    if visual:\n",
    "        for idx, word in enumerate(words):\n",
    "            save_image(word[0], 'words', f'word{idx}')\n",
    "\n",
    "    return words\n"
   ]
  },
  {
   "cell_type": "code",
   "execution_count": 14,
   "id": "73573d99",
   "metadata": {},
   "outputs": [],
   "source": [
    "import numpy as np\n",
    "import cv2 as cv\n",
    "# from utilities import projection, save_image\n",
    "# from segmentation import line_horizontal_projection, word_vertical_projection\n",
    "from skimage.morphology import skeletonize, thin\n",
    "\n",
    "\n",
    "def binarize(word_img):\n",
    "    _, binary_img = cv.threshold(word_img, 127, 255, cv.THRESH_BINARY)\n",
    "    return binary_img // 255\n",
    "\n",
    "\n",
    "def fill(binary_img, VP):\n",
    "    (h, w) = binary_img.shape\n",
    "\n",
    "    flag = 1\n",
    "    while flag:\n",
    "        flag = 0\n",
    "        for row in range(h-1):\n",
    "            for col in range(1, w-1):\n",
    "                if binary_img[row][col] == 0 and binary_img[row][col-1] == 1 and binary_img[row][col+1] == 1 and binary_img[row+1][col] == 1 and VP[col] != 0:\n",
    "                    binary_img[row][col] = 1\n",
    "\n",
    "    return binary_img\n",
    "    \n",
    "\n",
    "def baseline_detection(word_img):\n",
    "    '''Get baseline index of a given word'''\n",
    "    HP = projection(word_img, 'horizontal')\n",
    "    peak = np.amax(HP)\n",
    "    baseline_idx = np.where(HP == peak)[0]\n",
    "    upper_base = baseline_idx[0]\n",
    "    lower_base = baseline_idx[-1]\n",
    "    thickness = abs(lower_base - upper_base) + 1\n",
    "    \n",
    "    return upper_base, lower_base, thickness\n",
    "\n",
    "\n",
    "def horizontal_transitions(word_img, baseline_idx):\n",
    "    max_transitions = 0\n",
    "    max_transitions_idx = baseline_idx\n",
    "    line_idx = baseline_idx-1\n",
    "    lines = []\n",
    "    while line_idx >= 0:\n",
    "        current_transitions = 0\n",
    "        flag = 0\n",
    "\n",
    "        horizontal_line = word_img[line_idx, :]\n",
    "        for pixel in reversed(horizontal_line):\n",
    "\n",
    "            if pixel == 1 and flag == 0:\n",
    "                current_transitions += 1\n",
    "                flag = 1\n",
    "            elif pixel == 0 and flag == 1:\n",
    "                current_transitions += 1\n",
    "                flag = 0\n",
    "                \n",
    "        if current_transitions >= max_transitions:\n",
    "            max_transitions = current_transitions\n",
    "            lines.append(line_idx)\n",
    "            max_transitions_idx = line_idx\n",
    "\n",
    "        line_idx -= 1\n",
    "    return lines[len(lines)//2]\n",
    "\n",
    "\n",
    "def vertical_transitions(word_img, cut):\n",
    "    transitions = 0\n",
    "    vertical_line = word_img[:, cut]\n",
    "    flag = 0\n",
    "    for pixel in vertical_line:\n",
    "\n",
    "        if pixel == 1 and flag == 0:\n",
    "            transitions += 1\n",
    "            flag = 1\n",
    "        elif pixel == 0 and flag == 1:\n",
    "            transitions += 1\n",
    "            flag = 0\n",
    "    return transitions\n",
    "\n",
    "\n",
    "def cut_points(word_img, VP, MFV, MTI, baseline_idx):\n",
    "    f = 0\n",
    "    flag = 0\n",
    "    (h, w) = word_img.shape\n",
    "    i = w-1\n",
    "    separation_regions = []\n",
    "    wrong = 0\n",
    "    while i >= 0:\n",
    "\n",
    "        pixel = word_img[MTI, i]\n",
    "        \n",
    "        if pixel == 1 and f == 0:\n",
    "            f = 1\n",
    "            flag = 1\n",
    "        if f == 1:\n",
    "            # Get start and end of separation region (both are black pixels <----)\n",
    "            if pixel == 0 and flag == 1:\n",
    "                start = i+1\n",
    "                flag = 0\n",
    "            elif pixel == 1 and flag == 0:\n",
    "                end = i         # end maybe = i not i+1\n",
    "                flag = 1\n",
    "\n",
    "                mid = (start + end) // 2\n",
    "\n",
    "                left_zero = -1\n",
    "                left_MFV = -1\n",
    "                right_zero = -1\n",
    "                right_MFV = -1\n",
    "                # threshold for MFV\n",
    "                T = 1\n",
    "\n",
    "                j = mid - 1\n",
    "                # loop from mid to end to get nearest VP = 0 and VP = MFV\n",
    "                while j >= end:\n",
    "                    \n",
    "                    if VP[j] == 0 and left_zero == -1:\n",
    "                        left_zero = j\n",
    "                    if VP[j] <= MFV + T and left_MFV == -1:\n",
    "                        left_MFV = j\n",
    "\n",
    "                    # if left_zero != -1 and left_MFV != -1:\n",
    "                    #     break\n",
    "\n",
    "                    j -= 1\n",
    "\n",
    "                j = mid\n",
    "                # loop from mid to start to get nearest VP = 0 and VP = MFV\n",
    "                while j <= start:\n",
    "\n",
    "                    if VP[j] == 0 and right_zero == -1:\n",
    "                        right_zero = j\n",
    "                    if VP[j] <= MFV + T and right_MFV == -1:\n",
    "                        right_MFV = j\n",
    "\n",
    "                    if right_zero != -1 and right_MFV != -1:\n",
    "                        break\n",
    "\n",
    "                    j += 1\n",
    "\n",
    "                # Check for VP = 0 first\n",
    "                if VP[mid] == 0:\n",
    "                    cut_index = mid\n",
    "                elif left_zero != -1 and right_zero != -1:\n",
    "                    \n",
    "                    if abs(left_zero-mid) <= abs(right_zero-mid):\n",
    "                        cut_index = left_zero\n",
    "                    else:\n",
    "                        cut_index = right_zero\n",
    "                elif left_zero != -1:\n",
    "                    cut_index = left_zero\n",
    "                elif right_zero != -1:\n",
    "                    cut_index = right_zero\n",
    "\n",
    "                # Check for VP = MFV second\n",
    "                # elif VP[mid] <= MFV+T:\n",
    "                #     cut_index = mid\n",
    "                elif left_MFV != -1:\n",
    "                    cut_index = left_MFV\n",
    "                elif right_MFV != -1:\n",
    "                    cut_index = right_MFV\n",
    "                else:\n",
    "                    cut_index = mid\n",
    "\n",
    "\n",
    "                seg = word_img[:, end:start]\n",
    "                HP = projection(seg, 'horizontal')\n",
    "                SHPA = np.sum(HP[:MTI])\n",
    "                SHPB = np.sum(HP[MTI+1:])\n",
    "                \n",
    "                top = 0\n",
    "                for idx, proj in enumerate(HP):\n",
    "                    if proj != 0:\n",
    "                        top = idx\n",
    "                        break\n",
    "\n",
    "                cnt = 0\n",
    "                for k in range(end, cut_index+1):\n",
    "                    if vertical_transitions(word_img, k) > 2:\n",
    "                        cnt = 1\n",
    "                if SHPB == 0 and (baseline_idx - top) <= 5 and cnt == 1:\n",
    "                    # breakpoint()\n",
    "                    wrong = 1\n",
    "                else:\n",
    "                    separation_regions.append((end, cut_index, start))\n",
    "\n",
    "        i -= 1\n",
    "\n",
    "    return separation_regions, wrong\n",
    "\n",
    "\n",
    "def check_baseline(word_img, start, end, upper_base, lower_base):\n",
    "    \n",
    "    j = end+1\n",
    "\n",
    "    cnt = 0\n",
    "    while j < start:\n",
    "    \n",
    "        # Black pixel (Discontinuity)\n",
    "        base = upper_base\n",
    "        while base <= lower_base:\n",
    "            \n",
    "            pixel = word_img[base][j]\n",
    "            cnt += pixel\n",
    "\n",
    "            base += 1\n",
    "        \n",
    "        j += 1\n",
    "\n",
    "    if cnt == 0:\n",
    "        return False\n",
    "\n",
    "    return True\n",
    "\n",
    "\n",
    "def inside_hole(word_img, end_idx, start_idx):\n",
    "    '''Check if a segment has a hole or not'''\n",
    "\n",
    "    if end_idx == 0 and start_idx == 0:\n",
    "        return 0\n",
    "\n",
    "    sk = skeletonize(word_img)\n",
    "    j = end_idx + 1\n",
    "    flag = 1\n",
    "    while j < start_idx:\n",
    "        VT = vertical_transitions(sk, j)\n",
    "        if VT <= 2:\n",
    "            flag = 0\n",
    "            break\n",
    "        j += 1\n",
    "    \n",
    "    return flag\n",
    "\n",
    "\n",
    "def check_hole(segment):\n",
    "    '''Check if a segment has a hole or not'''\n",
    "\n",
    "    # no_dots = segment.copy()\n",
    "\n",
    "    contours, hierarchy = cv.findContours(segment, cv.RETR_TREE, cv.CHAIN_APPROX_NONE)\n",
    "    cnt = 0\n",
    "    for hier in hierarchy[0]:\n",
    "        if hier[3] >= 0:\n",
    "            cnt += 1\n",
    "\n",
    "    return cnt != 0\n",
    "\n",
    "\n",
    "def remove_dots(word_img, threshold=11):\n",
    "\n",
    "    no_dots = word_img.copy()\n",
    "\n",
    "    components, labels, stats, GoCs = cv.connectedComponentsWithStats(no_dots, connectivity=8)\n",
    "    char = []\n",
    "    for label in range(1, components):\n",
    "        _, _, _, _, size = stats[label]\n",
    "        if size > threshold:\n",
    "            char.append(label)\n",
    "    for label in range(1, components):\n",
    "        _, _, _, _, size = stats[label]\n",
    "        if label not in  char:\n",
    "            no_dots[labels == label] = 0\n",
    "\n",
    "    return no_dots\n",
    "\n",
    "\n",
    "def check_dots(segment):\n",
    "\n",
    "    contours, hierarchy = cv.findContours(segment[:, 1:segment.shape[1]-1], cv.RETR_TREE, cv.CHAIN_APPROX_SIMPLE)\n",
    "\n",
    "    cnt = 0\n",
    "    for c in contours:\n",
    "        if len(c) >= 1:\n",
    "            cnt +=1 \n",
    "    return cnt > 1\n",
    "\n",
    "\n",
    "def check_stroke(no_dots_copy, segment, upper_base, lower_base, SR1, SR2):\n",
    "\n",
    "    T = 1\n",
    "    components, labels, stats, cen= cv.connectedComponentsWithStats(segment, connectivity=8)\n",
    "    skeleton = skeletonize(segment.copy()).astype(np.uint8)\n",
    "    (h, w) = segment.shape\n",
    "\n",
    "    cnt = 0\n",
    "    for label in range(1, components):\n",
    "        if stats[label][4] > 3:\n",
    "            cnt += 1\n",
    "        else:\n",
    "            segment[labels==label] = 0\n",
    "\n",
    "    if cnt > 2 or cnt == 0:\n",
    "        return False\n",
    "\n",
    "    if check_hole(segment) or inside_hole(no_dots_copy, SR1[0], SR1[1]) or inside_hole(no_dots_copy, SR2[0], SR2[1]):\n",
    "        return False\n",
    "\n",
    "    HP = projection(skeleton, 'horizontal')\n",
    "    VP = projection(segment, 'vertical')\n",
    "\n",
    "    seg_l = -1\n",
    "    seg_r = -1\n",
    "    for i in range(0, len(VP)):\n",
    "        if VP[i] != 0:\n",
    "            seg_l = i\n",
    "            break\n",
    "    for i in range(len(VP)-1, -1, -1):\n",
    "        if VP[i] != 0:\n",
    "            seg_r = i\n",
    "            break\n",
    "\n",
    "    seg_width = seg_r - seg_l + 1\n",
    "    SHPA = np.sum(HP[:upper_base])\n",
    "    SHPB = np.sum(HP[lower_base+T+1:])\n",
    "    MFV_HP = np.argmax(np.bincount(HP)[1:])+1\n",
    "    MFV = lower_base - upper_base + 1 + T\n",
    "\n",
    "    top_pixel = -1\n",
    "    for i, proj in enumerate(HP):\n",
    "        if proj != 0:\n",
    "            top_pixel = i\n",
    "            break\n",
    "    height = upper_base-top_pixel\n",
    "    \n",
    "    VT = 0\n",
    "    for i in range(w):\n",
    "        if vertical_transitions(skeleton, i) > 2:\n",
    "            VT += 1\n",
    "    cnt = 0\n",
    "    for proj in VP:\n",
    "        if proj >= height:\n",
    "            cnt += 2\n",
    "        elif proj == height-1:\n",
    "            cnt += 1\n",
    "    # abs(MFV - MFV_HP) <= 2\n",
    "    if SHPB == 0  and height <= 6 and VT <= 2 and seg_width <= 6 and cnt >= 2:\n",
    "        return True\n",
    "\n",
    "    return False\n",
    "\n",
    "\n",
    "def filter_regions(word_img, no_dots_copy, SRL:list, VP:list, upper_base:int, lower_base:int, MTI:int, MFV:int, top_line:int):\n",
    "    \n",
    "    valid_separation_regions = []\n",
    "    overlap = []\n",
    "\n",
    "    T = 1\n",
    "    components, labels= cv.connectedComponents(word_img[:lower_base+5, :], connectivity=8)\n",
    "\n",
    "    SR_idx = 0\n",
    "    while SR_idx < len(SRL):\n",
    "        \n",
    "        SR = SRL[SR_idx]\n",
    "        end_idx, cut_idx, start_idx = SR\n",
    "\n",
    "        # Case 1 : Vertical Projection = 0\n",
    "        if VP[cut_idx] == 0:\n",
    "            valid_separation_regions.append(SR)\n",
    "            SR_idx += 1\n",
    "            continue\n",
    "\n",
    "      # Case 2 : no connected path between start and end\n",
    "        # components, labels= cv.connectedComponents(word_img[:, end_idx:start_idx+1], connectivity=8)\n",
    "        if labels[MTI, end_idx] != labels[MTI, start_idx]:\n",
    "            valid_separation_regions.append(SR)\n",
    "            overlap.append(SR)\n",
    "            SR_idx += 1\n",
    "            continue\n",
    "\n",
    "      \n",
    "\n",
    "        # Case 3 : Contain Holes\n",
    "        # if check_hole(no_dots_copy[:, end_idx: cut_idx]) and inside_hole(no_dots_copy, end_idx, start_idx):\n",
    "        cc, l = cv.connectedComponents(1-(no_dots_copy[:, end_idx:start_idx+1]), connectivity=4)\n",
    "        \n",
    "        if cc-1 >= 3 and inside_hole(no_dots_copy, end_idx, start_idx):\n",
    "            SR_idx += 1\n",
    "            continue\n",
    "       \n",
    "     \n",
    "        # Case 4 : No baseline between start and end\n",
    "        segment = no_dots_copy[:, end_idx+1: start_idx]\n",
    "        segment_width = start_idx-end_idx-1\n",
    "\n",
    "        j = end_idx+1\n",
    "        cnt = 0\n",
    "        while j < start_idx:\n",
    "            \n",
    "            # Black pixel (Discontinuity)\n",
    "            base = upper_base-T\n",
    "            while base <= lower_base+T:\n",
    "                \n",
    "                pixel = no_dots_copy[base][j]\n",
    "                cnt += pixel\n",
    "\n",
    "                base += 1\n",
    "            \n",
    "            j += 1\n",
    "\n",
    "        if cnt < segment_width-2 and segment_width > 4:\n",
    "            \n",
    "            segment_HP = projection(segment, 'horizontal')\n",
    "\n",
    "            SHPA = np.sum(segment_HP[:upper_base])\n",
    "            SHPB = np.sum(segment_HP[lower_base+T+1:])\n",
    "\n",
    "            if (int(SHPB) - int(SHPA)) >= 0:\n",
    "                SR_idx += 1\n",
    "                continue\n",
    "            elif VP[cut_idx] <= MFV + T:\n",
    "                valid_separation_regions.append(SR)\n",
    "                SR_idx += 1\n",
    "                continue\n",
    "            else:\n",
    "                SR_idx += 1\n",
    "                continue\n",
    "\n",
    "      \n",
    "        # if SR_idx == 0:\n",
    "        #     breakpoint()\n",
    "        # Case 5 : Last region or next VP[nextcut] = 0\n",
    "        if SR_idx == len(SRL) - 1 or VP[SRL[SR_idx+1][1]] == 0:\n",
    "\n",
    "            if SR_idx == len(SRL) - 1:\n",
    "                segment_dots = word_img[:, :SRL[SR_idx][1]+1]\n",
    "                segment = no_dots_copy[:, :SRL[SR_idx][1]+1]\n",
    "                next_cut = 0\n",
    "            else:\n",
    "                next_cut = SRL[SR_idx+1][1]\n",
    "                segment_dots = word_img[:, next_cut:SRL[SR_idx][1]+1]\n",
    "                segment = no_dots_copy[:, next_cut:SRL[SR_idx][1]+1]\n",
    "\n",
    "            segment_HP = projection(segment, 'horizontal')\n",
    "            (h, w) = segment.shape\n",
    "\n",
    "            top = -1\n",
    "            for i, proj in enumerate(segment_HP):\n",
    "                if proj != 0:\n",
    "                    top = i\n",
    "                    break\n",
    "            height = upper_base - top\n",
    "\n",
    "            # if SR_idx == len(SRL) - 1:\n",
    "                # breakpoint()\n",
    "            SHPA = np.sum(segment_HP[:upper_base])\n",
    "            SHPB = np.sum(segment_HP[lower_base+T+1:])\n",
    "            sk = skeletonize(segment).astype(np.uint8)\n",
    "            seg_VP = projection(segment, 'vertical')\n",
    "            non_zero =  np.nonzero(seg_VP)[0]\n",
    "            cnt = 0\n",
    "            # for k in range(0, (len(non_zero)//2)+(len(non_zero)%2)):\n",
    "            for k in range(0, 3):\n",
    "                if k >= len(non_zero):\n",
    "                    break\n",
    "                index = non_zero[k]\n",
    "                if seg_VP[index] >= height:\n",
    "                    cnt += 1\n",
    "            \n",
    "            if (SHPB <= 5 and cnt > 0 and height <= 6) or (len(non_zero) >= 10 and SHPB > SHPA and not check_dots(segment_dots)):\n",
    "                SR_idx += 1\n",
    "                continue\n",
    "                \n",
    "        # Strokes \n",
    "\n",
    "        SEGP = (-1, -1)\n",
    "        SEG = (-1, -1)\n",
    "        SEGN = (-1, -1)\n",
    "        SEGNN = (-1, -1)\n",
    "        SEGP_SR1 = (0, 0)\n",
    "        SEGP_SR2 = (0, 0)\n",
    "        SEG_SR1 = (0, 0)\n",
    "        SEG_SR2 = (0, 0)\n",
    "        SEGN_SR1 = (0, 0)\n",
    "        SEGN_SR2 = (0, 0)\n",
    "        SEGNN_SR1 = (0, 0)\n",
    "        SEGNN_SR2 = (0, 0)\n",
    "\n",
    "        current_cut = SR[1]\n",
    "     \n",
    "        if SR_idx == 0:\n",
    "            SEGP = (SRL[SR_idx][1], word_img.shape[1]-1)\n",
    "            SEGP_SR1 = (SRL[SR_idx][0], SRL[SR_idx][2])\n",
    "            SEGP_SR2 = (SRL[SR_idx][1], word_img.shape[1]-1)\n",
    "\n",
    "        if SR_idx > 0:\n",
    "            SEGP = (SRL[SR_idx][1], SRL[SR_idx-1][1])\n",
    "            SEGP_SR1 = (SRL[SR_idx][0], SRL[SR_idx][2])\n",
    "            SEGP_SR2 = (SRL[SR_idx-1][0], SRL[SR_idx-1][2])\n",
    "        \n",
    "        if SR_idx < len(SRL)-1:\n",
    "            SEG = (SRL[SR_idx+1][1], SRL[SR_idx][1])\n",
    "            SEG_SR1 = (SRL[SR_idx][0], SRL[SR_idx][2])\n",
    "            SEG_SR2 = (SRL[SR_idx+1][0], SRL[SR_idx+1][2])\n",
    "\n",
    "        if SR_idx < len(SRL)-2:\n",
    "            SEGN = (SRL[SR_idx+2][1], SRL[SR_idx+1][1])\n",
    "            SEGN_SR1 = (SRL[SR_idx+1][0], SRL[SR_idx+1][2])\n",
    "            SEGN_SR2 = (SRL[SR_idx+2][0], SRL[SR_idx+2][2])\n",
    "        elif SR_idx == len(SRL)-2:\n",
    "            SEGN = (0, SRL[SR_idx+1][1])\n",
    "            SEGN_SR1 = (SRL[SR_idx+1][0], SRL[SR_idx+1][2])\n",
    "            SEGN_SR2 = (0, SRL[SR_idx+1][2])\n",
    "\n",
    "            \n",
    "        if SR_idx < len(SRL)-3:\n",
    "            SEGNN = (SRL[SR_idx+3][1], SRL[SR_idx+2][1])\n",
    "            SEGNN_SR1 = (SRL[SR_idx+2][0], SRL[SR_idx+2][2])\n",
    "            SEGNN_SR2 = (SRL[SR_idx+3][0], SRL[SR_idx+3][2])\n",
    "\n",
    "            \n",
    "        # if SR_idx == 6:\n",
    "        #     breakpoint()\n",
    "        \n",
    "        # SEG is stroke with dots\n",
    "        if SEG[0] != -1 and\\\n",
    "            (check_stroke(no_dots_copy, no_dots_copy[:, SEG[0]:SEG[1]], upper_base, lower_base, SEG_SR1, SEG_SR2) \\\n",
    "            and check_dots(word_img[:, SEG[0]:SEG[1]])):\n",
    "            \n",
    "            # breakpoint()\n",
    "            # Case when starts with ش\n",
    "            if SEGP[0] != -1 and \\\n",
    "                ((check_stroke(no_dots_copy, no_dots_copy[:, SEGP[0]:SEGP[1]], upper_base, lower_base, SEGP_SR1, SEGP_SR2) \\\n",
    "                and not check_dots(word_img[:, SEGP[0]:SEGP[1]]))\\\n",
    "                and (SR_idx == 0 or VP[SRL[SR_idx-1][1]] == 0 or (VP[SRL[SR_idx-1][1]] == 0 and SRL[SR_idx-1] in overlap))):\n",
    "                \n",
    "                SR_idx += 2\n",
    "                continue\n",
    "            else:\n",
    "                valid_separation_regions.append(SR)\n",
    "                SR_idx += 1\n",
    "                continue\n",
    "                \n",
    "        # SEG is stroke without dots\n",
    "        elif SEG[0] != -1\\\n",
    "            and (check_stroke(no_dots_copy, no_dots_copy[:, SEG[0]:SEG[1]], upper_base, lower_base, SEG_SR1, SEG_SR2) \\\n",
    "            and not check_dots(word_img[:, SEG[0]:SEG[1]])):\n",
    "\n",
    "            # Case starts with س\n",
    "            if SEGP[0] != -1\\\n",
    "                and (check_stroke(no_dots_copy, no_dots_copy[:, SEGP[0]:SEGP[1]], upper_base, lower_base, SEGP_SR1, SEGP_SR2) \\\n",
    "                and not check_dots(word_img[:, SEGP[0]:SEGP[1]])):\n",
    "\n",
    "                SR_idx += 2\n",
    "                continue\n",
    "\n",
    "            # SEGN is stroke without dots\n",
    "            if SEGN[0] != -1 \\\n",
    "                and (check_stroke(no_dots_copy, no_dots_copy[:, SEGN[0]:SEGN[1]], upper_base, lower_base, SEGN_SR1, SEGN_SR2) \\\n",
    "                and not check_dots(word_img[:, SEGN[0]:SEGN[1]])):\n",
    "\n",
    "                valid_separation_regions.append(SR)\n",
    "                SR_idx += 3\n",
    "                continue\n",
    "\n",
    "            # SEGN stroke with Dots and SEGNN stroke without Dots\n",
    "            if SEGN[0] != -1\\\n",
    "                and (check_stroke(no_dots_copy, no_dots_copy[:, SEGN[0]:SEGN[1]], upper_base, lower_base, SEGN_SR1, SEGN_SR2) \\\n",
    "                and check_dots(word_img[:, SEGN[0]:SEGN[1]])) \\\n",
    "                and ((SEGNN[0] != -1 \\\n",
    "                and (check_stroke(no_dots_copy, no_dots_copy[:, SEGNN[0]:SEGNN[1]], upper_base, lower_base, SEGNN_SR1, SEGNN_SR2) \\\n",
    "                and not check_dots(word_img[:, SEGNN[0]:SEGNN[1]]))) or (len(SRL)-1-SR_idx == 2) or (len(SRL)-1-SR_idx == 3)):\n",
    "        \n",
    "                    valid_separation_regions.append(SR)\n",
    "                    SR_idx += 3\n",
    "                    continue\n",
    "            \n",
    "            # SEGN is not stroke or Stroke with Dots\n",
    "            if SEGN[0] != -1 \\\n",
    "                and ((not check_stroke(no_dots_copy, no_dots_copy[:, SEGN[0]:SEGN[1]], upper_base, lower_base, SEGN_SR1, SEGN_SR2)) \\\n",
    "                or (check_stroke(no_dots_copy, no_dots_copy[:, SEGN[0]:SEGN[1]], upper_base, lower_base, SEGN_SR1, SEGN_SR2) \\\n",
    "                and check_dots(word_img[:, SEGN[0]:SEGN[1]]))):\n",
    "                    \n",
    "                    SR_idx += 1\n",
    "                    continue\n",
    "            \n",
    "            SR_idx += 1\n",
    "            continue\n",
    "                \n",
    "\n",
    "        if (len(valid_separation_regions) == 0 or\\\n",
    "            len(valid_separation_regions) > 0 and abs(cut_idx-valid_separation_regions[-1][1]) > 2): \n",
    "            valid_separation_regions.append(SR)\n",
    "        SR_idx += 1\n",
    "\n",
    "    return valid_separation_regions\n",
    "\n",
    "\n",
    "def extract_char(img, valid_SR):\n",
    "\n",
    "    # binary image needs to be (0, 255) to be saved on disk not (0, 1)\n",
    "    img = img * 255\n",
    "    h, w = img.shape\n",
    "\n",
    "    next_cut = w\n",
    "    char_imgs = []\n",
    "\n",
    "    for SR in valid_SR:\n",
    "        char_imgs.append(img[:, SR[1]:next_cut])\n",
    "        next_cut = SR[1]\n",
    "    char_imgs.append(img[:, 0:next_cut])\n",
    "\n",
    "    return char_imgs\n",
    "\n",
    "\n",
    "def segment(line, word_img):\n",
    "\n",
    "    # binary_word = binarize(word_img)\n",
    "    binary_word = word_img//255\n",
    "    no_dots_copy = remove_dots(binary_word)\n",
    "\n",
    "    # l = binary_word.copy()\n",
    "\n",
    "    VP_no_dots = projection(no_dots_copy, 'vertical')\n",
    "    VP = projection(binary_word, 'vertical')\n",
    "    binary_word = fill(binary_word, VP_no_dots)\n",
    "    no_dots_copy = remove_dots(binary_word)\n",
    "\n",
    "    # sk = skeletonize(no_dots_copy)\n",
    "    upper_base, lower_base, MFV = baseline_detection(remove_dots(line))\n",
    "    MTI = horizontal_transitions(no_dots_copy, upper_base)\n",
    "        \n",
    "    SRL, wrong = cut_points(binary_word, VP, MFV, MTI, upper_base)\n",
    "\n",
    "    if wrong:\n",
    "        MTI -= 1\n",
    "        SRL.clear()\n",
    "        SRL, wrong = cut_points(binary_word, VP, MFV, MTI, upper_base)\n",
    "\n",
    "    HP = projection(line, 'horizontal')\n",
    "    top_line = -1\n",
    "\n",
    "    valid = filter_regions(binary_word, no_dots_copy, SRL, VP, upper_base, lower_base, MTI, MFV, top_line)\n",
    "\n",
    "    chars = extract_char(binary_word, valid)\n",
    "\n",
    "    return chars\n",
    "\n",
    "\n",
    "# if __name__ == \"__main__\":\n",
    "    \n",
    "#     img = cv.imread('../Dataset/scanned/coct1183.png')\n",
    "#     lines = line_horizontal_projection(img)\n",
    "\n",
    "#     line = lines[0]\n",
    "#     words = word_vertical_projection(line)\n",
    "\n",
    "#     word = words[0]\n",
    "\n",
    "#     cr = segment(line, word)"
   ]
  },
  {
   "cell_type": "code",
   "execution_count": null,
   "id": "74c06ffc",
   "metadata": {},
   "outputs": [],
   "source": []
  },
  {
   "cell_type": "code",
   "execution_count": 15,
   "id": "614bfe46",
   "metadata": {},
   "outputs": [
    {
     "name": "stdout",
     "output_type": "stream",
     "text": [
      "Word: exaple, Suggestions: {'example'}\n",
      "Word: worrds, Suggestions: {'words', 'worlds'}\n",
      "Word: dictionnary, Suggestions: {'dictionary'}\n"
     ]
    }
   ],
   "source": [
    "from spellchecker import SpellChecker\n",
    "\n",
    "spell = SpellChecker()\n",
    "\n",
    "# Add words to the dictionary\n",
    "spell.word_frequency.load_words([ 'words','ind','exaample', 'in', 'dictionary'])\n",
    "\n",
    "# Check spelling and get suggestions\n",
    "misspelled = spell.unknown(['exaple', 'worrds', 'in', 'dictionnary'])\n",
    "for word in misspelled:\n",
    "    suggestions = spell.candidates(word)\n",
    "    print(f\"Word: {word}, Suggestions: {suggestions}\")"
   ]
  },
  {
   "cell_type": "code",
   "execution_count": 1,
   "id": "ab550d1b",
   "metadata": {},
   "outputs": [],
   "source": [
    "import pandas as pd"
   ]
  },
  {
   "cell_type": "code",
   "execution_count": 2,
   "id": "7533f9cc",
   "metadata": {},
   "outputs": [
    {
     "data": {
      "text/plain": [
       "(570747, 2)"
      ]
     },
     "execution_count": 2,
     "metadata": {},
     "output_type": "execute_result"
    }
   ],
   "source": [
    "df=pd.read_csv('f_labels.csv')\n",
    "df.shape"
   ]
  },
  {
   "cell_type": "code",
   "execution_count": 3,
   "id": "820ea8ec",
   "metadata": {},
   "outputs": [
    {
     "data": {
      "text/plain": [
       "(427704, 2)"
      ]
     },
     "execution_count": 3,
     "metadata": {},
     "output_type": "execute_result"
    }
   ],
   "source": [
    "hf=pd.read_csv('labels.csv')\n",
    "hf.shape"
   ]
  },
  {
   "cell_type": "code",
   "execution_count": 4,
   "id": "59de4200",
   "metadata": {},
   "outputs": [],
   "source": [
    "hf['File_Name']=hf['File_Name']+570750"
   ]
  },
  {
   "cell_type": "code",
   "execution_count": 5,
   "id": "1bbb4e3c",
   "metadata": {},
   "outputs": [
    {
     "data": {
      "text/html": [
       "<div>\n",
       "<style scoped>\n",
       "    .dataframe tbody tr th:only-of-type {\n",
       "        vertical-align: middle;\n",
       "    }\n",
       "\n",
       "    .dataframe tbody tr th {\n",
       "        vertical-align: top;\n",
       "    }\n",
       "\n",
       "    .dataframe thead th {\n",
       "        text-align: right;\n",
       "    }\n",
       "</style>\n",
       "<table border=\"1\" class=\"dataframe\">\n",
       "  <thead>\n",
       "    <tr style=\"text-align: right;\">\n",
       "      <th></th>\n",
       "      <th>File_Name</th>\n",
       "      <th>Label</th>\n",
       "    </tr>\n",
       "  </thead>\n",
       "  <tbody>\n",
       "    <tr>\n",
       "      <th>0</th>\n",
       "      <td>570750</td>\n",
       "      <td>ﺗ</td>\n",
       "    </tr>\n",
       "    <tr>\n",
       "      <th>1</th>\n",
       "      <td>570751</td>\n",
       "      <td>ﺮ</td>\n",
       "    </tr>\n",
       "    <tr>\n",
       "      <th>2</th>\n",
       "      <td>570752</td>\n",
       "      <td>ﺍ</td>\n",
       "    </tr>\n",
       "    <tr>\n",
       "      <th>3</th>\n",
       "      <td>570753</td>\n",
       "      <td>ﺟ</td>\n",
       "    </tr>\n",
       "    <tr>\n",
       "      <th>4</th>\n",
       "      <td>570754</td>\n",
       "      <td>ﺎ</td>\n",
       "    </tr>\n",
       "    <tr>\n",
       "      <th>...</th>\n",
       "      <td>...</td>\n",
       "      <td>...</td>\n",
       "    </tr>\n",
       "    <tr>\n",
       "      <th>427699</th>\n",
       "      <td>998449</td>\n",
       "      <td>ﮑ</td>\n",
       "    </tr>\n",
       "    <tr>\n",
       "      <th>427700</th>\n",
       "      <td>998450</td>\n",
       "      <td>ﻔ</td>\n",
       "    </tr>\n",
       "    <tr>\n",
       "      <th>427701</th>\n",
       "      <td>998451</td>\n",
       "      <td>ﺘ</td>\n",
       "    </tr>\n",
       "    <tr>\n",
       "      <th>427702</th>\n",
       "      <td>998452</td>\n",
       "      <td>ﯿ</td>\n",
       "    </tr>\n",
       "    <tr>\n",
       "      <th>427703</th>\n",
       "      <td>998453</td>\n",
       "      <td>ﺪ</td>\n",
       "    </tr>\n",
       "  </tbody>\n",
       "</table>\n",
       "<p>427704 rows × 2 columns</p>\n",
       "</div>"
      ],
      "text/plain": [
       "        File_Name Label\n",
       "0          570750     ﺗ\n",
       "1          570751     ﺮ\n",
       "2          570752     ﺍ\n",
       "3          570753     ﺟ\n",
       "4          570754     ﺎ\n",
       "...           ...   ...\n",
       "427699     998449     ﮑ\n",
       "427700     998450     ﻔ\n",
       "427701     998451     ﺘ\n",
       "427702     998452     ﯿ\n",
       "427703     998453     ﺪ\n",
       "\n",
       "[427704 rows x 2 columns]"
      ]
     },
     "execution_count": 5,
     "metadata": {},
     "output_type": "execute_result"
    }
   ],
   "source": [
    "hf"
   ]
  },
  {
   "cell_type": "code",
   "execution_count": 6,
   "id": "3fe1e1b6",
   "metadata": {},
   "outputs": [],
   "source": [
    "f_df=pd.concat([df,hf])"
   ]
  },
  {
   "cell_type": "code",
   "execution_count": 7,
   "id": "1400389e",
   "metadata": {},
   "outputs": [
    {
     "data": {
      "text/plain": [
       "(998451, 2)"
      ]
     },
     "execution_count": 7,
     "metadata": {},
     "output_type": "execute_result"
    }
   ],
   "source": [
    "f_df.shape"
   ]
  },
  {
   "cell_type": "code",
   "execution_count": 8,
   "id": "6fa844c7",
   "metadata": {},
   "outputs": [
    {
     "data": {
      "text/plain": [
       "File_Name    570749\n",
       "Label             7\n",
       "Name: 570746, dtype: object"
      ]
     },
     "execution_count": 8,
     "metadata": {},
     "output_type": "execute_result"
    }
   ],
   "source": [
    "f_df.loc[570746]"
   ]
  },
  {
   "cell_type": "code",
   "execution_count": 9,
   "id": "231297af",
   "metadata": {},
   "outputs": [],
   "source": [
    "f_df.reset_index(inplace=True,drop=True)"
   ]
  },
  {
   "cell_type": "code",
   "execution_count": 10,
   "id": "c74ca39e",
   "metadata": {},
   "outputs": [
    {
     "data": {
      "text/plain": [
       "File_Name    570750\n",
       "Label             ﺗ\n",
       "Name: 570747, dtype: object"
      ]
     },
     "execution_count": 10,
     "metadata": {},
     "output_type": "execute_result"
    }
   ],
   "source": [
    "f_df.loc[570747]"
   ]
  },
  {
   "cell_type": "code",
   "execution_count": 45,
   "id": "4d6b328a",
   "metadata": {},
   "outputs": [
    {
     "data": {
      "text/plain": [
       "File_Name    998373\n",
       "Label             ﺳ\n",
       "Name: 998370, dtype: object"
      ]
     },
     "execution_count": 45,
     "metadata": {},
     "output_type": "execute_result"
    }
   ],
   "source": [
    "f_df.loc[998370]"
   ]
  },
  {
   "cell_type": "code",
   "execution_count": 11,
   "id": "156fc18a",
   "metadata": {},
   "outputs": [
    {
     "data": {
      "text/plain": [
       "(998451, 2)"
      ]
     },
     "execution_count": 11,
     "metadata": {},
     "output_type": "execute_result"
    }
   ],
   "source": [
    "f_df.shape"
   ]
  },
  {
   "cell_type": "code",
   "execution_count": 12,
   "id": "edcc2c14",
   "metadata": {},
   "outputs": [
    {
     "data": {
      "text/plain": [
       "0         1\n",
       "665657    1\n",
       "665629    1\n",
       "665630    1\n",
       "665631    1\n",
       "         ..\n",
       "332824    1\n",
       "332825    1\n",
       "332826    1\n",
       "332827    1\n",
       "998453    1\n",
       "Name: File_Name, Length: 998451, dtype: int64"
      ]
     },
     "execution_count": 12,
     "metadata": {},
     "output_type": "execute_result"
    }
   ],
   "source": [
    "f_df['File_Name'].value_counts()"
   ]
  },
  {
   "cell_type": "code",
   "execution_count": 13,
   "id": "d906f6a3",
   "metadata": {},
   "outputs": [
    {
     "data": {
      "text/html": [
       "<div>\n",
       "<style scoped>\n",
       "    .dataframe tbody tr th:only-of-type {\n",
       "        vertical-align: middle;\n",
       "    }\n",
       "\n",
       "    .dataframe tbody tr th {\n",
       "        vertical-align: top;\n",
       "    }\n",
       "\n",
       "    .dataframe thead th {\n",
       "        text-align: right;\n",
       "    }\n",
       "</style>\n",
       "<table border=\"1\" class=\"dataframe\">\n",
       "  <thead>\n",
       "    <tr style=\"text-align: right;\">\n",
       "      <th></th>\n",
       "      <th>File_Name</th>\n",
       "      <th>Label</th>\n",
       "    </tr>\n",
       "  </thead>\n",
       "  <tbody>\n",
       "    <tr>\n",
       "      <th>570744</th>\n",
       "      <td>570747</td>\n",
       "      <td>7</td>\n",
       "    </tr>\n",
       "  </tbody>\n",
       "</table>\n",
       "</div>"
      ],
      "text/plain": [
       "        File_Name Label\n",
       "570744     570747     7"
      ]
     },
     "execution_count": 13,
     "metadata": {},
     "output_type": "execute_result"
    }
   ],
   "source": [
    "f_df[f_df['File_Name']==570747]"
   ]
  },
  {
   "cell_type": "code",
   "execution_count": 14,
   "id": "481f1acb",
   "metadata": {},
   "outputs": [
    {
     "data": {
      "text/plain": [
       "168"
      ]
     },
     "execution_count": 14,
     "metadata": {},
     "output_type": "execute_result"
    }
   ],
   "source": [
    "len(f_df['Label'].unique())"
   ]
  },
  {
   "cell_type": "code",
   "execution_count": 15,
   "id": "663e4176",
   "metadata": {},
   "outputs": [
    {
     "data": {
      "text/plain": [
       "array(['ر', 'ا', 'ﯾ', 'ﻧ', 'ﻪ', 'ﻗ', 'ﭘ', 'ن', 'د', 'ﺗ', 'پ', 'ز', 'ﻫ',\n",
       "       'ل', 'ﺳ', 'و', 'م', 'ﺣ', 'ﻣ', 'ط', 'آ', 'ﭼ', 'ﻓ', 'ه', 'ﺑ', 'ی',\n",
       "       'ﮐ', 'ﻟ', 'ژ', 'ﺟ', 'ﺧ', 'ﻻ', 'ﺻ', 'ص', 'ﺷ', 'ت', 'ﮔ', 'ف', 'ک',\n",
       "       'ع', 'ﻌ', 'ﻬ', 'ذ', 'ح', 'س', 'گ', 'خ', 'ش', 'ﺿ', 'ﻋ', 'ب', 'ظ',\n",
       "       'ﻏ', 'ض', 'ق', 'ج', 'چ', 'ﺋ', 'غ', 'ث', 'ﺛ', 'ﻐ', 'ﻳ', 'ﻅ', '7',\n",
       "       '3', '2', '9', '8', '6', '5', '4', '1', '0', 'ﺮ', 'ﺍ', 'ﺎ', 'ﻥ',\n",
       "       'ﺭ', 'ﻭ', 'ﺯ', 'ﺸ', 'ﻖ', 'ﺲ', 'ﻩ', 'ﻞ', 'ﯽ', 'ﻮ', 'ﺵ', 'ﺩ', 'ﺶ',\n",
       "       'ﻡ', 'ﮎ', 'ﻠ', 'ﮏ', 'ﺁ', 'ﺪ', 'ﻢ', 'ﺖ', 'ﻨ', 'ﯿ', 'ﺴ', 'ﻦ', 'ﺠ',\n",
       "       'ﮑ', 'ﺨ', 'ﻤ', 'ﻝ', 'ﺰ', 'ﯼ', 'ﺏ', 'ﻔ', 'ﭻ', 'ﺐ', 'ﻘ', 'ﮓ', 'ﻎ',\n",
       "       'ﻒ', 'ﺘ', 'ﻃ', 'ﻑ', 'ﺤ', 'ﺬ', 'ﺼ', 'ﺒ', 'ﮕ', 'ﭽ', 'ﻕ', 'ﻈ', 'ﺫ',\n",
       "       'ﺚ', 'ﻊ', 'ﮒ', 'ﺡ', 'ﻀ', 'ﭙ', 'ﺥ', 'ﺕ', 'ﻄ', 'ﻼ', 'ﮋ', 'ﺱ', 'ﺞ',\n",
       "       'ﺦ', 'ﺝ', 'ﻂ', 'ﺢ', 'ﻉ', 'ﻍ', 'ﻆ', 'ﻁ', 'ﺜ', 'ﻇ', 'ﭗ', 'ﭺ', 'ﺺ',\n",
       "       'ﺽ', 'ﮊ', 'ﺙ', 'ﺹ', 'ﺾ', 'ﺂ', ' ', 'ﷲ', 'ﻵ', 'ﺉ', 'ﺌ', 'ﭖ'],\n",
       "      dtype=object)"
      ]
     },
     "execution_count": 15,
     "metadata": {},
     "output_type": "execute_result"
    }
   ],
   "source": [
    "f_df['Label'].unique()"
   ]
  },
  {
   "cell_type": "code",
   "execution_count": 16,
   "id": "fc99d9b0",
   "metadata": {},
   "outputs": [
    {
     "data": {
      "text/plain": [
       "File_Name    570749\n",
       "Label             7\n",
       "Name: 570746, dtype: object"
      ]
     },
     "execution_count": 16,
     "metadata": {},
     "output_type": "execute_result"
    }
   ],
   "source": [
    "df.loc[570746]"
   ]
  },
  {
   "cell_type": "code",
   "execution_count": null,
   "id": "6d834a76",
   "metadata": {},
   "outputs": [],
   "source": []
  },
  {
   "cell_type": "code",
   "execution_count": null,
   "id": "3b6f6fca",
   "metadata": {},
   "outputs": [],
   "source": []
  },
  {
   "cell_type": "code",
   "execution_count": null,
   "id": "6dc0c74a",
   "metadata": {},
   "outputs": [],
   "source": []
  },
  {
   "cell_type": "code",
   "execution_count": null,
   "id": "40054fac",
   "metadata": {},
   "outputs": [],
   "source": []
  },
  {
   "cell_type": "code",
   "execution_count": null,
   "id": "8c7b5786",
   "metadata": {},
   "outputs": [],
   "source": []
  },
  {
   "cell_type": "code",
   "execution_count": null,
   "id": "f8c751c8",
   "metadata": {},
   "outputs": [],
   "source": []
  },
  {
   "cell_type": "code",
   "execution_count": null,
   "id": "8c50473d",
   "metadata": {},
   "outputs": [],
   "source": []
  },
  {
   "cell_type": "code",
   "execution_count": null,
   "id": "1496e8b1",
   "metadata": {},
   "outputs": [],
   "source": []
  },
  {
   "cell_type": "code",
   "execution_count": null,
   "id": "075ea0d9",
   "metadata": {},
   "outputs": [],
   "source": [
    "f_df.to_csv('integrate.csv',encoding='utf-8-sig',index=False)"
   ]
  },
  {
   "cell_type": "code",
   "execution_count": null,
   "id": "1fd02452",
   "metadata": {},
   "outputs": [],
   "source": []
  },
  {
   "cell_type": "code",
   "execution_count": null,
   "id": "5d8371f8",
   "metadata": {},
   "outputs": [],
   "source": []
  },
  {
   "cell_type": "code",
   "execution_count": null,
   "id": "16734486",
   "metadata": {},
   "outputs": [],
   "source": []
  }
 ],
 "metadata": {
  "kernelspec": {
   "display_name": "Python 3 (ipykernel)",
   "language": "python",
   "name": "python3"
  },
  "language_info": {
   "codemirror_mode": {
    "name": "ipython",
    "version": 3
   },
   "file_extension": ".py",
   "mimetype": "text/x-python",
   "name": "python",
   "nbconvert_exporter": "python",
   "pygments_lexer": "ipython3",
   "version": "3.10.7"
  }
 },
 "nbformat": 4,
 "nbformat_minor": 5
}
