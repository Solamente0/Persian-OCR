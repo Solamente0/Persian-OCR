{
 "cells": [
  {
   "cell_type": "code",
   "execution_count": 4,
   "id": "ecb7dfa2",
   "metadata": {},
   "outputs": [],
   "source": [
    "import pandas as pd\n",
    "import numpy as np\n",
    "import matplotlib.pyplot as plt\n",
    "import cv2\n",
    "import keras \n",
    "import tensorflow as tf\n",
    "from tensorflow.keras.models import load_model\n",
    "from imutils.contours import sort_contours\n",
    "import imutils"
   ]
  },
  {
   "cell_type": "code",
   "execution_count": 5,
   "id": "62a384c4",
   "metadata": {},
   "outputs": [],
   "source": [
    "lenet=load_model('LeNet5.h5')\n",
    "# cnn3=load_model('ocr_tuesday.h5')"
   ]
  },
  {
   "cell_type": "code",
   "execution_count": 3,
   "id": "cc717156",
   "metadata": {},
   "outputs": [
    {
     "data": {
      "text/plain": [
       "<keras.src.engine.sequential.Sequential at 0x1c101ed5450>"
      ]
     },
     "execution_count": 3,
     "metadata": {},
     "output_type": "execute_result"
    }
   ],
   "source": [
    "lenet"
   ]
  },
  {
   "cell_type": "code",
   "execution_count": 4,
   "id": "fcaf8ca3",
   "metadata": {},
   "outputs": [
    {
     "name": "stdout",
     "output_type": "stream",
     "text": [
      "Model: \"sequential\"\n",
      "_________________________________________________________________\n",
      " Layer (type)                Output Shape              Param #   \n",
      "=================================================================\n",
      " conv2d (Conv2D)             (None, 28, 23, 32)        320       \n",
      "                                                                 \n",
      " average_pooling2d (Average  (None, 14, 11, 32)        0         \n",
      " Pooling2D)                                                      \n",
      "                                                                 \n",
      " conv2d_1 (Conv2D)           (None, 12, 9, 64)         18496     \n",
      "                                                                 \n",
      " average_pooling2d_1 (Avera  (None, 6, 4, 64)          0         \n",
      " gePooling2D)                                                    \n",
      "                                                                 \n",
      " conv2d_2 (Conv2D)           (None, 4, 3, 128)         49280     \n",
      "                                                                 \n",
      " flatten (Flatten)           (None, 1536)              0         \n",
      "                                                                 \n",
      " dense (Dense)               (None, 120)               184440    \n",
      "                                                                 \n",
      " dense_1 (Dense)             (None, 84)                10164     \n",
      "                                                                 \n",
      " dense_2 (Dense)             (None, 73)                6205      \n",
      "                                                                 \n",
      "=================================================================\n",
      "Total params: 268905 (1.03 MB)\n",
      "Trainable params: 268905 (1.03 MB)\n",
      "Non-trainable params: 0 (0.00 Byte)\n",
      "_________________________________________________________________\n"
     ]
    }
   ],
   "source": [
    "lenet.summary()"
   ]
  },
  {
   "cell_type": "code",
   "execution_count": null,
   "id": "e1069e01",
   "metadata": {},
   "outputs": [],
   "source": [
    "persian_letters = ['ر', 'ا', 'ی', 'ن', 'ه', 'ق', 'پ', 'ن', 'د', 'ت', 'پ', 'ز', 'ه', 'ل', 'س', 'و', 'م', 'ح', 'م', 'ط', 'آ', 'چ', 'ف', 'ه', 'ب', 'ی', 'ک', 'ل', 'ژ', 'ج', 'خ', 'ﻻ', 'ص', 'ص', 'ش', 'ت', 'گ', 'ف', 'ک', 'ع', 'ع', 'ه', 'ذ', 'ح', 'س', 'گ', 'خ', 'ش', 'ض', 'ع', 'ب', 'ظ', 'غ', 'ض', 'ق', 'ج', 'چ', 'ئ', 'غ', 'ث', 'ث', 'غ', 'ی', '7', '3', '2', '9', '8', '6', '5', '4', '1', '0']"
   ]
  },
  {
   "cell_type": "code",
   "execution_count": 7,
   "id": "20366abe",
   "metadata": {},
   "outputs": [
    {
     "data": {
      "text/plain": [
       "'ب'"
      ]
     },
     "execution_count": 7,
     "metadata": {},
     "output_type": "execute_result"
    }
   ],
   "source": [
    "persian_letters[50]"
   ]
  },
  {
   "cell_type": "code",
   "execution_count": 17,
   "id": "d450d8ca",
   "metadata": {},
   "outputs": [
    {
     "data": {
      "text/plain": [
       "<matplotlib.image.AxesImage at 0x2ad4b623a30>"
      ]
     },
     "execution_count": 17,
     "metadata": {},
     "output_type": "execute_result"
    },
    {
     "data": {
      "image/png": "[encoded data removed]",
      "text/plain": [
       "<Figure size 640x480 with 1 Axes>"
      ]
     },
     "metadata": {},
     "output_type": "display_data"
    }
   ],
   "source": [
    "img = cv.imread(\"2023-12-29 19_49_48-Document1 - Word.png\")\n",
    "plt.imshow(img)"
   ]
  },
  {
   "cell_type": "code",
   "execution_count": 18,
   "id": "0cbf9d48",
   "metadata": {},
   "outputs": [],
   "source": [
    "def OCR(img):\n",
    "    text=[]\n",
    "    c=0\n",
    "    #segment main image to image of lines\n",
    "    lines = line_horizontal_projection(img)\n",
    "    for line in lines:\n",
    "        #segment image to image of a lines to images of words\n",
    "        words = word_vertical_projection(line)\n",
    "        for word in words:\n",
    "            if c!=0:\n",
    "                text.append(' ')\n",
    "            c+=1\n",
    "            #segment image to image of a word to images of characters\n",
    "            alphas = segment(line, word)\n",
    "            for alpha in alphas:\n",
    "                height, original_width = alpha.shape\n",
    "                if 25 - original_width > 0:\n",
    "                    add_width = (25 - original_width) / 2\n",
    "                    left_columns = int(add_width)\n",
    "                    right_columns = int(add_width)\n",
    "                    new_width = 25\n",
    "                    new_img = np.zeros((height, new_width), dtype=np.uint8)\n",
    "                    new_img[:, left_columns:left_columns + original_width] = alpha\n",
    "                    new_img = cv2.resize(new_img, (new_width, 30))\n",
    "                else:\n",
    "                    new_img = cv2.resize(alpha, (25, 30))\n",
    "\n",
    "                _, targ = cv2.threshold(new_img, 128, 255, cv2.THRESH_BINARY)\n",
    "                targ=np.expand_dims(targ,axis=-1)\n",
    "                targ = np.array(targ)\n",
    "                targ = targ / 255.0\n",
    "                targ = targ.reshape((1, 30, 25, 1))\n",
    "                text.append(persian_letters[np.argmax(lenet.predict(targ))])\n",
    "                \n",
    "    return text        \n"
   ]
  },
  {
   "cell_type": "code",
   "execution_count": 19,
   "id": "1696ceca",
   "metadata": {},
   "outputs": [
    {
     "name": "stderr",
     "output_type": "stream",
     "text": [
      "C:\\Users\\Mostafa\\AppData\\Local\\Temp\\ipykernel_8816\\3936572966.py:25: DeprecationWarning: Please use `rotate` from the `scipy.ndimage` namespace, the `scipy.ndimage.interpolation` namespace is deprecated.\n",
      "  data = inter.rotate(arr, angle, reshape=False, order=0)\n",
      "C:\\Users\\Mostafa\\AppData\\Local\\Temp\\ipykernel_8816\\3936572966.py:44: DeprecationWarning: Please use `rotate` from the `scipy.ndimage` namespace, the `scipy.ndimage.interpolation` namespace is deprecated.\n",
      "  data = inter.rotate(bin_img, best_angle, reshape=False, order=0)\n"
     ]
    },
    {
     "name": "stdout",
     "output_type": "stream",
     "text": [
      "1/1 [==============================] - 2s 2s/step\n",
      "1/1 [==============================] - 0s 18ms/step\n",
      "1/1 [==============================] - 0s 18ms/step\n",
      "1/1 [==============================] - 0s 17ms/step\n",
      "1/1 [==============================] - 0s 18ms/step\n",
      "1/1 [==============================] - 0s 18ms/step\n",
      "1/1 [==============================] - 0s 16ms/step\n",
      "1/1 [==============================] - 0s 18ms/step\n",
      "1/1 [==============================] - 0s 18ms/step\n",
      "1/1 [==============================] - 0s 17ms/step\n",
      "1/1 [==============================] - 0s 17ms/step\n",
      "1/1 [==============================] - 0s 17ms/step\n",
      "1/1 [==============================] - 0s 17ms/step\n",
      "1/1 [==============================] - 0s 17ms/step\n",
      "['ﺳ', 'ﻪ', 'ض', 'م', ' ', 'ه', 'ر', ' ', 'ه', 'ﺻ', 'د', 'ی', ' ', 'ه', 'ﺳ', 'ﺗ', 'م']\n"
     ]
    }
   ],
   "source": [
    "t=OCR(img)\n",
    "print(t)"
   ]
  },
  {
   "cell_type": "code",
   "execution_count": null,
   "id": "491f7d2d",
   "metadata": {},
   "outputs": [],
   "source": []
  },
  {
   "cell_type": "code",
   "execution_count": null,
   "id": "43ef02a1",
   "metadata": {},
   "outputs": [],
   "source": []
  },
  {
   "cell_type": "code",
   "execution_count": null,
   "id": "0afb1c1b",
   "metadata": {},
   "outputs": [],
   "source": []
  },
  {
   "cell_type": "code",
   "execution_count": 20,
   "id": "91455e3b",
   "metadata": {},
   "outputs": [
    {
     "data": {
      "text/plain": [
       "<matplotlib.image.AxesImage at 0x2ad4d855870>"
      ]
     },
     "execution_count": 20,
     "metadata": {},
     "output_type": "execute_result"
    },
    {
     "data": {
      "image/png": "[encoded data removed]",
      "text/plain": [
       "<Figure size 640x480 with 1 Axes>"
      ]
     },
     "metadata": {},
     "output_type": "display_data"
    }
   ],
   "source": [
    "img5=cv.imread(\"test 5.png\")\n",
    "plt.imshow(img5)"
   ]
  },
  {
   "cell_type": "code",
   "execution_count": 21,
   "id": "605be4ef",
   "metadata": {},
   "outputs": [
    {
     "name": "stderr",
     "output_type": "stream",
     "text": [
      "C:\\Users\\Mostafa\\AppData\\Local\\Temp\\ipykernel_8816\\3936572966.py:25: DeprecationWarning: Please use `rotate` from the `scipy.ndimage` namespace, the `scipy.ndimage.interpolation` namespace is deprecated.\n",
      "  data = inter.rotate(arr, angle, reshape=False, order=0)\n"
     ]
    },
    {
     "name": "stdout",
     "output_type": "stream",
     "text": [
      "1/1 [==============================] - 0s 18ms/step\n",
      "1/1 [==============================] - 0s 32ms/step\n",
      "1/1 [==============================] - ETA: 0s"
     ]
    },
    {
     "name": "stderr",
     "output_type": "stream",
     "text": [
      "C:\\Users\\Mostafa\\AppData\\Local\\Temp\\ipykernel_8816\\3936572966.py:44: DeprecationWarning: Please use `rotate` from the `scipy.ndimage` namespace, the `scipy.ndimage.interpolation` namespace is deprecated.\n",
      "  data = inter.rotate(bin_img, best_angle, reshape=False, order=0)\n"
     ]
    },
    {
     "name": "stdout",
     "output_type": "stream",
     "text": [
      "1/1 [==============================] - 0s 20ms/step\n",
      "1/1 [==============================] - 0s 26ms/step\n",
      "1/1 [==============================] - 0s 19ms/step\n",
      "1/1 [==============================] - 0s 18ms/step\n",
      "1/1 [==============================] - 0s 17ms/step\n",
      "1/1 [==============================] - 0s 20ms/step\n",
      "1/1 [==============================] - 0s 18ms/step\n",
      "1/1 [==============================] - 0s 17ms/step\n",
      "1/1 [==============================] - 0s 18ms/step\n",
      "1/1 [==============================] - 0s 17ms/step\n",
      "1/1 [==============================] - 0s 17ms/step\n",
      "1/1 [==============================] - 0s 17ms/step\n",
      "1/1 [==============================] - 0s 18ms/step\n",
      "1/1 [==============================] - 0s 18ms/step\n",
      "1/1 [==============================] - 0s 19ms/step\n",
      "1/1 [==============================] - 0s 18ms/step\n",
      "1/1 [==============================] - 0s 18ms/step\n",
      "1/1 [==============================] - 0s 19ms/step\n",
      "1/1 [==============================] - 0s 17ms/step\n",
      "1/1 [==============================] - 0s 18ms/step\n",
      "1/1 [==============================] - 0s 17ms/step\n",
      "1/1 [==============================] - 0s 20ms/step\n",
      "1/1 [==============================] - 0s 17ms/step\n",
      "1/1 [==============================] - 0s 18ms/step\n",
      "1/1 [==============================] - 0s 17ms/step\n",
      "1/1 [==============================] - 0s 17ms/step\n",
      "1/1 [==============================] - 0s 20ms/step\n",
      "1/1 [==============================] - 0s 21ms/step\n",
      "1/1 [==============================] - 0s 19ms/step\n",
      "1/1 [==============================] - 0s 17ms/step\n",
      "1/1 [==============================] - 0s 20ms/step\n",
      "1/1 [==============================] - 0s 17ms/step\n",
      "1/1 [==============================] - 0s 17ms/step\n",
      "1/1 [==============================] - 0s 17ms/step\n",
      "1/1 [==============================] - 0s 21ms/step\n",
      "1/1 [==============================] - 0s 18ms/step\n",
      "1/1 [==============================] - 0s 17ms/step\n",
      "1/1 [==============================] - 0s 18ms/step\n",
      "1/1 [==============================] - 0s 18ms/step\n",
      "1/1 [==============================] - 0s 18ms/step\n",
      "1/1 [==============================] - 0s 18ms/step\n",
      "1/1 [==============================] - 0s 17ms/step\n",
      "1/1 [==============================] - 0s 17ms/step\n",
      "1/1 [==============================] - 0s 17ms/step\n",
      "1/1 [==============================] - 0s 17ms/step\n",
      "1/1 [==============================] - 0s 17ms/step\n",
      "1/1 [==============================] - 0s 17ms/step\n",
      "1/1 [==============================] - 0s 17ms/step\n",
      "1/1 [==============================] - 0s 17ms/step\n",
      "1/1 [==============================] - 0s 17ms/step\n",
      "1/1 [==============================] - 0s 17ms/step\n",
      "1/1 [==============================] - 0s 17ms/step\n",
      "1/1 [==============================] - 0s 18ms/step\n",
      "1/1 [==============================] - 0s 18ms/step\n",
      "1/1 [==============================] - 0s 22ms/step\n",
      "1/1 [==============================] - 0s 21ms/step\n",
      "1/1 [==============================] - 0s 21ms/step\n",
      "1/1 [==============================] - 0s 18ms/step\n",
      "1/1 [==============================] - 0s 18ms/step\n",
      "1/1 [==============================] - 0s 18ms/step\n",
      "1/1 [==============================] - 0s 18ms/step\n",
      "1/1 [==============================] - 0s 17ms/step\n",
      "1/1 [==============================] - 0s 17ms/step\n",
      "1/1 [==============================] - 0s 18ms/step\n",
      "1/1 [==============================] - 0s 18ms/step\n",
      "1/1 [==============================] - 0s 17ms/step\n",
      "1/1 [==============================] - 0s 20ms/step\n",
      "1/1 [==============================] - 0s 19ms/step\n",
      "1/1 [==============================] - 0s 19ms/step\n",
      "1/1 [==============================] - 0s 19ms/step\n",
      "1/1 [==============================] - 0s 20ms/step\n",
      "1/1 [==============================] - 0s 18ms/step\n",
      "1/1 [==============================] - 0s 18ms/step\n",
      "1/1 [==============================] - 0s 19ms/step\n",
      "1/1 [==============================] - 0s 18ms/step\n",
      "1/1 [==============================] - 0s 18ms/step\n",
      "1/1 [==============================] - 0s 18ms/step\n",
      "1/1 [==============================] - 0s 19ms/step\n",
      "1/1 [==============================] - 0s 28ms/step\n",
      "1/1 [==============================] - 0s 18ms/step\n",
      "1/1 [==============================] - 0s 19ms/step\n",
      "1/1 [==============================] - 0s 18ms/step\n",
      "1/1 [==============================] - 0s 18ms/step\n",
      "1/1 [==============================] - 0s 18ms/step\n",
      "1/1 [==============================] - 0s 19ms/step\n",
      "1/1 [==============================] - 0s 18ms/step\n",
      "1/1 [==============================] - 0s 20ms/step\n",
      "1/1 [==============================] - 0s 19ms/step\n",
      "1/1 [==============================] - 0s 18ms/step\n",
      "1/1 [==============================] - 0s 19ms/step\n",
      "1/1 [==============================] - 0s 19ms/step\n",
      "1/1 [==============================] - 0s 19ms/step\n",
      "1/1 [==============================] - 0s 18ms/step\n",
      "1/1 [==============================] - 0s 18ms/step\n",
      "1/1 [==============================] - 0s 17ms/step\n",
      "1/1 [==============================] - 0s 17ms/step\n",
      "1/1 [==============================] - 0s 22ms/step\n",
      "1/1 [==============================] - 0s 21ms/step\n",
      "1/1 [==============================] - 0s 21ms/step\n",
      "1/1 [==============================] - 0s 19ms/step\n",
      "1/1 [==============================] - 0s 18ms/step\n",
      "1/1 [==============================] - 0s 18ms/step\n",
      "1/1 [==============================] - 0s 18ms/step\n",
      "1/1 [==============================] - 0s 19ms/step\n",
      "1/1 [==============================] - 0s 20ms/step\n"
     ]
    }
   ],
   "source": [
    "t5=OCR(img5)"
   ]
  },
  {
   "cell_type": "code",
   "execution_count": 21,
   "id": "0cf601b5",
   "metadata": {},
   "outputs": [
    {
     "name": "stdout",
     "output_type": "stream",
     "text": [
      "['ر', 'ﯾ', 'ﯾ', 'س', ' ', 'د', 'ا', 'ﻧ', 'ﺷ', 'ﮔ', 'ا', 'ه', ' ', 'ﺣ', 'ﻧ', 'ﻗ', 'م', ' ', 'ﻗ', 'و', 'ﭼ', 'ا', 'ن', ' ', 'ﺑ', 'ا', ' ', 'ﺑ', 'ﯾ', 'ا', 'ن', ' ', 'ا', 'ﯾ', 'ﻧ', 'ﮐ', 'ﻪ', ' ', 'ا', 'ﯾ', 'ن', ' ', 'ﻓ', 'ﯾ', 'ﻟ', 'م', ' ', 'ﮐ', 'و', 'ﺗ', 'ا', 'ه', ' ', 'ﺑ', 'ر', 'ا', 'و', 'ی', ' ', 'ﺣ', 'ﻓ', 'ه', 'ر', ' ', 'د', 'ر', ' ', 'ﭼ', 'ﻬ', 'ا', 'ر', 'ﺑ', 'ﯾ', 'ن', 'ی', ' ', 'ر', 'و', 'ﯾ', 'د', 'ا', 'د', ' ', 'ﺑ', 'ﯾ', 'ن', 'ا', 'ﻟ', 'ﻣ', 'ﻟ', 'د', 'ی', ' ', 'ﻓ', 'ﯾ', 'ﻟ', 'م', ' ', 'ﮐ', 'و', 'ﺗ', 'ا', 'ه', ' ', 'د', 'ﻧ', 'ﺻ', 'و', 'ﯾ', 'ر', ' ', 'د', 'ﻫ', 'م', 'ه', ' ', 'آ', 'ﻣ', 'ا', 'د', 'ه', 'ﺷ', 'د', 'ه', ' ', 'ا', 'ﺑ', 'ت']\n"
     ]
    }
   ],
   "source": [
    "print(t5)"
   ]
  },
  {
   "cell_type": "code",
   "execution_count": 22,
   "id": "3372f7d3",
   "metadata": {},
   "outputs": [
    {
     "name": "stdout",
     "output_type": "stream",
     "text": [
      "رییس داﻧﺷﮔاه ﺣﻧﻗم ﻗوﭼان ﺑا ﺑیان ایﻧﮐﻪ این ﻓیﻟم ﮐوﺗاه ﺑراوی ﺣﻓهر در ﭼﻬارﺑینی رویداد ﺑیناﻟﻣﻟدی ﻓیﻟم ﮐوﺗاه دﻧﺻویر دﻫمه آﻣادهﺷده اﺑت\n"
     ]
    }
   ],
   "source": [
    "result_string = ''.join(t5)\n",
    "print(result_string)"
   ]
  },
  {
   "cell_type": "code",
   "execution_count": 3,
   "id": "2cbfda4a",
   "metadata": {},
   "outputs": [
    {
     "ename": "NameError",
     "evalue": "name 't' is not defined",
     "output_type": "error",
     "traceback": [
      "\u001b[1;31m---------------------------------------------------------------------------\u001b[0m",
      "\u001b[1;31mNameError\u001b[0m                                 Traceback (most recent call last)",
      "Cell \u001b[1;32mIn [3], line 1\u001b[0m\n\u001b[1;32m----> 1\u001b[0m result_string \u001b[38;5;241m=\u001b[39m \u001b[38;5;124m'\u001b[39m\u001b[38;5;124m'\u001b[39m\u001b[38;5;241m.\u001b[39mjoin(\u001b[43mt\u001b[49m)\n\u001b[0;32m      2\u001b[0m \u001b[38;5;28mprint\u001b[39m(result_string)\n",
      "\u001b[1;31mNameError\u001b[0m: name 't' is not defined"
     ]
    }
   ],
   "source": [
    "result_string = ''.join(t)\n",
    "print(result_string)"
   ]
  },
  {
   "cell_type": "code",
   "execution_count": null,
   "id": "effdce2d",
   "metadata": {},
   "outputs": [],
   "source": []
  },
  {
   "cell_type": "code",
   "execution_count": 24,
   "id": "05a92ab1",
   "metadata": {},
   "outputs": [],
   "source": [
    "alexnet=load_model('AlexNet.h5')"
   ]
  },
  {
   "cell_type": "code",
   "execution_count": 25,
   "id": "478073b0",
   "metadata": {},
   "outputs": [],
   "source": [
    "def OCR_alex(img):\n",
    "    text=[]\n",
    "    c=0\n",
    "    #segment main image to image of lines\n",
    "    lines = line_horizontal_projection(img)\n",
    "    for line in lines:\n",
    "        #segment image to image of a lines to images of words\n",
    "        words = word_vertical_projection(line)\n",
    "        for word in words:\n",
    "            if c!=0:\n",
    "                text.append(' ')\n",
    "            c+=1\n",
    "            #segment image to image of a word to images of characters\n",
    "            alphas = segment(line, word)\n",
    "            for alpha in alphas:\n",
    "                height, original_width = alpha.shape\n",
    "                if 25 - original_width > 0:\n",
    "                    add_width = (25 - original_width) / 2\n",
    "                    left_columns = int(add_width)\n",
    "                    right_columns = int(add_width)\n",
    "                    new_width = 25\n",
    "                    new_img = np.zeros((height, new_width), dtype=np.uint8)\n",
    "                    new_img[:, left_columns:left_columns + original_width] = alpha\n",
    "                    new_img = cv2.resize(new_img, (new_width, 30))\n",
    "                else:\n",
    "                    new_img = cv2.resize(alpha, (25, 30))\n",
    "\n",
    "                _, targ = cv2.threshold(new_img, 128, 255, cv2.THRESH_BINARY)\n",
    "                targ=np.expand_dims(targ,axis=-1)\n",
    "                targ = np.array(targ)\n",
    "                targ = targ / 255.0\n",
    "                targ = targ.reshape((1, 30, 25, 1))\n",
    "                text.append(persian_letters[np.argmax(alexnet.predict(targ))])\n",
    "                \n",
    "    return text        \n"
   ]
  },
  {
   "cell_type": "code",
   "execution_count": 26,
   "id": "9694a924",
   "metadata": {},
   "outputs": [
    {
     "name": "stderr",
     "output_type": "stream",
     "text": [
      "C:\\Users\\Mostafa\\AppData\\Local\\Temp\\ipykernel_3560\\3936572966.py:25: DeprecationWarning: Please use `rotate` from the `scipy.ndimage` namespace, the `scipy.ndimage.interpolation` namespace is deprecated.\n",
      "  data = inter.rotate(arr, angle, reshape=False, order=0)\n"
     ]
    },
    {
     "name": "stdout",
     "output_type": "stream",
     "text": [
      "1/1 [==============================] - 0s 116ms/step\n"
     ]
    },
    {
     "name": "stderr",
     "output_type": "stream",
     "text": [
      "C:\\Users\\Mostafa\\AppData\\Local\\Temp\\ipykernel_3560\\3936572966.py:44: DeprecationWarning: Please use `rotate` from the `scipy.ndimage` namespace, the `scipy.ndimage.interpolation` namespace is deprecated.\n",
      "  data = inter.rotate(bin_img, best_angle, reshape=False, order=0)\n"
     ]
    },
    {
     "name": "stdout",
     "output_type": "stream",
     "text": [
      "1/1 [==============================] - 0s 30ms/step\n",
      "1/1 [==============================] - 0s 27ms/step\n",
      "1/1 [==============================] - 0s 27ms/step\n",
      "1/1 [==============================] - 0s 26ms/step\n",
      "1/1 [==============================] - 0s 26ms/step\n",
      "1/1 [==============================] - 0s 26ms/step\n",
      "1/1 [==============================] - 0s 26ms/step\n",
      "1/1 [==============================] - 0s 26ms/step\n",
      "1/1 [==============================] - 0s 26ms/step\n",
      "1/1 [==============================] - 0s 26ms/step\n",
      "1/1 [==============================] - 0s 26ms/step\n",
      "1/1 [==============================] - 0s 26ms/step\n",
      "1/1 [==============================] - 0s 27ms/step\n",
      "['ﺳ', 'ا', 'ب', 'م', ' ', 'ﻌ', 'خ', ' ', 'ﻌ', 'ﺻ', 'ط', 'س', ' ', 'ﻫ', 'ﺳ', 'ﺗ', 'م']\n"
     ]
    }
   ],
   "source": [
    "t=OCR_alex(img)\n",
    "print(t)"
   ]
  },
  {
   "cell_type": "code",
   "execution_count": 27,
   "id": "25e8adc5",
   "metadata": {},
   "outputs": [
    {
     "name": "stderr",
     "output_type": "stream",
     "text": [
      "C:\\Users\\Mostafa\\AppData\\Local\\Temp\\ipykernel_3560\\3936572966.py:25: DeprecationWarning: Please use `rotate` from the `scipy.ndimage` namespace, the `scipy.ndimage.interpolation` namespace is deprecated.\n",
      "  data = inter.rotate(arr, angle, reshape=False, order=0)\n"
     ]
    },
    {
     "name": "stdout",
     "output_type": "stream",
     "text": [
      "1/1 [==============================] - 0s 27ms/step\n",
      "1/1 [==============================] - 0s 26ms/step\n"
     ]
    },
    {
     "name": "stderr",
     "output_type": "stream",
     "text": [
      "C:\\Users\\Mostafa\\AppData\\Local\\Temp\\ipykernel_3560\\3936572966.py:44: DeprecationWarning: Please use `rotate` from the `scipy.ndimage` namespace, the `scipy.ndimage.interpolation` namespace is deprecated.\n",
      "  data = inter.rotate(bin_img, best_angle, reshape=False, order=0)\n"
     ]
    },
    {
     "name": "stdout",
     "output_type": "stream",
     "text": [
      "1/1 [==============================] - 0s 34ms/step\n",
      "1/1 [==============================] - 0s 27ms/step\n",
      "1/1 [==============================] - 0s 26ms/step\n",
      "1/1 [==============================] - 0s 27ms/step\n",
      "1/1 [==============================] - 0s 28ms/step\n",
      "1/1 [==============================] - 0s 28ms/step\n",
      "1/1 [==============================] - 0s 28ms/step\n",
      "1/1 [==============================] - 0s 26ms/step\n",
      "1/1 [==============================] - 0s 45ms/step\n",
      "1/1 [==============================] - 0s 46ms/step\n",
      "1/1 [==============================] - 0s 41ms/step\n",
      "1/1 [==============================] - 0s 27ms/step\n",
      "1/1 [==============================] - 0s 27ms/step\n",
      "1/1 [==============================] - 0s 28ms/step\n",
      "1/1 [==============================] - 0s 28ms/step\n",
      "1/1 [==============================] - 0s 27ms/step\n",
      "1/1 [==============================] - 0s 30ms/step\n",
      "1/1 [==============================] - 0s 27ms/step\n",
      "1/1 [==============================] - 0s 27ms/step\n",
      "1/1 [==============================] - 0s 25ms/step\n",
      "1/1 [==============================] - 0s 31ms/step\n",
      "1/1 [==============================] - 0s 30ms/step\n",
      "1/1 [==============================] - 0s 29ms/step\n",
      "1/1 [==============================] - 0s 29ms/step\n",
      "1/1 [==============================] - 0s 27ms/step\n",
      "1/1 [==============================] - 0s 30ms/step\n",
      "1/1 [==============================] - 0s 29ms/step\n",
      "1/1 [==============================] - 0s 28ms/step\n",
      "1/1 [==============================] - 0s 30ms/step\n",
      "1/1 [==============================] - 0s 28ms/step\n",
      "1/1 [==============================] - 0s 30ms/step\n",
      "1/1 [==============================] - 0s 28ms/step\n",
      "1/1 [==============================] - 0s 25ms/step\n",
      "1/1 [==============================] - 0s 28ms/step\n",
      "1/1 [==============================] - 0s 27ms/step\n",
      "1/1 [==============================] - 0s 30ms/step\n",
      "1/1 [==============================] - 0s 29ms/step\n",
      "1/1 [==============================] - 0s 30ms/step\n",
      "1/1 [==============================] - 0s 27ms/step\n",
      "1/1 [==============================] - 0s 32ms/step\n",
      "1/1 [==============================] - 0s 28ms/step\n",
      "1/1 [==============================] - 0s 29ms/step\n",
      "1/1 [==============================] - 0s 28ms/step\n",
      "1/1 [==============================] - 0s 29ms/step\n",
      "1/1 [==============================] - 0s 28ms/step\n",
      "1/1 [==============================] - 0s 36ms/step\n",
      "1/1 [==============================] - 0s 27ms/step\n",
      "1/1 [==============================] - 0s 27ms/step\n",
      "1/1 [==============================] - 0s 27ms/step\n",
      "1/1 [==============================] - 0s 26ms/step\n",
      "1/1 [==============================] - 0s 26ms/step\n",
      "1/1 [==============================] - 0s 30ms/step\n",
      "1/1 [==============================] - 0s 26ms/step\n",
      "1/1 [==============================] - 0s 26ms/step\n",
      "1/1 [==============================] - 0s 28ms/step\n",
      "1/1 [==============================] - 0s 28ms/step\n",
      "1/1 [==============================] - 0s 28ms/step\n",
      "1/1 [==============================] - 0s 29ms/step\n",
      "1/1 [==============================] - 0s 30ms/step\n",
      "1/1 [==============================] - 0s 27ms/step\n",
      "1/1 [==============================] - 0s 27ms/step\n",
      "1/1 [==============================] - 0s 26ms/step\n",
      "1/1 [==============================] - 0s 25ms/step\n",
      "1/1 [==============================] - 0s 28ms/step\n",
      "1/1 [==============================] - 0s 25ms/step\n",
      "1/1 [==============================] - 0s 26ms/step\n",
      "1/1 [==============================] - 0s 25ms/step\n",
      "1/1 [==============================] - 0s 26ms/step\n",
      "1/1 [==============================] - 0s 27ms/step\n",
      "1/1 [==============================] - 0s 27ms/step\n",
      "1/1 [==============================] - 0s 27ms/step\n",
      "1/1 [==============================] - 0s 26ms/step\n",
      "1/1 [==============================] - 0s 26ms/step\n",
      "1/1 [==============================] - 0s 30ms/step\n",
      "1/1 [==============================] - 0s 26ms/step\n",
      "1/1 [==============================] - 0s 27ms/step\n",
      "1/1 [==============================] - 0s 26ms/step\n",
      "1/1 [==============================] - 0s 26ms/step\n",
      "1/1 [==============================] - 0s 25ms/step\n",
      "1/1 [==============================] - 0s 25ms/step\n",
      "1/1 [==============================] - 0s 26ms/step\n",
      "1/1 [==============================] - 0s 29ms/step\n",
      "1/1 [==============================] - 0s 27ms/step\n",
      "1/1 [==============================] - 0s 26ms/step\n",
      "1/1 [==============================] - 0s 32ms/step\n",
      "1/1 [==============================] - 0s 28ms/step\n",
      "1/1 [==============================] - 0s 27ms/step\n",
      "1/1 [==============================] - 0s 32ms/step\n",
      "1/1 [==============================] - 0s 26ms/step\n",
      "1/1 [==============================] - 0s 26ms/step\n",
      "1/1 [==============================] - 0s 26ms/step\n",
      "1/1 [==============================] - 0s 31ms/step\n",
      "1/1 [==============================] - 0s 26ms/step\n",
      "1/1 [==============================] - 0s 25ms/step\n",
      "1/1 [==============================] - 0s 25ms/step\n",
      "1/1 [==============================] - 0s 32ms/step\n",
      "1/1 [==============================] - 0s 39ms/step\n",
      "1/1 [==============================] - 0s 32ms/step\n",
      "1/1 [==============================] - 0s 32ms/step\n",
      "1/1 [==============================] - 0s 30ms/step\n",
      "1/1 [==============================] - 0s 31ms/step\n",
      "1/1 [==============================] - 0s 31ms/step\n",
      "1/1 [==============================] - 0s 30ms/step\n",
      "1/1 [==============================] - 0s 26ms/step\n",
      "1/1 [==============================] - 0s 25ms/step\n"
     ]
    }
   ],
   "source": [
    "t5=OCR_alex(img5)"
   ]
  },
  {
   "cell_type": "code",
   "execution_count": 28,
   "id": "bed68ebf",
   "metadata": {},
   "outputs": [
    {
     "name": "stdout",
     "output_type": "stream",
     "text": [
      "رﯾﯾب داﻧثﮔاه ﺻﻧﻗق ﻗوﭼان ﺑا ﯾﯾان اﯾﻧﮐﻪ اﻳن ﻓﯾﻟم ﮐقﺗاه ﯾراوی ﺣﻐور در ﭼﻬارﻣﯾز3 روﯾداد ﺑﯾناﻟﻫﻟﻟش ﻓﯾﻟم ﮐوﺗاه ﻗﻧﺻقﯾر دﻫمه آﻣادهﺷده اﺳت\n"
     ]
    }
   ],
   "source": [
    "result_string = ''.join(t5)\n",
    "print(result_string)"
   ]
  },
  {
   "cell_type": "code",
   "execution_count": null,
   "id": "f2200f4b",
   "metadata": {},
   "outputs": [],
   "source": [
    "رﯾﯾس داﻧﺷﮔاه ﺣﻧﻗم ﻗوﭼان ﺑا ﺑﯾان اﯾﻧﮐﻪ اﯾن ﻓﯾﻟم ﮐوﺗاه ﺑراوی ﺣﻓهر در ﭼﻬارﺑﯾنی روﯾداد ﺑﯾناﻟﻣﻟدی ﻓﯾﻟم ﮐوﺗاه دﻧﺻوﯾر دﻫمه آﻣادهﺷده اﺑت"
   ]
  },
  {
   "cell_type": "code",
   "execution_count": null,
   "id": "066ff93d",
   "metadata": {},
   "outputs": [],
   "source": []
  },
  {
   "cell_type": "code",
   "execution_count": 2,
   "id": "ae0cbdef",
   "metadata": {},
   "outputs": [
    {
     "name": "stdout",
     "output_type": "stream",
     "text": [
      "['المسلمین', 'رویه\\u200cهای', 'زیست', 'چپ', 'سما', 'بقلی', 'بزنند', 'آزمندی', 'امیری', 'مثال', 'پیکره\\u200cی', 'نقلی', 'چندان', 'فرگوسن', 'نتوانستند', 'به\\u200cوسیله\\u200cی', 'چون', 'روی\\u200cهای', 'عراق', 'خاتمی', 'ساقط', 'پادشاه', 'درگیری', 'رویداد', 'عرف', 'مدظله\\u200cالعالی', 'اویونجاغی', 'قبادی', 'می\\u200cخورند', 'موسیقی', 'نگهبان', 'حاکمیتی', 'دچار', 'کنتور', 'شرعی', 'سوءق', 'نیوز', 'گیرنده', 'وجد', 'گامیابانه', 'ارس', 'کربنات', 'آقامحمدی', 'تشریع', 'ایانین', 'مهاجران', 'تقوا', 'ایرانی\\u200cهای', 'جنین', 'چالشیء', 'مهرانه', 'نزدیکان', 'مسئله', 'فیلمهخاک', 'التنفل', 'قصه', 'آموزه\\u200cها', 'فرامرز', 'پرمعنا', 'اعمال', 'لنده', 'التفاوت', 'راینولوژی', 'اسحاق', 'آوردند', 'قورباغه', 'مولفه\\u200cهای', 'تردد', 'دفعه', 'برنامه\\u200cای', 'سقط', 'مطلوبی', 'نواحی', 'شئونات', 'نشه', 'خانم', 'شهرضا', 'چشم\\u200cپوشیء', 'بودیم', 'نیات', 'قانونگذار', 'بهت', 'سربازخانه', 'جماران', 'دیابتی', 'کورکوراه', 'خیالی', 'معرفی', 'تروریست\\u200cها', 'کاویان', 'همگان', 'دوره\\u200cها', 'امروز', 'اروپا', 'سرکوب', 'رینگ\\u200cهای', 'پذیرش', 'باره\\u200cی', 'اوراق', 'الادله', 'ویزای', 'صفوهالله', 'بیرونم', 'دختر', 'مجهز', 'حسینیه\\u200cها', 'مخالفتم', 'ایر', 'رابکاهدو', 'برگزاری', 'کهک', 'المشتکی', 'کشت', 'خش', 'می\\u200cشودت', 'نامه\\u200cهای', 'توهینی', 'جواند', 'نمی\\u200cنوشتنی', 'صدیقیان', 'سوءول', 'نظرشان', 'مغذی', 'شنوایی', 'نعیمی', 'بادلطفت', 'ضجه', 'ناشایستی', 'شایسته', 'وآتی', 'جلسات', 'شک', 'بسم', 'مشهد', 'افتخاری', 'اورهای', 'وحشتی', 'زینماها', 'فقاهت', 'مرکزپایان', 'واحدهای', 'آرت', 'زیارتی', 'روده\\u200cای', 'سؤال', 'کامی', 'بودیاف', 'بکنید', 'تسبیحاتی', 'لشکر', 'اداره', 'ندوختن', 'بیاندیشد', 'بارزانی', 'درست', 'وارد', 'یافته\\u200cاند', 'قلابی', 'مثل\\u200cنان', 'مجاهدت', 'دانشجویانشان', 'سلطنتی', 'افتضاحات', 'بابودانی', 'ارواح', 'رشتخوار', 'وام\\u200cها', 'فرسنگ\\u200cها', 'سایت\\u200cها', 'ظرفت', 'خجسته', 'لذا', 'اجتماع', 'فاطمه', 'سایان', 'خوابیدن', 'هنگ', 'آسمان', 'روحانیت', 'مقاومت', 'ژئوپلتیک', 'دلیران', 'تأثیرات', 'بزرگ\\u200cترین', 'سلطه\\u200cگری', 'وبلاگ\\u200cهای', 'دلائلی', 'اهتمام', 'شاگردان', 'زدایی', 'سیدالشهدا', 'قبل', 'ذنب', 'به\\u200cعلت', 'متانت', 'اینجا', 'قطار', 'القطعیه', 'ابتکاری', 'موضع\\u200cها', 'قول', 'هفده', 'کنا', 'سهروکی', 'روحیه\\u200cای', 'نویسی\\u200cهای', 'راهام', 'فروکاستنی', 'بندی\\u200cهای', 'کاراییب', 'پذیرفته', 'ناگهانی\\u200cها', 'چکیده', 'قرارگاه', 'مناجاتی', 'منظوم', 'دوان', 'تندیسی', 'شیءرین', 'کارزار', 'ابطال', 'اینفوگرافیک', 'لاکچری', 'خاور', 'السلم', 'سپاهی', 'ننموده', 'آتی', 'دانلودستان', 'التحریر', 'خانوارش', 'کالری\\u200cهای', 'حضرتعالی', 'مکن', 'تابستان', 'کوشش', 'روزنامه', 'شناختن', 'موضع\\u200cگیری', 'امامشان', 'موتلفه', 'تیتراژ', 'کامیون', 'شیءردل', 'چهار', 'خالدین', 'خبهرهایی', 'کوچی', 'مدال', 'الگوریتم\\u200cها', 'پاکیزه\\u200cاش', 'فرمانداری', 'ستیز', 'آلایندگی', 'تفسیر', 'فقیرشان', 'بدهیم', 'سوءری', 'شدگان', 'ابوذر', 'مجموعه\\u200cها', 'مختارپور', 'آیین', 'زمینه\\u200cهای', 'ایلیا', 'لاغر', 'قابلیت\\u200cهای', 'بادبادکها', 'بخوانند', 'بنویسیم', 'اسلامی', 'تحت', 'منطقی', 'آنفلوانزا', 'اوزانی', 'رمضانی', 'خرج', 'الحکم', 'رسان', 'چراافتادن', 'کشهری', 'صادارات', 'نفرت', 'بریدگی', 'مخاطب', 'بومی', 'قوایی', 'زرق', 'همه', 'گونه\\u200cها', 'پروسه\\u200cهای', 'مادرم', 'استون', 'اقدام', 'وردپرس', 'گذرانده', 'خدری', 'کرده\\u200cایم', 'دموکرات\\u200cها', 'چشمانی', 'فاسوءی', 'برایزی', 'دبیرخاله', 'خلأف', 'جدیت', 'دارین', 'مجاور', 'عزا', 'احب', 'دلیجان', 'کارگروه', 'نمادهای', 'قشقایی', 'می\\u200cنمایند', 'آسفالته', 'آیین\\u200cنامه\\u200cی', 'تربتی', 'ساختند', 'حشمت', 'امری', 'انگالی', 'معبر', 'هم\\u200cچنان', 'حتی', 'گزارشات', 'امضای', 'مدیریت\\u200cشان', 'بدجوری', 'پرستیدن', 'گناهانشان', 'محالف', 'زمین\\u200cخواری', 'بالذل', 'دایه', 'رزمی\\u200cکاران', 'محرومند', 'رزمندگان', 'محدوده', 'قرن', 'نتیجه', 'محدودیت', 'مقرر', 'گوشت\\u200cی', 'اسب\\u200cهای', 'هنرهای', 'مهاجرتی', 'الفت', 'لزوما', 'ماهواره\\u200cها', 'شارلاستانیزم', 'اختلاس', 'زندانبانان', 'یابد', 'طلاقه', 'داورخانه\\u200cها', 'ذیل', 'ناخدای', 'مگویان', 'این', 'نتوانست', 'کنارگذرده', 'ماذا', 'قم', 'کوسه\\u200cها', 'ممات', 'روزایی', 'مشمول', 'العظمی', 'سخته', 'باذن', 'زاییده', 'مکتوب', 'یکباره', 'برنامه\\u200cها', 'فشهر', 'وانتم', 'برازجانی', 'افروز', 'مونیخ', 'اعرضوا', 'خرما', 'باقر', 'ی', 'پهپادها', 'تندخویی', 'سرطان\\u200cهای', 'نامرئی', 'مولانا', 'بین\\u200cالمجالس', 'رفسنجان', 'عماد', 'امارات', 'پریز', 'می\\u200cذهند', 'اجیبت', 'فرآیندهای', 'فرقه\\u200cای', 'جملات', 'فرآوروده\\u200cهای', 'فرصت\\u200cها', 'غضنفر', 'ناآشنایی', 'بتواند', 'مالی\\u200cاش', 'عدل', 'القاب', 'احتجاج', 'سنگلاخ\\u200cها', 'شهیدی', 'توسط', 'وقته', 'آورند', 'العذاب', 'باره', 'هنرپیشه\\u200cهای', 'دوندگی', 'رسوءایی', 'کلامش', 'تیکت', 'تاریکی', 'اشتیاق', 'ارسطو', 'معمای', 'فشاری', 'گیری\\u200cهای', 'عمل\\u200cمان', 'نمایشگاه\\u200cهایی', 'کارتابل', 'ناخوش', 'دهم', 'ناشایست', 'حمایتمو', 'می\\u200cبینی', 'صورتی', 'دفن', 'ویروس', 'گزارشش', 'منشیء', 'بروز', 'شمردم', 'شهریاریعروجهیات', 'باب', 'مس', 'ورودی', 'سرپا', 'باشیء', 'هوا', 'مجلات', 'می\\u200cکننددرزمینه', 'سریعتر', 'گروگانگیری', 'واجبات', 'تا', 'واردکننده', 'سوءخت\\u200cرسان', 'نکاستنی', 'سازه\\u200cهای', 'رض', 'درز', 'پرفروش', 'امکاناتی', 'انتخابان', 'عبده', 'جابز', 'شنبها', 'اعدادن', 'پایبلندی', 'بلامنازع', 'کیفر', 'فرهنگیان', 'بشریت', 'میاد', 'تربیت', 'استروییدی', 'فلزی', 'غفلت', 'ناجا', 'کبیر', 'گل', 'نمی\\u200cاندیشیءد', 'وجهی', 'تروییکای', 'قمی', 'گستاخانه', 'اظهارنظرهای', 'پاکستانی', 'کلمبیا', 'کاربردهای', 'مشورتی', 'فاقد', 'تخلف', 'مردم\\u200cسالاری', 'نانوذراتی', 'زیبای', 'سرخیو', 'عجیبی', 'به\\u200cدستاورده', 'صادراتمام', 'آیامش', 'مواردی', 'شخصیتی', 'الزهرا', 'چرب', 'خدیو', 'الیاقلی', 'می\\u200cخرنواد', 'کارتل\\u200cهای', 'ناخالصی\\u200cها', 'رعیت', 'المالکی', 'تونی', 'عثمان', 'نامید', 'غلامحسین', 'رساند', 'لیانا', 'مخروبه', 'بهطی', 'حداد', 'ماه', 'می\\u200cپردازیم', 'محاصره', 'ژیودکاموند', 'هوادارانی', 'ارزان', 'ژانویه', 'ملوانانی', 'ناخوشایند', 'ترافیک', 'سکان', 'اصفهانی', 'حرم\\u200cهای', 'پرستش', 'پرسمان', 'دوره\\u200cهای', 'خطیب', 'سؤال\\u200cهای', 'الخلقه', 'کاتالونیا', 'کلانهری', 'آفلاین', 'شیءم', 'سرشکن', 'فرزندانش', 'وبنداس', 'آیان', 'رسیدن', 'محوادث', 'قلمه', 'حالق', 'زهی', 'میقات', 'درد', 'فرجا', 'الصادقین', 'جعفر', 'می\\u200cتعدادد', 'دارند', 'پاهای', 'کنین', 'مجمع', 'یامرک', 'گو', 'زیان', 'معامله\\u200cگران', 'رودافشان', 'اوزه', 'راهیان', 'پلت', 'موسوءیان', 'احسان', 'دیدکانم', 'غزل', 'شائبه\\u200cهای', 'عهده\\u200c', 'سرمربی', 'مبینی', 'قیأس', 'مستمند', 'امید', 'خط\\u200cمشیء', 'مسئولین', 'زاده', 'خودمان', 'جنایی', 'ساج', 'اقساطی', 'چک', 'هماهنگ', 'آکادمی', 'فریبنده', 'مجله\\u200cای', 'محصور', 'ثریا', 'الحمدلله', 'حله', 'یکره', 'ساختگی', 'نمی\\u200cکند', 'عادله', 'امیرالمومنین', 'مورود', 'حسینی', 'کشاند', 'سکند', 'تناسب', 'ویرایش', 'چریک', 'مسلمانان', 'نمایند', 'سبزی', 'پسامتیخ', 'صعودهای', 'گریزی', 'ثبات', 'سفره', 'مرق', 'یالوگومیخواین', 'لطول', 'اپراتورهای', 'بودجه\\u200cای', 'آثاری', 'استراتژی', 'لامتیک', 'آپ\\u200cها', 'موسیقایی', 'وین', 'فنایی', 'تکنولوژی\\u200cهایی', 'پوپولیستی', 'اینقدر', 'علی', 'پرتماشاگر', 'جامعی', 'عملی', 'مخالفانش', 'سلامتی', 'کمبود', 'کیانی', 'بازه', 'کرونا', 'زاد', 'گزارشیء', 'امدادرسان', 'توله', 'نمکزار', 'مقلد', 'مراعات', 'پاسخگویی', 'ضجیج', 'ویژگی', 'خودآن', 'بازویی', 'گمنام', 'منذر', 'الذلیل', 'هجمه\\u200cها', 'برگیرد', 'می\\u200cگردیم', 'روندهای', 'خداوندا', 'الگوجامعه', 'جنسیتی', 'تعارف', 'فکاری', 'موصل', 'طبقاتی', 'پرسنلی', 'منوط', 'زیارت', 'استقصا', 'کاغذی', 'خودشون', 'شبه\\u200cسازی', 'الکلم', 'السبیل', 'تمنا', 'جزئیات', 'زمین\\u200cاند', 'اتفاقات', 'صنف', 'کنسرت\\u200cها', 'خودپرداز', 'بین\\u200cبردن', 'آخرت', 'پیشنهادهای', 'گرفصنعتکاران', 'تلفاتی', 'حایری', 'اعسار', 'خاکستری', 'نویسنده', 'غلط', 'گذرا', 'برداری', 'وار', 'واکنش', 'ملزومات', 'اتفاقاتی', 'فریاد', 'سخن', 'تخفیف\\u200cهای', 'الموقف', 'برگزیده', 'قوا', 'دونیا', 'نام\\u200cهای', 'پیل', 'تحقیق', 'به\\u200cخصوص', 'سیأست\\u200cهای', 'راجی', 'اسفار', 'رفیع', 'مره', 'اردورهای', 'پیشگیرانه', 'شهرک', 'عمده\\u200cای', 'پنجره\\u200cای', 'آبودهنی', 'سجاده', 'می\\u200cبای', 'وحدت\\u200cبخش', 'خورأسگان', 'مجموعه\\u200cاش', 'تریم', 'جرم\\u200cها', 'تانزانیا', 'گرگان', 'دیپلماسی', 'راهنماها', 'تهامی\\u200cنژاد', 'بیر', 'آسمون', 'زهرا', 'مراحل', 'خلأ', 'تلاشیء', 'گزاره', 'جای', 'عجایب', 'تصوری', 'علیه\\u200cالسلام', 'نمی\\u200cبینیم', 'واقعیت', 'مو', 'معارضان', 'محکمی', 'تحقق', 'گروهان', 'اله', 'مولای', 'متدولوژی', 'نشان', 'بهرام', 'معتمدان', 'تحصیلات', 'ابیطالب', 'مکان\\u200cهای', 'جده\\u200cام', 'نام\\u200cگذاری', 'کنعانی', 'بپردازد', 'دانش\\u200cبنیان', 'نهادهای', 'شرهان', 'مونو', 'مجزا', 'قراردادهای', 'عبدالمجید', 'خواب', 'مشتریانش', 'ایده\\u200cها', 'می\\u200cدیدند', 'ساختارهای', 'کبیره', 'بلیت', 'غضنفری', 'مدرسه', 'تنظیم', 'تابعیت', 'البطاطس', 'اندک', 'رفتارهای', 'نبودم', 'نه\\u200cتنها', 'نخبگان', 'صفات', 'گستره\\u200cای', 'ملودی\\u200cها', 'رشته\\u200cهای', 'مدولاسیون', 'مهیب', 'خوشوقتی', 'بقایی', 'فرخنده', 'عمد', 'می\\u200cگرفت', 'استقامتی', 'کلام', 'غزه', 'عباسقلی', 'ولنگاری', 'هماهنگی\\u200cها', 'ناکاستنی', 'گرفتاری', 'ندهندمن', 'کولاک', 'مستواجب', 'توجیه', 'تفسیهای', 'کریمانه', 'تابی\\u200cها', 'المهوس', 'حضورشان', 'پایانه', 'نقدپذیر', 'بدید', 'لامتالبومین', 'شیءون', 'ابنااول', 'الفوز', 'شامپو', 'تهدیدهای', 'موافقان', 'نیروگاهی', 'اساتیدی', 'نیشابوری', 'صداگذار', 'آووکادو', 'بی\\u200cترحم', 'مواشیء', 'بیانیه\\u200cایی', 'همینطور', 'بانگیز', 'نشهردارد', 'نمی\\u200cدیدند', 'نمی\\u200cکنم', 'زنجیرزنی\\u200cها', 'کیأست', 'اسکاول', 'اکتشافات', 'مسلم', 'مقدسات', 'خیاط', 'به\\u200cروشور', 'خلف', 'برگرده', 'بیم', 'گاهی', 'گذراندم', 'روزیکصدبارصلوات', 'ادامه', 'روس\\u200cها', 'کلاسی', 'می\\u200cکردمد', 'شهبازی', 'اسلمی', 'انسانی', 'خان', 'ریگی', 'معانی', 'فراماسوءنری', 'تعیین', 'مشورت', 'کوین', 'تقی', 'زبانگذارش', 'سلیمانیان', 'مسیل', 'ببالید', 'تفاوت', 'می\\u200cزند', 'مرور', 'نمونه\\u200cهایی', 'حوا', 'سازمان\\u200cها', 'احتراق', 'خنده', 'پرفروغ', 'آموزش\\u200cوپرورش', 'درشته\\u200cهای', 'صادقی', 'انک', 'بی\\u200cکیفیتی', 'دانشکده\\u200cهای', 'یکی\\u200cیکی', 'حسن', 'لاغری', 'جاروی', 'اعدا', 'مرداک', 'پسرانه', 'میدانی', 'رضاعی', 'داشتهد', 'ظالم', 'قبلک', 'منهجهم', 'حرارتی', 'فیبر', 'آزموده', 'تعهداتم', 'دسیسه\\u200cهای', 'واقع\\u200cگرایی', 'خطری', 'اینک', 'باروت', 'موکول', 'بگذر', 'هماهنگی', 'اصولگرأیان', 'کیمی', 'رفعت', 'ارتفاع', 'مناعت', 'دارالقرآن', 'صدرا', 'دسترس', 'عزیز', 'آلفا', 'سرشناس', 'شهرت', 'می\\u200cگیردند', 'ترکیه\\u200cای', 'شمر', 'کوتاژ', 'اعداد', 'کوییروش', 'وضعیتیش', 'فعالیتی', 'سه', 'محصول', 'بندهای', 'رقم', 'ای\\u200cترین', 'وحشیء', 'زک', 'عبدا', 'داربست', 'مصلحی', 'تضاد', 'اکثر', 'پخت', 'تسوءیه', 'رهنم', 'عظام', 'صف\\u200cهای', 'پشتت', 'صیاد', 'ترجیحی', 'جلگیری', 'مفسران', 'بدبختی', 'اتحادی', 'سرویس\\u200cهای', 'جامعه\\u200cاش', 'فه\\u200cهای', 'پایه', 'اشغالی', 'تب', 'حیدری', 'ربار', 'نیت', 'تراجنسی\\u200cها', 'فضای', 'اللاحم', 'رفیت\\u200cهای', 'عیش', 'ابریشمی', 'استدلال', 'ابوریحان', 'سازماندهی', 'متفکران', 'جوسازی\\u200cهای', 'افراط', 'انتخاب\\u200cهای', 'می\\u200cسوءم', 'احیاه', 'حریت', 'بکا', 'رفته\\u200cاند', 'گلوله', 'مستهلک', 'منهای', 'نخواسته', 'گیری', 'زندگیتان', 'خانوادگی\\u200cشان', 'باغ', 'مفیدی', 'خلخال', 'عاشقی', 'بهشتی\\u200cپور', 'سیک', 'برخورداری', 'رشیءدی', 'صوفیا', 'سترون', 'پاتک\\u200cهای', 'ریحانه', 'علوفه', 'برنج', 'امیه', 'شهابی', 'امنیستی', 'بنای', 'افزودند', 'هفتمی', 'برنامه\\u200cریزی\\u200cهای', 'فرهنگستان', 'رهگذر', 'کبابی', 'ابوالفضل', 'آگهی', 'محبوسن', 'متعهدها', 'عراقی\\u200cها', 'محضر', 'سرپرستی', 'پرتیراژ', 'پردازان', 'بره\\u200cای', 'ملاک', 'مالیاتی\\u200cاش', 'سنت\\u200cهای', 'جواد', 'شجریان', 'می\\u200cفرماید', 'فتنه', 'المهن', 'کرده\\u200cاید', 'رسا', 'انتخابه', 'دایرکتوری', 'بجنورد', 'درهای', 'روح', 'گلویی', 'وفادارشان', 'آوری', 'بلیط', 'کرک', 'خالدار', 'رساله\\u200cهای', 'زنجیره\\u200cهای', 'سری', 'ویرانگر', 'بنه', 'هزینشم', 'می\\u200cشناختند', 'مینویسند', 'چشمات', 'حرفهی', 'رأستا', 'ابزارآلات', 'نمایی\\u200cهای', 'موازات', 'تسوء', 'مخزن', 'قدری', 'الجملتین', 'گلوی', 'انشا', 'نیازک\\u200cتر', 'ناشیء', 'فلسطینی', 'ملارد', 'رابطه\\u200cاش', 'ظاهرا', 'گروگان\\u200cهای', 'پیشتاز', 'وجدان', 'ثروتی', 'تعادل', 'خشکسالی', 'لینوکس', 'نامزدها', 'عسیر', 'قرمزی', 'برازنده', 'خاکریز', 'قبول', 'محسنین', 'ناطق\\u200cنوری', 'احمد', 'رؤیتای', 'سرگیجه', 'نبوی', 'امتداد', 'بیابانکی', 'رمالان', 'جعفریان', 'تسلیما', 'بهاروند', 'دموکرأسی', 'مجالس', 'کلانهرها', 'بورکینافاسوءیی', 'مقتضی', 'اندیشیء', 'فرزندش', 'مشروب', 'دف', 'سوءسوءنو', 'متفکر', 'ولد', 'علیهما', 'فریور', 'بچه\\u200cهایی', 'بوعلی', 'داردت', 'منصورنجفی', 'نیک\\u200cنفس', 'هبط', 'شهیدم', 'خصوصا', 'ثبت', 'وایمکس', 'خشک\\u200cشدن', 'حاشیءه\\u200cای', 'سنجش', 'عمیلات', 'موقعیت', 'آیه\\u200cالکرسی', 'فباهنر', 'سینمایید', 'واقعیات', 'پستی', 'منویات', 'توانی', 'کلاسیک', 'بیماری\\u200cهای', 'پروتکل', 'نوجوانیمان', 'هایپرآلجیسیأست\\u200cهای', 'گوشت\\u200cای', 'دارندد', 'عبدالمالک', 'باشگاه\\u200cها', 'به\\u200cگونه\\u200cای\\u200cکه', 'غیرحضور', 'خارش', 'رسیده\\u200cایم', 'کوشندگان', 'رویه', 'ضهند', 'وابسته\\u200cاند', 'انتقال', 'پرده\\u200cی', 'آوازک', 'خواندنی', 'جایگزینی', 'خاکی', 'اندر', 'حمل', 'غسل', 'بادمجان', 'بارش\\u200cهای', 'اجتماعی', 'می\\u200cکنم', 'کوه\\u200cهای', 'کوچه', 'مفصلی', 'عموم', 'عید', 'می\\u200cایستاد', 'شبانه\\u200c', 'نکات', 'بحمدک', 'میانسال', 'اعتقاداتون', 'الگوریتم', 'تأمل\\u200cبرانگیز', 'نبی', 'خودکشیء', 'عنایت', 'آشپز', 'آزمایشگاه\\u200cها', 'همدردی', 'پا', 'جناح', 'پیشبرد', 'مزایای', 'لهو', 'معاونان', 'مبعث', 'السوءمریه', 'استیضاح', 'اندام', 'هر', 'نمایان', 'احمدعلی', 'غربی', 'البریدی', 'علیک', 'همخوانی', 'اسلامی\\u200cراد', 'جنگلی', 'حاج', 'آگاهی', 'صافیه', 'توپخانه\\u200cهای', 'کوچه\\u200cهای', 'مکزیکی', 'سیب\\u200cزمینی', 'تجزیه\\u200cطلبی', 'حاج\\u200cآقا', 'بسته\\u200cتر', 'اخطار', 'قلدر', 'باکس', 'آپارات', 'بسر', 'افغان', 'پرونده', 'گوجه', 'تمرین', 'یعلمون', 'مربیان', 'محبوبشان', 'دروازه', 'فشارها', 'شون', 'تقوایی', 'تروریست', 'تعالیهمسایه', 'مرسل', 'چه\\u200cکسی', 'خدمتگذاری', 'پروازایش', 'رادارها', 'بچه\\u200cها', 'مسوءلین', 'ایتالیا', 'افرون', 'برخاستن', 'نقده', 'روان\\u200cسازی', 'استعداد', 'هیچ\\u200cگونه', 'طوپقاپی', 'اشیءایی', 'اصابت', 'شباهت', 'سزمان\\u200cها', 'شوراها', 'نیشابور', 'اعضا', 'گیدوب', 'اصول', 'متجاوزان', 'برسانند', 'اوباش', 'مسلحپذیرفتندصمیمانه', 'خونید', 'کلافه', 'اوضاع', 'سرمستی', 'معاندین', 'یغشیء', 'پایداری', 'سازی', 'خرقان', 'فرمایند', 'اتحادیه\\u200cهای', 'قانونمندی', 'شهداد', 'پیدایش', 'املام', 'جدیترین', 'قزل', 'عبد', 'خورد', 'گزینه\\u200cهای', 'فطرت', 'لحظه\\u200cای', 'ارائه\\u200cی', 'بزرگداشت', 'سمتدری', 'پرشکوه', 'سرپیچی', 'مواجه\\u200cشدن', 'نخستین', 'حلوا', 'رضای', 'سوءاد', 'علمیه', 'راه\\u200cحل', 'وتمتعه', 'متناسب', 'درشته\\u200cهایی', 'معاصر', 'شبه', 'نفوذهای', 'لوبیا', 'ایستادند', 'مشکل', 'پاشد', 'تخیلات', 'انبوه\\u200cسازان', 'کامبوزیا', 'می\\u200cکشیءده', 'هم', 'میرشفیعان', 'ناگزیر', 'خودکار', 'جون', 'تسر', 'سیأست\\u200cورزی', 'موسوءم', 'مهاجرت\\u200cهای', 'گشته', 'عنا', 'پارک\\u200cهای', 'غافل', 'عنک', 'دشت', 'کتابستان', 'صحی', 'پدستال', 'دکه', 'نظرگیری', 'امثال', 'همشایر', 'مجاز', 'معاونت', 'مزاحمت', 'الشتوی', 'سرباز', 'گردونه', 'پرسوءد', 'واحدها', 'پیروز', 'اسکوچیچ', 'کلنگ', 'گردوه', 'غذاهایی', 'نمی\\u200cآورد', 'قالب\\u200cهای', 'میگذره', 'بودند', 'کردستانی', 'دمای', 'دحالت', 'وانقطع', 'ماجرای', 'رمان\\u200cهای', 'سخنرانی\\u200cهای', 'استقبال', 'بیدگلی', 'تهرانی', 'ماجان', 'مسکونی', 'کارداران', 'حملات', 'پیمانکاری', 'الشمسان', 'فردایی', 'مراکشیء', 'علینا', 'حوزوی', 'نکنید', 'پلوسی', 'تکاپویش', 'تفحص', 'گویژو', 'لختی', 'فوق', 'قبرستان', 'پنجشنبه', 'شمایی', 'امیدواری', 'معاد', 'ارتش\\u200cهای', 'سبکبال\\u200cتر', 'صفر', 'زودتر', 'فریبانه', 'متمایز', 'ناامنی', 'پاکدامنی', 'بانکی', 'عسل', 'دوستدار', 'مهریه\\u200cهای', 'کتیبه\\u200cها', 'بین', 'اعضاست', 'تصادم\\u200cها', 'مخالفت', 'بدنه', 'برفی', 'نجاد', 'لوانته', 'موافق', 'ارنستو', 'خوبیش', 'همچون', 'کاریکاتور', 'ظل', 'موازی', 'الکلی', 'قوچان', 'تعلل', 'دولت\\u200cها', 'دیداری', 'المشرق', 'باتی', 'ذوی', 'بمخالفته', 'خود', 'اشکانی', 'آرادان', 'آنچه', 'مقدم', 'هواداردان', 'اورانیوم', 'توپونیملریمیزده', 'روپرت', 'دادید', 'منحط', 'چلیک', 'حامل', 'ندای', 'دادن', 'بپردازیم', 'ماکارونی', 'صحرا', 'اشعاری', 'هم\\u200cافزایی', 'مهلا', 'زیادینه', 'وهله\\u200cی', 'می\\u200cجهد', 'پیش\\u200cبینی\\u200cهای', 'التزام', 'بدن\\u200cهایمان', 'محتوی', 'هشت', 'رایج', 'گیرد', 'کلینیک', 'وینسنت', 'معماری\\u200cهای', 'مایه\\u200cی', 'اسپوتنیک', 'فرمایید', 'می\\u200cشوی', 'دیپورت', 'نشانی', 'تابیه', 'اردلان', 'طاغوت', 'سقز', 'حکمران', 'قاره\\u200cهای', 'دریچه', 'دبلیوآرسی', 'نوبت\\u200cدهی', 'صفی\\u200cنژاد', 'لبنیات', 'لگن', 'مهیا', 'تکاپویی', 'ترفندها', 'رنک', 'بیگانه', 'سنجی', 'گونه\\u200cای', 'جمله', 'پیچیدگی\\u200cهای', 'دانسته', 'شهدایی', 'گازرسانی', 'دوستانتوس', 'امکان', 'مربعی', 'کرکره', 'کارکنانش', 'اجارود', 'استحکاملت', 'ابراز', 'رصدخانه\\u200cها', 'شهردارند', 'پژوهش', 'ظالمانه', 'هند', 'معابد', 'بگذار', 'لبیک', 'پیکرهای', 'تبارک', 'مدنی', 'ورزشیء', 'تدابیر', 'خسارات', 'اوحدی', 'کلا', 'داوطلب', 'کثیرالانتشار', 'ایمپلنت', 'یوم', 'میفروشن', 'سادگی', 'دادگری', 'یأسر', 'بدهند', 'نیازموده\\u200cاند', 'کارخاله', 'خودگردان', 'انتقالت', 'سفر', 'امدادگران', 'دلال\\u200cها', 'آکادمیک', 'علی\\u200cاکبر', 'کائنات', 'چشمی', 'ارزش\\u200cهای', 'رشیءدالدین', 'تبریزیماههای', 'تتبعات', 'برتری\\u200cها', 'نمایشگاه', 'سؤالاتی', 'مدرسه\\u200cرفتن', 'سیاه', 'بانه', 'پروژه', 'عارف', 'عضو', 'یأسیویبی', 'تکریم', 'الکواکب', 'الفاقدین', 'موانع', 'سعدی', 'مانورهای', 'گیری\\u200cها', 'سلجوقیان', 'عنوان', 'کارگروه\\u200cهای', 'حسنه', 'بی\\u200cشک', 'الحمود', 'اسپانسر', 'باباشیءخعلی', 'گونه\\u200cهای', 'الاعلان', 'اتکال', 'انتم', 'هوشمند', 'تمامیت', 'روحیه', 'سپارند', 'کشورها', 'بوالهری', 'منازعه', 'فرآورده\\u200cهای', 'عموما', 'قاجاریان', 'نانوشته', 'حمایت\\u200cکننده', 'اقتدارش', 'نیر', 'مغازه\\u200cهایی', 'بیرجند', 'الحسیانی', 'ارزشیء', 'تخم', 'وانکشف', 'پیش\\u200cبینی', 'پتانسیل', 'برخی', 'مشاوران', 'قبیله\\u200cای', 'آسان', 'دست\\u200cها', 'خیالات', 'مقطع', 'بودهیی\\u200cها', 'روزه', 'سامرا', 'صمدیان', 'شعبان', 'هاآرتص', 'مبنی', 'مصرفی', 'گرفته', 'فاندامنتال', 'معرض', 'دستگاه\\u200cهای', 'تخصیص', 'گوله', 'سکوت', 'وسیله', 'نامناست', 'ادبی', 'انواع', 'قربانی\\u200cشدن', 'اکوی', 'اصطلاح', 'اویم', 'ادای', 'اعزامی', 'صدیق', 'مسئولیت\\u200cهای', 'یادگیری', 'تجهیز', 'ناقص', 'مبراییم', 'پیروی', 'ستیزنده', 'نوآورانه', 'لامرک', 'نوح', 'جاد\\u200cهای', 'چاد', 'میرباقری', 'فیلمنامه', 'نمایشیء', 'منطقه', 'قلیان', 'نظیرترین', 'رسته\\u200c', 'اجنه', 'ایلینوی', 'اصلی\\u200cترین', 'دامانت', 'عالمی', 'هجرت', 'آمین', 'استرس\\u200cهای', 'ایلام', 'انگاره', 'تعطیلات', 'دفاتر', 'نشدند', 'می\\u200cگویند', 'کمیته\\u200cها', 'خاطرنشان', 'اردوهای', 'حفره\\u200cهای', 'برنده', 'داروهایم', 'استعدادی', 'بندری', 'تلخ\\u200cتر', 'حسنین', 'جوانمرد', 'آزادگی', 'میذاره', 'مشفقانه', 'نورمن', 'می\\u200cپندارد', 'خوشایند', 'قذافی', 'افزوده', 'ایراد', 'سهامداران', 'حروف', 'سرطان', 'طرحی', 'سوءمن', 'تیغ', 'فدایی', 'مستی', 'جوانا', 'متقاضیانی', 'خو', 'شایعاتی', 'فیلسوءفانه', 'کندتابا', 'عزاداری', 'آب\\u200cهای', 'جنگ\\u200cها', 'سردشت', 'کیت', 'تعهد', 'مقام\\u200cهای', 'اعزام', 'خوف', 'ملوان', 'دشمنی', 'یوگا', 'ناچار', 'لامللی', 'پارس\\u200cسوءیچ', 'ینبت', 'زنجان', 'بهاری', 'جنگجو', 'نظارتی', 'کنفدرأسیون', 'می\\u200cافتادم', 'حسابداری', 'الجمعیتین', 'مولد', 'امیدی', 'بایرن', 'خرس', 'پیشگام', 'پزشکی', 'کلیدی', 'جوان\\u200cمی\\u200cدهد', 'وانت', 'سرکرده\\u200cهای', 'لاریجانی\\u200cها', 'حباب', 'دردناک', 'برادری', 'قلبی', 'تنمراحلی', 'صبح', 'دارایی\\u200cها', 'صیانتی', 'شاهان', 'خرافات', 'نمایشگاه\\u200cهای', 'نمکی', 'هتل', 'آثار', 'پاکستان', 'پارچه\\u200cهایی', 'بعدی', 'شیءعی', 'فیرنا', 'نظامیانی', 'واتی', 'قل', 'صدارت', 'فرزندان\\u200cشان', 'نیاکان', 'حضرات', 'الآکباد', 'ورزشگاه', 'می\\u200cدادند', 'غریبه', 'مهم\\u200cترینن', 'درخشنده', 'فرمانداران', 'ربط', 'عبدالعال', 'فرآیند', 'زخمی', 'توهین\\u200cآمیز', 'موضوعی', 'نبتغی', 'اخراجی\\u200cها', 'تخمیر', 'تست\\u200c\\u200cهای', 'به\\u200cتازگی', 'حیدربیگی', 'تمجید', 'گزینه', 'تداوم', 'طایفی', 'هاخالی', 'ناآگاهانه', 'فردی', 'پاسوءر', 'تحول', 'مجتع\\u200cهای', 'نیجریه', 'شراط', 'خواننده\\u200cها', 'لبخندهای', 'همیی', 'ساکت', 'دارید', 'فرمالیاته', 'مهرداد', 'مرفاوی', 'جاهالی', 'حمل\\u200cونقل', 'فرهنگسرای', 'بلماضی', 'کرشمه', 'توجه\\u200cای', 'وارونگی', 'نقطه', 'بنده\\u200cی', 'انضباطی', 'بازسازی', 'واسط', 'پهنه\\u200cهای', 'انسان', 'کلانشهرهای', 'صبا', 'نانسی', 'برگرداندن', 'پله\\u200c\\u200cهای', 'انجمن', 'مهدهای', 'عبدالکریم', 'سرودها', 'کیمیایی', 'الشیءطان', 'می\\u200cدهد', 'مقابله', 'وحدتی', 'فلسطینی\\u200cها', 'اعبرای', 'نوروزی', 'کنش\\u200cهای', 'قدیری', 'فضایل', 'رامیان', 'عشایر', 'خواهرت', 'لوکس', 'انجماد', 'پشتیبانان', 'بیکاری', 'انتخابی', 'بری', 'می\\u200cترساند', 'بندرعباس', 'منتشر', 'غیربرره', 'پرور', 'فرش', 'الهی', 'تحقیقات', 'دوری', 'تکذیب', 'زایی', 'یازده', 'گسترشهی', 'شهیدش', 'باز', 'زینمای', 'دشنام', 'حالا', 'شمای', 'نام', 'فرستادن', 'گشایی', 'ثبت\\u200cنام', 'اعتقادات', 'اردکانی', 'وبلاگراهنمای', 'پرسپکتیو', 'سیسرون', 'مجریه', 'افزودن', 'تکالیف', 'پژوهش\\u200cها', 'غیرمتعارف', 'کوبنده\\u200cاش', 'تویسرکان', 'ایجاد', 'آرمان', 'مینه\\u200cهای', 'طهارت', 'ورود', 'نیمکره', 'آزمایشات', 'خواب\\u200cهای', 'والت', 'تابیشان', 'بیانیه\\u200cایشان', 'عبارت', 'ظفری', 'نزول', 'خلأیق', 'قالیباف', 'پاکت', 'صحبتی', 'بشناسند', 'تخت', 'فعالانر', 'روشنایی', 'السلامی', 'تبوک', 'نصرالله', 'گفته\\u200cهای', 'همانند', 'پارسی', 'اولیاءءیک', 'طی', 'اسناد', 'زینما', 'وثیقه', 'کشته\\u200cهای', 'شکوهی', 'فستیوال', 'کم\\u200cریسک\\u200cتر', 'قرار', 'خون', 'سرمایه\\u200cگذاران', 'پاس\\u200cکاری', 'سطر', 'مهندسی', 'بنی\\u200cاعتماد', 'میزها', 'یک\\u200cباره', 'فنی\\u200cاش', 'شیءرزاد', 'واقع\\u200cبینانه', 'رفت\\u200cوآمد', 'بیسان', 'عشرین', 'تابلوهای', 'سنتر', 'تهمت\\u200cها', 'رسیدگی', 'جنتی', 'نمی\\u200cسازد', 'مرزبان', 'نگاران', 'لولیک', 'قلب', 'بدخواهان', 'معنویات', 'عز', 'آبروی', 'تبلیغات', 'خلیلی', 'پارک\\u200cها', 'حجاب', 'برگزار', 'جلوتر', 'بازشدگی', 'وزارتخانه\\u200cها', 'مأموریت\\u200cهای', 'نمی\\u200cدونید', 'رانندگانی', 'سینماگرانش', 'اوقعهم', 'توسعه', 'بافت\\u200cهای', 'به\\u200cدور', 'ضمانت', 'مبارکا', 'آوینی', 'بازار', 'الباب', 'تیوال', 'پرسنل', 'مرهون', 'قدمای', 'مدیرروستا', 'برجسته\\u200cتر', 'عدالت', 'یافتند', 'عزل', 'رخدادهایی', 'خبهرهای', 'برجام', 'وا\\u200cگذار', 'آوای', 'باغ\\u200cها', 'السیأسه', 'مهین\\u200cترابی', 'مزارع', 'آش', 'تعهداتش', 'خودش', 'بحث\\u200cهای', 'شکستگی', 'زندگی\\u200cام', 'موهای', 'منصب\\u200cهای', 'بلد', 'جملاتی', 'شهر', 'گردن', 'قلرست', 'برخوردهای', 'عمه', 'اعتصامی', 'لاضجن', 'مهیای', 'ادادمه', 'فعالانت', 'واقام', 'مبتذلی', 'گز', 'ایند', 'همنوازی', 'ملزم', 'ممیز', 'اقتصادهای', 'برجستگی\\u200cها', 'عطار', 'بحث', 'حرمت\\u200cها', 'ساختارها', 'قطور', 'رأستی\\u200cهای', 'یارو', 'هزینه\\u200cها', 'نمودن', 'کنم', 'چاره\\u200cای', 'اربعین', 'توصیه\\u200cهای', 'کجاست', 'عملیات', 'رأس', 'فوریه', 'صفحات', 'گدایی', 'رویدادهای', 'رؤیاپردازی', 'قبور', 'سوءختن', 'نپیشد', 'سوءزیانا', 'نظری\\u200cها', 'دلخوری', 'نامزد', 'کرونا\\u200cها', 'تسری', 'برگ', 'کانت', 'جهله', 'احساس', 'المشهدایی', 'آنقدر', 'ارباب', 'مربوط', 'کابینه', 'امجدیان', 'هوبره', 'پرریسک', 'امنایی', 'حداکثر', 'نظافت', 'مسافران', 'عصبانی', 'احمی', 'فردا', 'شطرنج', 'شاخص', 'نهاده\\u200cهای', 'علما', 'کمیل', 'لم', 'بقیه', 'نرسیده', 'الشاوی', 'ایلامی\\u200cها', 'هارت', 'قروچه', 'اظهارات', 'مبه', 'قاطعیت', 'ساحت', 'می\\u200cبرگزار', 'نداشتند', 'گریدون', 'جغرافیایی', 'رجال', 'ترتیاک', 'اعماق', 'هوش', 'امر', 'کراوات', 'میزبانی', 'نویسندگی', 'نجران', 'تمدن', 'کنسوءلگری', 'ایلوسن', 'توانست', 'اصلح', 'دامان', 'سمرقندی', 'خانی', 'جداگانه\\u200cی', 'کارنه', 'نباشیءم', 'فقیران', 'مولا', 'فرازی', 'الشبیهات', 'دورهای', 'اخذ', 'سخنانی', 'کره\\u200cشمالی', 'آدم', 'سبکتر', 'کشمیری', 'مثلث\\u200cشکل', 'کمک', 'مؤمنانی', 'طویلا', 'چهارده', 'لخته', 'مطمئن', 'لاری', 'سرکار', 'قلم', 'صلابت', 'جبهه\\u200cهای', 'پستانداران', 'طراز', 'جلالی', 'ورع', 'تقوم', 'صغیره', 'گفتنی', 'علوی', 'خاکسپاری', 'نقش\\u200cها', 'مشورت\\u200cهای', 'موزه\\u200cهای', 'استوانهای', 'ناک', 'انتظامات', 'نگر', 'باغبانی', 'پیروان', 'تبادل', 'سوءدی', 'رهبران', 'رحمت', 'ریاضیات', 'تیمره', 'اینبار', 'بهداد', 'یزد', 'پدیا', 'دیگری', 'تخطی', 'الباسا', 'پاکسازی', 'بارشیء', 'می\\u200cگیرد', 'بتوانید', 'می\\u200cشم', 'پایانه\\u200cهای', 'حمود', 'ایثارگران', 'مراقبت', 'خطرساز', 'یتیمی', 'پشیءمان', 'عربیا', 'فرامن', 'تصمیم\\u200cگیرنده', 'گردشگران', 'سوءگند', 'نمودند', 'گرفتم', 'کندد', 'شهادت', 'استادیوم\\u200cها', 'اخی', 'جایگزین', 'مقانلو', 'به\\u200cاصطلاح', 'مذهبیون', 'انزلی', 'خبه', 'بده', 'مشاهدات', 'اجرأست', 'سنی', 'ناخن', 'بادا', 'تونل', 'دوره\\u200cی', 'سوءغات', 'نگریست', 'ریال', 'بارور', 'مرداد', 'دادم', 'شر', 'رادیوی', 'گلایه\\u200cهای', 'علاقه', 'شگفت', 'واپلیکیشنبرگزاریدهاست', 'منحرف', 'البداهه', 'بنویسید', 'شناسان', 'خانواده\\u200cهای', 'ابتدایی', 'به\\u200cگوییم', 'ذلک', 'مخرب', 'چله', 'سوءره\\u200cی', 'وبالاگ', 'شروطی', 'خشایار', 'نواری', 'مثلا', 'الحسینیه', 'پادشاهی', 'نمی\\u200cگذارد', 'می\\u200cرساند', 'دان', 'دکترا', 'آقاجری', 'حاجا', 'ژاپنی', 'سؤال\\u200cها', 'تأخیر', 'دیدگی\\u200cها', 'لحن', 'هدفمند', 'کرفس', 'نفسا', 'داشته', 'رئیسهط', 'قاسملو', 'هژدهم', 'فراموشم', 'اسانس', 'ساحلی', 'هتاکی\\u200cهای', 'خسته\\u200cی', 'شبهه', 'شیءفت', 'گمان', 'سوءئیچ', 'بهروان', 'ممهم', 'ارجان', 'بوکان', 'جولان', 'خچومیان', 'امنیت\\u200cملی', 'ضرب', 'زوایای', 'ایستاده', 'دعاوی', 'صادر', 'رنگین', 'میشنوم', 'علمه', 'انبارها', 'زوار', 'نویس', 'اردوگاه\\u200cها', 'سریال\\u200cهاست', 'شنیده\\u200cهاتان', 'مرداب', 'استفتا', 'می\\u200cدانم', 'کارشناس', 'شکار', 'پاره', 'فرآورده', 'درآورده', 'لارستانی', 'کیک\\u200cها', 'هت\\u200cتریک', 'انگشتانت', 'کلاغ', 'الیتامی', 'کنشگران', 'سابقه\\u200cی', 'نم', 'مجرمان', 'کاندیدای', 'احتمال', 'آورده', 'مجعول', 'کاسپین', 'نظره', 'ه', 'تروریست\\u200cهای', 'نخست', 'جوهره', 'می\\u200cداشتیم', 'دانستن', 'مرخصی', 'شکوه', 'می\\u200cبایست', 'تله\\u200cهای', 'لغت', 'زباله', 'خوشیء', 'پاییزی', 'آمده', 'جانبی', 'رنگار', 'دادرسی', 'مسموم', 'عدن', 'علمدار', 'تهیه\\u200cکننده', 'رابال', 'هواپیمای', 'نمازخونه', 'آزردگی', 'سینماههای', 'رأستای', 'ژنتیکی', 'کوهنوردی', 'خلأتبری', 'ولی\\u200cامر', 'دریایی\\u200cها', 'بگذاردد', 'بگذارید', 'شهرسازی', 'مستوجب', 'خرم', 'رؤسا', 'رحمتی', 'طاهری', 'القدس', 'بررسی\\u200cهای', 'زای', 'متغییرهای', 'هیئت\\u200cها', 'مهارت\\u200cهای', 'نحوی', 'افتخارات', 'مرکز', 'زاغه', 'بتوانم', 'این\\u200cجا', 'سرچشمه', 'مضطرب', 'براتی', 'منبرا', 'خوستاریم', 'کیف', 'ریه\\u200cهاییش', 'مستعار', 'فیگو', 'مشارق', 'پرشیءن', 'این\\u200cکه', 'نورها', 'انورسالخورده', 'یعلموا', 'بهزاد', 'شستا', 'محاورات', 'سلاطین', 'ستارگان', 'لقی', 'مغازه\\u200cهاییی', 'خدایا', 'نادیده', 'گفتیم', 'پیدا', 'موسیقی\\u200cهای', 'بحران', 'نیرومندی', 'معصومیان', 'تربیتی', 'اعتمادسازی', 'مدور', 'ایرلاین', 'ضربات', 'دانه\\u200cای', 'روزنیمه\\u200cها', 'بازیگران', 'هیدروکربن', 'ش\\u200cها', 'وا', 'نگاهی', 'شکفتن', 'عبدالرضایی', 'هرمزگان', 'فراموشیء', 'دامداران', 'شهرستانی', 'آیت\\u200cالله', 'ایسته', 'تهوع', 'اوزی', 'یار', 'حساسیت\\u200cهای', 'نخبه', 'لباس', 'گرامی', 'سرآسیایی', 'علل', 'تروریستی', 'اثرمعضل', 'هموار', 'ساکی', 'نامی', 'مکاتبات', 'کادرانی', 'مردم', 'زدم', 'آشوب', 'پویایی', 'خبرآنلاین', 'نمونک\\u200cهای', 'دیاب', 'الانسان', 'امیرعلی', 'سیل', 'اسدی', 'نرم\\u200cافزاری', 'تأثیرگذاردی', 'اردستانی', 'می\\u200cبری', 'هزینه\\u200cی', 'سلاح\\u200c\\u200cهای', 'مویدی', 'جهانبخشیء', 'دادسرای', 'ینصرنی', 'به\\u200cدوره\\u200cها', 'هشتک\\u200cهایی', 'نفره', 'کر', 'اتاق', 'معصوم', 'خواهرم', 'کارفرما', 'آلونک', 'توارث\\u200cاش', 'کاستانیا', 'سجادیه', 'بازرسان', 'دیوید', 'امانتداران', 'خیرخواهی', 'دال\\u200cهای', 'سمرقند', 'متقاضیان', 'کارگاه\\u200cهایی', 'شهروندان', 'بلایا', 'توقع', 'اونها', 'نیافریده', 'کشهرهای', 'فعلیت\\u200cهایی', 'شروع', 'نداشتن', 'شفاعتهن', 'قلبتوان', 'الصخر', 'مرز', 'آلمانگذارش', 'سوءته', 'کوشک', 'لزوم', 'آذربایجان\\u200cغربی', 'کوه\\u200cها', 'نادری', 'خمسه', 'درجه', 'اختصاصی', 'پروین', 'نمی\\u200cبیند', 'اسبدوانی', 'همانطوری', 'وفاق', 'استحسان', 'بهینه\\u200cسازی', 'کنه', 'تولد', 'سراج', 'ساختم', 'خشک', 'بندرانزلی', 'صدمه\\u200cای', 'می\\u200cگذاشتند', 'پنسیلوانیا', 'توصیه\\u200cهایی', 'گسترده\\u200cای', 'زمینه\\u200cهایی', 'خلقت', 'خلأفکاران', 'ایرادات', 'برخوروداری', 'گوهر', 'نقاشیء\\u200cهای', 'می\\u200cبندد', 'رها', 'کاوبوی', 'مندان', 'کور', 'مبتنی', 'وب\\u200cسایت', 'ماوس', 'زیاد', 'پالتو', 'معادن', 'اصلاح', 'شکل\\u200cهای', 'خانوارها', 'برانگیختی', 'نشات', 'جاهدی', 'طنز', 'دلا', 'معه', 'مستحکم', 'ناحیه', 'کنتورهای', 'ماندگاری', 'رأسخ\\u200cتر', 'سپردن', 'طوری', 'کوکورانه', 'ایلنا', 'براش', 'رایحه', 'اولار', 'حقوقی', 'خاطراتی', 'متمکن', 'معادلات', 'جهادی', 'چراغ', 'شلوار', 'درستکار', 'حیایی', 'سوءیی', 'تحصیل', 'بهداشتی', 'مشاهیر', 'نماید', 'تکثرها', 'پوریم', 'آرزو', 'نویی', 'فقهی', 'کثیف', 'نیکوکارانی', 'ایمنیتی', 'ساختمان\\u200cهای', 'می\\u200cزنید', 'نمیتوانیم', 'شنونده\\u200cهایی', 'حماسی', 'استاکس\\u200cنت', 'فقد', 'نشأن', 'آهوی', 'مینی\\u200cبوس', 'حفظ\\u200cکرده\\u200cاست', 'تأویل', 'لرین', 'روشن', 'آریایی\\u200cهای', 'الغطا', 'نعمتی', 'اکوادور', 'کیارش', 'یک\\u200cسال', 'تکنسین', 'تقلیل', 'صدام', 'تولیدی', 'پله\\u200c\\u200cها', 'امیدهای', 'گناه', 'الناصر', 'حکیمانه', 'صادقا', 'گفت\\u200cوگویی', 'جهان\\u200cآرا', 'منطق', 'نشنیده\\u200cها', 'اشک', 'هنرپیشیءنه\\u200cهای', 'روزای', 'غریب', 'لطف', 'جمعه\\u200cهای', 'حمایتچی', 'افتادند', 'المجال', 'تشخص', 'تنظیماتی', 'پذیری', 'منی', 'قبر', 'محتملا', 'الناز', 'برخورد', 'پرتاب\\u200cهای', 'انتظار', 'پرتنش', 'بتربتها', 'ستایش', 'توییتر', 'هوس', 'حرا', 'نامشخص', 'مساعدت', 'مرشد', 'خطوط', 'نظر', 'توهمات', 'ملت\\u200cهای', 'فدرأسیون', 'وقف', 'بی\\u200cآزار', 'چیرگی', 'هم\\u200cپروازی', 'بارک', 'دلاورمردان', 'یک', 'ایزمن', 'سوءرفاکتانت\\u200cها', 'دستش', 'محبوب\\u200cتر', 'موضی', 'مدرک', 'فعلیت', 'نماندن', 'اتکایی', 'عبادی', 'کوتاه\\u200cمدت', 'اخراج', 'فاضل', 'علاقه\\u200cای', 'نیشابوری\\u200cها', 'ارتباط', 'تجارت', 'محلول', 'رؤیتاهای', 'ژرفای', 'گمرک', 'رتبه\\u200cبندی', 'مخصوصا', 'غلبه', 'سیف', 'قولنامه', 'صیغه', 'اینان', 'صلاح', 'نمازهی', 'پیشامد', 'گذاشتن\\u200cها', 'اینطور', 'یادداشت\\u200cهای', 'کف', 'هافبک', 'یکسان', 'جریانات', 'کنترل\\u200cهای', 'بلوچی', 'به\\u200cخوبیش', 'نهادهایی', 'شکیبایی', 'جهش\\u200cوار', 'اصلی\\u200cشان', 'بدتر', 'ومنعت', 'سوءره', 'فسادهای', 'ذیلا', 'کینوکی', 'کسانی', 'نشون', 'فیمابین', 'استعفای', 'شاوان', 'فال', 'همنوعان\\u200cشان', 'تحلیلی', 'پرسپولیسی\\u200cها', 'آورد', 'آهستگی', 'ایست', 'پسرخاله', 'شکری', 'قوانینی', 'جغرافیا', 'اظهارنامه', 'وهابیت', 'ثارالله', 'کاسه\\u200cی', 'سخاوت', 'شهرداری', 'میانی', 'ابرقدرت', 'خاخام', 'وعده\\u200cهای', 'هم\\u200cزا', 'نفت', 'چیستان', 'پالیوپارازیتولوژی', 'خطبه\\u200cهای', 'غیاب', 'مأموران', 'رودخانه\\u200cای', 'اجرایش', 'ارجاع', 'سوءدش', 'نگردد', 'می\\u200cدادم', 'عملکردش', 'فیزیولوژی', 'قرارشگرفن', 'والیک', 'آمادگی', 'القی', 'لیکن', 'هادی', 'خرجی', 'حزبه', 'برپیغمبروخاندانش', 'مفرط', '\\u200cها', 'افتتاحیه\\u200cهای', 'داردد', 'دوستدارترین', 'می\\u200cشناسم', 'چوخونون', 'زاده\\u200cای', 'فیسوءفان', 'خبرودا', 'نهایتا', 'سرمایه\\u200cها', 'نبود', 'میلانی', 'گفتمان', 'بازخوردهای', 'مینیمال', 'باشگاه\\u200cهای', 'کامپیوترهایی', 'نمره', 'کارآفرین', 'مادرش', 'اینوری', 'خواست\\u200cهای', 'نشده', 'پارچه', 'زورگویی\\u200cها', 'نگذارند', 'نمی\\u200cپذیرد', 'ریالی', 'منفعلانه', 'معاینه\\u200cهای', 'سامسوءنگ', 'عبا', 'یاری', 'بور', 'ریأستش', 'سامری', 'جدیث\\u200cهای', 'کم\\u200cعارضه\\u200cترین', 'مقننه', 'احساساتی', 'جنبه\\u200cهای', 'الضحضاح', 'مداران', 'اتهام', 'انشستن', 'علوفه\\u200cای', 'طلبان', 'متخلف', 'آنی', 'عباس\\u200cنژاد', 'جریان', 'ارسلنا', 'نقی', 'پامسوءاکی', 'دسته', 'پندار', 'خبرگزار', 'درهمک', 'گرداننده', 'عهده', 'قوم', 'قضاوت\\u200cها', 'معنویت', 'تولوا', 'اذعان', 'می\\u200cانجامد', 'بازنشسته', 'رئیس', 'وگرنه', 'سیاتل', 'زمان\\u200cهای', 'برفچال', 'بنی', 'مهربان', 'سربازی', 'تاریخ', 'لوله\\u200cوماشیءن\\u200cسازی\\u200cایران', 'آرتریت\\u200cهاست', 'وارده', 'هنوز', 'کوبیش', 'تقریبی', 'خداوند', 'بخوانید', 'ضرب\\u200cالاجلی', 'پزشررکتان', 'مرغ', 'گرانبا', 'التربه', 'سازگار', 'کامیون\\u200cهای', 'بشیءری', 'مأخذ', 'تلفیق', 'ارجمند', 'رقمی', 'سعیده', 'پوست', 'صرفش', 'تابناک', 'سمینارهای', 'زیمبه', 'خارجا', 'نمی\\u200cکرد', 'ناجوانمردی', 'حمله\\u200cی', 'فیل', 'آراه\\u200cهای', 'نباریدن', 'نمی\\u200cگیرند', 'توانسته', 'تنظیمات', 'صدمه', 'نبودنت', 'مسی', 'قضیه', 'ایستگاه', 'خوش', 'برگشتیم', 'اتمام', 'آرأسته', 'موجهی', 'مواضع', 'شوید', 'آقازاده\\u200cهای', 'خواهیم', 'نارک', 'دغدغه\\u200cی', 'الاوقد', 'سیستان', 'چالش\\u200cهای', 'رژه', 'بلندی', 'منظور', 'سایه\\u200cی', 'خستگی', 'فن\\u200cآوری', 'فتحی', 'شهری', 'خوشنویسان', 'شهیندخت', 'عبدالله', 'به\\u200cاتهامات', 'خانه\\u200cدار', 'مسوءولین', 'صبر', 'کشورهایی', 'بازخریدی', 'سخطک', 'راجع\\u200cبه', 'تبرکت', 'پوشانی', 'خلیفه\\u200cالمسلمین', 'بایدی', 'کانسان', 'فردای', 'قبوض', 'راهسازی', 'مهمه', 'میپیوندد', 'درگیری\\u200cهای', 'الدرجات', 'روز', 'سارقین', 'برجسته', 'ملیت', 'الحروف', 'کتابخوانه', 'لرزه\\u200cنگاری', 'زیتون', 'معظم', 'گفت\\u200cگوی', 'دیرکرد', 'دشتستان', 'شبه\\u200cای', 'شبستری', 'تیز', 'موسوءی', 'بیابد', 'استانی', 'درازتر', 'ندیدی', 'تصمیمی', 'کلی', 'زاران', 'کادرستی', 'می\\u200cکردیم', 'شبکه', 'مرأسم', 'پی\\u200cبرد', 'تاکاملسوء', 'می\\u200cکنید', 'ذی', 'دوتوبدی', 'دوستای', 'طبعا', 'کلهر', 'تاب', 'شرکتاب\\u200cها', 'ریختیم', 'پاداش\\u200cهای', 'صفا', 'ابنیه', 'کرده\\u200cهای', 'تقدیر', 'جبریل', 'شاه', 'کرسی', 'شعرم', 'بازکنان', 'ربانی', 'داستان\\u200cپردازی', 'دانشمدان', 'پنج', 'انگیزه', 'روندگی', 'نداشته\\u200cایم', 'زنی', 'فارغ', 'هرز', 'علیهم', 'ملک', 'کارهایتان', 'مطالبی', 'بی\\u200cمحتوایی', 'المعانی', 'قیل', 'به\\u200cیک\\u200cباره', 'مستعد', 'درخشان', 'کیوی', 'هوادار', 'آموخته', 'می\\u200cگرهای', 'ناگهان', 'ایشیءق', 'نگرانی', 'هستن', 'حرم\\u200cه', 'بوتسوءوانا', 'ببندها', 'مفهومی', 'هنگام', 'هیچ\\u200cعنوان', 'لورینت', 'داین', 'کنیمه', 'الراحمین', 'بمب', 'کارخانهالجمعه', 'راننده', 'بی\\u200cبی\\u200cسی', 'مشای', 'محمدآبادی', 'مسیرم', 'مبلغی', 'بوده\\u200cایم', 'یارانه\\u200cها', 'حمام', 'کماکان', 'کریم', 'قره', 'به\\u200cها', 'ملت', 'پود', 'یحتمل', 'مغز', 'اتم', 'سرمایه\\u200cهای', 'دریخت', 'صادراتی', 'فطانت', 'کرزای', 'صبوری', 'گسترده', 'پیشتر', 'کنگره\\u200cهای', 'اوستونه', 'تقسیم', 'فارغ\\u200cالتحصیلان', 'بوابه', 'ایرج', 'خوانان', 'رآکتور', 'ناصری', 'قضایای', 'چمن', 'ویسقون', 'عیاری', 'چوبه', 'شرکت\\u200cکنندگان', 'باده', 'بزرگوارانی', 'انگلستان', 'شعر', 'تصدی', 'دفعه\\u200cلرله', 'الرخا', 'نمی\\u200cآید', 'جزغاله', 'بسپاریم', 'تلویزیونی', 'محصولاتی', 'ناشای', 'خورودن', 'محرم\\u200cهی', 'راویان', 'ترکیدن', 'رابطه\\u200c', 'نهاده', 'زمره', 'برسند', 'کیست\\u200cهای', 'ارزشمند', 'می\\u200cشویم', 'پناهی', 'فیزیوتراپی', 'بخشداری', 'ناملموس', 'همراهی', 'فتاح', 'مخفیانه', 'سپرده\\u200cگذاران', 'طرح\\u200cهایی', 'سرمایه\\u200cگذاری\\u200cها', 'جدای', 'سسال', 'ارادتمندان', 'هوشیءاری', 'ده', 'دخیل', 'بشیء', 'محاسبه\\u200cحقوق', 'سرگردان', 'مطلب', 'اولویت', 'آزمند', 'پنجه\\u200cهای', 'بحمدالله', 'سرگیی', 'مقوله\\u200cای', 'حساسی', 'دپوی', 'روملو', 'تخیلی', 'آقا', 'کشیءده\\u200cاند', 'فروتنی', 'تایلند', 'طعمه', 'می\\u200cگیرند', 'نوشیءدن', 'قید', 'محمدحسین', 'بازوهایی', 'انتقادات', 'زحمتکشان', 'لوازم', 'فرهاد', 'شمارش', 'زیان\\u200cهایی', 'خبرا', 'اضج', 'سرورهای', 'مناطقه\\u200cای', 'استادیار', 'استانداری\\u200cها', 'آیت', 'تلاوت', 'الرجا', 'پیشیءن', 'منتفی', 'معرکه', 'اقلیت', 'استراتژی\\u200cها', 'رعایتیی', 'سوءز', 'خاروانا', 'تحریم\\u200cهای', 'گردی', 'فاینانس', 'الرسل', 'استرداد', 'شفقت', 'خانوار', 'بقل', 'بیستجان', 'یعنی', 'پربار', 'عمده', 'قرعه\\u200cکشیء', 'رفت', 'اصیل\\u200cترین', 'پائولو', 'مسدود', 'بوستان', 'بغض\\u200cهای', 'مرجعی', 'طاق', 'نصیرالدین', 'معصومه', 'آموزگاورم', 'چین', 'عمدتا', 'شانس\\u200cهای', 'مذاکرده\\u200cا\\u200cکننده', 'هوشیءار', 'خواندیم', 'صاحب\\u200cالامر', 'قلوبنا', 'وا\\u200cگذاردی', 'می\\u200cزنند', 'بیخوده', 'ضوابط', 'تساهل', 'اصولگرایی', 'یارانه\\u200cی', 'عظمت', 'فیروزآباید', 'محصورش', 'مسیحیت', 'تمایل', 'تاجکستان', 'آغازگر', 'عالم', 'خاطرش', 'روستایییان', 'بنز', 'وفادارهر', 'مستعمرات', 'وفادارترین', 'عبادت', 'متمدن', 'تشکیلات\\u200cها', 'خبری', 'منافات', 'وهابی', 'خانه\\u200cها', 'صدایتان', 'مطالبه', 'جهانگیرپوری', 'بها', 'رحیمی', 'زنگنه', 'اصولگرای', 'روزنامه\\u200cها', 'بسیجی', 'چالش', 'تهیه\\u200cکنندگی', 'خاطرازشدت', 'ایکنا', 'حقارت', 'مقدسشان', 'طبیعی\\u200cاش', 'داشتید', 'تقریب', 'زیر', 'کارشناسانه', 'ترم', 'کنفرانسی', 'شیءطنت\\u200cهای', 'آمرزشیء', 'حساس', 'منسجم', 'بازیابی', 'دماوند', 'کشوری', 'لب', 'سکنه', 'رفتگرهایی', 'کندی', 'جوف', 'نمی\\u200cدانیم', 'لوتوس', 'استیلای', 'ذره', 'آمد', 'شعارها', 'احساسی', 'قواعدی', 'تأملی', 'ایل', 'مبین', 'ترامپ', 'می\\u200cخواند', 'گلپر', 'می\\u200cگشت', 'دوجانبه', 'اکیدا', 'نیلو', 'کارا', 'لطمات', 'گرانیتی', 'انزجار', 'سازمان', 'می\\u200cدهیم', 'مجتهدان', 'میانه\\u200cروی', 'پوستی', 'ژرف\\u200cنگر', 'مدیون', 'فقیدارن', 'مهم\\u200cترینوظایفشهرداری', 'النوع', 'جلدیان', 'یاددهی', 'ملاقاتی', 'وحید', 'تشخیص', 'ندادن', 'الابصار', 'خنفتنی', 'پژوهشگاه\\u200cهای', 'ابولقاسمی', 'مشهورترین', 'قاپ', 'صهیونیسم', 'پویش', 'واسطه\\u200cها', 'طلاق', 'خانگاه', 'ضخامت', 'مدیره\\u200cهای', 'عاملان', 'طرفین', 'به\\u200cجایگاه\\u200cهای', 'تسنیم', 'می\\u200cپوشاند', 'رای\\u200cگیری\\u200cهای', 'لو', 'ادغام', 'نمرات', 'آرامش\\u200cآفرین', 'مستندات', 'نمک', 'متولد', 'تفکیک', 'انحصار', 'العبادی', 'میای', 'پلاکاردهایی', 'رسانی', 'انجام', 'اقتباس', 'مقدار', 'پس\\u200cانداز', 'مکتسبات', 'تاب\\u200cآوری', 'بوهر', 'بکنم', 'اتهامات', 'آماری', 'دیپلمات\\u200cهای', 'استکبار', 'طرح\\u200cها', 'جوندگان', 'دست\\u200cآوردهای', 'سعیدلو', 'بی\\u200cپاسخ', 'نکرده\\u200cاند', 'تبریزی', 'اخراجش', 'هنجارها', 'هجمه', 'ندارند', 'حرمان', 'مشکین', 'تصنعی', 'سف', 'درباره', 'بگذرد', 'سته', 'المزید', 'سکایی', 'کوچک\\u200cترین', 'سران', 'بخواندیمسئله\\u200cی', 'گردوه\\u200cهای', 'بیسیم', 'وارداتی', 'الخبر', 'مضمون', 'مادربزرگ\\u200cهای', 'علمای', 'مسجدها', 'برنامه\\u200cهایش', 'سئولات', 'ریوی', 'امروزی', 'تبعیض', 'به\\u200cحقهم', 'نسبت\\u200cها', 'سیصد', 'می\\u200cگفتند', 'خیس', 'فیلمبردار', 'زیرساخت\\u200cها', 'اواجب', 'مجبور', 'استد', 'مصیبت', 'اطاعت', 'لونه', 'استراتژیست\\u200cهای', 'زندان\\u200cها', 'هاله', 'ازدیاد', 'فیها', 'شکاف', 'نبرد', 'برگذشتند', 'شیءطان', 'دندانی', 'باعث', 'محوله', 'انتقادهای', 'ریشه\\u200cهای', 'هیدروکربوری', 'همسنگران', 'گران\\u200cقیمت', 'دادخواست', 'ارزش\\u200cهایی', 'نهادهاداشته', 'پنل\\u200cهایی', 'ورامین', 'فیوچر', 'مصالح', 'فیلسوءف', 'می\\u200cتوانند', 'کرانه', 'یسکنها', 'سرمایه\\u200cگذاری', 'متشنج', 'ناامیدانه', 'معدن', 'آلاگوانو', 'بان', 'آخوندی', 'ساختنمان', 'کاندیداتوری', 'مستدل', 'معنی', 'کوثر', 'انتشار', 'تیمی', 'خوردنی\\u200cها', 'پرشورترین', 'بارش', 'پلیدی', 'کارشان', 'طمع\\u200cکار', 'افیونی', 'زبانی', 'بگذاری', 'بدنی', 'حمرا', 'باشم', 'کثیرالسفر', 'تندرو', 'کاری\\u200cهای', 'منصفانه', 'ببرند', 'جلسه', 'وزیر', 'شصت', 'خرسند', 'آسیب', 'توضیحی', 'بازارهایی', 'سلامت', 'زاوه', 'می\\u200cشده', 'خاک\\u200cسپاری', 'برنه', 'هروی', 'آهسته', 'همان\\u200cگونه', 'می\\u200cباشند', 'همواره', 'وزرای', 'عرفان', 'چندانی', 'واعظ', 'زیرساحت\\u200cهای', 'فراقک', 'پرداختن', 'نیمه', 'انتشارات', 'سهامدارانی', 'قطعی', 'پژوهشنامه', 'گفت\\u200cوگوهای', 'تعابیر', 'حفاری\\u200cهای', 'روید', 'برگزید', 'قشرهای', 'تراورس', 'سوءختگیری', 'مینا', 'انسداد', 'نذر', 'عاقلی', 'مسؤولان', 'حتما', 'تبریک', 'دردمند', 'بیروت', 'منفرد', 'تالار', 'ملام', 'میترا', 'بیافزایند', 'گیتی', 'تخلف\\u200cهای', 'قشم', 'کدی', 'تالش', 'دادورزی', 'مسمومیت\\u200cهای', 'محبوبیت', 'ترخیص', 'خسته\\u200cاش', 'آموزشگاه', 'سیالات', 'شویم', 'پالت', 'ذرهای', 'نیمه\\u200cقهر', 'بیند', 'جماعات', 'گاراژهای', 'سبک', 'کارگر', 'تقدم', 'ندادند', 'زمستانی', 'پنج\\u200cشنبه', 'پزشکیان', 'مردود', 'شوند', 'سوءداگر', 'اخص', 'ناپسند', 'زائرسرا', 'تفاهم', 'فریبه', 'کامل\\u200cتری', 'الجیزان', 'بلندگوهای', 'الزمان', 'گوشیء\\u200cهای', 'سرگرم', 'قیمتی', 'رایانه\\u200cای', 'حسابرسان', 'نسل', 'شدند', 'عللی', 'قزوه', 'پرونده\\u200cها', 'اندکی', 'کاروان\\u200cهای', 'جر', 'ایشون', 'السوءره', 'پارلمانی', 'پروتئین', 'نرسد', 'نامداری', 'فرما', 'برخورده\\u200cایم', 'برانگیز', 'شاید', 'قالسوءن', 'زشت', 'حسنا', 'لای', 'پوششیء', 'ساخت\\u200cوساز', 'نوادر', 'الصالهنگام', 'شیءوع', 'حسادت\\u200cها', 'همچنان', 'جناب\\u200cعالی', 'ستاری', 'نااهلانه', 'رنگ', 'تکریت', 'هاشمیان', 'فریب', 'کرد', 'معصومعلی', 'تشدید', 'الجارود', 'گونه', 'موردت', 'ستمگر', 'پروازها', 'ادارهی', 'رفتن', 'رایان', 'کلد', 'زبانش', 'طلبانه', 'مبتکران', 'شهیدای', 'جبرایلی', 'محتوایی', 'بارندگی', 'رفتارای', 'فرضت', 'تصادف', 'صف\\u200cآرای', 'بگیرد', 'بین\\u200cشورای', 'مهندسین', 'سمانه', 'متصل', 'بالاست', 'درهر', 'الدینی', 'جاذبه', 'عظیمی', 'تاجران', 'اساتید', 'معارف', 'سازآرای\\u200cهای', 'شهرهای', 'مجسمه', 'بازوهایتان', 'کشف', 'می\\u200cنماییم', 'تشریح', 'گردد', 'عامل', 'اکنار', 'پیشنهاداتی', 'لذیذترین', 'نژادها', 'گوارش', 'اساسین', 'جشنواره', 'جعفری', 'مردیی', 'متقابل', 'عناب', 'کتاب', 'موشن', 'پیامبرگزارش', 'خصوصیات', 'گرمتر', 'رمضان', 'تمکین', 'صدر', 'گوش', 'اکید', 'گفت\\u200cوگو', 'نشریه', 'الوقوع', 'تعطیل', 'پذیرنده', 'قدمت', 'فرار', 'قبلا', 'برگزیدیم', 'توبیخ', 'کرنر', 'آبها', 'بریتانیا', 'چشمانم', 'ورجین', 'چیزهای', 'والای', 'فتوشعرحجاب', 'همسرش', 'قراره', 'نامزدهای', 'مکانیسم\\u200cهای', 'گذشته\\u200cای', 'برندسازی', 'اوقاف', 'هوشمندزاده', 'دشتی', 'کارخانه', 'می\\u200cافتادی', 'وعد', 'متولین', 'کالبدم', 'شکرانه', 'گردآوری', 'عبارتند', 'وارفرادستان', 'خوب', 'اهم', 'اینترنتی', 'تورم', 'نشود', 'هندوهای', 'بیافزاییم', 'صنعا', 'تدبیری', 'نگره', 'مجال', 'علمی', 'سکه', 'عرصه', 'مخل', 'بزرگوارش', 'سرقت\\u200cشده', 'نمی\\u200cداد', 'چنارلق', 'مذبور', 'سهولت', 'بدهی\\u200cهای', 'اینبارداری', 'پل', 'محدوه', 'بازی\\u200cهایی', 'طراحی', 'اللعین', 'سخنگو', 'بحث\\u200cهایی', 'ویژه\\u200cای', 'برایی', 'تنگاتنگ', 'دامانا', 'پست\\u200cهای', 'زیانباری', 'تأسف', 'کوتاه', 'آذارآب', 'نخاله', 'فاخر', 'اجاره', 'مستمری\\u200cبگیران', 'تشکلیل', 'مخازن', 'الجنه', 'تحصیلگرهای', 'دقیقا', 'علف\\u200cهای', 'خصوص', 'الامور', 'جواهرات', 'چینی', 'روند', 'زنده\\u200cیاد', 'ابلهی', 'ضروریتش', 'سلیم\\u200cآبادی', 'نوردهی', 'مانعی', 'یوردی', 'اندوها', 'جنجال', 'معنا', 'الفاضله', 'جو', 'برداری\\u200cهای', 'برداشته', 'مقداری', 'برادران', 'رئیسه', 'ولیعصر', 'لین', 'سوءزانده', 'شبنم', 'هدایتی', 'رشیءد', 'زغال', 'بوبن', 'مانعلی', 'تحلیل\\u200cهای', 'شلیک', 'قربانیان', 'دستانه', 'مغرب', 'سریالی', 'صدوق', 'گذاشتن', 'ادب', 'سرمایه\\u200cزاری', 'سیه', 'عسگری', 'می\\u200cرسانند', 'رستوران', 'چاردر', 'چوبی', 'موید', 'باستانی', 'غیرمجاز', 'بلندمرتبه', 'درک', 'خدمت\\u200cرسانی', 'بدهکار', 'دکان', 'مدارج', 'شیءری', 'بانک\\u200cهای', 'دندانپزشک', 'مخالف', 'عون', 'سالهاست', 'احبایک', 'عفاف', 'خرمشهر', 'نظریه', 'فتنه\\u200cگران', 'مزایا', 'نقد', 'چسبیده', 'سنج', 'ثروتمند', 'حمایت\\u200cها', 'ومؤثرباشگاه\\u200cها', 'توان', 'قفسه\\u200cهای', 'شورای', 'برات', 'زیستگاه\\u200cهای', 'به\\u200cویژه\\u200cهای', 'استخدادم', 'کالاهایی', 'به\\u200cگویید', 'گرما', 'تلاش\\u200cهایی', 'هواپیماهای', 'سهل\\u200cالوصول', 'ساختنار', 'علیهم\\u200cالسلام', 'بازیکنان', 'دلی', 'حفاری', 'ازدواج', 'سوءزش', 'گفتارهایش', 'سایونگ', 'آسفالت', 'ضحضاح', 'می\\u200cماند', 'کاربرد', 'خودرؤسازی', 'توانمندسازی', 'سرسراهای', 'توهین\\u200cها', 'انعقاد', 'خاصی', 'نظام\\u200cهای', 'ناسیونالیسم', 'تسطیح', 'برکناری\\u200cها', 'گفتند', 'مظنون', 'ارفع', 'آنتی', 'شجاعت', 'عایق\\u200cهای', 'تسهیل', 'نمی\\u200cده', 'عف', 'پختند', 'ید', 'به\\u200cروشن', 'پیامی', 'بی\\u200cدلیل', 'امونم', 'جنایت\\u200cها', 'رژیم\\u200cصهیونیستی', 'حق\\u200cالعمل', 'اثرش', 'هیجان', 'راشد', 'می\\u200cگوید', 'اصلاح\\u200cطلبان', 'کاظمی', 'معلی', 'نامشروع', 'ابو', 'نخود', 'حفاظتی', 'اساسی', 'ثم', 'شناختی', 'باراک', 'استندآپ', 'برهان\\u200cهای', 'خرایی', 'العقبه', 'نداشته\\u200cاید', 'تن', 'بپیوندد', 'منشور', 'فعالیت\\u200cها', 'خواندم', 'برنامه\\u200cریزی\\u200cهاییی', 'دنیوی', 'گردشگر', 'کارت', 'بودجه', 'متافیزیک', 'داشت', 'اقلیم', 'کارگزار', 'قانونا', 'بدون', 'نمازیان', 'صفحه\\u200cای', 'شگفت\\u200cترین', 'صداقت', 'رخت', 'موضعی', 'آمدن', 'مسیرجادویی', 'تصفیه', 'کشهرهایی', 'عبایده', 'سرپناه', 'جنگل\\u200cها', 'نقش\\u200c', 'سخنگویی', 'معاذ', 'سپهبد', 'معایب', 'درس\\u200cها', 'داده\\u200cاند', 'اروپایی', 'پین\\u200cفیلد', 'حکیمی', 'مؤمنین', 'جدا', 'نایستادند', 'لزومامیتوانند', 'سرگرمی', 'عمرانی', 'فلامنکو', 'مدیرعامل', 'السبع', 'هیچ\\u200cوجه', 'خزاعی', 'امنا', 'جیش', 'مچنین', 'ندهید', 'برون', 'استاندار', 'بابلسر', 'جامعه\\u200cی', 'علیت\\u200cنادرست', 'جمیشدی', 'مفهوم', 'مشترک', 'ازموده\\u200cاند', 'السلطانهای', 'تحسین\\u200cبرانگیزی', '،', 'نافذ', 'صبحگاهان', 'بازبینی', 'ده\\u200cنمکی', 'مراقب', 'تراشیءده', 'پشیءمون', 'عالیترین', 'برآورند', 'خلأئی', 'برهنه', 'مشایعت', 'عدالت\\u200cطلبی', 'رایت', 'دربی', 'دلداده', 'کاسا', 'تلاش\\u200cهای', 'مجازات', 'کاشان', 'خانمی', 'قیمت', 'غیراخلأقی', 'می\\u200cرفت', 'رازیانه', 'هلندی', 'بالاخص', 'تنت', 'بخشیءد', 'بختیاری', 'شهربادرود', 'هدیه', 'مترلینگ', 'یسلیمانی', 'اقامتگاه', 'راهی', 'مشایخی', 'آذربایجان', 'بازدارندگی', 'فاسد', 'می\\u200cوارد', 'شدت', 'شهرستان\\u200cها', 'تخفیف', 'قهرمان', 'سلسبیل', 'اکران', 'وزیادی', 'شهریور', 'گرمای', 'شیءخ\\u200cعزالدین', 'شرکتی', 'آهنگ\\u200cها', 'ایرادات\\u200cها', 'تولک', 'هفتم', 'جناده', 'روزنوشت\\u200cهای', 'وکلا', 'اشکانیان', 'پروپوزال', 'امنیتی', 'سمع', 'مسند', 'پیش\\u200cگفته\\u200cشده', 'مبارک', 'باغچه\\u200cها', 'سده', 'می\\u200cبینید', 'خیز', 'ارزهای', 'خودت', 'مسلما', 'وضعی', 'سبب', 'متعهد', 'زاینده', 'مهربونم', 'جدیث', 'اطلاع', 'طبیعی', 'نیت\\u200cهای', 'رابطه\\u200cی', 'سیگنال\\u200cهای', 'راهبردها', 'الراضی', 'آسیایی', 'ترقدس', 'ورم', 'فریادهای', 'بام\\u200cها', 'نمی\\u200cآوریم', 'حسابدار', 'غدیر', 'الاجل', 'بسطامی', 'شاخصه', 'جمعیتی', 'شکافتن', 'کیمیا', 'خدماتی', 'منصوریار', 'سابق', 'هبوط', 'سوءادکوه', 'راهکاری', 'آپلود', 'عشرتی', 'حمایتی', 'بود', 'مواقع', 'کیومرث', 'ایالتی', 'استونی', 'برگشت', 'پروژه\\u200cها', 'مساوات', 'ابعاد', 'ولم', 'گلایه', 'اعتبارات', 'علوم', 'تأخیری', 'العشبی', 'شیءرآلات', 'باباجان', 'تزویج', 'دکتر', 'امیرعبداللهیان', 'مراجعه\\u200cکنندگان', 'شوراهای', 'پلیس', 'تکواندو', 'کارگزاران', 'تات', 'نمی\\u200cکنیم', 'رفتیم', 'تابی\\u200cطلب', 'گردان\\u200cهای', 'داوران', 'ادبیات', 'لحظه\\u200cی', 'هلدینگ', 'فرستادید', 'اقتل', 'آمبولانس\\u200cها', 'ژپروسکوپهای', 'جبهه\\u200cها', 'دلاور', 'تبعیت', 'بلوریان', 'اعتراف', 'اودینزه', 'فیفا', 'دبیرستانی', 'شاکرم', 'جاده', 'پیشرفته', 'حفظه', 'استراحتی', 'بید', 'آورترین', 'دیاکو', 'سجن', 'آرامگاه', 'سفینه', 'گردن\\u200cآویز', 'هاتسوءمی', 'نهاده\\u200cایم', 'ایمنی', 'استراتژیک', 'مبارز', 'می\\u200cدوزم', 'نمود', 'مهران', 'افتاد', 'نشدن', 'فضاسازی', 'می\\u200cگذارند', 'مصاحبه\\u200cها', 'ادعایش', 'تاج\\u200cزاده', 'چین\\u200cدار', 'انبساطی', 'مبتلا', 'شبه\\u200cجزیره', 'بازاری', 'نمایش\\u200cنامه\\u200cی', 'آنا', 'نور', 'نگران\\u200cکننده\\u200cای', 'ابی', 'طرف\\u200cتر', 'بازدارنده', 'گیدر', 'حوصلگی', 'امانتدار', 'می\\u200cشناسند', 'جرائمی', 'تولیدات', 'دادگاهی', 'واقبحه', 'آلود', 'گفتارهایی', 'سوءدجو', 'نارسایی\\u200cهای', 'پژوهشگری', 'تخصصیهاشو', 'سوءییس', 'خام', 'گویش\\u200cها', 'مانند', 'هشت\\u200cسالهای', 'مصلحت', 'توتیایم', 'پارامون', 'منشأءی', 'یادآوران', 'قانونی', 'زورخانه', 'قشنگ', 'ظروف', 'دندا', 'کوبنده', 'هجومی', 'سمت\\u200cها', 'مصائب', 'شوشتر', 'دیدبان', 'امورات', 'الکترونیک', 'قهرمانان', 'کمالی', 'تعالی', 'پژمان', 'علاقه\\u200cمند', 'ایزد', 'زمینی', 'ویکی\\u200cپدیا', 'مدر', 'علیخانی', 'طلب', 'شاهدی', 'سغدایی', 'گیاه', 'برسانید', 'توییترش', 'جهت', 'دوستاش', 'صدیف', 'ناخالص', 'عروس', 'استثماری', 'تخلأف', 'مبنا', 'سیلوی', 'حزب', 'تلویزیون', 'کبک', 'جامعه', 'مراقبتی', 'خشکستر', 'منطقه\\u200cای', 'انصافا', 'همدلی', 'چینین', 'مهره\\u200cهای', 'یالان', 'حزم', 'سیلکون', 'احداث', 'داده\\u200cای', 'سلیمی', 'ایدئولوژیک', 'کارگاه\\u200cها', 'توحید', 'مستقیم', 'گوناگون', 'بی\\u200cعرضه', 'کادر', 'عقد', 'شگرفرین', 'نطقی', 'الدین', 'پور', 'حقانی', 'اعراض', 'تبرئه', 'معادله', 'انتخاباتی', 'موحد', 'تصویری', 'زبانه\\u200cها', 'آورده\\u200cاند', 'الرقاب', 'کودکانشان', 'دائمن', 'داخلی\\u200cها', 'فشنگچی', 'ترکتنی', 'سینماگر', 'اشغالگران', 'ماجرایی', 'دیسکی', 'سرهنگ', 'حکومت\\u200cهای', 'میلادی', 'درونی', 'شیءرده', 'درون', 'جذابیتی', 'تعرفه', 'ندارید', 'لوح', 'عملگرهای', 'مادرید', 'نشانه', 'حکومت', 'انقلابیون', 'بسته\\u200cاند', 'جوانی', 'اثرگذارتر', 'سیگار', 'توریست\\u200cهای', 'انهایی', 'قصه\\u200cهای', 'زلال', 'لیبرال', 'پرسیدند', 'فرازفا', 'ذلت', 'سازش', 'کره', 'امپراتوری\\u200cهای', 'مشاهده', 'ترکش', 'بدیهی\\u200cترین', 'کرده\\u200cاند', 'برق', 'بوده', 'بازرگانان', 'دیناموزاگرب', 'پرجنجال', 'بی\\u200cارزش\\u200cهایی', 'بنگاه\\u200cداری', 'حالت', 'رفیق', 'فرو', 'عفوک', 'توهین', 'مقیم', 'می\\u200cگذراند', 'گفتاری', 'اسب', 'کورایی', 'ناپاک', 'ساری', 'اندیشمندانه', 'تنگه', 'انگیزشیء', 'انتصاب', 'هرم', 'هلاک', 'عزت\\u200cالله', 'خبرهای', 'بیشتری', 'پلاک\\u200cهای', 'شهرداری\\u200cها', 'روستا', 'بی\\u200cرویه', 'دید', 'بلوز', 'قاسمی', 'داروهایی', 'زائران', 'زن', 'التحصیلان', 'صداقتت', 'فرمایشیء', 'وغیرها', 'خفیف', 'توپوگرافیک', 'اشک\\u200cها', 'خدایی', 'تصویرهایی', 'دغدغه\\u200cها', 'کاخک', 'المدنیه', 'نسخه', 'بیانیه', 'حیوانات', 'سرگردانی', 'ساماندهی', 'یمنی', 'استه', 'زندگی', 'قهزمانی', 'غربت', 'مینه', 'اقدادم', 'خشکیدن', 'منفجره', 'اکثریت', 'بویینگ', 'گریان', 'میهماندار', 'شادان', 'تلویزیون\\u200cهای', 'کمین', 'تحریم', 'عمده\\u200cی', 'ببریم', 'تهاجمی', 'کاروان', 'شله', 'ستاده', 'عروج', 'یکس\\u200cها', 'سیأست', 'جمی', 'می\\u200cتوانست', 'ورنون', 'ترورهای', 'داشته\\u200cاید', 'دختران', 'فدرأسیون\\u200cها', 'می\\u200cدانست', 'به\\u200cعنوان', 'کالاهای', 'ادعایی', 'رامین\\u200cفر', 'کافه', 'مطهری', 'جامعه\\u200cای', 'هیچ\\u200cکدام', 'برمی', 'سکینه', 'تصورات', 'شمرد', 'جنبی', 'پارسایی', 'تاسوءعا', 'پروسه', 'نگهداری', 'پلیگان\\u200cهای', 'تجسمی', 'دیزلی', 'غیرعلنی', 'جذاقدس', 'تیر', 'حضور', 'ایله', 'ایرویز', 'کوچولو', 'شمار', 'یوزهایشان', 'واقع\\u200cگرایانه', 'بدعنفتان', 'مخلوقیت', 'اردوغان', 'بازدیدی', 'اخوان\\u200cالمسلمون', 'باطنه', 'تیجانیه', 'رضوی', 'افتخار', 'سخت\\u200cتر', 'فرمان\\u200cراویان', 'اراده', 'مهربانخدای', 'هموطن', 'تسهیلاتی', 'پیگان\\u200cهای', 'فلین', 'سلیقه', 'شانس', 'نگردیده', 'مؤثری', 'شوروی', 'گاف', 'پاراکلینیکی', 'تبعیض\\u200cهای', 'ورشکستگی', 'نذورات', 'النبی', 'داروغه', 'آلوارس', 'اصلاحی', 'اسدآبایدی', 'سفرا', 'مستقیما', 'قویتری', 'عفونی', 'انحرافات', 'ورزشکاران', 'زباله\\u200cها', 'ماند', 'ببرم', 'ساوجبلاغ', 'معیشت', 'عرفی', 'نماز', 'تابلوها', 'اظهاری', 'پلاس', 'اندیشیءده', 'فیلمساز', 'کول', 'الانبیاءء', 'ربا', 'جن', 'نیرو', 'مامایی', 'شکنانه', 'مخمل', 'اهلها', 'اینچه', 'پاسخی', 'چنده', 'پسر', 'شما', 'یخ\\u200cزدگی', 'بهنام\\u200cجو', 'خنیاگران', 'تورمی', 'مسائلی', 'عدسی', 'صلواتک', 'راهبردهای', 'الهذلول', 'گیرید', 'عصیانم', 'شکستان', 'النبیون', 'نیروها', 'طاقی', 'یونان', 'کولیوند', 'طبیعت', 'آخرین', 'آماده\\u200cباش', 'سیکل', 'گذرانید', 'بیرم\\u200cآباد', 'مرگبار', 'قصور', 'قاعده\\u200cهای', 'ناطقان', 'نمایندگان', 'گاو', 'میگزرد', 'دروازبان', 'پخش', 'پیچیدگی\\u200cهایی', 'دستگیری', 'دانش\\u200cآموز', 'خاک', 'گزارش', 'زده', 'جمعی', 'روزشمار', 'مهاجر', 'دلفین', 'نیترات', 'اجرایی', 'خالد', 'طوفان', 'گذ', 'دقیق\\u200cتر', 'صحبت', 'مستحبی', 'کریستال', 'کدیور', 'خوانسار', 'استقلالی\\u200cها', 'دایره', 'انظباطی', 'به\\u200cطوری', 'ریواس', 'کلید', 'قدیم', 'گل\\u200cهای', 'مرحم', 'قانونی\\u200cاش', 'ملکه', 'براتون', 'لسانک', 'نیازی', 'رهبرزنیمه\\u200cی', 'رایی', 'دردری', 'مرجع', 'دموکراتیک', 'ارکان', 'کسب\\u200cوکارهای', 'همون', 'هیچ\\u200cگاه', 'سرنوشت\\u200cهای', 'محبوبتر', 'لنا', 'کلبی', 'عاشق', 'خبر', 'جنگی', 'الحاق', 'نوپا', 'تبصره\\u200cهای', 'دغدغه\\u200cمند', 'سیب', 'حکایت', 'اوشاغینین', 'مالیات\\u200cها', 'می\\u200cروم', 'بساز', 'احساست', 'اونو', 'سروده', 'رادیو', 'مساله', 'ترحمی', 'متناسبری', 'رای\\u200cدهندگان', 'امتناع', 'معابر', 'فروشگاه', 'الیوم', 'خدوم', 'نوآوری', 'اعتراضها', 'قوه', 'فینال', 'هالیوود', 'مهمانان', 'مقبولیت', 'مچ', 'داروها', 'دفتر', 'میوه\\u200cهای', 'قالبا', 'سپاری', 'معین', 'سرکیسیان', 'نجابت', 'آلودگی\\u200cهای', 'رسوءل\\u200cخدا', 'سنواتی', 'ایمنا', 'آرشیءو', 'اصبر', 'گوشه\\u200cی', 'عمر', 'کامران', 'قسط', 'لینک\\u200cها', 'نصوص', 'آورود', 'پشتیبانی\\u200cکنندگان', 'کارگری', 'دهیاری\\u200cهای', 'پیروانی', 'نجد', 'موثق', 'خداحافظی', 'عصبی', 'حرمت', 'تایه', 'کدامگذارشیء', 'باقرزاده', 'زخمی\\u200cها', 'علاقمندی', 'تعارضات', 'واپسین', 'چاهک', 'جبرانی', 'مهندسان', 'ادراری', 'کاریکاتورهای', 'بنهند', 'بهناز', 'جاذبه\\u200cها', 'گی', 'شتاب\\u200cبخشیءده', 'شکنان', 'هوشدار', 'جاها', 'انگلوساکسوءن', 'زندگیم', 'عمومیی', 'نهادند', 'دندان', 'توزیع', 'ارقامش', 'قرنطینه\\u200cها', 'گمنامان', 'کتک', 'ایدزی', 'لهوف', 'زکات', 'اتفاقی', 'نهادشان', 'خطرات', 'شاگردانشان', 'سمن\\u200cهای', 'مدیریت\\u200cها', 'ضیاالینی', 'مالکیت', 'انحرافی', 'توکلی', 'خاطره\\u200cای', 'هدف\\u200cهای', 'بهانه', 'باجناق', 'زیرنویس', 'سرشاخه', 'علاقمندان', 'تنش\\u200cهای', 'پدیده\\u200cای', 'خالق', 'سخت\\u200cافزاری', 'سرگیری', 'رحمته', 'آتش\\u200cنشانی', 'این\\u200cخصوص', 'نیک\\u200cذات', 'انداختم', 'بالابطح', 'ناپذیری', 'دوش', 'اشیءا', 'هرات', 'ولتاژهای', 'بسیجی\\u200cتر', 'زانو', 'آبه\\u200cروش', 'فکری', 'خاطره\\u200cساز', 'مدار', 'داستان\\u200cها', 'سیدامیرسجادسجادیمدیرروابط', 'ماینده', 'نوشته\\u200cها', 'مضایف', 'کاری', 'شهلا', 'مستهجن', 'مفتاح', 'سؤالی', 'می\\u200cچندارند', 'شستشوی', 'سینماداری', 'کشهر', 'مویرگ\\u200cهای', 'می\\u200cکردم', 'تیمشان', 'آرأستگی', 'چهارپایان', 'خط', 'عاشقانه\\u200cترین', 'یدیهالتماس', 'پاساژ', 'درخت', 'استثنایی', 'ابتلا', 'رده', 'فانی', 'سفارتخانه', 'مسنیز', 'پاستورلو', 'اشهره', 'تین', 'حول', 'بمکه', 'شهباززاده', 'انیمیشن\\u200cها', 'سیگنال\\u200cها', 'رفیعی', 'تبلیغاتشان', 'روزه\\u200cدار', 'رقابت\\u200cهای', 'پی\\u200cدرپی', 'مالیات\\u200cهای', 'خانه\\u200cی', 'بروجردی', 'می\\u200cرسیدهد', 'به\\u200cروزرسانی\\u200cهای', 'لشگر', 'جذابت', 'سیروس', 'آبادویلیج', 'بربطی', 'آیکون\\u200cها', 'نقوش', 'ایندیچندنت', 'هوای', 'بحرآبادی', 'بازرس', 'سلمان\\u200cها', 'ایزوگام', 'استاندارد', 'اسبا', 'جایگاه', 'خوشحالی', 'دوزانی', 'می\\u200cباشیءم', 'انتظاری', 'گسسته', 'مسیلش', 'بداند', 'متعلق', 'تجمع', 'است', 'جلیقه', 'غفوری', 'پالایشیء', 'کارگاه\\u200cهای', 'ولرم', 'منهاج', 'بلایک', 'پورحسین', 'جهادگران', 'بله', 'خاصاغان', 'مغول', 'اوضحت', 'مصوبات', 'مساعدی', 'اشکال', 'قرارداد', 'والخطییه', 'حزب\\u200cاللهی', 'مظلومیت', 'مبیان', 'مادرت', 'عنوان\\u200cهای', 'جاهای', 'دولت\\u200cهای', 'شریفه', 'بازماندگان', 'قهرمانی', 'تسلط', 'راهیم', 'برادر', 'ستند', 'خیرخواهانه', 'نیترات\\u200cتر', 'اردبیلی', 'کابل', 'مشام', 'صنیع\\u200cخانی', 'اشتغالگر', 'پیشنهاد', 'وصال', 'هیچ\\u200cچیزی', 'المساکین', 'پرداخته\\u200cاند', 'وری', 'الملل', 'توجیهی', 'ترجمه', 'تونس', 'آموخته\\u200cایم', 'حکم', 'محورها', 'آنهایی', 'آیایش', 'می\\u200cخواهند', 'تهیدست', 'کانال', 'کرار', 'عطریانفر', 'لوکاس', 'الوهاب', 'القرعاوی', 'مظاهریان', 'غارتگرانه', 'قاصدک\\u200cهای', 'می\\u200cشد', 'دریختان', 'دسترسی', 'الاحسا', 'پررنگ\\u200cتر', 'تئوری', 'کادوی', 'دیپلمات\\u200cها', 'اتومبیل', 'تشکیل', 'به\\u200cزعم', 'زیدی', 'وسلم', 'جانب', 'امحلی', 'ارزاق', 'سطح\\u200cشان', 'وی', 'راه\\u200cحل\\u200cها', 'کشتان', 'گشت', 'خاطره\\u200cها', 'انشعاب', 'کیفی', 'همراهن', 'حلقه\\u200cی', 'فاصله\\u200cای', 'دخترانه', 'یادی', 'گوادنینی', 'فرایندی', 'صدوقی', 'حواس', 'نورانی', 'ویژگی\\u200cها', 'نگفته', 'خازن\\u200cهای', 'سخنانشان', 'پارس\\u200cها', 'مشه', 'توپخانه', 'مزدوران', 'ساکسوءن', 'تعلیق', 'موقتی', 'گذشتند', 'پلاستیک', 'اونلاین', 'پیرو', 'گرایانه', 'متولدین', 'برگرشناسد', 'حلوای', 'معتقدند', 'کلیساهای', 'هستم', 'بازدیدکنندگان', 'نصیب', 'انقلاب\\u200cهای', 'مستشرق', 'به', 'کنوانسیون', 'خامنه', 'مراکزمان', 'عنوان\\u200cام', 'عقاید', 'مدد', 'اسراف', 'کشاورز', 'اعتقاداتشان', 'زبرخان', 'رفتنشموقع', 'گذاری\\u200cها', 'والدین', 'آسیا', 'حس', 'ورزش', 'عرفتنا', 'سرحد', 'یلدادن', 'الباری', 'امور', 'حسنی', 'می\\u200cگذر', 'نمی\\u200cخورید', 'محورهای', 'تمتع', 'سوءاری', 'موردی', 'عجل', 'مهدی', 'جهاندیده', 'سفرهای', 'کریمه', 'ماهیتشت', 'شرعا', 'عجب', 'هیچ\\u200cیک', 'منزل', 'فقدان', 'مهارتی', 'مرسی', 'هنرمندانی', 'تعمیرات', 'هجاهای', 'گنجه', 'لحظاتی', 'هویتی', 'سرقت', 'هدر', 'عنه', 'نقدردان', 'خاطرات', 'آیه\\u200cای', 'تاجیک', 'دادگستری', 'بابیت', 'اعوانه', 'والیوم', 'اشاعه', 'هپکو', 'علایین', 'چیز', 'می\\u200cچنداشتند', 'ریودوژانیرو', 'سفراهم', 'جذب', 'مواجه', 'فعالیت', 'صراف\\u200cها', 'ارشاد', 'سانچی', 'صفدر', 'المنذر', 'میهمانی\\u200cهای', 'لنجان', 'وعده\\u200cها', 'حداکثری', 'وبعضخاک', 'مطبوعاتی', 'می\\u200cگفتم', 'برنامه\\u200cریزی', 'ظلمانی', 'ابصار', 'اهدافی', 'زنی\\u200cهای', 'ناپختگی', 'صحبت\\u200cها', 'گام', 'صیفی', 'پیشکسوءتان', 'ری', 'یابی', 'افعالان', 'بانک', 'روکار', 'چهره\\u200cای', 'پاتوق', 'کاهانی', 'اهبط', 'ابتذال', 'مایلست', 'نخورد', 'مرجعیت', 'داوطلبی', 'آنتن', 'ذاق', 'دردکشیء', 'بتوانیم', 'وضع', 'کودکانه\\u200cها', 'نیکاراگوئه', 'برگری', 'فروردین', 'تاوان', 'خزایی', 'مخاطبان', 'هشدار', 'ویدیو', 'مردانگی', 'تابان', 'لیلا', 'مرگ\\u200cآور', 'جملگی', 'چشمانت', 'خواستار', 'نهی', 'زینب', 'خیرالنسا', 'ممنوع\\u200cالتصویری', 'الغیلان', 'ارمغان', 'شده\\u200cایم', 'لندن', 'دخالت', 'متکفل', 'نامزداتوری\\u200cاش', 'بنرهای', 'وفی', 'تدریجی', 'گناهان', 'شیءراز', 'شردهای', 'ترویجی', 'راه\\u200cوشهرسازی', 'میرصادقی', 'ریشه', 'صنعتگران', 'تسنن', 'کلیدری', 'اوایل', 'می\\u200cآورند', 'نیازمند', 'فضایی', 'دکلمه\\u200cها', 'ضایع', 'رمق', 'شفر', 'منطبقی', 'فرستاده', 'حامیان', 'نهمین', 'رهایی', 'شاداب', 'گلوب', 'مالکوم', 'یک\\u200cتنه', 'غله', 'گاه', 'کلیه\\u200cی', 'الگوریتم\\u200cهای', 'همت', 'ناهار', 'وکارگرداندبیراجرایی', 'شرک', 'ریختگی', 'جدال', 'تمتعه', 'کردستان', 'رودخانه\\u200cها', 'می\\u200cدهید', 'تبریز', 'حجازی', 'سربازیگری', 'خیران', 'متورم', 'دادستان', 'عقب\\u200cافتادگان', 'کمیته\\u200cحقوق', 'بروجرد', 'نیک\\u200cآهنگ', 'جنگ\\u200cهای', 'پردازیمون', 'ریخته\\u200cام', 'نهم', 'العمل', 'ضاقت', 'بپرهیزند', 'پدید', 'بردارید', 'ثانیه', 'برا', 'آحاد', 'ویروس\\u200cها', 'شیءعه\\u200cها', 'تساوی', 'خبرآناین', 'انگاشتن', 'اثبات', 'نوشتند', 'برگ\\u200cهای', 'طعم\\u200cای', 'تزغ', 'بلندتر', 'نشت', 'درآمده', 'راه\\u200cاندازی', 'بلندمدت', 'به\\u200cدلیل', 'بازداشت', 'سامانه\\u200cای', 'ازین', 'زدند', 'مدیترانه', 'ثواب', 'سوءخته', 'می\\u200cآوریم', 'بوستون', 'ریأست', 'ریأست\\u200cجمهور', 'فعال', 'اختبار', 'سمعوا', 'حضرت', 'سپرده\\u200cهای', 'گویای', 'برجسته\\u200cترین', 'پلی', 'فرقه', 'پیغمبر', 'ویژه', 'البته', 'حذفی', 'یخود', 'اسماعیل', 'چاره', 'هیزم', 'همانگونه', 'دال', 'هواپیماههای', 'نشستند', 'پابرجاست', 'سربیشه', 'ادریس', 'رود', 'امداد', 'ارسباران', 'ایام', 'آدریانو', 'مقیأس', 'قواعد', 'وقتی', 'ظنون', 'سرشت', 'بع', 'رشت', 'جمال', 'نااطمینانی\\u200cها', 'پرنوشیء', 'رودخانه', 'ویژگی\\u200cهای', 'عمق', 'تیرهکانی', 'شکست', 'نمی\\u200cیابد', 'قدس', 'پنهانی', 'گیج', 'پیخودم', 'دهدشتی', 'ملی\\u200cپوشانس', 'فردین', 'سوءسیس', 'حرم\\u200cام', 'برح', 'مخدرهای', 'متناقض', 'ارگان\\u200cهای', 'رزاق', 'نسکافه', 'آفت', 'البرز', 'نفرینی', 'اثنا', 'ایزولاسیون', 'خوشمزه', 'صایب', 'هرگز', 'نخ', 'رهبری', 'کاملا', 'جهل', 'فصوص', 'جمالی', 'جواهر', 'گرازیانو', 'بحث\\u200cها', 'سیزدهم', 'خانواده', 'مردی', 'فرهنگی', 'وارتون', 'گیمر', 'امشب', 'فرایند', 'جواب', 'منحریفان', 'صدای', 'آزادیخواهان', 'جمع\\u200cآوری', 'مرسده', 'مدعی\\u200cاند', 'مارسی', 'بودنشان', 'کلزا', 'کیشانس', 'تراوین', 'لجن\\u200cهای', 'دشورای', 'شکسته', 'طراوت', 'ککنیم', 'گیریم', 'به\\u200cشدت', 'فلاحی', 'مزیت\\u200cهای', 'دانمارکیهاست', 'استخوان\\u200cهای', 'لوئیزه', 'پدافند', 'بیمه\\u200cای', 'سناتورهای', 'برشمردمد', 'رزم', 'کتاب\\u200cخانه', 'همگرایی', 'شیءن', 'الغفیلی', 'می\\u200cرسند', 'اردوگاه', 'ولایتی', 'پازل', 'استریپ', 'می\\u200cدانند', 'درقه', 'باتری', 'دروتی', 'مرکزبروجن', 'کهن', 'تروایح', 'انگلیسی', 'معتمد', 'بارندگی\\u200cهای', 'ستاندارد', 'شرقی', 'بارسایی', 'الحمید', 'آل', 'پاسخ\\u200cگویی', 'بیگجه', 'شغل', 'ماجرأسی', 'زورگیری', 'می\\u200cنشستند', 'مکرر', 'تبلیغاتاتیش', 'صدری', 'نگار', 'ادعیه', 'نمی\\u200cذهند', 'ساکن', 'نورافشانی', 'رجوع', 'پایین', 'بشناسد', 'روزهای', 'میلان', 'دهنده', 'دوستان', 'لمس', 'میان\\u200cبلند', 'خیاطی', 'رودکی', 'راهیابی', 'رعایتابستانداردهایکامل', 'پ', 'آفریقایی\\u200cها', 'دستاوردهای', 'به\\u200cدرستی', 'روان\\u200cشناسی', 'گرانبها', 'مناسبی', 'دمشق', 'الجهل', 'سال', 'مشکلی', 'گلشیءفته', 'خطاهای', 'خانواده\\u200cهایشان', 'بویلرها', 'اهالی', 'مبتلایان', 'اثرزار', 'هزینه\\u200cهایشان', 'سوءزان', 'دانشجویی', 'تحصیلی', 'نموده\\u200cاند', 'برداشت', 'نمیخوانندبی', 'احیای', 'قلیان\\u200cها', 'محرومیت\\u200cزدایی', 'بهره\\u200cمند', 'بارز', 'می\\u200cتوانیمد', 'بازچاپ', 'واقعیت\\u200cهای', 'یارپسندیدمرا', 'متشکه', 'بشردوستانه', 'بورسیه', 'چقدر', 'غیرعامل', 'امهات', 'معروف\\u200cترینرین', 'مران', 'ربودن', 'مستضعفان', 'می\\u200cمانند', 'پلانی', 'گروهک', 'محو', 'بالا', 'کاهلی', 'دوستت', 'معاون', 'جوانه', 'پیامد', 'ضعف\\u200cهایی', 'زیبه', 'جنات', 'اندیشکده\\u200cها', 'البلاغه', 'شاهد', 'درنمی', 'قهرش', 'العاده', 'تکه', 'راهکار', 'صداگذاری', 'شمس', 'لحد', 'متهمین\\u200cاین', 'رغبت', 'همزمانی', 'دکترای', 'روزنه\\u200cهای', 'معافیت', 'موم', 'اصواتکم', 'همگام', 'صلحبانی', 'خوشوقت', 'آنجلوتی', 'کلاچ', 'رکعه', 'مهمتر', 'هشتم', 'درگیر', 'سحرگاهان', 'کنونی', 'یاب\\u200cها', 'آمیخته', 'اصولگرایانی', 'یافتن', 'صلی', 'ضخیم', 'هاله\\u200cای', 'بررسی', 'لینک\\u200cهای', 'اسلام\\u200cقلعه', 'داداش', 'پلاسماها', 'شاخص\\u200cهای', 'آکواریومی', 'کارگردانان', 'فرصت', 'می\\u200cگذشت', 'معاملاتی', 'اکثرا', 'محاکمه', 'می\\u200cنماییدم', 'دارا', 'طبیعتا', 'سنگین', 'خورشیءدی', 'نمی\\u200cدهد', 'صداهایی', 'مازراتی', 'نفس\\u200cهایمان', 'ممکن', 'امدادی', 'مقادیر', 'الگوی', 'مالزی', 'سالهایی', 'هستیم', 'جاسوءسی', 'راز', 'مروری', 'بدحجابی', 'نامبردگان', 'حصر', 'علیمردانی', 'مایعات', 'پیشتازگی', 'استضعاف', 'شبانی', 'میانمار', 'کامرانی\\u200cفر', 'قافله', 'وحشیءانه', 'بسیاری', 'قیمت\\u200cهای', 'استعدادیابی', 'درگز', 'کلاهدوز', 'متجاوز', 'کوهنورد', 'لحظه\\u200cهای', 'جوانانی', 'فروی', 'اماراتی', 'قلیاییت', 'اعظم', 'ایزدی\\u200cگر', 'اسفندارمذ', 'تضییع', 'تعدیلی', 'طبس', 'بخشند', 'حاتمی', 'انگلیس', 'دفتری', 'ولایت', 'دیپلمات', 'همر', 'الخاتمه', 'تونیک', 'خط\\u200cهای', 'روستاییان', 'بدن', 'جلب', 'مردمی', 'گلزن', 'سختی\\u200cها', 'شعار', 'مصباحی\\u200cمقدم', 'یخ', 'پلمپ', 'پیامدهای', 'نرمی', 'اهوازی\\u200cها', 'آگاه\\u200cسازی', 'فرنود', 'تیپ', 'پیراپزشکان', 'لنکرانی', 'می\\u200cزارند', 'سبزه\\u200cها', 'اجسام', 'وفادارش', 'ادعاها', 'ساکزمان', 'اطرافش', 'بقا', 'نیاز', 'مدنظر', 'انگیزترین', 'تنفر', 'همسفر', 'پرویزیان', 'بایزید', 'جمکران', 'میناباد', 'بخواهید', 'عقیده\\u200cای', 'خانلو', 'محمدی', 'مقدمه', 'خوزه', 'راد', 'حرمسرارزی', 'نزدیک\\u200cترین', 'سوءدآوری', 'اکتشافی', 'شامل', 'طایفه', 'پنجمین', 'ساختمان\\u200cایران', 'جسمانی', 'قلعه\\u200cنویی', 'الهیه', 'گورمز', 'قروه', 'گردش', 'شفیع', 'معلول\\u200cها', 'شورای\\u200cعالی', 'شاندیز', 'اورأسیا', 'سگ', 'لالیگا', 'تعزیادی', 'معلومم', 'خروجی', 'پذیر', 'بپردازید', 'محجوبی', 'صندوق', 'بیله', 'عناولین', 'بلندای', 'کنگره', 'نمی\\u200cگویند', 'قمه', 'مارگارین', 'الاسلامی', 'می\\u200cلرزید', 'پدیدار', 'هامانه', 'حدودی', 'حکومتی', 'اطلاق', 'اهلیت', 'نبیک', 'آوردن', 'اتوماتیک', 'مینو', 'الرسینی', 'الفقر', 'پیامک\\u200cها', 'سقوط', 'فونداسیون', 'پیی', 'گرمترین', 'کلاهبرداری', 'مودیان', 'متخلأفان', 'هیچ\\u200cکاری', 'الطیبه', 'توطئه', 'اتهامشان', 'رزبلاگ', 'دوستش', 'خودشان', 'منتقدش', 'صاحب\\u200cنظر', 'بزرگتر', 'گفتگویی', 'تان', 'ریاچارد', 'مشایخ', 'پسماندا', 'لحظه\\u200cها', 'پراکندگی', 'والموفون', 'بازیافت', 'مهیار', 'بازسالی', 'کرامتک', 'ارقامی', 'می\\u200cککنیم', 'گردان', 'گریستن', 'تألیفات', 'جاساز', 'بلایی', 'زامیر', 'پرواز\\u200cهای', 'قاتلان', 'کروکنیل', 'باکتری\\u200cها', 'مدیریتی', 'استبداد', 'محذوف', 'انزوای', 'مهرشهر', 'سینا', 'بادام', 'رامین', 'مخفی', 'جهاد', 'قدرت\\u200cهای', 'اسچند', 'همکارتان', 'دومین', 'اقتضای', 'حافظ', 'گدای', 'خراب', 'عرب\\u200cهای', 'دستم', 'ندهند', 'مبلغان', 'وابستگی\\u200cها', 'تدارکاتی', 'نامحدود', 'تعویضی', 'دهد', 'بیژن', 'بیانت', 'قانون', 'تضعیف', 'تزویر', 'رومی\\u200cها', 'داسیلوا', 'علیها', 'تکاپو', 'عادت', 'مصحف', 'آلاینده\\u200cها', 'بریتانیایی', 'حشمت\\u200cالله', 'فروپاشیء', 'فرودین', 'گفت\\u200cگویی', 'نوعرؤسان', 'نخاله\\u200cهای', 'سربازان', 'پناهم', 'نکرده\\u200cایم', 'مهمانی\\u200cها', '\\u200cچین', 'سیما', 'به\\u200cواسطه', 'قالب\\u200cها', 'افشار', 'بپوشاند', 'آرام', 'اوغول', 'تأکید', 'نگرانی\\u200cهایی', 'رضایت', 'لبعض', 'پرگوشت', 'ملی\\u200cپوشان', 'روشنی', 'گلر', 'معدنی', 'بارون', 'پسماند', 'ردهمایی\\u200cها', 'یادآوری', 'خویش', 'مثبت', 'شهاب\\u200cالدین', 'تهدیدی', 'امصار', 'تصمیمات', 'دیزینه', 'تقویم', 'مجوزدار', 'بتوانند', 'زبان\\u200cشناسی', 'ستم', 'مردمد', 'برتز', 'سپری', 'کتاب\\u200cهایی', 'کوب', 'اتوماسیون', 'مؤمنی', 'شکوفایی', 'کارهایی', 'آگوست', 'نصرت', 'اختیار', 'را', 'پنهان\\u200cترین', 'تخصص', 'کیورش', 'عبدالامیر', 'المهدی', 'مزین', 'چمران', 'جمشیءد', 'رمه', 'دهقانی', 'فلینی', 'آبایه', 'اشتباه\\u200cهای', 'دریاهای', 'معترضان', 'روستهم', 'گمارده', 'گله\\u200cمندی', 'رفاقتی', 'بازنگیردد', 'امواجی', 'غضب', 'پرداختی', 'اعتراضات', 'میسر', 'علیهاالسلام', 'ریسمانچیان', 'شیءخ\\u200cالاسلام', 'زیبایی\\u200cهای', 'دعاهای', 'گنجی', 'خواندنی\\u200cها', 'تنخواه', 'درصدد', 'اخوان\\u200cالمسلمین', 'محیط\\u200cزیست', 'موزیک', 'الرحیم', 'عفت', 'میکند', 'نعلبندیان', 'رو', 'دسامبر', 'بامدادی', 'بهره\\u200cهای', 'متبارز', 'بشه', 'بازاریابی', 'شعبه\\u200cهای', 'شیءوه', 'حافظان', 'رموز', 'جذب\\u200cشده', 'نمونه', 'متخصصان', 'بازتاب', 'درهم', 'علی\\u200cالظاهر', 'سوءاران', 'مرگ', 'پارکور', 'تکیه', 'بی\\u200cعدالتی', 'اتفاقا', 'شمیم', 'یکدیگرند', 'رژیم', 'قالان\\u200cخان', 'نحو', 'منتسب', 'ذرات', 'فلات', 'قصر', 'میشه', 'مجاهدان', 'جمهوری\\u200cخواه', 'شعبه', 'تیرها', 'رطوبت', 'همایون', 'برخلأف', 'فصلی', 'مصافحه', 'آموزشیء', 'ذی\\u200cصلاح', 'میهمان', 'ملکوت', 'گفت', 'می\\u200cزیست', 'پیوندها', 'تشکل\\u200cهای', 'گاهو', 'سرشناس\\u200cترین', 'سکنجبین', 'هین', 'ضعف\\u200cها', 'نگرش', 'دنداپزشکی', 'ائتلاف', 'کنده', 'مأمور', 'شکستند', 'باخت', 'حریفان', 'مناطقشان', 'آمریکا', 'مواظب', 'خاص', 'نخورید', 'آرم', 'توالت\\u200cهای', 'خلوص', 'دستهایشان', 'انبیاءء', 'مزمن', 'واترپلو', 'اشتراکات', 'بلغارستان', 'دلالان', 'بختی', 'صورته', 'فیروز', 'الوهیت', 'تیرکش', 'بذل', 'خودبه', 'اعتماد', 'مثله', 'منفعت', 'کشکول', 'انگور', 'تنهاست', 'به\\u200cسوءی', 'اذهان', 'ضاله', 'بلای', 'کارمند', 'اسوءه', 'طریقی', 'زنگی', 'نمر', 'بعثی', 'فرهنگی\\u200cتاریخی', 'حافظه', 'پوستان', 'قانون\\u200cهای', 'آشامیدنی', 'بیازماید', 'بیگانگان', 'کاشف', 'جیوه', 'تصاویر', 'تکنیک\\u200cهای', 'ملازمات', 'مخالفان', 'آیند', 'مواقعی', 'سیأست\\u200cخارجی', 'دشمنان', 'سلطه', 'وظیفه\\u200cای', 'رأی', 'ایستادندار', 'آمنا', 'الحشد', 'من', 'عطر', 'نمی\\u200cماند', 'زمینی\\u200cاش', 'اجتهادی', 'بای', 'مولود', 'پروفسوءر', 'سجیه', 'دوباره', 'دوزان', 'ناخودبه', 'قاهره', 'طب', 'کم\\u200cدرآمد', 'فلسطین', 'صدرنشیءنی', 'دوربین', 'هفتگی\\u200cشان', 'شناختم', 'بیش\\u200cترین', 'تخته', 'بیچاره', 'کارکنان', 'به\\u200cدستور', 'برزویه', 'شوهر', 'جشن\\u200cهای', 'گورستان\\u200cهای', 'کرد\\u200cتر', 'کشیءش', 'الکسا', 'درایت', 'توأم', 'پیروانش', 'فصافحه', 'عثمانی', 'اپوزسیون', 'ضابطین', 'نگیرد', 'کریستین', 'روغن\\u200cهای', 'اقتصاد', 'شاهرخ', 'غیلان', 'نابود', 'هریس', 'عدالتخواه', 'به\\u200cجای', 'گوشیء', 'مرگ\\u200cها', 'بشر', 'فروغ\\u200cتر', 'شاهنامه', 'نسیم', 'کیسه\\u200cای', 'تولید', 'آن\\u200cجا', 'مقدر', 'فلذا', 'منهیات', 'دندان\\u200cها', 'نکرده\\u200cبودند', 'مخروطی', 'توفیق', 'والملآیکه', 'تالشیء', 'اوه', 'داردتی', 'دومی', 'طفل', 'شعری', 'ملله\\u200cی', 'حسب', 'تولی', 'خشونت', 'الولایه', 'سرسبز', 'کشورم', 'سرزده', 'تمسک', 'بیگلری', 'مسطور', 'زبان\\u200cها', 'ترک\\u200cهای', 'وبرح', 'علوش', 'اومدن', 'مادی', 'توسل', 'رسیده\\u200cاند', 'نتیرات', 'وضعیتش', 'مکارم', 'عهبدوللآ', 'الخضیری', 'اسیر', 'جانی', 'پشتوانه\\u200cهایی', 'فرزند', 'معلق', 'نیامدن', 'مصرف\\u200cکنندگان', 'صحنه', 'رئیس\\u200cجمهوری', 'طراح', 'تپه\\u200cهای', 'فریدنتی', 'نداد', 'آلوما', 'ناهی', 'ادیان', 'تعبیری', 'پسته', 'اوریان', 'قدوسی', 'کاشانی', 'نشست', 'خورشیءد', 'نامطلوب', 'تای', 'نهادها', 'درامرپخش', 'نافزایشیءمان', 'سازوکارهای', 'اطلاعیه', 'شفیعی', 'احضار', 'مترقبه', 'شانسم', 'گرافی', 'جبرئیل', 'رقابتی', 'عرفا', 'غیرنظامیان', 'عکس\\u200cها', 'دوازدهمین', 'یادتان', 'راندمان', 'هفته', 'قریبا', 'زحماتشان', 'دیکتاتوری', 'سفالی', 'کرسی\\u200cهایی', 'همکارم', 'استکبارستیزی', 'عنف', 'سپهر', 'بنزین', 'منتظری', 'پادشاهان', 'دادگاه\\u200cهای', 'سیزده', 'فوریتی', 'جعل', 'بخواندنی', 'ن', 'دلیلا', 'تجلی', 'درفتاری', 'بستگان', 'عاملی', 'اقدامات', 'صفرهای', 'آقای', 'تخطئه', 'می\\u200cبروند', 'دلدادگان', 'ناچیز', 'سازمان\\u200cدهی', 'یادواره', 'وادار', 'نوشتن', 'بهدهرکهوتن', 'سی\\u200cامین', 'تفاوت\\u200cهای', 'بخش', 'پتو', 'وصی', 'می\\u200cبینند', 'مجاورت', 'صدایی', 'وداع', 'مقبره\\u200cهای', 'فیاضی', 'گویجه', 'شهرفیروزه', 'خامنه\\u200cای', 'زکاردو', 'مسئولیت\\u200cهایی', 'گامی', 'حیاتی', 'صورتحساب', 'سایپا', 'جنبش\\u200cهای', 'جنگجویان', 'پسته\\u200cهای', 'درون\\u200cشهری', 'نمی\\u200cافتاد', 'مرگم', 'اولترابوک\\u200cها', 'روشنفکرها', 'اسکی', 'مسوءولیت\\u200cپذیری', 'استقلالی\\u200cام', 'بلنده', 'تشریفات', 'اسد', 'حاجی', 'سرچشمه\\u200cهای', 'چرایی', 'استاد', 'بلاک', 'الفیاض', 'حسینقلی', 'اعتد', 'حتوای', 'پیشوایان', 'تفاهم\\u200cنامه', 'حال', 'حیث', 'کرسی\\u200cهای', 'ناراحت', 'دیگه\\u200cای', 'به\\u200cبه\\u200cویژه', 'خواجوی', 'بازکاوی', 'طلای', 'مختصری', 'نمای', 'ما', 'فمن', 'نداشتهد', 'پسماندها', 'غیرمتعهدها', 'روحش', 'شبیهه\\u200cای', 'الویت\\u200cهایی', 'نباتات', 'هرج', 'پسرخاله\\u200cاش', 'نیفتاده', 'علیپور', 'موبفا', 'لیل', 'پاشایی', 'مشیء\\u200cهای', 'ندیدن', 'سلتیک', 'بدارد', 'نمایندگی\\u200cهای', 'بپردازند', 'جریان\\u200cهای', 'خواننده\\u200cای', 'مورد\\u200cهایی', 'دانشجو', 'درآمد', 'سنجد', 'حکیم', 'مجریانی', 'باطل', 'رفتارش', 'جانفییه', 'جوی', 'متفاوتی', 'پایه\\u200cها', 'بطن', 'ناتوان', 'نفرات', 'بعدازظهر', 'ناپذیرتر', 'سرور', 'جراحات', 'خشکی', 'بیدار', 'خصیصه\\u200cی', 'نشسته', 'نیارمی', 'ایستاده\\u200cایم', 'این\\u200cشخصیت', 'روحیه\\u200cها', 'شهرخودرو', 'تلخ', 'برف\\u200cها', 'پهن', 'گرجستانی', 'آلی', 'اشکستان', 'مقالاتی', 'یان', 'صفیش', 'هپیشه', 'توجه\\u200cهایی', 'خوردنیهای', 'مظلومی', 'زمنیه\\u200cای', 'بب', 'چاقو', 'یغماییان', 'بیمه', 'فرغون', 'انفجار', 'ریاضت', 'زهرانون', 'آمیختن', 'حادثه', 'تمنای', 'زیرساخت', 'حیاط', 'جدول', 'قیچی', 'ماناسلو', 'هذا', 'جوش', 'پسین', 'بروکس', 'آرامشم', 'انبوه', 'قلبش', 'با', 'مرادی', 'نتورک', 'بزرگتری', 'حاجت', 'می\\u200cخوانم', 'همسرم', 'پرندگان', 'تقارب', 'امنیته', 'ذکا', 'شهداب', 'می\\u200cفرستم', 'مسل', 'سوءاک', 'تامپسوءن', 'شدهای', 'فکرهای', 'سرطان\\u200cها', 'شکایت', 'ردیابی', 'دیگو', 'سزاوار', 'بدو', 'بهارستان', 'کلمه', 'مبایعه', 'سرازیر', 'لینکها', 'آموزش\\u200cهای', 'ایستایی', 'بتی', 'حماقت\\u200cهای', 'لوکیشن', 'الارتداد', 'گویی', 'نیستماینبار', 'بپندارد', 'یأسمان', 'سپینود', 'دقتی', 'آدم\\u200cربایی\\u200cها', 'برگزینند', 'الرزاز', 'نشستم', 'جشنواره\\u200cهای', 'اورگان', 'عزتمندی', 'کبرأستآنکه', 'گناهانت', 'تحقیقاتی', 'بمصوبه', 'قرض', 'بشنوند', 'جلس', 'پارکینگ', 'شاهپور', 'تعلق', 'اولیاءءیه', 'نگه', 'واقع', 'متکی', 'روایتی', 'الخلیج', 'نق', 'وزنی', 'ثمرقندی', 'استاندارده', 'سیراب', 'پدر', 'عدد', 'وامره', 'بلاغت', 'قرائتی', 'ساده', 'آنلاین', 'جامع\\u200cتر', 'درخان', 'اصلی', 'باغبادران', 'واکنش\\u200cهای', 'پزشک\\u200cهای', 'بهره\\u200cوری', 'دهشتناک', 'گفت\\u200cوگوگریز', 'مسحره', 'پاد', 'امنیتی\\u200cکار', 'شب', 'زنان', '\\u200cهایی', 'هیئت\\u200cمدیره', 'وظیفه', 'تکرار', 'متل', 'نصاب', 'غیرت', 'دهها', 'مقابله\\u200cای', 'بوستینگ', 'راه\\u200cحل\\u200cهای', 'هیچگاه', 'عکاسی', 'استبه\\u200cطوریکهمحققان', 'دیدار', 'نامناسب', 'توهین\\u200cکنندگان', 'ضرر', 'هژبر', 'تقوای', 'توقیف', 'قبالا', 'مرثیه\\u200cهای', 'المدینه', 'لایه', 'نیازم', 'می\\u200cگریزند', 'مراتب', 'فرزانه', 'نشستیم', 'اجتهاد', 'نیازها', 'زمینه\\u200cی', 'رنگ\\u200cتر', 'قطع', 'یدکی', 'کانال\\u200cها', 'فکری\\u200cاش', 'می\\u200cزنه', 'شرط\\u200cهای', 'مالک', 'نمی\\u200cتوان', 'ناپایدار', 'تشنه', 'به\\u200cمدت', 'قضاوتشون', 'فریدنت\\u200cهای', 'حبیب\\u200cاله', 'دریافت', 'موازین', 'تخفیف\\u200cها', 'جلوبارندگی', 'مستمسک', 'آیام', 'یی', 'کارلوس', 'نوکیا', 'الهه', 'شارکلی', 'هنرآموز', 'میرتاج', 'بروجن', 'مقاله\\u200cهای', 'موفقیتری', 'عناصر', 'خوانین', 'همنی', 'متوجه', 'تئوریسین\\u200cهای', 'معصومین', 'داوری\\u200cها', 'اناظمی', 'علا', 'مکان', 'عاشقان', 'عصانیت', 'کارکرد', 'سلسبیلا', 'مطالعه', 'عمره', 'نیاورده', 'دود', 'تحریک', 'مجلل', 'سوءد', 'واجب\\u200cتر', 'بردبار', 'شگرفی', 'فایده\\u200cی', 'زنجیرش', 'سنت', 'توکل', 'نوافل', 'جرم\\u200cهای', 'تیزهوش', 'تعاملات', 'خواستن', 'ایلخانان', 'گسیخته', 'سانگ', 'عملکردی', 'بزند', 'رؤیتایی', 'داوود', 'می\\u200cکردند', 'قیوم', 'بانو', 'عهده\\u200cدار', 'گرامیان', 'هتل\\u200cها', 'قلمداد', 'نمی\\u200cشود', 'غذایی', 'آی\\u200cتی', 'مهدیه', 'زنای', 'ساخته\\u200cاند', 'بانوان', 'سمت', 'فرمان', 'فعالیت\\u200cهایی', 'داستانی', 'می\\u200cبینیم', 'نظریه\\u200cها', 'کوه', 'بازدید', 'مربیگری', 'کمیسیونگذارش', 'ام\\u200cپی\\u200cاس', 'مهرافروز', 'بازرگان', 'شالی', 'جدیدی', 'فاطمی', 'بیدگل', 'شاا', 'یادگاران', 'مصدومیت\\u200cهای', 'شاهرود', 'ماگریدج', 'مشهور', 'خیر', 'زهک', 'متنوع\\u200cاند', 'نمی\\u200cتوانستندند', 'رازآلود', 'خورده\\u200cاید', 'پوریزدان', 'بیندگان', 'عبدالرحیم', 'آغوش', 'شایدازریشه', 'طارمی', 'پارک', 'حرم', 'دارو', 'وسیدی', 'بسکتبال', 'معروف\\u200cترین', 'ژنرال', 'فعالت\\u200cتر', 'الفرج', 'روستاهاییبوسنگان', 'واژه', 'آلن', 'م', 'همه\\u200cهای', 'عاشورایی', 'حقوق\\u200cبگیر', 'اطرأفتادن', 'ففرج', 'جوانرود', 'بالین', 'ستیزان', 'لایوالی', 'نوکنده', 'انضباط', 'تند', 'البرادعی', 'صف', 'شوینده\\u200cهایی', 'کماندوها', 'جانش', 'فقید', 'قرا', 'هیئت\\u200cهای\\u200cاش', 'گیوتین', 'سارنگ', 'مقر', 'بچه', 'تلک', 'مظفر', 'شنیده\\u200cها', 'روش\\u200cهای', 'تسلیت', 'سردرد', 'لهستان', 'واحده', 'پارسال', 'طالبان', 'نوروز', 'سیمان', 'مجری', 'بازدیدتون', 'جان\\u200cنثاری', 'وطن', 'می\\u200cبر', 'ظاهری', 'حسد', 'شیءوه\\u200cهایی', 'شاغلان', 'دعوای', 'آپیان', 'کمیاب', 'می\\u200cشناسد', 'داریوشیء', 'مدیرکل', 'جسم', 'وسترن', 'ینکه\\u200cپاره', 'اعاده', 'موعد', 'نگذارید', 'اواسط', 'زن\\u200cهاست', 'قسمت\\u200cهای', 'ببندد', 'ظرفت\\u200cها', 'منافق', 'فراوان', 'پرقلدرترین', 'عبدالوند', 'برآمدند', 'فلیپین', 'ناداراترین\\u200cها', 'قیمت\\u200cها', 'پدران', 'سؤالات', 'هیعلوفه', 'ویران', 'اوشاغیدا', 'معارضانی', 'خوشبینانه', 'سکوی', 'صلحی', 'کفایت', 'شکنجه\\u200cها', 'غیراتحادیه\\u200cای', 'لوله', 'سجدوا', 'نهادی', 'برسد', 'انکارناشدنی', 'کامل', 'فهمی\\u200cهای', 'نوشتاری', 'اصفهانی\\u200cهای', 'کوتاه\\u200cقامت', 'باستان', 'مابین', 'صد', 'انصار', 'مسکو', 'ترسیدیم', 'المستقبل', 'شمیران', 'اوکراینی', 'سست', 'رنگ\\u200cهای', 'پربهره', 'مضحک', 'داریوش', 'عشری', 'نهضت', 'زندی', 'سخت\\u200cترین', 'دادد', 'الشیءخ', 'غهفار', 'مراجعان', 'تطبیقی', 'سعیدی', 'گرامیتان', 'ساز', 'ارسال', 'کنند', 'نوزاد', 'کامیون\\u200cها', 'صابون', 'قچار', 'سیا', 'ماوا', 'نورانیه', 'فکیف', 'بخوانم', 'بیوگرافی', 'خوبیشتن', 'واکنشیء', 'بنیامین', 'داشتند', 'نقشه\\u200cخوانی', 'گویش\\u200cهای', 'عابدینی', 'رمپنا', 'اشراق', 'تنزیه', 'آبشاری', 'ملای', 'رویه\\u200cی', 'مسوءولند', 'یازدهم', 'بسته', 'اون', 'دوره\\u200cای', 'صراحت', 'جمله\\u200cای', 'مشخصات', 'پیامکی', 'توضیحاتی', 'پایان\\u200cناپذیر', 'فوتش', 'دیوونه', 'علوفهش', 'دانست', 'کوچکتری', 'اشورهای', 'بوفون', 'تنهایی', 'می\\u200cپرداختند', 'فولانی', 'خدعه', 'کاترین', 'عشایری', 'برندهای', 'مصرف', 'معرفت', 'عمیق\\u200cتر', 'ایوانکوویچ', 'هدایت', 'بدانند', 'فیلمبرداری', 'عالمطنین', 'آفت\\u200cهای', 'دیگرن', 'الروح', 'شناس', 'ضد', 'یکی', 'کشورشان', 'حرکتتان', 'بزرگی', 'شیءمیایی', 'نسااولرسوءل', 'شبها', 'صرفا', 'متزلزل', 'الاعداد', 'یکلف', 'مقید', '۲۰۱۵', 'مجددا', 'کجاوه', 'بیندرعباس', 'فقیدگی', 'آبادان', 'فتاحی', 'سازیم', 'احمدی\\u200cنژاد', 'کوتاه\\u200cترین', 'بسا', 'اسکار', 'ضروریی', 'وسایط', 'کفشچیان\\u200cمقدم', 'جرس', 'خاصیت', 'کردند', 'رنگاران', 'راه\\u200cهای', 'پدافندی', 'خارگ', 'کاریز', 'سنه', 'اتممت', 'آب\\u200cروبی', 'مغنیه', 'حکمت', 'سلتاویگو', 'پلهای', 'کاربران', 'مایعاتی', 'لامپ\\u200cها', 'سربازانی', 'شادمان', 'شهاد', 'همشهری\\u200cهای', 'نقص', 'قمصری', 'ژنرال\\u200cهای', 'مجله', 'تودیع', 'چلویی', 'ببرای', 'دریافتیم', 'ویلن\\u200cسل', 'بخوانیم', 'می\\u200cنشیءند', 'فعلیت\\u200cهای', 'نارسیس', 'فاصله\\u200cگذاری', 'خداوندی', 'مشاورین', 'کاخانه', 'دوغارون', 'باشت', 'کارنامه', 'هفته\\u200cی', 'افضل', 'تصدی\\u200cگری', 'لیندنشستراوس', 'تلاش', 'شمخانی', 'منتقد', 'رمز', 'اینجوری', 'طلاب', 'شادکامی', 'جاولانه', 'متفقا', 'بیشتر', 'رامی', 'جهنم', 'ابهام', 'خوردادگان', 'مرأسموم', 'دهکده', 'تشکل\\u200cها', 'اکسیدان\\u200cهای', 'منابع', 'بیخه\\u200cای', 'سربند', 'خوانندگی', 'اسباب', 'کادرهای', 'آراء', 'نازل', 'برشمردند', 'کارگاهی', 'سرلشکر', 'ایمن', 'یوسف', 'مجروحین', 'درویش', 'ییرتار', 'امتحان', 'تف', 'مالدار', 'پات', 'فعندها', 'گذارهایمان', 'اکبروننه', 'هزاران', 'مصاحبه\\u200cای', 'استحمام', 'غضبک', 'فلان', 'قفسی', 'کاخ', 'چشمم', 'رسیده', 'درب', 'عینیت', 'نورزیدن', 'ثابت', 'می\\u200cخوانیم', 'گمشده', 'بورس', 'آفرینی', 'هیچ', 'فایل', 'اینم', 'حرکت', 'ببرد', 'فدرال', 'ییلی', 'جداگانه\\u200cای', 'پوردستان', 'واجب', 'شهیدان', 'دیدارهای', 'مار', 'دهدنارسیسبهتر', 'مؤسساتی', 'انگشت', 'نامیده', 'اشعارنازنین', 'الصلاه', 'مشکوکنیم', 'پاسخ\\u200cهای', 'شهدای', 'عقاب', 'چندی', 'محلی', 'سیستانی', 'بدی', 'متنوع', 'عقیم', 'جمهور', 'مسلحانه', 'بچشند', 'خودروهای', 'واقعن', 'مسنجر', 'لطافت', 'مدام', 'کنسرسیوم', 'هوشمندسازی', 'ژابی', 'چندباره', 'شدی', 'مجموعه\\u200cهای', 'آکین\\u200cها', 'نژاد', 'سالن', 'مهم\\u200cترین', 'نصراله', 'ظرفترین', 'فرقت', 'شریان\\u200cها', 'محمود', 'بایستی', 'اندریان', 'نیزرهای', 'جاری', 'روابط', 'بعدا', 'قنبرزاده', 'طبقات', 'اعتمادی', 'دیده', 'دلیلی', 'دلبستگیش', 'موی', 'فرارو', 'سالم', 'بن', 'مسکن', 'جهان\\u200cهای', 'نقدر', 'امنیت', 'میکردن', 'شنبه\\u200cشب', 'پوش', 'تراز', 'عروسک', 'پیا', 'فیس', 'ثوفور', 'تنگسیری', 'تأثیرگذاری', 'کوزه', 'سرمایه\\u200cای', 'پنتاگون', 'جبهه', 'ماریا', 'محبوب', 'سال\\u200cها', 'باش', 'موبیل', 'توده\\u200cهای', 'چشم\\u200cاندازی', 'بی\\u200cعیب', 'فعالانن', 'کودکانه', 'مابه\\u200cالتفاوت', 'انداختن', 'روزمینی', 'قرقیزستان', 'ایستگاه\\u200cهای', 'سطوح', 'البیان', 'بی\\u200cگمان', 'باهنر', 'الینده', 'شیءرخان', 'شده\\u200cهای', 'ماهی', 'فولاژ', 'تجردید', 'زنانه\\u200cی', 'شکات', 'خواب\\u200cشان', 'شبهای', 'مؤسسه', 'کارآمدی', 'چراغی', 'بیان', 'ام', 'بروکسل', 'پاسخگو', 'هکاری', 'آبجی', 'فقر', 'پشت\\u200cپرده\\u200cای', 'السلوم', 'کربی', 'هتک', 'دستورهای', 'مسئولیت\\u200cپذیرانه', 'نکبت', 'دهید', 'چیزایی', 'ننگ', 'دری', 'طریقت', 'بی\\u200cسابقه\\u200cای', 'آموز', 'نابه', 'اختلال', 'گوگان', 'حسنعلی', 'کاستاریکا', 'کتابناک', 'توانا', 'جهانی', 'معقول', 'سفارت', 'یقبل', 'خطر', 'کوفه', 'میزهای', 'قالوا', 'موادامی', 'وقفه', 'مالکان', 'هواپیماها', 'مهیاری', 'بگیریم', 'صمیمی', 'عروسی', 'کیهان', 'علیرضا', 'دلسرد', 'ایده', 'سوءسن', 'آپ', 'مکانیزاسیون', 'کانتابریایی', 'عبدالصمد', 'بریتیش', 'امالی', 'بارداری\\u200cتان', 'نرآتزوری', 'خویی', 'راهبردی', 'لحنی', 'وبگاه', 'تجارب', 'گذشته', 'نموده', 'ارج', 'کالایی', 'باقری', 'پلاکت', 'درنگ', 'خودسازی', 'دقیقه', 'نرم', 'فرزام', 'سالی', 'پورحیدری', 'اختلاف', 'المعتمد', 'ناظمی', 'پربازدیدترین', 'پدیدآورندگان', 'نکرده', 'آباد', 'تفویض', 'تایپ', 'آشغال', 'حکمرانان', 'دوی', 'زیستن', 'رخ', 'صحف', 'گام\\u200cهای', 'مساله\\u200cمحور', 'بی\\u200cتوجهی', 'واردو', 'لبهای', 'زیربنایی', 'اقصادی', 'گوی', 'سیمین', 'منافع', 'دوران', 'امپراتوری', 'آنجا', 'کتابه', 'اقرب', 'فیوز', 'الکس', 'گیت\\u200cهای', 'دو', 'شنا', 'شاهنشاهی', 'جزم', 'حتم', 'فراغ', 'موز', 'بیست\\u200cساله', 'همانا', 'جهان', 'لکنا', 'قطعه', 'ورونه', 'تقدیم', 'فیلم\\u200cهایی', 'ویندوز', 'غائبند', 'گازهای', 'مصاحبه', 'شیءیا', 'اسمایل', 'اسارت', 'افتتاح', 'قدر', 'مهربانی', 'شایعات', 'هشتک', 'اراذل', 'مشاورت', 'دوغوب', 'همسوء', 'شده\\u200cاند', 'گریاندن', 'عشا', 'صعود', 'مغازه\\u200cای', 'پوزولانی', 'داروهاید', 'جابه\\u200cجایی', 'کامپیوترها', 'صاغانی', 'آیدا', 'آیلار', 'نطنز', 'بشیءر', 'عرب', 'معوعده', 'گلایه\\u200cدارزاده', 'گل\\u200cمحمدی', 'می\\u200cدهدازدواجهای', 'تبریسک', 'مموری', 'قحطی\\u200cهای', 'سبز', 'جدی\\u200cتر', 'چریکی', 'وزهای', 'کارگرزی', 'تأثیرگذرانده', 'دامنه', 'اتفاق', 'السابق', 'آق', 'نیشکر', 'ارزیابی', 'ابیض', 'آبه\\u200cگونه\\u200cای', 'جولی', 'ذهندگان', 'کلیک', 'بانویی', 'تبعید', 'صدا', 'قادر', 'می\\u200cکرده\\u200cاند', 'محبیان', 'کیفرخواست\\u200cهایی', 'زبان', 'اشغالگری', 'میشد', 'عالیات', 'غسیل', 'مصطفی', 'رانندگی', 'مدت', 'چناران', 'اجناس', 'دهانه', 'خلق', 'حرارت', 'یافت', 'الاحزانیان', 'قیامامان', 'خیریه', 'مجوز', 'نمی\\u200cکشند', 'درجا', 'لبت', 'بالکان', 'ذره\\u200cای', 'لذیذ', 'مرتضی', 'اشباح', 'آن\\u200cجایی', 'مکشور', 'تشویق', 'مواز', 'تبین', 'معصومیت', 'که', 'ابیه', 'اسطوره\\u200cای', 'خردسالشیءات', 'لیکس', 'اولیویرا', 'رنجبر', 'ممنونم', 'حیات\\u200cوحش', 'کنفرانس', 'وکلای', 'کپنهاگ', 'پیامبر', 'تراکتورسازی', 'علامه', 'کلاه', 'خوابگاه\\u200cها', 'حقایقی', 'سرزمین\\u200cهای', 'بدرالسادات', 'ایران\\u200cخودرو', 'همگانی', 'اسرار', 'مدهوش', 'راهنمای', 'پرنده', 'شکرت', 'به\\u200cدوره', 'اطهار', 'زیرا', 'انجمن\\u200cها', 'شانتاژهای', 'می\\u200cرسد', 'ناپلئون', 'جمهوریخواهان', 'اغراق', 'جامعه\\u200cالمصطفی', 'صیادان', 'شاخ', 'رابطه', 'شیءرینی', 'دون', 'گرد', 'بزرگمهر', 'پیروزی\\u200cهای', 'ایگواین', 'قرص', 'فرهیخته\\u200cی', 'شیءوه\\u200cنامه', 'مواکب', 'تکذیبشان', 'آن\\u200cگاه', 'کنسرت', 'ساختمانی', 'نوین', 'عرفه', 'پلاکادرها', 'سلام', 'الف', 'سرمایه\\u200cگذارهایمان', 'گلی', 'فرانسوءی', 'دیرهنگام', 'صدرنشیءن', 'تندروها', 'کمیلی', 'چوپان', 'رضی', 'شداید', 'جرائم', 'سنگی', 'خوبش', 'کژتابی\\u200cهای', 'بارش\\u200cها', 'صنفی', 'دغدغه\\u200cای', 'برآورده', 'روحانیان', 'سیوا', 'صحنه\\u200cها', 'فرزنشناسم', 'مدعا', 'لیسانس', 'هجیج', 'مؤسسات', 'سیف\\u200cالله', 'چشمان', 'صنعتی', 'تصادفات', 'می\\u200cگویم', 'نجفی', 'کلبه\\u200cها', 'پاپ', 'جستجو', 'گله', 'متحول', 'ظلمت', 'دوستم', 'خدمه', 'ماگما', 'فلوله', 'جسوءی', 'انه', 'متعجبانه\\u200c', 'کمرشکن', 'می\\u200cبایستی', 'یوجب', 'تاریخمان', 'نگارش', 'دویست', 'عظمتی', 'میزد', 'نمی\\u200cتوانند', 'انداخت', 'حرف\\u200cهای', 'مشتریانی', 'وحشیءگری\\u200cهای', 'متفرقه', 'دیاری', 'شور', 'پیش\\u200cداوری', 'جیلینگام', 'کارآمد', 'تمسخر', 'منجر', 'شناسایی', 'یاران', 'استان\\u200cهای', 'موزه', 'فائق', 'نجف', 'مصلحته', 'وخیمی', 'برنامه\\u200c', 'اکبریسم', 'به\\u200cموجب', 'می\\u200cخواهید', 'مناسبت\\u200cها', 'فعال\\u200cسازی', 'قوتی', 'رشته', 'داده\\u200cاست', 'شامات', 'واژه\\u200cها', 'روستاییانی', 'هیولا', 'سیأسی\\u200cکاری', 'غیرمنه', 'الجعیثن', 'دانشکده', 'بنات', 'کانادا', 'جلوها', 'بخورند', 'میلیاردها', 'حاضر', 'به\\u200cمانندیکموقعیتابستانی', 'نوآوری\\u200cهای', 'ممنوعیت', 'مدعی', 'مخدوش', 'مؤمنات', 'زخمه', 'برجسته\\u200cی', 'لیگ', 'همدیگر', 'کلانی', 'همسایه', 'افزون', 'نقش', 'صفاری', 'خیل', 'ظهور', 'نمایندگی\\u200cاش', 'طرح', 'به\\u200cصورت', 'پیگیری', 'متشکل', 'اخوان', 'جناب', 'تجمیع', 'الزمات', 'استحاله', 'موتورش', 'دریافتم', 'صادارهی', 'دانشگاه\\u200cهای', 'سحر', 'صنایع', 'تابی\\u200cاش', 'باکتری\\u200cهای', 'توانایی\\u200cهای', 'اطلاعاتان', 'عزیزانی', 'صادقانه', 'تله', 'باستان\\u200cشناسی', 'کبشا', 'معاویه', 'کارمزد', 'گرمدرهعباس', 'براندازانه', 'دارالمؤمنین', 'سوءم', 'محدودیت\\u200cهای', 'کشتارهای', 'بارونی', 'نگاتیف', 'گیرم', 'ظهرا', 'مارچلو', 'برگشتی', 'مصفای', 'کرک\\u200cها', 'آماج', 'جوان\\u200cپور', 'گویندگان', 'خریدارانی', 'کاظمیان', 'می\\u200cبیکنیم', 'خواه', 'خودروی', 'رعایت\\u200cنکردن', 'گول', 'یورش', 'دیزین', 'مدافعین', 'دولتش', 'هنگامه', 'می\\u200cرسانم', 'مبالغ', 'شبیب', 'پرتردد', 'خودآرایی', 'بی\\u200c', 'جور', 'متالورژی', 'ساره', 'رابنیندرانات', 'دزدی\\u200cهای', 'پیکر', 'خطبه', 'منظم', 'کرخی', 'امرورزش', 'زمینه', 'دولتمردان', 'سمتان', 'معارفه', 'الله\\u200cکرم', 'الشریف', 'موفقیتش', 'شاکه', 'ترور', 'مشک', 'خلیج', 'سینه\\u200cزنی\\u200cها', 'توافق', 'قاریان', 'اقبال', 'صرفه', 'سنتی', 'خدای', 'برشمرده\\u200cاند', 'اکنون', 'ولباچیا', 'تیرگی', 'فایل\\u200cها', 'تنومندی', 'پرسش\\u200cها', 'همتی', 'مسیلت', 'شبهات', 'حرفه', 'الطور', 'العاده\\u200cای', 'مرقه', 'پرواز', 'مشق', 'رسانی\\u200cهای', 'املاح', 'حضیض', 'نتوانستنده', 'درگذشت', 'وچهرپرداز', 'گزارش\\u200cهایی', 'المستقیم', 'جنگل', 'می\\u200cآمد', 'توانستند', 'تصمیم\\u200cگیری\\u200cها', 'چرخ\\u200cدستی', 'مریوان', 'نداده\\u200cاند', 'پاسخ', 'شعبده', 'پنل\\u200cهای', 'بسته\\u200cبندی', 'سنگ\\u200cاندازی', 'زیستگاه', 'هنگامی', 'منسوءجات', 'کانون', 'بولیکی', 'رنانی', 'مدته', 'شکایات', 'رباتیک', 'مجارستان', 'آوایه', 'تومان', 'صداها', 'السموات', 'برنداشته', 'خروج', 'خردمند', 'بی\\u200cسابقه', 'سمتی', 'همرنگ', 'رازی', 'متوسط', 'شمعدون', 'سنوات', 'نزدیک', 'گردیده', 'مفهوم\\u200cهای', 'خرابی', 'شادی\\u200cآفرین', 'المقدس', 'مضافا', 'نرفته\\u200cایم', 'بیشترین', 'دژ', 'اختلافاتی', 'کارآموزی', 'اهمیت', 'سرویس\\u200cها', 'قدرتمندی', 'روش\\u200cها', 'خورده', 'کلاه\\u200cبرداری', 'دیدگاه\\u200cها', 'ترس', 'به\\u200cدوران', 'بودنت', 'نگاهبان', 'بین\\u200cلامللی', 'آستان', 'المسکین', 'حوزویان', 'آپارتمان\\u200cهای', 'دانش\\u200cآموختگانی', 'شیءپورهای', 'متن\\u200cها', 'کنترل\\u200cها', 'به\\u200cجایگاه', 'پرهیزگار', 'استخوان', 'بزنم', 'گذروندم', 'خورش', 'ثمره', 'شریفی', 'عوضی', 'بنایی', 'نوازندگی', 'مسلمین', 'سقفی', 'آزمایشگاهی', 'گرانقدر', 'اجبار', 'تحمل', 'تقلید', 'کردان', 'اسفل', 'تعارض\\u200cها', 'غایتمندی', 'پلیس\\u200cها', 'سره', 'احکام', 'بیانیه\\u200cای', 'بلوک\\u200cهای', 'دوستی', 'قوانین', 'خجالتی', 'موریس', 'گردابی', 'گذشت', 'می\\u200cبارد', 'پرحاشیءه', 'گاها', 'والهند', 'قاصدک', 'گرفته\\u200cایم', 'تکثیر', 'لنجی', 'نیم', 'تماشاگران', 'دارم', 'تعطیلی', 'ترشیء', 'آفتادند', 'گذاشتند', 'خدمتگذار', 'دق', 'سرازیری', 'مانوری', 'یکفیه', 'قهر', 'تبیانات', 'اضافه\\u200cتر', 'وزش', 'هیاهوی', 'موتوری', 'دربار', 'روح\\u200cالله', 'بینی\\u200cها', 'هدفش', 'پرونده\\u200cی', 'انسجام', 'ور', 'مایل', 'مستقبل', 'نطنزآنلاین', 'خوانه', 'اوکراین', 'محرم', 'نامناسبی', 'پارگی', 'شنونده', 'یطحن', 'اودیپ', 'هارد', 'پارلمانتاریست\\u200cهای', 'تدبر', 'کارگزاری\\u200cها', 'سعادت', 'دلال', 'جویی\\u200cهای', 'مجریان', 'خبرگری', 'جلال\\u200cالدین', 'آمیزه', 'قطب\\u200cهای', 'زیباییهای', 'بساط', 'تیراندازی', 'طیبه', 'نشستن', 'بهشون', 'استثنایات', 'راه\\u200cانداختن', 'زباله\\u200cهای', 'دوردست', 'معضل', 'اسلام', 'اسراییل', 'شکلی', 'معجزه', 'سقف\\u200cهای', 'شکستن', 'یخچال', 'چنشناس', 'عمو', 'مناسبت\\u200cهای', 'الراصد', 'ترنم', 'شریعت', 'ارزشمندساززن', 'میکرویکوپ\\u200cها', 'راه\\u200cحلی', 'تی', 'برانکو', 'غیردولتی', 'انی', 'مربوطه', 'فاستقیما', 'غیرحرفه\\u200cای', 'سمر', 'لیونل', 'می\\u200cگذارید', 'زعفران', 'کمیته\\u200cی', 'پرند', 'خواهان', 'می\\u200cسازد', 'اینها', 'پرتاب', 'بگیری', 'بصائر', 'ترانس\\u200cها', 'بسازد', 'دربرگیرنده', 'آفریدند', 'آیات', 'مسالمت\\u200cآمیز', 'فخرا', 'اجتماعات', 'شارا', 'اطلاعیه\\u200cای', 'خوشبختی', 'شکوفاتر', 'العرینی', 'استحکام', 'زمانبندی', 'دوستار', 'الان', 'فرودگاه', 'پرهزینه', 'الفاظ', 'چاپ\\u200cشده', 'ای', 'ضربه\\u200cزدن', 'پیامبران', 'اسماعیلی', 'روشنفکرنمای', 'نامهربانی\\u200cهای', 'فیلمش', 'بی\\u200cسابقه\\u200cی', 'همانی', 'روایاتی', 'کت', 'حاد', 'ضروریات', 'رنگشت', 'نمازی', 'فوائد', 'حلقه\\u200cها', 'طوفان\\u200cهای', 'قبرا', 'عرضه\\u200cهای', 'دبی', 'درچوبیندربرگزارید', 'انحراف', 'گرامیداشت', 'دکتری', 'نمی\\u200cتواند', 'مهرکی', 'شمسعلی', 'سنییس', 'آیت\\u200cالله\\u200cالعظمی', 'دستکاری', 'موزون\\u200cاش', 'مشعلوفهان', 'خلج', 'فراگیر', 'حداقل', 'الجزایر', 'ظهر', 'دندا\\u200cهایش', 'هشتک\\u200cهای', 'دهندگان', 'پنجره', 'اصرار', 'می\\u200cکشد', 'اریکا', 'کتاب\\u200cهای', 'لگدها', 'مزد', 'قانونگذاردی', 'حمله', 'می\\u200cساختند', 'کلاهبرداران', 'استقبالی', 'کالای', 'سهام', 'حامل\\u200cهای', 'کلجه\\u200cای', 'خفته', 'وقتتان', 'آرایشگران', 'عتابی', 'وضعها', 'فی', 'راجرز', 'مناقشه', 'گردانندگان', 'طاهر', 'فاکتورهای', 'دانشسرای', 'محی', 'گند', 'تکفل', 'جست\\u200cوجوهای', 'نیفتاده\\u200cاست', 'اشنع', 'فور', 'چهارمش', 'لالیم', 'کمال\\u200cطلبی', 'نسبتا', 'وزارتخانه', 'گوشیءمو', 'تصویربرداری', 'گرفتن', 'آشفتگی\\u200cها', 'محلات', 'مشورتآن', 'تصمیم', 'زروان', 'دقیق\\u200cتری', 'عم', 'صراخ', 'مرتب', 'بکشاند', 'نکاتی', 'معناداری', 'افطار', 'دیابت', 'کارتون', 'انجمن\\u200cهای', 'اساس', 'می\\u200cتوانید', 'مستکبر', 'وجودشان', 'رحم', 'می\\u200cپسندم', 'بزهکاری', 'خاطره', 'ارتباطات', 'الگوهای', 'درگاه\\u200cهای', 'روایت', 'مرطوب', 'گستجرده', 'براندازی', 'بردار', 'سفرها', 'موادریدی', 'شهرها', 'انتخابیه', 'متغییرها', 'صفار', 'اقیانوس\\u200cها', 'پربهجت', 'عبور', 'الگو', 'آوازه', 'اجابت', 'هب', 'مسیها', 'پروازا', 'دانیل', 'نامحرم', 'افکارش', 'کلکته', 'شامگاه', 'وصل', 'احیاات', 'کته', 'باشکوهی', 'مرتضوی', 'منم', 'لدنک', 'عریان', 'بابایی', 'کاه', 'می\\u200cخوانند', 'العقیده', 'ثروت\\u200cهای', 'استفاده', 'جایگاهی', 'زهر', 'حسابم', 'هارا', 'بزرگانی', 'وتزل', 'بحرانی', 'چطوری', 'متشکرم', 'وحیدی', 'وبا', 'فعالانت\\u200cهای', 'خصایص', 'یاداشت', 'توافقنامه', 'چشمگیر', 'شکند', 'واژگونی', 'لقمه', 'القربی', 'جدی\\u200cترین', 'چرخه', 'جمعیتیکه\\u200cای', 'مارکا', 'مبایدله', 'کاریابی', 'مختاباد', 'چنانکه', 'کرنید', 'محروم', 'تجاوز', 'سبزی\\u200cها', 'دهک\\u200cهای', 'ارتقای', 'اشرفی', 'چنینی', 'جسمی', 'سیدحجت', 'المال', 'تعهدات', 'تویی', 'آزمایش', 'مخملباف', 'پرشمار', 'سگ\\u200cها', 'پیتزا', 'درآوردند', 'پاسداران', 'داور', 'تأملات', 'گناباد', 'آمپول\\u200cهای', 'پیش\\u200cدبستانی\\u200cها', 'ظلم\\u200cهای', 'سوءفورا', 'نمی\\u200cکید', 'اکبر', 'نخل\\u200cهای', 'نظام', 'کردم', 'محاسه', 'پارسیان', 'اعتیاد', 'ماتیوس', 'مختار', 'قلاده', 'السلام', 'کردها', 'مهراوه', 'جواندیم', 'خبرگزار\\u200cها', 'متحدان', 'زمانه', 'خون\\u200cمان', 'لیوان', 'سامانه', 'تومور', 'صاحبانش', 'حریف\\u200cاش', 'برف', 'بامی', 'به\\u200cسادگی', 'فرمان\\u200cهای', 'بازنگشت', 'نهاد', 'حصول', 'مصوبه', 'لهجه\\u200cها', 'نمی\\u200cخواهد', 'سطل', 'آیین\\u200cها', 'فاضلاب', 'بازرسی\\u200cها', 'متعددی', 'عطش', 'قابلیت', 'آواز', 'فهد', 'الباس', 'ضربه\\u200cهای', 'آن\\u200cها', 'ایجاب', 'کلاری', 'مکی\\u200cاش', 'شرکت\\u200cهای', 'پانته\\u200cآ', 'ردپای', 'اکناری', 'غریبا', 'می\\u200cتوانستند', 'جانمایی', 'القاعده', 'چشیءده\\u200cاند', 'بوز', 'حضار', 'تابلو', 'امسوءلاند', 'علایی', 'مانم', 'بال', 'چادرها', 'ایمزنه', 'دنیس', 'صرفشان', 'کم\\u200cرنگ\\u200cشدن', 'حیثیتی', 'موفقیت\\u200cهای', 'نابرابری', 'اهدا', 'سخنی', 'صعده', 'نفر', 'آفریدگار', 'سوءپربازار', 'خدا', 'حیطه\\u200cی', 'بازیگری', 'مکمل\\u200cهای', 'تیم\\u200cهایی', 'شانه', 'سایرین', 'اینتل', 'بدبینی', 'تحرک', 'دهیم', 'نامش', 'مقداد', 'موقتان', 'آرشاوین', 'هزینه\\u200cیابی', 'دونالد', 'تغییری', 'پرورشیء', 'راهپیمایی\\u200cها', 'کلره', 'پیامک', 'اغلب', 'صنوف', 'رایلی', 'نقدهایی', 'حنجره\\u200cها', 'اسکن', 'تیکمسیرا', 'اسراییلی', 'حیواناتشان', 'کربوهیدرات', 'مجسمه\\u200cهایی', 'دنیا', 'مشمیز', 'آیا', 'مفتوح', 'روزینگی', 'سنگدانه\\u200cهای', 'خرم\\u200cآباد', 'بهبود', 'التیام', 'بلژیکی\\u200cها', 'السائل', 'تحکیم', 'دردناکی', 'مطرح\\u200cترین', 'گافر', 'تمریناتشان', 'شرب', 'سنجابی', 'از', 'پسرم', 'دستکش', 'تابید', 'پیشمرگه', 'خلأصه', 'دستیابی', 'صالحی', 'آراش', 'میمونی', 'اندوه', 'تئوریک', 'ملکی', 'گقت', 'یتیمان', 'آپارتمان', 'آمریکای', 'معناداراتر', 'ریسی', 'مصرع', 'مانده', 'قایدا', 'اولاد', 'کمل\\u200cزاده', 'عبدی', 'منتقل', 'رابط', 'تخصصی\\u200cتر', 'بازها', 'وبالاگم', 'استنلی', 'خنجی', 'صرف', 'لازمه', 'لحود', 'دعوت', 'اکملت', 'فرودهای', 'بندر', 'همان\\u200cها', 'منکم', 'غاصبان', 'حقیقت', 'باکتری', 'سلیقه\\u200cی', 'ترکیبی', 'ایستادد', 'صفحه\\u200cهای', 'یاهو', 'مراکز', 'بگذاریم', 'گرمایی', 'فراق', 'الشرطی', 'گرفتیم', 'ایتام', 'مغازه', 'یکجانبه', 'ضایعات', 'فرزندآوری', 'خوارزمیان', 'یمهره', 'انگیزان', 'ثمرات', 'کنند\\u200cگری', 'اثرگذار', 'جوانرودبرگزارشد', 'ترکی', 'ماتمکده', 'المفتاح', 'پروازهای', 'هیدروکربنی', 'موافقتر', 'ندایی', 'عموی', 'تعبدی', 'محیط', 'تحلیل', 'بایی', 'اضافه', 'فهمیدم', 'فرمالیته', 'گزارش\\u200cهای', 'نیازمندی\\u200cهای', 'خمین', 'نوذر', 'ایمه', 'شناخت', 'قهکمت', 'محرک\\u200cهای', 'تلی', 'سفیدآب', 'اگر', 'تینو', 'رشد', 'النظر', 'مع', 'پایدی', 'پرداخت', 'رعدوبرق', 'نهایی', 'روحی', 'مریضی', 'ربیع', 'انتخابات', 'الهیان', 'حجت', 'سخنرانی', 'ضربه\\u200cای', 'امیرکبیر', 'سینمایی', 'کلبه', 'میشم', 'مؤدبانه\\u200c', 'شهامت', 'نقره', 'سیستماتیک', 'پسماندای', 'نرخ\\u200cهای', 'شب\\u200cها', 'رسماچرت', 'تبعل', 'مسمومیت', 'امدارسانی', 'گستجرده\\u200cای', 'برسیم', 'متاثر', 'بالاتر', 'پیست', 'مسیی', 'املایی', 'انصاری', 'برترین\\u200cها', 'سازوکارها', 'نداشتم', 'حر', 'مالیات', 'سنگینی', 'برد', 'اتخاذ', 'خرد', 'مهاجرتهای\\u200cخود', 'غیرأستاندارد', 'بهای', 'یضع', 'حیوانی', 'سرفصل', 'نامزدا', 'محالفت', 'بالگرد', 'پرداخت\\u200cها', 'مدیریتی\\u200cمان', 'قاعده', 'انگار', 'انگیزه\\u200cها', 'ابطح', 'پهلوانی', 'فناور', 'اولمسلمین', 'مشغله', 'مبتذل', 'رتبه', 'راکی', 'تقویتی', 'جلوه\\u200cهای', 'دیرهضمی', 'مبادلات', 'الیناسیون', 'فاز', 'ماههایی', 'تخصصی', 'دیواری', 'کشاورزان', 'عامری', 'حاکمان', 'میانگین', 'حسین\\u200cزاده', 'آزمون\\u200cهای', 'ملاصدرای', 'آزمایشگاه', 'درشت', 'دروغ', 'فلسفی', 'بی\\u200cکیفیت', 'ایجابی', 'ین', 'کردید', 'برای', 'بزاق', 'معیارهایی', 'پوشیءده', 'مدرن', 'روستاییی', 'استخدامی', 'جنایت', 'گران', 'آموزشکده\\u200cها', 'بوکس', 'اثرگذاری', 'پاسدران', 'داوریان', 'بانان', 'برابرند', 'یکپارچگی', 'بگویم', 'ققنوس', 'وبتوان', 'فیزیکی\\u200cترین', 'سماواتی', 'غیرأستادارد', 'ناب', 'اسکندری', 'کسل', 'هیاتی', 'اوگاندا', 'مداوم', 'تقیانی', 'نیویورک', 'تفاسیر', 'بزنه', 'موثقی', 'سوءرنتینو', 'فرشته', 'احترما', 'جمله\\u200cی', 'رجل', 'فوق\\u200cالعاده', 'دلگرم\\u200cکننده', 'لبه', 'خروارها', 'پذیرفتن', 'نو', 'واقعا', 'قاجاری', 'نگارشیء', 'نوشته\\u200cاند', 'ذبیح', 'یونیسف', 'لام', 'بهناماللهبه', 'حساب\\u200cشده\\u200cای', 'کلاس\\u200cهای', 'پیشه', 'چنانچه', 'دوست\\u200cتان', 'تأمین\\u200cکننده', 'ویسکانسین', 'سناریوی', 'ظرف\\u200cهای', 'حدی', 'خبرگان', 'توسعه\\u200cی', 'عمیر', 'نظرات', 'النمر', 'خرسندی', 'ماجور', 'هیئت', 'میوه', 'خواسته\\u200cهای', 'فریبا', 'بازیکن\\u200cهای', 'بی\\u200cپروایی', 'برنی', 'محصوران', 'خواب\\u200cآلود', 'داستان', 'عراقچی', 'نجیبی', 'نشکست', 'حجاج', 'معطوف', 'بابل', 'علامت', 'انقطع', 'امضا', 'فعال\\u200cاند', 'پردیسی', 'میزگردی', 'می\\u200cشدند', 'مدعیان', 'اکرام', 'پویشناسی', 'مرتفع', 'گرسنگی', 'حریر', 'ایفای', 'رئیسی', 'توجه', 'لوزان', 'ندا', 'می\\u200cخواندند', 'فرارهای', 'مکانیک', 'حضورش', 'تیم\\u200cها', 'تجدید', 'فراکسیون', 'مدالم', 'هم\\u200cصدای', 'جنس', 'اکرم', 'نیمه\\u200cنهایی', 'مازندران', 'قاضی', 'کامپیوتری', 'رفتاری', 'نساجی', 'فلفل', 'پایبند', 'هفتادوچهارمین', 'میلوال', 'سیره\\u200cنگاری', 'نگاه', 'بورسی', 'واسطه\\u200cگری', 'دراز', 'ترمیم', 'تعهداتان', 'موعود', 'محرومیتند', 'کمیته', 'گریه', 'چشمه\\u200cها', 'فلاکت', 'رزومه', 'شبی', 'ساختنن', 'کارگران', 'شهناز', 'اولی', 'شبکه\\u200cی', 'پیشگیری', 'عین', 'روزنگار', 'ملاحظه', 'عجیب\\u200cترین', 'میرهای', 'خلعتبری', 'نشررکتازی', 'خواجه', 'لااقل', 'می\\u200cشمرد', 'می\\u200cماندند', 'مستحب', 'حاکم', 'مهاجرانی', 'تقسیط', 'تلافی', 'هشتاد', 'سهراب', 'سرعت', 'جذابیت', 'حمزه', 'رونوشت', 'خالص', 'استوار', 'بخواندیمصداق', 'ولید', 'فشردند', 'بگیرید', 'ملایم\\u200cتر', 'مخاطره\\u200cشناسی', 'متولی', 'بپکنیم', 'الله\\u200cاکبر', 'مهمانی', 'آتش', 'لبخند', 'مذاکرده', 'جشن\\u200cها', 'می\\u200cپوشیءدند', 'تزریقات', 'جمع', 'نمی\\u200cکردم', 'فوبیای', 'گلستان', 'آموزنده', 'معدودی', 'سردسیر', 'ارزشمندی', 'گوارشیء', 'زیبایی\\u200cها', 'سحابی', 'امپراتور\\u200cهای', 'چابهار', 'ولخرجی', 'بدیل', 'گامل', 'اجتناب', 'عکاس', 'شکل', 'میگم', 'به\\u200cهای', 'مطهر', 'شاکی', 'مجاری', 'شوهرش', 'معمر', 'ترمز', 'کردی', 'العزیز', 'دفع', 'کاربرگ', 'گنبدکاووس', 'آمار', 'راهپیمایی', 'چرا', 'مجلسی', 'فاضلاب\\u200cها', 'محدودتر', 'میکروارگانیسم', 'شمرده', 'آنجلس', 'مصنوع', 'ایفاد', 'توضیح', 'دانش\\u200cآموزان', 'اجعل', 'هارون', 'می\\u200cشوند', 'شواین', 'رایکا', 'ح', 'تبلیغاتان', 'زمینه\\u200c\\u200cها', 'عات', 'پریشانس', 'سرشاخه\\u200cهای', 'رسانند', 'حریق', 'سایر', 'بره', 'بیفنیلهای', 'غاصب', 'تعلقات', 'والایی', 'صخره\\u200cهای', 'تجمعات', 'گفتن', 'مولفان', 'مذاکرده\\u200cا', 'خیار', 'خیابان', 'نیمکت', 'جا\\u200cهای', 'شهوت', 'نبودن', 'سخنرانان', 'پیچیدگی', 'تجویز', 'تهدید', 'همین', 'خویشا', 'بفرستید', 'حماسه\\u200cی', 'سوءاحل', 'بروید', 'عباسین', 'رایزنی\\u200cهای', 'الضعیف', 'تریلر', 'همایش\\u200cهای', 'موافقت', 'شا', 'دویدن', 'فجعلت', 'همان\\u200cهایی', 'شاکرمی', 'عراقی', 'یادمان', '»', 'مشوق\\u200cهای', 'مکاتبب', 'تمرد', 'میری', 'ام\\u200cالقرا', 'عوارض', 'دریافت\\u200cکنندگان', 'فتحبط', 'آسیبب', 'القصاص', 'خنده\\u200cات', 'عقیده\\u200cهای', 'دنبال', 'ولوگویاقالبی', 'ر', 'شوهرت', 'حق', 'مهر', 'عمیق', 'الاعلی', 'می\\u200cروید', 'خودروها', 'افزار', 'ساله', 'رهروان', 'استعماری', 'این\\u200cگونه', 'المثل', 'پلاستیکی', 'تمهرن', 'تخریب', 'زیبایی', 'زیرزمینی', 'فرموده', 'رنجید', 'مصطفایی', 'می\\u200cپذیرد', 'سخره', 'ضروریت\\u200cهای', 'اصفهان', 'فرمودند', 'بخاری', 'انکشف', 'کهگیلویه', 'وان', 'پذیرفتند', 'ژست', 'شکفته', 'جام\\u200cباشگاه\\u200cها', 'محتوا', 'خداآفرین', 'رکعت', 'العقل', 'دفاع', 'وجه', 'غیرقانونی', 'قلاع', 'اسکرامبل', 'واحدهرسین', 'ذهنده', 'حاکمیت', 'یودیان', 'غیرمنصفانه', 'امین', 'سب', 'امت', 'سوءخت\\u200cهای', 'محل', 'مقاصد', 'تعداده', 'البحیری', 'تخلفات', 'آله', 'سکونت', 'سخت', 'شیءطانی', 'فراوانان', 'صوابتر', 'وصف', 'ارزی', 'باذلی', 'جلیل', 'استحضار', 'کالا', 'همانطور', 'میپردازیم', 'العوده', 'عمرش', 'منسوءبین', 'اثر', 'خندوانه', 'تندی', 'د', 'کننده', 'مثابه', 'افریقیا', 'صدایشان', 'پشتکار', 'شجاعی', 'دیوان', 'دفترتنظیم', 'ذهند', 'ممکند', 'تدفین', 'بامتیازی', 'روال', 'جاهایی', 'قاسم\\u200cخانی', 'گرانادا', 'بزرگسالان', 'خونریسکی', 'پارهای', 'بدنشان', 'پرستارانی', 'پلاسکو', 'مهرشاد', 'تنسب', 'می\\u200cافکنند', 'نشریات', 'اعضای', 'بودی', 'غفاری', 'تار', 'تبادلات', 'ابا', 'اقداماتی', 'مرأسمومی', 'الطعم', 'حواشیء', 'فر', 'نردبان', 'عنوان\\u200cهایی', 'عاصمی', 'خلوت', 'سرت', 'کاظم', 'دلخواه', 'ثروتمندان', 'جبرایل', 'کلمات', 'ارزها', 'دمکرات\\u200cها', 'نقاد', 'یاحقی', 'علوفه\\u200cهای', 'بینانه', 'حمیدرضا', 'کارداریمای', 'بولدوذرها', 'دیز', 'بشکن', 'سراجی', 'طریقه', 'ریز', 'موضوع', 'جریاناتی', 'المرأسم', 'احدی', 'عطف', 'شستن', 'می\\u200cپردازد', 'فعلمی', 'محافظت', 'ناتوانی', 'جسارت', 'رویدادی', 'خردل', 'سیاق', 'غیرانسانی', 'فرخزاد', 'شالوده', 'اعلم', 'تنبل', 'بخشیء\\u200cها', 'ناگفته\\u200cهایی', 'پریشان', 'دوستانه', 'علم', 'نمایید', 'هذه', 'دزمانی', 'پیشگامکان', 'سرسال', 'نیمی', 'کلیه\\u200cها', 'کوهستان', 'ریختن', 'لاحد', 'مهرابی', 'کتابی', 'برنامه\\u200cهاشان', 'آغداشلو', 'هرمز', 'کمپوت', 'شکوه\\u200cتر', 'تعارض', 'دمام', 'چغندر', 'پرخاشگرانه', 'وجودی', 'تلقین', 'اذیت\\u200cها', 'دادرس', 'مخالفنی', 'حمایتشأن', 'سرایان', 'کارم', 'کردهای', 'مکان\\u200cها', 'نمی\\u200cکردند', 'پدیدست', 'عنصری', 'شهرداران', 'می\\u200cخوان', 'کوثری', 'زیباییی', 'مطروحه', 'نان', 'درختان', 'جلیلی', 'شهریاری', 'جنید', 'فلسطینیان', 'تلوزیونی', 'کولا', 'الکترونیکی', 'قوه\\u200cی', 'ماه\\u200cهای', 'عالمان', 'دریایی', 'افشای', 'شکو', 'شریک', 'منچستریونایتد', 'محرومیت', 'می\\u200cگفت', 'رودخانه\\u200cهای', 'نمی\\u200cتوانست', 'باشیءم', 'تازگیانه', 'فتوحی', 'یکسانی', 'قاچاقچیان', 'لذلک', 'دیدن', 'اس\\u200cهای', 'گروهای', 'حمدی', 'الفضیحه', 'ادعای', 'بلورهای', 'پدرش', 'فرشچیان', 'نظاممان', 'ماده', 'اصغر', 'عطابخش', 'پیش', 'قفسه', 'جدالی', 'یمن', 'فهمیده', 'اعدام', 'نیروهای', 'ظرفتمیان', 'ربطی', 'ترافیکی', 'چهره\\u200cهای', 'اشتیاقی', 'معجزات', 'برکت', 'آمدید', 'تشخیصیص', 'کوشکی', 'آرومه', 'بیو', 'دادگاه', 'تثبت', 'گلزنان', 'صحرانوردی', 'زنجیره\\u200cای', 'بهاییت', 'سپرد', 'حقق', 'سبکبار', 'ملکوتی', 'یقینا', 'تابع', 'موردش', 'معبد', 'رفاه', 'دریانوردی', 'جلوی', 'کوزه\\u200c', 'مبانی\\u200cای', 'وسعت', 'رجایی', 'یاوری', 'خمره\\u200cها', 'گستردن', 'حمایت\\u200cآمیز', 'دلگرمی', 'بی\\u200cثباتی', 'همگی', 'بیوده', 'بخشکد', 'دورخیز', 'میرزای', 'می\\u200cخواهیم', 'طولانی', 'شدن', 'محموله', 'معرفتی', 'مختلط', 'چکوب', 'تون', 'فعالیتر', 'عزیزمان', 'فعلیتی', 'جادوی', 'اهلی', 'بیاییم', 'چشم', 'برکنار', 'خوشبختانه', 'عناطر', 'سناتور', 'سرا', 'تالاب', 'وکیل', 'راهکارهای', 'مصداق\\u200cهای', 'بحران\\u200cسازی\\u200cهای', 'همکارانشان', 'ابلیس', 'برسه', 'عشقی', 'مای', 'دائمنا', 'جاده\\u200c\\u200cهای', 'گمانه', 'حتیت', 'میخا', 'اژه\\u200cای', 'نخواهند', 'وادارند', 'سپتامبر', 'رسانه\\u200cای', 'میلاد', 'عبدالعظیم', 'ایساهر', 'وظایف', 'ابایی', 'نگفت', 'سهیلی', 'دلقما', 'ماشیءن', 'نبودیم', 'اردیبهشت', 'صحرای', 'بنگاه\\u200cهای', 'ژاپن', 'ممنوع', 'بنشیءنید', 'جمعه', 'خندقی', 'بکشند', 'اصلاح\\u200cطلب', 'هم\\u200cپوشانی', 'دلپذیر', 'کهکشان\\u200cها', 'مک\\u200cکین', 'شبعا', 'پاویز', 'اطراف', 'رستخیزاولسوءن', 'نادر', 'مناسب', 'تهدیدات', 'به\\u200cمراتب', 'برودنه', 'سلطان', 'اعرابی', 'اصحاب', 'قیروکارزین', 'رونق', 'جانسوءن', 'العافیه', 'ساآودرا', 'غم', 'آهن', 'پایه\\u200cهای', 'رقابت\\u200cها', 'گرچه', 'دلاوری', 'به\\u200cویژه', 'ش\\u200cهای', 'نای', 'یخودیان', 'اصالت', 'تشبیه', 'نبات', 'بستر', 'آب', 'پرپر', 'مه', 'دانسته\\u200cاند', 'دوستی\\u200cهای', 'استخاره', 'رکتاب\\u200cهای', 'بگویند', 'شبکه\\u200cهای', 'زاری', 'دل', 'میکادو', 'کوالالامپور', 'کودک', 'گرفته\\u200cی', 'بهایی', 'ذوب', 'بام', 'گونسالو', 'عیال', 'بلندترین', 'دستگاه', 'غربی\\u200cام', 'بیرون', 'پایان\\u200cهای', 'سلب', 'صدقوا', 'میلیون', 'معیوب', 'مقام\\u200cها', 'تحیت', 'خطاکاری', 'احادیث', 'تیم\\u200cهای', 'درختانش', 'می\\u200cزد', 'وسیله\\u200cای', 'کشان', 'هفت', 'متغیرهای', 'عفونت', 'قاچاق', 'دوربینی', 'عاملیت', 'مسعودی', 'تألیف', 'جامع', 'الحسنی', 'ستادگی', 'جایش', 'نژادپرستی', 'الحج', 'رسانه\\u200cها', 'عقلانیت', 'فریبنده\\u200cاش', 'الزامات', 'سنا', 'اوریم', 'آماده\\u200cسازی', 'آمیز', 'چسب', 'مدادتراش', 'آفریدن', 'دفاعی', 'زاغ', 'محمدپرست', 'مضرات', 'گذاردند', 'موجودات', 'رونمایی', 'بکم', 'اسمی', 'کامل\\u200cترین', 'صحه', 'فارابی', 'حادثه\\u200cی', 'می\\u200cگذارد', 'دوازده', 'محرم\\u200cها', 'مفسر', 'خوشحال', 'فکندش', 'می\\u200cرسید', 'بلوار', 'دانش\\u200cآموزی', 'شایعه\\u200cهایی', 'مقدمتا', 'نخیر', 'مور', 'تشیءیع', 'سازمان\\u200cهایصمتابستانی', 'ایرانی\\u200cها', 'طوسی', 'میهمانان', 'فتح\\u200cالله', 'میخ', 'آغازین', 'خویشاوندی', 'ارزانتر', 'الا', 'منعقد', 'نطنزنا', 'فعالت\\u200cهای', 'طنابی', 'نیا', 'آرمانگرا', 'چنان', 'مرس', 'الاهرام', 'السما', 'محله\\u200cها', 'کارگرانگذارش', 'صحبت\\u200cهای', 'شرایط', 'کنکور', 'جویا', 'رفاقت', 'جغرافیای', 'کروس', 'رینه\\u200cای', 'بلوچستان', 'خویشانس', 'ستاره\\u200cهای', 'مبصر', 'منوچهر', 'سپیدشت', 'باج', 'برگیردما', 'الائمه', 'بوش', 'مدافعان', 'ضابط', 'مصدومیت', 'سوءزن', 'امیدوارند', 'فلاتحسدوه', 'میزگردهای', 'ربه', 'مبادرت', 'بلاول', 'سپیده', 'موضوعات', 'اکوسیستم\\u200cهای', 'ماورا', 'بندگی', 'دیدگاه', 'پی\\u200cیر', 'مشترکان', 'فعالتهای', 'وضو', 'مرا', 'مجرمین', 'هافینگتن', 'برآید', 'خانی\\u200cبیک', 'دارؤساز', 'سمبل', 'کتاب\\u200cها', 'نمی\\u200cآمد', 'نامرغوب', 'جوانان', 'آندوره', 'فرزین', 'اندیشگاه', 'پزشکستان', 'سکه\\u200cها', 'کاردانی', 'اینتر', 'قیداری', 'آن\\u200c', 'تبا', 'وبدا', 'محاکم', 'یت', 'الحربی', 'رئیس\\u200cجمهور', 'اسفند', 'فوتبالی', 'پرخاشگری', 'بازرگانی', 'فراموشخانه', 'مناسبات', 'یونانی', 'می\\u200cیابد', 'می\\u200cکرد', 'واریز', 'نوآور', 'شنیده\\u200cایم', 'صدمین', 'غلامرضا', 'اراک', 'نجات', 'مسجدالاقصی', 'کیست', 'سروش', 'مالت', 'صحبت\\u200cهایی', 'غیرنظامی', 'محسن', 'نیاورد', 'جارو', 'گوردی', 'اختیاراتان', 'ضامن', 'پرداخته', 'دهند', 'فوریت\\u200cهای', 'پیر', 'وابستگی', 'فضاهای', 'بحرین', 'الکعبه', 'شکی', 'بشری', 'بردسکن', 'نشستی', 'خطییه', 'نیکو', 'فروشندگان', 'کمل\\u200cگرایی', 'نداشته', 'دانشمندان', 'مکاتبه', 'وانصرانی', 'کتب', 'ننگین', 'الشنیع', 'نامربوط', 'ناگهانی', 'جست\\u200cوجو', 'نظرلی', 'جمال\\u200cالدین', 'ولسیانی', 'اگرچه', 'تقریبا', 'گسترش', 'کاهو', 'شهید', 'لترتجی', 'لیگ\\u200cهای', 'فوتی\\u200cها', 'هندوستان', 'بزرگ\\u200cراه\\u200cها', 'توماسعدی', 'پروردگاریت', 'ختمی', 'چرخدار', 'شش', 'اکون', 'بلامانع', 'دانشوری', 'متلاشیء', 'مصباحی', 'کشورهای', 'رکود', 'افتاده', 'صخره', 'پژوهشگر', 'الغدیر', 'اصعد', 'مدیر', 'تندورانه', 'چکتاب\\u200cهای', 'آلیاژی', 'ویژه\\u200cتر', 'شودچاکچاک', 'مختارنامه', 'سازمان\\u200cیافته', 'آبرای', 'تجربه\\u200cای', 'سرآمدترین\\u200cها', 'کشورمان', 'جدایی', 'نقطه\\u200cی', 'همداردی', 'پرورش', 'ریاحی', 'بینده', 'العملم', 'چاپ', 'همزمان', 'بلاتکلیفی', 'دینکم', 'فلاح', 'نورزند', 'دادوستد', 'اقشار', 'مولف', 'آخرش', 'جلوه', 'هواشناسی', 'عجیب', 'خوبند', 'خویشان', 'نیستند', 'کلان', 'نمانده', 'داشته\\u200cهای', 'تماشاگر', 'نیتروژن', 'الاکبر', 'چرمی', 'للعلامینی', 'سانتر', 'آژانس', 'ازغدی', 'کوپا', 'مسئولیت\\u200cشان', 'رشدی', 'زنده\\u200cاند', 'عرشه', 'نفوذ', 'موقعیت\\u200cهای', 'روکش', 'عنصر', 'البسه', 'اتحاد', 'بیمارستانی', 'مطرح', 'وفادار', 'برعکس', 'به\\u200cخویش', 'افغانستان', 'شاهرودی', 'ایزمیو', 'تبلیغاتی', 'بغل', 'ناخن\\u200cها', 'تربت', 'ریسک', 'مظلوم', 'شجاعانه', 'ط', 'المطلوب', 'اورهال', 'بافت', 'بدعت', 'نفسی', 'قلمرو', 'لوتری', 'آلومینیوم', 'ازای', 'ثروت', 'سپرده\\u200cایم', 'تپیدن', 'تکودار', 'طلوع', 'کشتار', 'توانمندی\\u200cهای', 'العثیم', 'ترکمن\\u200cها', 'شرور', 'گذرانده\\u200cایم', 'مقتدی', 'کالدرون', 'سرزنش', 'شیءد', 'مریل', 'می\\u200cخلند', 'پی', 'جوادیان', 'تواضع', 'مناستتری', 'داعش', 'واحدی', 'به\\u200cحقوق', 'می\\u200cکشند', 'صحن', 'برود', 'فشرده', 'جانفشانی', 'اجمالی', 'بصره', 'تبعیض\\u200cآمیز', 'گواتمالا', 'همسرتان', 'شد', 'مسوءولیت', 'طلبی', 'آماده', 'تأسیس', 'وسوءاس', 'موصول', 'متخصص', 'مهم', 'برداشته\\u200cاند', 'عقب', 'چهره\\u200cهایی', 'کارت\\u200cها', 'شهربابک', 'نمی\\u200cدهیباشد', 'ریأست\\u200cجمهوری', 'المهرین', 'موتور', 'شارژ', 'ویتینس', 'پررونفت', 'امینی', 'بالقوه', 'بنگریم', 'الصمعانی', 'دیواره\\u200cهای', 'نابودی', 'غالبا', 'مبایدلات', 'میانبر', 'مقاومتی', 'زاگرس', 'دربدری', 'غیرمستقیم', 'اسمعت', 'دوغرانسوءن', 'صداقترین', 'پژوهان', 'سکوتم', 'مجموعه\\u200cای', 'زننده', 'کارای', 'شوپنهاور', 'زشتی', 'چشم\\u200cانداز', 'المنافع', 'خانم\\u200cها', 'مریض', 'معنای', 'بالاترین', 'بسپارند', 'پاک\\u200cنیت', 'پیچ', 'بازنده', 'روحانی', 'نمکدان', 'جذابتی', 'اوتان', 'نازی', 'انرژی\\u200cهای', 'موقعی', 'متهم', 'ساخت', 'ضمنا', 'نماییم', 'بیخ', 'پایه\\u200cی', 'بافندگی', 'صدد', 'خنک\\u200cتر', 'اکبریان', 'بیست\\u200cها', 'خیبر', 'ساختش', 'وزیری', 'فرزندان', 'چریک\\u200cهای', 'کارون', 'مهارت', 'مدرسه\\u200cی', 'یک\\u200cشنبه', 'حقیقی', 'داوطلبانی', 'آمادی', 'کس', 'منادی', 'محقق', 'اثرپیش', 'دشکستگیهاشو', 'تولیدکنندگان', 'مسئله\\u200cای', 'ساحتمان\\u200cها', 'سیمای', 'لهجه\\u200cهای', 'بارها', 'شریعتی', 'زودی', 'زبانزد', 'صالحون', 'بهشت\\u200cهرا', 'ناآرامی\\u200cهای', 'آفتاب\\u200cسوءخته\\u200cتان', 'درمان', 'لاهوری', 'اختراعات', 'برقی', 'سرم', 'چشم\\u200cاندازهای', 'مجازات\\u200cها', 'دستیاران', 'کریستیانو', 'برداریم', 'گیور', 'حدود', 'بقیع', 'اسلایدتم', 'کاندیداها', 'قطری', 'کارکردهایی', 'پتروشیءمی', 'دشان', 'نوشابه\\u200cهای', 'آزمون', 'وضعیت', 'قوم\\u200cهای', 'اولوالعزم', 'تألیفی\\u200cتحقیقی', 'اکشن', 'تنادی', 'چاه', 'منبع', '\\u200cهمایشان', 'الحاقی', 'خراج', 'دانشجوی', 'گذاشته', 'جنگل\\u200cهای', 'ندارم', 'پوچ', 'آینده', 'صله', 'مشکلاتشان', 'سازنده', 'ترقی', 'تناقضات', 'گیاهان', 'رستگاری', 'سهیلی\\u200cزاده', 'ترکیب', 'فرقانی', 'مبادله\\u200cای', 'خموشیء', 'سرپرستان', 'بالستیک', 'مقصر', 'پهپادی', 'دامن', 'یوسفعلی', 'ماندن', 'اسکین', 'معیریان', 'حسوءدی', 'اوری', 'غافلگیر', 'فرشاد', 'رسانا', 'کبود', 'تزریقی', 'باد', 'هایشان', 'دانشکده\\u200cی', 'نادرست', 'قمی\\u200cها', 'نخواندند', 'صورت', 'متعاهدتین', 'طرف\\u200cهای', 'نوعی', 'فرغ', 'رانش', 'بالدوین', 'جهالت', 'فیلم\\u200cهای', 'مشارالیه', 'چم', 'نوامبر', 'تنهای', 'تصدیق', 'ضمنی', 'استفراغ', 'یکرسنجی', 'افت', 'پارسا', 'مدیره', 'قبایل', 'تابعه', 'الخطاب', 'اسکهلم', 'پیمبران', 'ادرکنی', 'لایه\\u200cها', 'سمیه', 'سمتانی', 'صادرات', 'فرنگ', 'رافضی', 'بابک', 'ولو', 'همایش', 'کلامی', 'یخبندوناینبار', 'شبندر', 'آشنایی', 'گوشه', 'ابنه', 'رئیس\\u200cاش', 'خردکن', 'باشد', 'دانستنیهای', 'آدمیت', 'تانک', 'پرتغال', 'آزرده', 'شجره', 'شای', 'برید', 'ایکر', 'آمل', 'آنفلوآنزا', 'تازه\\u200cهای', 'قراردادها', 'هدف\\u200cآن', 'طولانی\\u200cتری', 'روزنامه\\u200cای', 'بستم', 'کوفیان', 'قلبت', 'بگذاردید', 'وکیلی', 'پیرویشان', 'لعالمین', 'علنی', 'کننده\\u200cهای', 'رضا', 'کارانه', 'خواص', 'الاجاره', 'چیده', 'مقیأسی', 'تشعرون', 'ثمر', 'بتالامتوگلوبولین', 'کاتی', 'طرق', 'ریه\\u200cهایمان', 'توییتی', 'آبهای', 'مذاکراتی', 'مهاجرئت', 'کنندگان', 'مشت', 'دیجیتال', 'ربع', 'محارب', 'بهاییان', 'جماعه', 'راهنما', 'تقلب\\u200cهای', 'گل\\u200cنوشته\\u200cها', 'وردن', 'مارک', 'افشیءن', 'بازگشت', 'تفریح', 'گور', 'نرسید', 'تنفس', 'آلونسوء', 'شریف', 'همن', 'ذاکاری', 'مددکاری', 'پیاده\\u200cروی', 'هرزه', 'سریال', 'یونسکو', 'ناموفقی', 'پراکنی', 'دهمین', 'مدح', 'هزیمت', 'توأمتو', 'زرشک', 'مکرمه', 'کمترین', 'اداری', 'محیطی', 'بهار', 'فطری', 'مهندس', 'عرصه\\u200cها', 'کازرون', 'ره', 'ایسکو', 'اقناع', 'ملاقات\\u200cهای', 'نمایش', 'صفوی', 'باس', 'راحت\\u200cتر', 'به\\u200cروش\\u200cهای', 'تربه\\u200cویژه', 'خسته', 'حاجی\\u200cبایی', 'برچسب\\u200cها', 'زمینه\\u200c\\u200cهای', 'بهان', 'فراوانی', 'حیف\\u200cومیل', 'اشعث', 'وادی', 'شگرف', 'سرخاب', 'ترغیب', 'جذام', 'دقیق', 'معبود', 'تازه\\u200cترین', 'سالان', 'روبه\\u200cرو', 'تجهیزات', 'تجربه\\u200cی', 'ضدعفونی', 'حیات', 'مقامت', 'آناتومی', 'خریدی', 'نمین', 'نریخته\\u200cام', 'بیش\\u200cتر', 'ضبطی', 'کردیم', 'تطبیق', 'آزارشان', 'همتاستگفت', 'فاحشه', 'می\\u200cگردند', 'کالحوزها', 'کمر', 'تفاوت\\u200cها', 'بالحسد', 'مجموع', 'آی', 'ناموس', 'مشعلدار', 'آدرس\\u200cهای', 'گمرکات', 'پهناور', 'هوشبری', 'توایراداتو', 'برخاست', 'اهلش', 'برگرفته', 'کاهش', 'رنگی', 'مناطقه', 'حمایت', 'حضرتش', 'القا', 'طرفی', 'راحله', 'شخص', 'فرایندهای', 'اطرافیان', 'الاینبار', 'رسما', 'رقابت', 'بودجه\\u200cهای', 'حبه', 'جراح', 'اینن', 'نمی\\u200cابند', 'درباره\\u200cی', 'واحد', 'کارگردان', 'المان\\u200cهای', 'تاکتیکی', 'جنابعالی', 'ارامنه', 'حیدرپور', 'لهجه', 'نتوانستندن', 'علاقمند', 'ناله\\u200cمانند', 'السفیر', 'ابقای', 'بسیج', 'اعملکم', 'کارلو', 'ودهای', 'آفاق', 'می\\u200cکنند', 'دویماز', 'به\\u200cدستگیری', 'کبری', 'جعبه', 'فرمود', 'کیفیت', 'خودتان', 'استراحت', 'کرامات', 'یهم', 'توییتری', 'شمصوبه', 'موشکی\\u200cاش', 'ساختنمانی', 'اعیان', 'عکس\\u200cهای', 'نوار', 'وبلاگ\\u200cها', 'فرمول', 'الذین', 'مجریانش', 'دریافتادند', 'بیندازند', 'گورستان', 'سلمانی', 'دخترش', 'بامشکی', 'تصویربردار', 'فعلی', 'خبرهایی', 'مصلی', 'چان', 'نخست\\u200cوزیر', 'ایمیل', 'عمار', 'بزار', 'موادر', 'شوک', 'طیف', 'دادستانی', 'سرمست', 'حجه', 'آور', 'کوهنوردان', 'فقرا', 'سوءپ\\u200cها', 'روزشمارها', 'ایشأن', 'کاندیدایی', 'فرماندهان', 'محسوءب', 'استمی\\u200cدانمقاصدکم', 'قایلیم', 'استان\\u200cها', 'عفشان', 'بی\\u200cمسئولیتی', 'سرأسیمه', 'معاشر', 'برق\\u200cگرفتگی', 'هرأسی', 'گفت\\u200c', 'خواننده', 'سپیدان', 'فتنه\\u200cهای', 'اسکارینی', 'ساختاری', 'زانیار', 'ایتالیایی', 'زیان\\u200cهای', 'لیس', 'عربستانی', 'دهات', 'نیست', 'نیمه\\u200cمهر', 'عادلانه', 'هرگونه', 'مصباح', 'حرکتی', 'تخفیفات', 'انعکاس', 'کارتان', 'ابلاغیه\\u200cیی', 'بدیهیات', 'ناکامی', 'بنیادی', 'سنندج', 'بشده', 'گوشت', 'تشویقی', 'ابیات', 'مانان', 'چشمانش', 'متعهداترین', 'بحرینی', 'سعی', 'حاضرن', 'دشواری', 'ترکمن', 'آینه', 'قسمت', 'کلم', 'سرکرده', 'تنگنای', 'ندرلو', 'سوءرس', 'موجودیت', 'ریه\\u200cهای', 'وفاداراترین', 'بهانی', 'خسارت', 'دقایقی', 'تصویب', 'نیندازیم', 'اولیه', 'کیلوات', 'واکنش\\u200cها', 'گودرزی', 'گورسنوردی', 'سپرده\\u200cاند', 'منعقیده', 'جرح', 'منطبقه', 'روانشناسی', 'مبارزه', 'ششمین', 'می\\u200cاندازند', 'رهاییی', 'بتوانایی', 'اندوخته', 'محمدتقی', 'آرژانتین', 'نداریم', 'نوجوانی', 'آن', 'توریسی', 'بامزه', 'ناآرامی', 'حسرت', 'اینکه', 'خورشته\\u200cهای', 'کان', 'طلایی', 'اظهارنظرهای\\u200cشان', 'تکلیفی', 'وفایی', 'دانیال', 'حقیر', 'تماشا', 'الیس', 'بیستم', 'رنگاری', 'پروازی', 'دشمن', 'سپاس', 'بوسکالیا', 'این\\u200cروزها', 'آبی', 'نجه', 'بفهمند', 'تهذیب', 'اصلا', 'میلیونی\\u200cها', 'برگذشتن', 'هو', 'نماینده\\u200cی', 'خوشم', 'پناه', 'می\\u200cخوانید', 'هاجر', 'خطیر', 'تصریح', 'قبلی', 'مفسد', 'پذیرا', 'گروییان', 'تقویت', 'بنابراین', 'کتابخوانان', 'فلورس', 'کرات', 'روشنگری', 'خواهشمند', 'مینی', 'شماره', 'همگنی', 'کومی', 'اسفندیار', 'الخطییه', 'اینست', 'برشمرده', 'نبند', 'صبور', 'خواست', 'فرآوری', 'حاشیءه', 'محاسبات', 'کودکانی', 'مال', 'ذات', 'لس', 'طرفداران', 'تخاصم', 'پستان', 'بیانات', 'گاز', 'حسینی\\u200cراد', 'تحت\\u200cتأثیر', 'تنقلات', 'پایگاه\\u200cهای', 'می\\u200cستانند', 'تمام', 'الامر', 'سایکودراماتیک', 'سیره', 'فراهم', 'دورأفتاده\\u200cترین', 'عبدالرحمن', 'تلاش\\u200cها', 'موافقت\\u200cنامه', 'حکنیم', 'اسلیون', 'آندرانیک', 'خوراکی\\u200cها', 'مطابق', 'تفرقه', 'رسال', 'دورهمی\\u200cها', 'خرابی\\u200cهای', 'بازگشایی', 'حجاب\\u200cهایی', 'زهره', 'کایدان', 'سرفه', 'منبعی', 'موبایل', 'بزرگ\\u200cتر', 'کربلا', 'پذیرایی', 'خشکیده', 'باشکوه', 'متحدین', 'پررنگ', 'تطویل', 'به\\u200cجایگاهی', 'نکردیم', 'ضعف', 'تسلیحاتی', 'درس\\u200cهای', 'گفتگو', 'معروف\\u200cترینان', 'اجتناب\\u200cناپذیر', 'ارحم', 'سوءی', 'السالوادور', 'سرمربی\\u200cگری', 'جانشیءن', 'تعمیر', 'دیدیه', 'انصارالله', 'آی\\u200cبی\\u200cام', 'مسکن\\u200cها', 'درخشانس', 'بندرلنگه', 'بهبهان', 'گود', 'ایاب', 'پوستر', 'بستان', 'تظاهرکنندگان', 'گزیده\\u200cای', 'خوبی', 'یأسمت', 'ترند', 'مقصودی', 'چهره', 'هزار', 'چذابه', 'تمایز', 'جرف', 'مکاتیب', 'صفت', 'نین', 'خریده', 'این\\u200cها', 'می\\u200cاندیشم', 'چارتر', 'فواقع', 'مجموعه', 'عشق', 'می\\u200cاندازد', 'خدیجه', 'بانشکستگی', 'خردسالش', 'اطلاعات', 'یزیدیه', 'می\\u200cکشیءد', 'زیارتگاه\\u200cها', 'کارآموز', 'عیب\\u200cهای', 'پروشنکو', 'کون', 'سردرآورده\\u200cاند', 'تملک', 'پازل\\u200cهای', 'روستاها', 'آدم\\u200cهای', 'زدوده', 'بشار', 'عزیزم', 'اثرات', 'استخدام', 'نقشیء', 'نظراتتان', 'چیست', 'باستانشناختی', 'وحشت', 'ضحاک', 'کارآموزان', 'راهش', 'نخجیرگه', 'خاموشیء', 'مادربوردهای', 'پارمنیدس', 'نزولات', 'دستگاه\\u200cها', 'آناین', 'دلش', 'زکریای', 'جدی', 'سرآغاز', 'نامساعد', 'تحویل', 'حذف', 'کنگو', 'حفر', 'اعیاد', 'علی\\u200cرغم', 'معتبرترین', 'وجوهکم', 'بولیوی', 'شیءوه\\u200cای', 'فسخ', 'گیلانی\\u200cها', 'دلخراش', 'وحوادث', 'خب', 'اثرتعریق', 'نسرین', 'مجتهد', 'مسجدی', 'پنچه', 'بازنشستگی', 'تکنیکی', 'عرویه', 'فکری\\u200cها', 'خان\\u200cها', 'شهرستان\\u200cهای', 'قیمت\\u200cگذاری', 'چهارمین', 'قصری', 'غیرمترقبهه', 'تقاضا', 'سازها', 'بکشد', 'اطمینان', 'رهنمود', 'تخصص\\u200cهای', 'ارزشیء\\u200cها', 'ابتلای', 'اجباری', 'بودن', 'سرافرازان', 'اقامات\\u200cشدن', 'پیش\\u200cروی', 'حققان', 'عشق\\u200cهای', 'نمی\\u200cکرده', 'رفتند', 'صدراعظم', 'حلول', 'دوازدهم', 'امیرحسین', 'اشتغالزایی', 'دنیال', 'ترید', 'جنگ\\u200cزده', 'برغان', 'شنیدن', 'گیردد', 'انکره', 'می\\u200cزدم', 'باندی', 'گدس', 'میان', 'واهی', 'دیکتاتورهای', 'برنجانی', 'مللی', 'وده\\u200cاند', 'می\\u200cنشاند', 'بزرگسالانی', 'مد', 'گل\\u200cها', 'قوجالوق', 'سوءریه', 'عریضه', 'دجال', 'گلخانه\\u200cای', 'دیگه', 'مشگین', 'ارضک', 'فاصله', 'حوادثی', 'به\\u200cطوری\\u200cکه', 'معرف', 'قریب', 'گذارد', 'آفرین', 'گان', 'علمی\\u200cمان', 'العباس', 'قیصر', 'میل', 'مایه', 'دقیقه\\u200cی', 'آزادی', 'امیال', 'نا', 'نفعان', 'موش\\u200cهای', 'حین', 'جاذبه\\u200cهای', 'سازد', 'نوکروناشنه', 'خالو', 'سوءلدوز', 'رذیلانه\\u200cای', 'والایت', 'جامعیت', 'منجمد', 'شلمچه', 'تجلیل', 'شسال', 'بازاریان', 'تلگرام', 'الراشد', 'برم\\u200cخوردن', 'پرت', 'خیال', 'لکاین', 'تعامل', 'فرهنگ\\u200cسازی', 'پشتیبانی', 'آنهاست', 'نوشیءدنی', 'کافر', 'ارزشیءابی', 'کسئولیت\\u200cهای', 'لابکین', 'مادرشان', 'بتنی', 'هخامنشیء', 'بیماری', 'تقوی', 'ناسالم', 'الزام', 'گازی', 'فاسدان', 'غوغاسالار', 'ناهنجار', 'میزنند', 'روان', 'آر', 'فوری', 'زمان\\u200cبر', 'دیگرش', 'الگوریتم\\u200cهایی', 'رکن\\u200cالدین', 'فکر', 'صباغ\\u200cزاده', 'الرئیس', 'حاکمیت\\u200cها', 'سعید', 'بدترین', 'محکومین', 'و', 'منظر', 'کوچکترین', 'روغن\\u200cنباتی', 'سنیزی', 'ساختار', 'جامع\\u200cترین', 'نقدهای', 'مرحله', 'فردترین', 'اولی\\u200cها', 'عملا', 'رؤیت', 'همخوان', 'لا', 'معضلات', 'همانندا', 'آمده\\u200cام', 'روستایی', 'بیارن', 'روزنامه\\u200cنگار', 'مختلفی', 'باشند', 'واگذرانده', 'بدنسازی', 'عود', 'دوربین\\u200cهای', 'مردمگذارش', 'برج\\u200cهای', 'خارجی', 'فقه', 'لبموقوفات', 'بگوید', 'هرازگاهی', 'کمباین\\u200cسازی', 'عملیات\\u200cهای', 'لامپدوسا', 'تشکلات', 'نظام\\u200cجمهوری', 'اخلأقت', 'لازم', 'همسایگی', 'صنعت', 'فلسطینی\\u200cهای', 'شعلوفه', 'سرپرست', 'هیبت', 'بشقاب', 'پساب\\u200cهای', 'خسرو', 'رویش', 'کالیفرنیا', 'سلاخی', 'رحمتش', 'می\\u200cرود', 'دانه\\u200cهای', 'مرغوبی', 'واسه', 'کارشناسی', 'سختی\\u200cهای', 'عبدالمطلب', 'زین', 'دهنی', 'مذاکره', 'مهربانان', 'دوریت', 'تحبط', 'زهری', 'شیءعه', 'رزق', 'آبای', 'کدو', 'گلدسته', 'ولادت', 'فریشلر', 'جاسم', 'خسه', 'لیون', 'سهامی', 'پلیسی', 'بریان', 'گزارش\\u200cها', 'سالاری', 'پسماندهای', 'سبزه', 'سرابله', 'ذرهی', 'داروهاییم', 'سطحی', 'انت', 'پیش\\u200cدوستانه', 'هکرها', 'مادرانمان', 'دبیری', 'حیرانی', 'بتا', 'ماساژ', 'بست', 'بشیءریه', 'مؤثرند', 'مهتاب', 'شرق', 'عیسی', 'بختانه', 'اکونومیست', 'منحریفانه', 'افق', 'محرم\\u200cه', 'میرزاخانی', 'رایگان', 'ایثارگر', 'رؤیا', 'اخلأق', 'اختیارم', 'دامادها', 'قجری', 'خاطر', 'فرودستان', 'اپن', 'خیرانپور', 'العرب', 'المستصرخین', 'زیاده', 'شرمسارم', 'عکاسان', 'ماهواره\\u200cای', 'دبستانی', 'المرسلین', 'فیورنتینا', 'دروغگو', 'آندرأس', 'حساسیت', 'المجیدل', 'هویدا', 'نشاط', 'عن', 'متفنن', 'استیل', 'الاهی', 'به\\u200cکارگیری', 'صندوقی', 'حلقه', 'دلاک', 'مشروطه', 'مسیحی', 'نماینده\\u200cاش', 'واعظی', 'دعوتکما', 'تایر', 'مالیاتی', 'اشعار', 'تمسخرها', 'سوءوال', 'عملکردهای', 'گویندگی', 'جنبش', 'ده\\u200cها', 'سیمایش', 'زمان', 'سرای', 'اللهم', 'مکتب\\u200cخانه', 'روانشناس', 'بخار', 'یکدیگر', 'نکنده', 'سخنرانانی', 'معاهدات', 'سجده', 'ولی', 'اصل', 'خلیفه', 'مشبه', 'وزنه', 'اصلت', 'نارون', 'محبت', 'تردید', 'همراهانتصاویری', 'انتفاعی', 'اجرای', 'میان\\u200cرودان', 'سرگشته', 'لیتر', 'بعدها', 'گداز', 'مسعود', 'ریشه\\u200cدار', 'بین\\u200cالملل', 'کنت', 'صلح\\u200cآمیز', 'سیلجانی', 'هنگفت', 'پروژه\\u200cهای', 'شفافیت', 'ضبط', 'انتقاد', 'راحتی', 'نقصت', 'عام', 'سپیلیب', 'متنات', 'روزمره', 'حرکات', 'بویی', 'سایه\\u200cات', 'بات', 'لاتین', 'دیر', 'گواهی', 'پذیرندگان', 'بازدیدکننده', 'پستانی', 'نهایت', 'مجید', 'فعلی\\u200cاش', 'همام', 'شهرنشیءنی', 'موهوم', 'مدرنیسته', 'میراث', 'الملائکه', 'بالایی', 'آتیه', 'گوستاو', 'پیشنهادی', 'قوژد', 'ضیا', 'فرخوان\\u200cها', 'شده\\u200cاست', 'آبادی', 'آموزی', 'عالی', 'عده\\u200cای', 'کیستی', 'نیمکت\\u200cهای', 'آفتابی', 'سیطره', 'منصفه', 'بالای', 'تخریبی', 'لیست', 'سند', 'حاصل', 'پردرآمد', 'لفاف', 'به\\u200cانضمام', 'بیت', 'آلبا', 'زمستانه', 'سالانه', 'نزل', 'توانایی', 'گلیم', 'پیوست', 'دوره', 'جایزه', 'زنده\\u200cی', 'یخلق', 'کپی', 'درسی', 'نهاده\\u200cای', 'سلاح\\u200cهای', 'فرمانبرداری', 'حاکی', 'شناسنیمه', 'شبیه', 'ژئوفیزیک', 'نشان\\u200cدهنده', 'ظرفیت\\u200cها', 'حفرها', 'نرخ', 'مبلغه', 'میزان', 'کوتاهی\\u200cها', 'نیکی', 'سنی\\u200cها', 'شوری', 'باسوءاد', 'القرآن', 'مستند', 'هوس\\u200cها', 'سرأسر', 'متهمین', 'نحوه', 'ایثار', 'لنج', 'کتابخوانی', 'صفحه', 'می\\u200cبخشه', 'دانش', 'مردهای', 'اتخذ', 'پرتودرمانی', 'قند', 'ایده\\u200cهای', 'کفش', 'کامرون', 'بو', 'شهیدالعلم', 'آمورزش', 'نوشتار', 'مسافر', 'مضاعف', 'کاشیء', 'جرم', 'مجدد', 'محاسباتی', 'سینما', 'ساوجی', 'احمدرضا', 'مهریه', 'پیگیری\\u200cهای', 'فرجه', 'سوءسنگرد', 'رشادت\\u200cها', 'انشتن', 'مرزبندیهایمان', 'عرق', 'التعقیب', 'تکامل', 'نشیءن', 'عظم', '\\u200cهمایش', 'برق\\u200cرسانی', 'گنجینه', 'اشتباه', 'گرزدار', 'طرفدار', 'مبارزات', 'منچستر', 'تأمین', 'منزجر', 'ائتلافی', 'مفتخر', 'عسر', 'زدنی', 'نمی\\u200cاندیشد', 'مقایسه\\u200cای', 'باخته\\u200cاند', 'اینستاگرام', 'چاهکی', 'متخلفان', 'پتانسیل\\u200cهای', 'المستکین', 'هتیمشه', 'عاهدوا', 'ریزردهای', 'می\\u200cگردید', 'طبق', 'نوه', 'خجالت', 'عیادت', 'گروهی', 'وزرا', 'فلوریدا', 'بخش\\u200cهای', 'طالبی', 'آدمی', 'تخیل', 'تروریزم', 'نمی\\u200cدانم', 'پرزین', 'متن', 'دشت\\u200cهای', 'بنی\\u200cصدر', 'پردازی', 'خبرها', 'خیرانی', 'محبان', 'جنوبی', 'آشامی', 'ورزشکارانی', 'غیور', 'فدوی', 'میکنه', 'خوستار', 'شادی', 'فرهنگی\\u200cاش', 'هاتکراری', 'حشدالشعبی', 'هیلاری', 'شطحیات', 'کلانهر', 'روانگردان', 'الکتریکی', 'نویسی', 'گریه\\u200cهای', 'ناروا', 'یه', 'بی\\u200cعدالتی\\u200cهای', 'میکه', 'گونه\\u200c\\u200cهای', 'فعالان', 'توپ', 'چالوس', 'قضایی', 'مساکین', 'تأثیرگذارهایمان', 'گزارش\\u200cگیری', 'می\\u200cخرنوام', 'پرداخت\\u200cکننده', 'زنیدپور', 'اختلا', 'درود', 'زعم', 'نشانده', 'خواهانم', 'بجوانند', 'سادوا', 'تجربی', 'پیج', 'بدری', 'دستنامه', 'مهمترین', 'خبرایی', 'سنت\\u200cها', 'اند', 'بخواهند', 'چهارشنبه', 'پرتال', 'امان', 'رجب', 'فبعزتک', 'کارند', 'حقه', 'دیارا', 'بندی', 'نقدینگی', 'بلا', 'می\\u200cگیرید', 'نوازندگان', 'وام\\u200cخرید', 'پاستوریزه', 'سبیل', 'بعضا', 'چشمانتان', 'تکلیف', 'علیکم', 'معلوم', 'پلاسما', 'آلوی', 'گنداب', 'می\\u200cافتد', 'مختصر', 'فرایندها', 'دستاورودهایی', 'رژیمی', 'طرف', 'دی\\u200cاکسید', 'قبرگذشتکان', 'گلزنی', 'اجرار', 'روادور', 'عایدات', 'بیایند', 'فساد', 'میدان\\u200cهای', 'رنجرز', 'خبرای', 'انتهای', 'معمول', 'منه', 'نمی\\u200cکنید', 'چای', 'دریای', 'بی\\u200cتردید', 'آدمیان', 'اروپایی\\u200cها', 'گرانسنگ', 'ناطق', 'خریداری', 'آوردید', 'دهنده\\u200cاش', 'دلار', 'بیکران', 'پاسخش', 'مسوءلیت\\u200cهای', 'سال\\u200cهای', 'ماسک', 'دکویری', 'تأمل', 'ورطه', 'خالصانه', 'گرفتند', 'غیرشفاف', 'سوءرمقی', 'ساندنیستی', 'کوچیکی', 'حوزه', 'چگونگی', 'مبتکر', 'داردم', 'اندازه\\u200cگیری', 'حاشیءه\\u200cی', 'مصلحت\\u200cهای', 'عصمته', 'تهنیت', 'ابتدا', 'اقسم', 'فانکما', 'تفصیلی', 'شرکت', 'باخاندا', 'فدا', 'ببرند\\u200cاند', 'بدنارز', 'چتر', 'مکالمه', 'شمالی', 'جغرافی', 'بدیهی', 'مذهبی', 'رساله\\u200cای', 'شعور', 'عقیدتی', 'کربلای', 'ببینید', 'روش', 'لردگان', 'مغان', 'طباطبایی', 'مرند', 'خوبه', 'میخک', 'خودمانی', 'جشن', 'تابستانی', 'عاشورای', 'امن', 'کشورتان', 'تکمیل', 'استانداردهای', 'تحسین', 'می\\u200cداریم', '۹۰', 'فرستد', 'کاندید', 'ربیعی', 'ولخروجی', 'توده', 'بدانید', 'کیارستمی', 'اولیک', 'بعضی\\u200cها', 'بهداشت', 'مبدل', 'ماسکول', 'ترساندن', 'رؤیای', 'مورکان', 'قله\\u200cی', 'چالش\\u200cها', 'التوبه', 'منحنی', 'اعتباراتی', 'شهرک\\u200cسازی\\u200cها', 'کلانهرهایی', 'دردانه', 'فن', 'کمل', 'ازت', 'نقادانه', 'داریم', 'کنش', 'تکثر', 'نیازت', 'روغن', 'سلم', 'منحله', 'ترکشان', 'دوشنبه', 'شرفش', 'دولابی', 'قضاوت', 'باستد', 'مادرتون', 'اقدامکم', 'غده', 'صحنه\\u200cای', 'اورپا', 'دستگیر', 'زیمنس', 'مسلط', 'یهودیان', 'شفاف\\u200cتر', 'نامتعارف', 'بدیمنی', 'علاقه\\u200cاش', 'الانوار', 'آیین\\u200cهای', 'محمدجواد', 'فرهنگ\\u200cها', 'مسببین', 'سعود', 'منزلتهم', 'کابردی', 'کدام', 'نقشه', 'بیداری', 'مشکل\\u200cدار', 'القایی', 'گمبوعه', 'ترازنامه', 'همدانی', 'هلال', 'لادن', 'می\\u200cفرستادند', 'تاج', 'آناپورنا', 'می\\u200cکنن', 'قزوین', 'تهیه', 'فلاسفه', 'منظره', 'گفتار', 'آنجاها', 'ولما', 'یوخودو', 'کشیءدن', 'زوج', 'یابند', 'تاس', 'قیامت', 'کوهستانی', 'میرزایی', 'صبحانی', 'تحیر', 'نصف', 'العالمیه', 'کودکی', 'مون', 'اطلس', 'طاعتهم', 'الحکمه', 'گل\\u200cانداخته\\u200cاش', 'الاشقی', 'شفای', 'مهدکودکی', 'بابویه', 'قالب', 'سختی', 'نوزادان\\u200cشان', 'سمینار', 'ثلاثه', 'داشته\\u200cایم', 'اره', 'مبذول', 'دایی', 'عظیم\\u200cترین', 'سانسکریت', 'تجریش', 'گانه', 'ویژه\\u200cی', 'اجنحته', 'القرن', 'رنگارنگ', 'امامان', 'ارشد', 'دایره\\u200cای', 'کارشناسان', 'به\\u200cدست', 'اسام', 'دانشگاه', 'اعمالنا', 'تاریک', 'دانشگاه\\u200cها', 'فقط', 'کنگ', 'دستغیب', 'خلأفت', 'قاسم', 'دلائل', 'نوشته', 'سهیید', 'نیرومندترین', 'امواج', 'النبیین', 'جل', 'یادداشت\\u200cهایی', 'میز', 'پاسارگاد', 'هواداران', 'فرض', 'اینه', 'المستغیثین', 'گنبدی', 'تلفنی', 'استناد', 'روانی', 'مسئله\\u200cی', 'اقدامی', 'خلع', 'فناداه', 'خوابد', 'طلبت', 'مادرد', 'بیست', 'قاطعانه', 'اندروید', 'پروفایل', 'الکریم', 'تونالیته', 'کلانشهر', 'فعلا', 'ملاحظه\\u200cای', 'اورند', 'حنین', 'نقطه\\u200cای', 'کشور', 'اوپک', 'اسم', 'همتایان', 'یازرلو', 'تیمشون', 'تایله', 'متعدد', 'لوژور', 'بدرفتاری', 'فیلم\\u200cها', 'پرأفتخار', 'مدرس', 'اعراب', 'منهج', 'فواصل', 'جگر', 'نوع', 'قبیل', 'ضربه\\u200cهایی', 'جانورانی', 'نداشتیم', 'ابتدای', 'رالز', 'کرمانشاه', 'برکات', 'اوکتای', 'مصنوعی', 'ضدموشتان', 'پیشانی', 'سوءدان', 'خان\\u200cبابایی', 'کوچک', 'اینشستین', 'بازی\\u200cهای', 'شهروندی', 'هفتگی', 'زندگینامه', 'پژوهی', 'احمقانه', 'مهارت\\u200cها', 'استرس', 'اصلاحات', 'مدت\\u200cزمان', 'نفتکش\\u200cهای', 'شهریاربه\\u200cویژه', 'زمین\\u200cلرزه', 'آزار', 'آفریقای', 'عیب', 'حرف\\u200cها', 'نامدار', 'شهرستان', 'نخواهد', 'پس', 'میر', 'هنرمندان', 'بهر', 'ایوب', 'کیهان\\u200cشناسی', 'صراحتا', 'بهترین', 'قطبی', 'رهبرشان', 'گرانی', 'برونسی', 'هاست', 'جاودانه', 'بی\\u200cثباتی\\u200cها', 'خانیکی', 'شاکری', 'کرامت', 'اتهامی', 'قامت', 'بکنه', 'باید', 'منبعث', 'ضلع', 'برایم', 'خاکپور', 'کجل', 'جمیعا', 'پرتأثیرترین', 'فرنگی\\u200cکاران', 'نوشته\\u200cهای', 'دیدند', 'نمی\\u200cباشد', 'یزید', 'پایدار', 'عملکرد', 'مرضیه', 'نمی\\u200cکنند', 'مشروبات', 'اساسنامه', 'روسی', 'هوافضا', 'شیءوا', 'منفتدانشان', 'عاطفه', 'عمومی', 'نمایشنامه', 'ضروری', 'سوءمری\\u200cها', 'شهادت\\u200cها', 'طلا', 'لغو', 'فراموش', 'مازلو', 'بزرگی\\u200cاش', 'نمونه\\u200cای', 'آزاد', 'خواف', 'سندی', 'ویژگی\\u200cهایی', 'بکشیءد', 'به\\u200cوسیله', 'کلوز', 'تشکیلات', 'ماشیءنی', 'تشیءع', 'نوکمپ', 'هزینه\\u200cهای', 'گفتا', 'متأسفم', 'جهه', 'سربالایی', 'ابدی', 'ظرفتر', 'مهدها', 'اهانت', 'همیشه', 'گازوئیل', 'راجع', 'الویت', 'نرمال', 'تنش', 'طاقتی', 'مارکس', 'دلتا', 'صندوق\\u200cهاست', 'های\\u200cدختر', 'ماتریس', 'حیدرم', 'اخلأقی', 'دورشکسته', 'المغرب', 'پیرامون', 'مهاجم', 'گفت\\u200cوهایشان', 'الخفا', 'ساخته', 'محکوم', 'آبان\\u200cماه', 'ترکمنستان', 'مرجانی', 'صوفیه\\u200cها', 'می\\u200cگیرهتصویر', 'پرتقال', 'متحد', 'وعرفتنا', 'سابقا', 'می\\u200cآییم', 'فسیل', 'تیترهای', 'گرمی', 'زینتی', 'جاد', 'برزنیم', 'بهره\\u200cگیری', 'ساکنم', 'جاماییکا', 'آهنج', 'پست', 'شبکه\\u200cها', 'الفجر', 'پیغام', 'صدرالدین', 'خیبری', 'قبح\\u200cشکنی', 'مددکار', 'محارم', 'دیدارد', 'اقتصاددانان', 'ببیند', 'قدرتی', 'آقایان', 'فداییان', 'اعلام', 'موجب', 'سالارکیا', 'حریف', 'قبیسی', 'ندارندد', 'کاوش', 'معاف', 'میلیارد', 'برخاستند', 'نصری', 'صحیفه', 'کارشنانسان', 'پرسش', 'هاست\\u200cهای', 'ایستادندند', 'کافئین', 'استراماچونی', 'شنیده', 'دمکراتیک', 'زمستان', 'پیرمردها', 'بیمه\\u200cهای', 'آکله', 'الفبای', 'مغزهای', 'تریبون\\u200cها', 'کواکبیان', 'بگو', 'استیو', 'آمده\\u200cاند', 'بسیج\\u200cکننده', 'صبرت', 'آویو', 'سیمانی', 'ورزقان', 'عناصری', 'تحکنیم', 'رابطه\\u200cات', 'راهگشا', 'هالیوودی', 'انطباق', 'شاملو', 'چشمش', 'ون', 'تارن', 'جانوری', 'گرگانی', 'امیدها', 'نیاکانمان', 'چیزی', 'زیبایی\\u200cشناسی', 'تحقیقاتان', 'بستن', 'جی', 'نشکسته\\u200cاند', 'حرفم', 'دزفول', 'وینفرد', 'می\\u200cشوم', 'می\\u200cنویسد', 'استابیلشمنت', 'واراقلاییردی', 'ببندند', 'درشته\\u200cمحل\\u200cهای', 'داران', 'برره', 'رادار', 'شیءب', 'کومور', 'وایلد', 'متراکم', 'خودگذشتگی', 'اجازه\\u200cای', 'چنداشته\\u200cاند', 'پرتلاش', 'تهی', 'خونه', 'خیام', 'سین', 'عزیمت', 'خبرگزاری\\u200cها', 'تکاب', 'ابزار', 'دارابی', 'مجروح', 'جامه', 'خارج', 'دبیر', 'غیرمترقبهه\\u200cی', 'ایستاد', 'زیباساز', 'کارایی', 'دمکرأسی', 'متفقین', 'زنجانی', 'کوته', 'مبارکه', 'مشکینی', 'نوبت', 'یقوله', 'راموس', 'نامعلوم', 'لامیزان', 'حب', 'نوبخت', 'بزک', 'مکودی', 'خرأسان\\u200cرضوی', 'عهدهم', 'روم', 'ماندگار', 'نهال', 'نقدی', 'نتانیاهو', 'بنده', 'خیره', 'تجار', 'ژوین', 'دیده\\u200cاند', 'سرفصلی', 'مادری', 'سازندگان', 'خیلی', 'ادله', 'ستور', 'بینالود', 'معنایی', 'کوانتومی', 'برند', 'اشراقی', 'آمریکایی\\u200cها', 'تطریق', 'حلال', 'پژوهشکده', 'برادرانه', 'چشم\\u200cهای', 'معلم', 'منافقین', 'قاطع', 'مساوی', '\\u200cکارگروه', 'باشگاه\\u200cمان', 'ساحل', 'نیایند', 'متونی', 'جاوا', 'گریبانگیر', 'مخاطبانش', 'اپوکسی', 'شربت', 'لیستی', 'ادارات', 'الباحه', 'تقلب\\u200cهایی', 'دونوب', 'زیدان', 'به\\u200cعبارتی', 'بلک', 'مطالب\\u200cتماس', 'آلمینیوم', 'درجات', 'روایات', 'گلن', 'مصفر', 'جروزالم', 'معیار', 'آرامش\\u200cرویداد', 'پختن', 'کلیات', 'اجلاس', 'الشیءاطین', 'زنگ', 'ارغون', 'رنج\\u200cهای', 'مقایسه', 'بصیرت', 'می\\u200cرسانیم', 'انصاره', 'خیانت', 'المقبل', 'نوبل', 'نظامی', 'مجروحان', 'برگردیم', 'قاره', 'هجمه\\u200cای', 'داروهای', 'می\\u200cافتاد', 'ریش', 'ابن', 'صندوق\\u200cهای', 'گشتن', 'کشارزی', 'شرمنده', 'سوءمی', 'راهنمایید', 'می\\u200cخورد', 'می\\u200cتوان', 'پراید', 'ابهامات', 'بدینوسیله', 'قابل', 'آن\\u200cکه', 'افکندن', 'ترابری', 'یگانه', 'نامشروعیتان', 'دردشان', 'غریبانی', 'برنامه\\u200cریزی\\u200cهایی', 'هم\\u200cپیمانان', 'لوث', 'فالانژ', 'ارومیه', 'یکم', 'بایستند', 'آرایشگاه\\u200cها', 'مپنا', 'لیسال', 'انار', 'می\\u200cجویند', 'بسیح', 'آنجلینا', 'شعله', 'اجماع', 'بیندازد', 'مشکلاتی', 'فضل', 'پذیرای', 'تمشک', 'همکارانی', 'لثه', 'ریزردها', 'نفهمیدیم', 'عتبات', 'جستجوی', 'کارفرمایی', 'العمر', 'ستاینده', 'اندونزی', 'هفتمین', 'نمایشنامه\\u200cهای', 'شکویری\\u200cراد', 'شوینده', 'مقوله', 'هوشمندانه', 'خوی', 'تشکیلا', 'تجربیات', 'همسان', 'ویلا', 'وفا', 'سنجی\\u200cها', 'آسیب\\u200cدیدگان', 'حسابی', 'ظلم', 'مالکلیت', 'متولیان', 'دغدغه\\u200cهای', 'پاتر', 'بهاران', 'ریاض', 'ناشرین', 'متفاوت', 'زمخشری', 'هنری', 'علو', 'ابه', 'ریست', 'الزکاه', 'ماندلا', 'فلز', 'خطا', 'دستورالعمل', 'شنبه\\u200cها', 'کشیءده', 'پرست', 'این\\u200cرو', 'رمی', 'بمباران', 'خشت', 'رمسوءلان', 'تابعان', 'قشیءریه', 'معماری', 'سرمایه\\u200cگذاردی', 'نف', 'لعن', 'راحیل', 'له', 'الی', 'افلاکی', 'دیگر', 'نبلوفر', 'خیرات', 'خداییش', 'سکه\\u200cای', 'بزرگواران', 'نظم', 'بکریم', 'لحاظ', 'اس', 'فعالت', 'ظلم\\u200cها', 'نهانگاه', 'ملحق', 'افزایی', 'غلام\\u200cعلی', 'وغیرأستایبا', 'اسارت\\u200cها', 'همند', 'اعتقاد', 'اربیل', 'طرح\\u200cهای', 'دریافتند', 'لکن', 'سلامی', 'دهی', 'ناپذیر', 'روییده\\u200cاند', 'جداسازی', 'گویم', 'محافل', 'الارض', 'الموت', 'اذکر', 'سیأست\\u200cها', 'مدیریت\\u200cهای', 'رشته\\u200cای', 'نفرموده', 'ملاقات', 'الشکل', 'صفاحیدرم', 'مشتقات', 'نشریه\\u200cهای', 'میرجهانمردی', 'نگاه\\u200cهای', 'بحثی', 'واقعه\\u200cی', 'لاهل', 'راهنی', 'متحرک', 'آلفرد', 'صوفور', 'خالقی', 'گیر', 'راه\\u200cهایی', 'آمادگی\\u200cهای', 'حوالی', 'گریه\\u200cی', 'بهشتی', 'انرژی', 'سمنان', 'تنهایم', 'بنین', 'آذر', 'تعالیم', 'سلاله', 'متهمان', 'سپس', 'غواصی', 'بردارد', 'جلال', 'بهتری', 'شن', 'ساپورت', 'ابزارهای', 'ژیان', 'شبانه\\u200cروزی', 'سوءمین', 'مسلمان\\u200cها', 'خدماتش', 'سفارتخانه\\u200cهای', 'مأموریت', 'پایان', 'پاییزان', 'محترم', 'هاشم', 'گوشت\\u200cهای', 'سخنرانیی', 'بستی', 'مشگل', 'دست', 'متخلفینی', 'قبرهای', 'جنبه', 'پترول', 'پاقشار', 'زیباترین', 'ویمصوبه', 'اقلام', 'ارادتمند', 'مجبورید', 'ثانیا', 'مدارس', 'جام\\u200cجهانی', 'یاریکی', 'تعقیبات', 'می\\u200cچسبد', 'فکرش', 'شیءخ', 'عار', 'دمن', 'شدم', 'نگذاشت', 'زیبا', 'بازنگری', 'همدان', 'عالی\\u200cمقام', 'آغاز', 'سان', 'سالگرد', 'شیءروانی', 'مشاهداتمام', 'عبدالرضا', 'مخربی', 'زرهی', 'پای', 'نفاذه', 'یلی', 'کنسوءلی', 'بارانی', 'کیفیتیخدمات', 'بازرسی\\u200cهای', 'هیجانات', 'فقرات', 'الوند', 'ژورنالیزم', 'اندوزیم', 'همچنین', 'ازی', 'آنتی\\u200cاکسیدانی', 'مرتبه\\u200cی', 'بازوی', 'سنیله', 'نردبانی', 'ایالت\\u200cهای', 'جزایری', 'مشاوره', 'می\\u200cآیند', 'سرخوردگیه', 'تشکل', 'نفراهم', 'امتیازهای', 'پایمال', 'دانشگاهیان', 'کدوم', 'نام\\u200cآوران', 'هواپیماهایی', 'حسی', 'تعجیل', 'قدردان', 'شیءشه\\u200cهای', 'همنوعانش', 'بلندهایی', 'نامیده\\u200cاند', 'رویدادهاست', 'عالیه', 'انقد', 'اهل', 'نسبت', 'باند', 'نشوید', 'پیش\\u200cشرط', 'استحقاق', 'زیرساخت\\u200cهایی', 'غریزه', 'والرخا', 'مزینانی', 'مشترک\\u200cمان', 'متواری', 'شنبه', 'برنامه', 'بالهایش', 'مستمر', 'هماتی', 'مداری', 'تازه\\u200cای', 'آلاینده\\u200cهای', 'کرواسی', 'دلت\\u200cگر', 'سایه', 'بدونه', 'موعودی', 'کمک\\u200cهای', 'کرکره\\u200cاش', 'شیءرخوارگان', 'شمال', 'اهدنا', 'دریا', 'صحیح', 'تورات', 'غمبار', 'آستانه', 'اندرکاران', 'تعبییه', 'اسمه', 'بندپی', 'سبکبالی', 'سینماها', 'البیت', 'دروازبانی', 'انگلیسی\\u200cها', 'بازشد', 'اعساری', 'دعا', 'روزا', 'یوشیءج', 'خونسردیمان', 'جایی', 'تهمینه', 'فلوجه', 'ویتأمین', 'راه\\u200cها', 'انتخاب', 'گردیدند', 'کاربری', 'طیحه', 'تایید', 'اگه', 'غلات', 'لایه\\u200cهای', 'فرصت\\u200cهای', 'دستبرد', 'تاکسی', 'قرارگیری', 'غار', 'رفتار', 'اسیران', 'نصابان', 'قال', 'نهرها', 'نوسان', 'نبوده', 'زود', 'سخنان', 'زارع', 'زلزل', 'سازمان\\u200cهای', 'زورگو', 'رودریگز', 'استه\\u200cتر', 'العدد', 'رؤیترز', 'ضیاءالدین', 'پکرمان', 'سیستم\\u200cها', 'می\\u200cنشیءنند', 'کذب', 'اقتصادی', 'تعصب', 'اشتغال\\u200cزایی', 'سرویس', 'قایمی', 'پیشرفت', 'بس', 'جانباز', 'محمدزاده', 'دیجتیال', 'بطلان', 'فرعی', 'دانمارکی', 'جهانگیرزاده', 'جزائر', 'کجا', 'جریمه\\u200cها', 'شاعر', 'نیکویی', 'همتای', 'همدستش', 'مستلزم', 'پرتغالی', 'ناامیدی', 'مردانقم', 'یاقوت', 'فتونیوزهای', 'ندهد', 'بیانگر', 'ایرنا', 'صلوات', 'قوی\\u200cتر', 'ضیغمی', 'بهترین\\u200cها', 'کوشان', 'تسمع', 'تبعاتی', 'مجنون', 'شاهی', 'شتگان', 'برنیمه', 'رضوان', 'اژدها', 'مناطقی', 'عبدالعزیز', 'تزریق', 'اتوبوس', 'به\\u200cسرعت', 'ستاره\\u200cها', 'دامصوبه', 'می\\u200cیافتند', 'زرد', 'نرگس', 'ماشاءالله', 'بدهی', 'تسببت', 'شدیدی', 'همدستی', 'فرات', 'منعکس', 'الرمیحی', 'نکونام', 'دانمارک', 'کمرنگ', 'حماسه', 'بهادار', 'رده\\u200cهای', 'شخصا', 'خندان', 'نوده', 'تسمی', 'رضوانی', 'استعلام', 'شدیدترین', 'ابیان', 'بیابانگرد', 'نوی', 'مقابله\\u200cی', 'نیوشا', 'قطعنامه', 'ربی', 'بودجه\\u200cها', 'حیثیت', 'تس', 'اصغری', 'زمامدارانی', 'ساخت\\u200cهای', 'آمدم', 'زراعته', 'غایتش', 'تهییج', 'شدها', 'قندی', 'هنگامی\\u200cکه', 'اسیل', 'زور', 'راهبرد', 'بدونش', 'منهیولممیش', 'بازیکنانی', 'مهرآبادی', 'یومن', 'کاربر', 'گندم', 'منافی', 'بهجت', 'کج', 'کفشچیان', 'کشهای', 'آرزوها', 'استادان', 'خانگی', 'جمع\\u200cشدن', 'لحظات', 'می\\u200cشنوید', 'دیوار', 'می\\u200cدانمدانش', 'نماهنگ', 'بهسازی', 'نظریه\\u200cهایی', 'کربکندی', 'بلند', 'ناخالصی', 'تبری', 'فیزیک', 'مقاله', 'بوسه', 'سیده', 'خوزستان', 'ویولن', 'رهنمودها', 'سیمان\\u200cهایی', 'نمی\\u200cدانمبیمار', 'توانمندی\\u200cها', 'استانازی', 'رسید', 'چگونه', 'زندان\\u200cهای', 'کارخانجات', 'جویانه', 'سارا', 'کندن', 'دبیرستان', 'تلفیقی', 'مارکت', 'مندند', 'اتباع', 'بندگان', 'ذیربط', 'ژنراتور', 'مشخصی', 'تلگراف', 'صخره\\u200cها', 'حدیث', 'اشغال', 'نعیمه', 'مبانی', 'مصادیق', 'الصقعبی', 'تعویض', 'کوراوغلو', 'پیچک', 'سفارتخانه\\u200cها', 'برتری', 'طویله', 'طیف\\u200cهای', 'حومه', 'فرسوءده', 'رسالت\\u200cهای', 'طلبه', 'پرستو', 'ادعاهای', 'هارایی', 'فهم', 'نوازنده', 'عصر', 'بریزیم', 'آرتور', 'تجهروا', 'سنگ', 'پکن', 'انگاری', 'اکستازگی', 'ارتماسی', 'بویراحمد', 'هادم', 'میهن', 'ممنوعیت\\u200cهای', 'المنسلح', 'جعلی', 'به\\u200cاندازه', 'مذهب', 'الاحمد', 'تماس', 'می\\u200cرفتند', 'پایسی', 'صنعتگر', 'شاخص\\u200cها', 'مرزی', 'غول', 'اختیارات', 'المشیءقح', 'قصد', 'تحرکی', 'ماری', 'محصولات', 'آزیتا', 'مردمند', 'همکاری\\u200cهای', 'می\\u200cباشد', 'مواهب', 'قرآنی', 'شرح', 'مشهدی', 'هاچه', 'سالومه', 'اعصاب', 'برنامه\\u200cهای', 'سریال\\u200cهای', 'استعفا', 'شست', 'افسریه', 'الروایات', 'س', 'برآمدن', 'میدونسته', 'پک\\u200cهای', 'بهینه', 'آنشان', 'لرزان', 'بیست\\u200cوسوءمین', 'طوافند', 'الدری', 'مزید', 'معراج', 'بنیادین', 'لواسانی', 'بفرستد', 'خندق', 'پیمانکاران', 'جنبنده\\u200cاش', 'مساحت', 'گروه\\u200cهای', 'سالیان', 'آمصوبه', 'تسبیح', 'سرد', 'بازوش', 'گزیدهی', 'اشررکت', 'یده', 'فیلم\\u200cهایتان', 'خدات', 'خرابی\\u200cها', 'فرأست', 'خور', 'فیلم\\u200cنامه', 'دیدی', 'صمیمی\\u200cترین', 'خوانساری', 'تحلیل\\u200cها', 'نگیرم', 'افشا', 'اسهال', 'اشهادان', 'نظران', 'پرچمدارن', 'تقلب', 'فناوری\\u200cهای', 'فاجعه\\u200cبار', 'اقتضایی', 'تسخیری', 'بی\\u200cپرده', 'سیرها', 'شب\\u200cهای', 'گوسفند', 'فرم', 'الجربوع', 'ساحتگی', 'شناسنامه', 'اکباستان', 'مسخره\\u200cی', 'اسلم', 'دهه', 'جات', 'لاذع', 'محدودیت\\u200cها', 'پژوهشگاه', 'ابوالحسن', 'ابروز', 'مستقر', 'واجد', 'قادسیه', 'آزمایش\\u200cها', 'برانگیخت', 'بهشت', 'مشروحا', 'کومان', 'عاشورا', 'مجموعه\\u200cی', 'هیئت\\u200cهای', 'بیگانه\\u200cاش', 'سرشون', 'بگم', 'پیوستن', 'فرا', 'عرصه\\u200cهای', 'شماست', 'خوانده', 'هشترود', 'قلی', 'لوتار', 'نباشند', 'منتظر', 'آجر', 'صبحگاه', 'معصیت', 'شناسی', 'گالری', 'ترانه\\u200cهای', 'کنندگانی', 'نشد', 'رادیولوژی', 'شانزدهمین', 'آتلانتیک', 'فناوری', 'کشته', 'مراتبی', 'سیم', 'خیراندیش', 'انکارناپذیر', 'لابیرنت', 'گردید', 'آرزوی', 'تماس\\u200cهای', 'دیجیتالی', 'دفترچه', 'مشاستان', 'توحیدی', 'القصیم', 'مقوله\\u200cهای', 'یورو', 'آشیءانه', 'خمسمایه', 'افتخارهایی', 'تکمیلی', 'موفقیتر', 'پله\\u200cها', 'هدفمندی', 'کیلوگرم', 'سلسله', 'تاجگردون', 'همه\\u200cی', 'راضی', 'مدرینته', 'جورج', 'قرب', 'بشنوم', 'بزرگ', 'اردوی', 'ماست', 'طالع', 'پرچربی', 'کشوران', 'کلانشهرها', 'فرود', 'عرفات', 'می\\u200cاندازی', 'دستی', 'دستخوش', 'مدرکی', 'مکتبش', 'بولاغ', 'استریت', 'لاک', 'نشکسته\\u200cایم', 'درایی', 'مردانید', 'باطنی', 'شوخی', 'اخلأص', 'نمی\\u200cدهی', 'یعقوب\\u200cزاده', 'اطاعتان', 'آنجایی', 'پورت', 'شعرها', 'بری\\u200cها', 'اورتگا', 'محمودزاده', 'دریافت\\u200cاند', 'شاگرد', 'تک\\u200cتک', 'قلب\\u200cها', 'افضال', 'العلما', 'بارگذاری', 'متغییر', 'ذی\\u200cنفوذان', 'ژنتیک', 'اروند', 'پوشاک', 'رشادت', 'اخرج', 'ساعت', 'می\\u200cدانستم', 'تشکیلاتی', 'گروگان\\u200cها', 'معده', 'فاش', 'یانگ', 'ش\\u200cهایی', 'آلو', 'انتقاداتی', 'داشتیم', 'تصور', 'حاوی', 'دریت', 'میشدی', 'قطره', 'احمدشاهی', 'زیرساخت\\u200cهای', 'وحیرانم', 'عاشقانه\\u200cها', 'سنگچین', 'وضعیتی', 'داره', 'شدنی', 'سرانه', 'فتح\\u200cالله\\u200cزاده', 'قول\\u200cهایی', 'کاش', 'کاظمین', 'چیره', 'لکم', 'فرادید', 'مندرج', 'الغفله', 'درنیفتاده\\u200cاند', 'چاه\\u200cهای', 'لاوروف', 'مؤذن', 'کربن', 'ارجاعاتی', 'خونی', 'تنگاتنگی', 'انصراف', 'رفتگران', 'استاده', 'دلم', 'الله', 'اصطکاک\\u200cهای', 'پویا', 'شبهه\\u200cای', 'ببینند', 'رؤیانیان', 'عبره', 'جنبه\\u200cی', 'شبان', 'عینی', 'لاریجانی', 'ناتو', 'بوک', 'اشراف', 'حجاب\\u200cها', 'حمید', 'آنکارا', 'تدمر', 'مشتریان', 'افعال', 'اسالی', 'رادیواکتیویته', 'مشتاقان', 'لیورپول', 'به\\u200cخیر', 'هیچنز', 'سرنگونی', 'نفسهام', 'فرانسنی', 'محلمون', 'هدیش', 'تحمیل', 'تحل', 'گرداند', 'سبزیجات', 'گردشگری', 'میگیرد', 'آشنا', 'سرمایه\\u200cگذاری\\u200cهای', 'شادمانی', 'مصون', 'مراتع', 'دریت\\u200cهای', 'نکن', 'می\\u200cکنه', 'فهرست', 'خواندن', 'سایه\\u200cهای', 'بصری', 'ملل\\u200cهای', 'جز', 'کلانتری', 'انداز', 'ارز', 'دبکا', 'اتوبوسرانی', 'خاندان', 'کنار', 'دولتی', 'می\\u200cکید', 'سنده', 'تی\\u200cوی', 'خبرگزاری', 'مضر', 'اتوبان', 'رستوران\\u200cها', 'گیرند', 'خارجی\\u200cها', 'بمب\\u200cگذاری', 'کوچکی', 'تریلوژی', 'ساعد', 'وضاقت', 'عزای', 'عقده', 'بیانات\\u200cشان', 'جمع\\u200cبندی', 'دشمنهنیلورم', 'پارس', 'رشته\\u200cام', 'کثرت\\u200cگرایی', 'حزب\\u200cالله', 'زحمت', 'گوناگونی', 'پند', 'حربه', 'فسیلی', 'اعتمواد', 'جزئی', 'عذر', 'المؤمنات', 'نگارنده', 'مسلیمانی', 'بیکار', 'پایه\\u200cگذاشته\\u200cاند', 'جذابت\\u200cهای', 'تلفن', 'زیرکی', 'وندان', 'می\\u200cکه', 'شاهکاری', 'ریخته', 'الشده', 'کم\\u200cکم', 'کوچه\\u200cها', 'روزنامه\\u200cنگاران', 'الاخرین', 'دره', 'رمان', 'منتخب', 'زبون', 'حزن', 'مؤثرترین', 'روتووبتوان', 'یغفر', 'فلش', 'لوالعزم', 'رجانیوز', 'ناآگاهی', 'صل', 'متخذه', 'نامیم', 'عثمانیان', 'فرزندانشأن', 'مشروع', 'مقیمی', 'نسخه\\u200cهای', 'می\\u200cدهدم', 'نغز', 'کلوپ', 'گلریزون', 'مطمن', 'عهد', 'تنگی', 'تضییعت', 'علاقه\\u200cهای', 'وبلاگم', 'اساسنامه\\u200cای', 'شخصیت\\u200cهای', 'بنگلادشیء', 'محاربه', 'تدوین', 'تانواع', 'پنجم', 'موبایلت', 'السلطنه', 'جسد', 'عظیم', 'نظریات', 'ایثاربی', 'برین', 'فرضیه', 'کیلومتر', 'استکباری', 'الاملین', 'مستضعفین', 'تغییر', 'اضطراب', 'عزاداراتر', 'ابوتلاش', 'می\\u200cرسه', 'سبحان', 'انسان\\u200cهایی', 'پیشنهادات', 'هاشمی', 'اخیر', 'ضربه', 'می\\u200cگیریم', 'معتبر', 'خرافاتی', 'شخصیت\\u200cها', 'بارالها', 'دیدگاه\\u200cهای', 'فعالتهایی', 'پایلوت', 'الهیئت', 'بمعصیته', 'فروش', 'درخواست', 'پایه\\u200cگذاری', 'سلمان', 'خوارج', 'عدم', 'فاتحی', 'اباصالح', 'اجازه', 'درآمدهای', 'هم\\u200cاکنون', 'عباس', 'گرایش', 'ناز', 'مرتبت', 'نورنگار', 'اجساد', 'بارسلونا', 'حلیم', 'شهرمان', 'میرزا', 'بی\\u200cآلایش', 'بدرقه', 'جوان', 'کشیءدیم', 'تماشای', 'ضربت', 'اخابر', 'ممسنی', 'عاطفی', 'خزر', 'آسمانی', 'دعای', 'منطبق', 'طناز', 'آنسرمحله', 'مکتاب\\u200cها', 'ینکه', 'نافزایش', 'سریع\\u200cتر', 'تحولاتی', 'سالمان', 'می\\u200cابند', 'فقیده', 'موشک', 'همترین', 'حسینیه', 'گروه\\u200cها', 'فردایتمی\\u200cدانم', 'گوشه\\u200cای', 'منوال', 'اردکانیان', 'اذیت', 'خوانا', 'می\\u200cشناسیم', 'مخلص', 'راننده\\u200cاش', 'گچ', 'مایندگان', 'آرژانتینی', 'تفکر', 'صانعی', 'غایه\\u200cام', 'اعتقادی', 'شواهد', 'مشغول', 'اشخاص', 'بیرانوند', 'یاور', 'داروهایدانه', 'می\\u200cداد', 'کارآمدتر', 'طریقبه', 'فرجام', 'پربیننده\\u200cترین', 'مکی', 'سجاد', 'توابع', 'مطبوعات', 'مشکلاتش', 'مرقه\\u200cها', 'رحمانی', 'شکوهمند', 'سوء', 'بی\\u200cپیر', 'رأسخون', 'طعم\\u200cهای', 'دامغان', 'بهنامجو', 'شو', 'جناهنگام', 'سیلاخوری', 'صورتجلسه', 'احتیاج', 'سلوک', 'مجازی', 'بارندگی\\u200cها', 'بشیءکتاش', 'گرفتار', 'جالبی', 'تثبیت', 'غنی', 'می\\u200cآوردند', 'کم', 'عزت', 'آموزش\\u200cها', 'هفتاد', 'هشت\\u200cساله', 'زنجبیلا', 'رقبای', 'می\\u200cنویسیم', 'اوزان', 'یارانش', 'ممیزه', 'قشر', 'بولدوزرهای', 'معاونین', 'فرآیندها', 'رفتارها', 'امروزشاان', 'موجه', 'متقلبانه\\u200c', 'تیره', 'داوریی\\u200cاش', 'نگارخانه', 'ارمنستان', 'منازل', 'جنگ', 'مجاهدین', 'فانتزی', 'محله', 'تجربه\\u200cتر', 'تخلأفات', 'مستحکم\\u200cتر', 'بودا', 'داده\\u200cهای', 'خوردوخوراک', 'بردگی', 'قضات', 'قدسی', 'موشامباسینی', 'محوطه', 'نارده\\u200cاند', 'اشغالی\\u200cالمال', 'دلیر', 'ماجراهایی', 'اروپاییان', 'سخت\\u200cگیری', 'سرخپوشان', 'قرینه', 'تعرض', 'سرفرازی', 'میده', 'مانور', 'دراگان', 'منصب', 'انقلابی', 'پیاز', 'لیک', 'خلأصی', 'بفرمایید', 'مرتضی\\u200cپور', 'تروریسم', 'فیروزه', 'مخالفه', 'ینی', 'پروردگار', 'شهیری', 'جانفشانی\\u200cها', 'اولین', 'انسوءلین', 'متعهدله', 'اقلیت\\u200cهای', 'لباس\\u200cهای', 'همتاهای', 'اعتباری', 'وابسته', 'یادشان', 'بهاره', 'سهمیه', 'شیءربانی', 'سلال', 'افشاری', 'کنسانتره', 'خنثی', 'بیمارستان\\u200cهای', 'قدیمی\\u200cترین', 'ریزگردها', 'دادیم', 'ارمنی', 'جهانگیری', 'آرا', 'مادربزرگ', 'مکانیسمی', 'بناهای', 'مخابرات', 'ارزهایی', 'ذکر', 'تلخی', 'مسالمت', 'شفاف', 'حائز', 'مترجمین', 'آشفتگی', 'حاصله', 'جون\\u200cاش', 'بی', 'گوگل', 'گستر', 'برگزیده\\u200cتر', 'فهبنی', 'پسرش', 'دادخواستی', 'تولدی', 'گیلان', 'ناکافی', 'می\\u200cخوانی', 'خطاب', 'آشتی', 'اوج', 'غیاری', 'ادوات', 'اوقات', 'جلسه\\u200cای', 'پرهیز', 'شیءوه\\u200cی', 'بازنویسی', 'الاسرار', 'سقا', 'گورون', 'جوانرودآیاتی', 'دادند', 'چادر', 'دریاچه', 'ممنون', 'تعقیب', 'رامش', 'نواقص', 'محوری\\u200cترین', 'رحمان', 'ریما', 'رانت', 'مبتکرانه\\u200cای', 'خیابان\\u200cها', 'کره\\u200cای', 'صحت', 'فلزات', 'جبهه\\u200cای', 'هیچ\\u200cوقت', 'همتون', 'پاییز', 'آمنوا', 'جراحان', 'خواهی\\u200cهای', 'انزل', 'خود\\u200cهای', 'مکانیسم', 'مردهایی', 'آملی', 'غابشیء', 'بجستان', 'عطا', 'منظورمان', 'لرستانی', 'موفق', 'اندازی', 'رسانه', 'ابوعبیده', 'ظرفتیهای', 'ساعت\\u200cهای', 'نانقلاب', 'حزین', 'شاهزاده', 'بلاگرها', 'مستغرق', 'نواب', 'تاتی', 'اجاره\\u200cی', 'انتظاراتی', 'بلاروس', 'پیچیده', 'تیشرت', 'پیگیر', 'عاجلا', 'صاغانا', 'آخر', 'موهبت', 'بالینی', 'وخت', 'کاسته', 'مایع', 'تهاجم', 'گشا', 'جریان\\u200cها', 'سیار', 'سینه', 'ولات', 'تاریخی', 'تأکیدات', 'کلاله', 'تعطیلاتش', 'تدریس', 'روا', 'رجاله', 'احمر', 'مهم\\u200cتری', 'دل\\u200cهای', 'یوخ', 'مطبوعاتشان', 'بیمارستان', 'عبدالوهاب', 'کاهنان', 'مسافرم', 'لیو', 'مهار', 'شهیدمان', 'فرامرزی', 'پاس', 'شرع', 'اذا', 'تماسی', 'خدمت', 'ناگفته\\u200cهای', 'لسان', 'دادفر', 'جایرانه', 'اهورایی', 'محاسن', 'آحال', 'پهلوی', 'آفریقایی', 'ایثارگری', 'ژاله', 'انقلاب', 'سماویه', 'احاولپرسی', 'مدرنی', 'علیرغم', 'گرنه', 'آموخت', 'سرمقاله', 'بلاگفا', 'صلاحدید', 'حوزه\\u200cهای', 'آزارها', 'استن', 'قلدرترین', 'تبانی', 'سیوال', 'آوردم', 'فراز', 'امتحانهای', 'هبنی', 'خطای', 'جراحی', 'جام\\u200cباشگاه\\u200cهای', 'فراش', 'نشر', 'ایمنیت', 'مرثیه\\u200cای', 'پرستی', 'قانونمندترین', 'دقت', 'به\\u200cزودی', 'تظاهرات', 'رسوءلی', 'ظرفیت\\u200cهای', 'چوب', 'یتنبه', 'اجراهای', 'پیچیده\\u200cای', 'بردند', 'بعثت', 'ولیا', 'امکانات', 'مشتاقانه', 'گفت\\u200cگوهای', 'دلان', 'آدرس', 'عبودیت', 'بازدهی', 'کودکان', 'به\\u200cتدریج', 'حفاظ', 'کاپیتان', 'ایفاگر', 'نمازهایشان', 'صرفه\\u200cجویی', 'بروکلی', 'حرف', 'خوردگی', 'صهیونیست', 'میناخوانی', 'پدیده\\u200cی', 'شورأی', 'میجی', 'ناخرسندی', 'دامنه\\u200cهای', 'عتیق', 'یأسین', 'دستاورد', 'العارفین', 'توانمندی', 'دستان', 'آسیای', 'فرابورس', 'بنده\\u200cاش', 'پرونده\\u200cای', 'احزاب', 'به\\u200cگونه\\u200cای\\u200cاست', 'می\\u200cکن', 'رفسنجانی', 'می\\u200cنامند', 'نامه\\u200cی', 'رسائل', 'عادلی', 'دله', 'گفتم', 'کار', 'افزارهای', 'احمدی', 'مهدوی', 'گرا', 'پراکنده', 'روحانیون', 'موشکی', 'قوی', 'نمی\\u200cکشانند', 'گذاشته\\u200cایم', 'روزهایمان', 'موهومی', 'خواسته\\u200cها', 'یاریک', 'گفتید', 'الناس', 'مواکب\\u200cهای', 'خودرؤسازان', 'آبکی', 'خواربار', 'قراردادی', 'بیهوده', 'انعطاف', 'مشیء', 'سمفونیک', 'پژوهشیء', 'رباره', 'دودمان\\u200cهای', 'حاضرین', 'شنای', 'خدابخش', 'تصادفی', 'رساواردخانه', 'کمیته\\u200cهای', 'همیشگی', 'الیگودرز', 'ناکارآمدی\\u200cهای', 'اقربا', 'سرخ', 'رؤسای', 'حسان', 'گروهک\\u200cهای', 'جراید', 'همکاری', 'اکیپ\\u200cهای', 'برگزیدگان', 'می\\u200cتوانین', 'عرفانی', 'سرمایه\\u200cگذارها', 'المؤمنین', 'ملاقلی\\u200cپور', 'اصطلاحات', 'کدخدایان', 'ریه\\u200cها', 'اشد', 'بابه', 'فتوشاپ', 'عمری', 'زندگیمان', 'نیازهای', 'کابلی', 'نرخ\\u200cها', 'مفاهیم', 'بازیکنانم', 'آکوستیک', 'خصمانه', 'دعاها', 'زه', 'قرمز', 'لغزندگی', 'مجزای', 'السوءید', 'نهبندان', 'یقرا', 'فوق\\u200cالعاده\\u200cای', 'رأستین', 'غروب\\u200cهای', 'مین\\u200cزدایی', 'وب', 'دهان', 'درایتی', 'کشیءدند', 'سپیدرود', 'کچ', 'می\\u200cکند', 'تکنیک', 'خطه', 'جم', 'گفتمان\\u200cهای', 'یوزهای', 'فروشگاه\\u200cها', 'توافقنامه\\u200cای', 'پرکار', 'دیزنی', 'معناسیندادیر', 'ترفعوا', 'زنانی', 'دیروز', 'کمانداران', 'مان', 'سرودن', 'ناآرامی\\u200cها', 'منصوب', 'فرافکنی', 'لیبرال\\u200cها', 'پایان\\u200cنامه\\u200cهای', 'جثه\\u200cی', 'الساعه', 'درچه', 'کویری', 'نداده', 'انیشتین', 'خیزان', 'کویتی', 'سد', 'رالی', 'آبگرفتگی', 'ام\\u200cاس', 'نزدیکی', 'انسان\\u200cهای', 'اسپاراتا', 'مکمل', 'دیلمیان', 'فعالمن', 'فرمانراویان', 'گرسنه', 'فتا', 'بازی', 'اولوبلار', 'آبشار', 'دایرکنندگان', 'جنگ\\u200cزده\\u200cها', 'نوزادان', 'دندانه\\u200cهای', 'راه', 'مهرگان', 'بذلک', 'ته', 'درخواستی', 'عج', 'می\\u200cکشاند', 'جوین', 'مشابهی', 'نکردند', 'یا', 'آدم\\u200cها', 'مکه', 'خانه', 'بولتن', 'وبلاگتون', 'ایرانیان', 'ترانزیت', 'چادرنشیءن', 'می\\u200cخرنش', 'بازجویی\\u200cها', 'نگین', 'روزنامه\\u200cهای', 'کریستینا', 'بارگاه', 'برزه', 'دولتان', 'انس', 'کنترباس', 'مشهدای', 'حرم\\u200cها', 'ششم', 'سرخوش', 'الخیاط', 'زمین\\u200cهای', 'مساجدی', 'تتا', 'نیامده', 'قادری', 'بیهوشیء', 'استخاک', 'فیلمیو', 'طبع', 'افکن', 'اخبارسلامت', 'کرده\\u200cام', 'بخاری\\u200cهای', 'هوایی', 'متحدانش', 'تعلیمات', 'یاب', 'همانقدر', 'رایش', 'شنانساندن', 'برقرار', 'وجوه', 'یکمین', 'دوستانش', 'رسم', 'نباید', 'بهره', 'رویدادها', 'واقعی', 'منزلت', 'تازه', 'اعظمی', 'آید', 'سیم\\u200cها', 'احمی\\u200cنژاد', 'پربارترین', 'گویی\\u200cهای', 'متعجب', 'روده', 'منسوءب', 'جانبازان', 'سریلانکا', 'رصد', 'می\\u200cگوییم', 'خوشنویسی', 'مسئولان', 'نایب', 'ضرورت', 'نزدن', 'معلمین', 'داردناکی', 'غربته', 'الدهر', 'اغتشاشگران', 'ان', 'گزگز', 'لاله\\u200cی', 'روشنفکرش', 'اصولگرا', 'به\\u200cویژه\\u200cای', 'گویا', 'مزاج\\u200cها', 'بازرسی', 'کارهای', 'حاشیءه\\u200cهای', 'پنتون', 'بینانه\\u200cتری', 'علاقه\\u200cمندان', 'سالهای', 'داغ', 'اراضی', 'اعتصاب\\u200cها', 'ماسکل', 'بنام', 'گربه', 'شوشتری', 'رونالدو', 'روزنامه\\u200cی', 'عمرشا', 'درس', 'مقطعی', 'دفترچه\\u200cهای', 'همسر', 'تمرین\\u200cهای', 'پرنیان', 'انسان\\u200cها', 'شعارهایی', 'معلموم', 'طیفی', 'تیراژ', 'محض', 'گذشته\\u200cی', 'تمهیدات', 'جیب', 'ناخود', 'ویزگی', 'نمالید', 'محرک', 'گندزدا', 'ذخیره', 'کرم', 'اشکان', 'حرام', 'قارچ', 'کنیم', 'موفق\\u200cترین', 'مبحث', 'کش', 'داشته\\u200cاند', 'جویدن', 'فاتح', 'ترأست', 'چند', 'منیژه', 'حقوق\\u200cهای', 'پابهرهنه\\u200cها', 'لاصرخن', 'ژئوپلیتیکی', 'لقب', 'جدیدترین', 'چربی', 'لامپ\\u200cهای', 'سوءژه\\u200cهای', 'متوسطه', 'آفتاب', 'روزهایی', 'بحران\\u200cسازان', 'دنیزلی', 'محلباف', 'هنری\\u200cمان', 'محمودی', 'نباشد', 'دیپلماتیک', 'فعالانه', 'سراغ', 'خود\\u200cها', 'تسبیحات', 'درگفت\\u200cو', 'وطنم', 'رومانی', 'حقانیت', 'نزدیک\\u200cتر', 'النجاه', 'عرصه\\u200cی', 'بلندگوها', 'جماعت', 'مجالی', 'تئاتر', 'تنبلی', 'خودسرانه', 'مدنیت', 'می\\u200cهد', 'شاه\\u200cکرم', 'استه\\u200cای', 'بازی\\u200cهایش', 'مغفول', 'آفریقا', 'صفایی', 'سرما', 'سطح', 'دوزی', 'مشارکت\\u200cهای', 'بیفتد', 'ابر', 'امامزاده', 'سنجشیء', 'مردان', 'عبداللهی', 'غبارآلود', 'اختراع', 'جامعه\\u200cهای', 'گردوهی', 'العلی', 'مکشوفه', 'پشتوانه\\u200cسازی', 'گرفتاری\\u200cهای', 'شمشک', 'دستیار', 'افسران', 'داناوان', 'روزش', 'لخویا', 'احتمالی', 'المستعان', 'می\\u200cدارد', 'یمینی', 'درگاه', 'دانشگا', 'کسیر', 'قوپوز', 'مواجب', 'جانوران', 'دیزمار', 'توصیف', 'سابقه', 'تیمش', 'عزم', 'برداشتیم', 'زاویه', 'امروزه', 'بیماران', 'سینمادارش', 'متعال', 'کورت', 'شنیداری', 'حلقه\\u200cهای', 'شان', 'نگذار', 'پلیمرهای', 'معروف', 'شوقی', 'مأمون', 'دانشنامه\\u200cها', 'آقایی', 'ایفا', 'حوزه\\u200cها', 'احساساتمام', 'تقلبی', 'استگاهی', 'تعاونی', 'مطلقه', 'منطبقه\\u200cای', 'ناتان', 'نیاید', 'ادوار', 'رکعتین', 'همین\\u200cطور', 'دیوها', 'جراحی\\u200cها', 'بورنو', 'بی\\u200cاعتمادی', 'تل', 'شغلی', 'سوءزانا', 'رفیت', 'ببخشند', 'مروجان', 'صحبت\\u200cهایخود', 'مقالات', 'نمکپاش', 'پیاپی', 'ونفوذدرهمه', 'مطالب', 'آبدهگاه', 'مجیدی', 'اوزان\\u200cها', 'تازی', 'وازتخانه', 'دونگ', 'کمپ', 'هیروشیءما', 'عادل', 'زائرسرای', 'مداخله', 'شریفی\\u200cنیا', 'داکسی\\u200cسایکلین', 'مطرحی', 'ورودم', 'مامان', 'آموزش\\u200cدیده', 'یآفتند', 'دارایی\\u200cهای', 'استماع', 'خواباندن', 'البصر', 'دولت', 'ستاره', 'حوادث', 'سخدری', 'کن', 'جامی', 'مستقل', 'ملاحظات', 'هسته', 'نیمه\\u200cهای', 'انداخته', 'خادمین', 'آرنولدگرایی', 'احدا', 'قله\\u200cای', 'مثبوت', 'شرایطی', 'پرسپولیس', 'ساعاتی', 'آذرماه', 'سوءمریه', 'گهر', 'الدیار', 'بچه\\u200cهای', 'محفظه', 'النصر', 'نیز', 'پایه\\u200cگذاران', 'آسیاب', 'بازارها', 'عدالت\\u200cخواهی', 'ابوعطا', 'خدمات', 'فطر', 'سقف', 'ناظران', 'فرزندان\\u200cمان', 'کننده\\u200cای', 'سبقت', 'زیستگاه\\u200cها', 'وال\\u200cاستریت\\u200cژورنال', 'بردارند', 'وسیعی', 'نومحافظه\\u200cکار', 'منتقم', 'دهیار', 'عزیزی', 'یورگن', 'فغفور', 'بانک\\u200cمرکزی', 'بدعتی', 'مایکل', 'انا', 'باختری', 'ماندذات', 'پرده', 'جوک', 'موارد', 'کارش', 'ضریب', 'گرفت', 'پروتزهای', 'اندیشه\\u200cهای', 'تنگ', 'حجابی', 'می\\u200cبرید', 'سعداوی', 'توقف', 'سیأست\\u200cگذاران', 'رسالت', 'توانسته\\u200cاند', 'سرده', 'جوابیه', 'رسالت\\u200cها', 'بدود', 'ابریشم', 'العبیدان', 'ملا', 'تاندون', 'دزد', 'اقوام', 'مریم', 'نمازهیش', 'پرسی', 'معاشرت', 'نظرم', 'یونگ', 'ایالات', 'مسن', 'تمایلی', 'می\\u200cگردد', 'فشارهای', 'فیض', 'سجایای', 'ترتیبی', 'خدمتگذاران', 'مطالعات', 'خزانه', 'مروان', 'غلیظ', 'گفت\\u200cو', 'کسی', 'مدافع', 'پول', 'برخوانندگان', 'کوسه', 'پنالتی', 'داخلی', 'عجمان', 'دندانپزشکی', 'گمراهی', 'ترک', 'مرایا', 'برایت', 'اصلاحاتی', 'اعم', 'دقیانوس', 'بالندگی', 'عقوبت', 'غرب', 'مدارک', 'الشایع', 'کلیشه\\u200cای', 'قهوه', 'می\\u200cتوانستی', 'توی', 'زنشو', 'بهزیستی', 'گذراندن', 'نوجوان', 'ذهنش', 'تابش', 'اظهاراتی', 'اژدهای', 'حرما', 'اعمالی', 'وام', 'گستره', 'فارماکولوژی', 'برمان', 'آتشکده\\u200cای', 'فریدنت', 'جالب', 'می\\u200cبیند', 'فریب\\u200cآمیز', 'افرای', 'برنا', 'ترسیم', 'فواد', 'سعودی\\u200cها', 'امتنان', 'بروند', 'الطاهرین', 'زندانیان', 'حبس', 'سفارشاتی', 'تاییدات', 'کراک', 'تعظیم', 'به\\u200cگونه\\u200cای', 'مقررات', 'شنیدند', 'پرستوهای', 'پایگاه', 'تنی', 'شاعران', 'فایو', 'قاطعیتی', 'اجر', 'ایرأس', 'کاشت', 'قاپید', 'شبا', 'ارتکابی', 'پنجره\\u200cهای', 'خودرو', 'مهناز', 'ناله\\u200cهای', 'برایک', 'می\\u200cخواندیم', 'روزگاری', 'آبرویش', 'منع', 'نامتناسب', 'لینک', 'عربستان', 'غیاث', 'احتمالا', 'شباب', 'شفا', 'حبیب', 'حقیقتا', 'مایند', 'تومر', 'اوان', 'کامپیوتر', 'آوار', 'جواز', 'یارانه', 'مراوادات', 'چنگک', 'غیر', 'ماندگی', 'فرهنگ\\u200cهای', 'ملموس', 'کارمندان', 'میدانم', 'طاعت', 'چاراویماق', 'آزادسازی', 'مجازاتی', 'بردن', 'قدردانی', 'بنو', 'پلها', 'انتظامی', 'پرفیض', 'یعرض', 'علومم', '«', 'جداناپذیر', 'آلترناتیوی', 'گرافیک', 'عمله', 'اسکان', 'دائم', 'قولی', 'حبیبی', 'سستی', 'پرداختند', 'کشتی', 'عذرخواهی', 'دیدنی', 'الکتاب', 'کنترل', 'اپلیکیشن', 'دیافراگم', 'آسوءده', 'آشکارا', 'ضابطه\\u200cمند', 'مارتین', 'یوسفیان', 'ردیفی', 'شباهتی', 'درنات', 'برگردانند', 'هشتگی', 'ترازند', 'عذرا', 'گویه', 'پوتین', 'توس', 'داعشیء', 'کرده', 'دارایی', 'گراف', 'غیرشناخت\\u200cگرا', 'استانبول', 'پیامتان', 'تاریخچه\\u200cای', 'اران', 'صمیمانه', 'البین', 'ساسان', 'معکوسی', 'شائبه\\u200cهایی', 'اقتدار', 'ذی\\u200cنفعان', 'نزدیکترین', 'ریزی\\u200cهای', 'خوابم', 'غیرقابل', 'گل\\u200cزاده', 'نظریه\\u200cهای', 'جزو', 'نگرانی\\u200cهای', 'مسوءولیتی', 'توفیقات', 'ماده\\u200cای', 'غرفه', 'اتمی', 'زمینه\\u200cای', 'مزوزوییک', 'نبض', 'پدرم', 'ستی', 'ناطقا', 'یاری\\u200cگری', 'ضریح', 'بستری', 'سفید', 'مرکب', 'دوتایدون', 'وکالت', 'مترجمان', 'وقایعی', 'عبدالحمید', 'سندیکا', 'رهبر', 'قاسمی\\u200cهنری', 'گاردین', 'جانبداری', 'بی\\u200cسیم', 'به\\u200cراحتی', 'اردو', 'مداحی', 'دوهساران', 'رعد', 'لیوا', 'مشکوک', 'تاجیکی', 'نکنند', 'هواداردانش', 'دلیله\\u200cای', 'شهره', 'نوسازی', 'می\\u200cچشند', 'ندبه', 'می\\u200cنداشتهد', 'خودرؤساز', 'لجمیع', 'نمایندگی\\u200cها', 'فعالیت\\u200cهای', 'راهکارها', 'خاناپشتانی', 'مثلث', 'معاونت\\u200cهای', 'اشتغال', 'نرم\\u200cافزار', 'وسائل', 'خریداران', 'می\\u200cآوری', 'جابر', 'تقاضای', 'الاجتماعیه', 'مردها', 'به\\u200cسوءیچ', 'صداقتر', 'شعرهای', 'شعارهای', 'محصولی', 'مناسه', 'نیلوفر', 'ترمیم\\u200cهای', 'تبلیغی', 'سنگرهای', 'استانگذارشیء', 'بارزترین', 'مولر', 'عبرت\\u200cهای', 'برداشت\\u200cها', 'افکارم', 'تیتر', 'انگشت\\u200cها', 'ترکیبات', 'حرکت\\u200cهای', 'زبان\\u200cهای', 'خواهی', 'مغزی', 'بشکنند', 'فخرالدین', 'ستون', 'تفصیل', 'رأست', 'متخصصین', 'تشخیصی', '\\u200cهای', 'لوله\\u200cکشیء', 'متا', 'انوشیءروان', 'نمازها', 'عبدالحسین', 'فرودگاه\\u200cهای', 'پامیر', 'شدیده\\u200cام', 'ماجدی', 'امام', 'ورشکسته', 'پاش', 'گشوده', 'نتوانند', 'نصیبی', 'مارویک', 'تلفات', 'فرسایشیء', 'لبنان', 'مأموریت\\u200cهایی', 'گراش', 'شرمساری', 'سامان', 'مخصوص', 'ضمن', 'میزبان', 'کوشیءده', 'درسا', 'عقابان', 'چارچوب', 'کباب', 'خفیفتین', 'مولایم', 'نکردم', 'تأمینی', 'وضعیتیت', 'بشاگرد', 'کسایی', 'تحریفهای', 'نگهبانان', 'سموم', 'شکست\\u200cهای', 'به\\u200cجز', 'اینت', 'مرتبا', 'شمسه', 'تعصبات', 'به\\u200cمانند', 'جوشش', 'اختلالات', 'عیدی', 'شیءشه', 'انصاریان', 'چیکو', 'نظرسنجی\\u200cها', 'اللغو', 'فرماندار', 'ازدواجی', 'جانبه', 'ردگیری', 'همه\\u200cای', 'برابر', 'گفت\\u200cگوها', 'بهره\\u200cور', 'هدیه\\u200cای', 'استفاده\\u200cهای', 'کویت', 'جالس', 'لر', 'بیگدلی', 'کاست\\u200cگر', 'مناظره', 'نفی', 'مدودف', 'بزرگوار', 'داهیانه', 'بگیرم', 'غمگین', 'بدیعی', 'هیچ\\u200cکس', 'نمایندگی', 'سلیمانیه', 'استعدادهای', 'وارن', 'العمره', 'حسنات', 'پرستاری', 'هجوم', 'فیوزهای', 'امدادرسانی', 'اشاره', 'فایده', 'لتظهر', 'تروبرد', 'حدودا', 'رجبی', 'عوض', 'رقص', 'تکالیفی', 'قطب', 'وا\\u200cگذاری', 'عابس', 'رفلاسک', 'داورهای', 'بنیاد', 'نقلیه', 'پشتوانه', 'الاسد', 'نشاید', 'مؤکد', 'شتاب\\u200cدهنده\\u200cهای', 'سنیز', 'مجتمع', 'گویند', 'داشت\\u200cبه', 'نمازهای', 'ماهیت', 'تصویر', 'بخشیءده', 'صداوسیما', 'همان', 'پاسخگوی', 'تباهی', 'شرم', 'ساوه', 'برآورد', 'فما', 'تحلیلگران', 'خواندند', 'سرتیپ', 'البنین', 'زخمی\\u200cشدن', 'آلودگی', 'رادیوتراپی', 'دستباف', 'درخواست\\u200cهایی', 'ابهرها', 'منتقدان', 'درگیری\\u200cاش', 'خلأقیت\\u200cها', 'سمپاشیء', 'مشترکی', 'پدری', 'بخارا', 'افسر', 'بیات', 'غفلتی', 'دستورات', 'تصرف', 'محمدمهدی', 'فرمودید', 'ترک\\u200cها', 'یهودیت', 'سرخپوست\\u200cها', 'جاتی', 'هزاره', 'استعمارگر', 'نکند', 'ناصران', 'نثر', 'هدف\\u200cگذاری', 'ماهیچه', 'واری', 'نبردند', 'آثارشان', 'سنییسی', 'وافر', 'رواق\\u200cهای', 'چرم', 'اولین\\u200cبار', 'گرمایش', 'زرین', 'اتوبوسی', 'روبنایی', 'چرخ', 'همه\\u200cاش', 'مجازات\\u200cهای', 'غیبت', 'دستاوردی', 'وزه', 'دبستانی\\u200cترین', 'دهکی', 'تشعشات', 'حرفه\\u200cای', 'سمینه', 'پوسته', 'همکار', 'ایادی', 'خلقه', 'ایدئولوژی', 'لایبغض', 'متری', 'اقصی', 'نگران', 'المبارکه', 'داری', 'بسیجی\\u200cها', 'جدید', 'استارت', 'کاستنی', 'سجد', 'لنکرانی\\u200cهایی', 'حیاتیله', 'ترکان', 'پنجاه', 'میکروارگانیسم\\u200cها', 'مخدر', 'امتیاز', 'نامتوازن', 'شیءر', 'فی\\u200cالمثل', 'یغما', 'توقفش', 'جمعیت', 'الفتح', 'کشتیرانی', 'کافی', 'اسپانیا', 'سوءزلر', 'شانزده', 'سایبری', 'بسپار', 'صاحبان', 'اسه', 'مرکزیت', 'قابوس', 'مسابقات', 'رأستش', 'بلندی\\u200cهای', 'آگاهی\\u200cها', 'محسنی', 'نونهال', 'رشته\\u200cها', 'بزرگ\\u200cراه', 'فداکاری', 'منحله\\u200cخود', 'بچره', 'فداکاری\\u200cهای', 'توافق\\u200cها', 'مکانیزم\\u200cهای', 'هستید', 'خیمه', 'صالح', 'لوگوهای', 'اثری', 'هستند', 'گذشتنش', 'ملل', 'در', 'مشت\\u200cهای', 'برگردانده\\u200cاند', 'جمجمه', 'انگیخت', 'نتونستن', 'ارتفاعات', 'برتر', 'روشنفکنار', 'مواقعاتی', 'دمکرات', 'نسلی', 'حساب\\u200cها', 'رساندن', 'درصد', 'حقوق', 'کیوتو', 'یخشیء', 'روشنش', 'بی\\u200cبرنامگی', 'خطرناکی', 'جمهوری', 'معارض', 'باشه', 'رد', 'اجداد', 'دعوا', 'لرزه\\u200cای', 'طبقه\\u200cبندی', 'لابی', 'کیش', 'آماتور', 'بنگلادش', 'پیروزی', 'طرد', 'شوکه\\u200cکننده', 'شتری', 'اعترافات', 'لایحه', 'محشر', 'سرشکستگی', 'عملکردها', 'کوچیدی', 'دادهای', 'شدیداللحن', 'غلامعلی', 'افکارتان', 'کافیان', 'نمی\\u200cگیرد', 'البر', 'صدور', 'تجملات', 'فعالتر', 'آذرنگ', 'پیاده', 'اف', 'گفته', 'کجی', 'قلت', 'دربردارنده', 'پورعطایی', 'مری', 'منظمی', 'عصب\\u200cها', 'آرای', 'حلم', 'تعلیم', 'استار', 'بی\\u200cقراری', 'دهنده\\u200cهای', 'محمدعلی', 'روایی', 'پروانه', 'حکومت\\u200cداری', 'بازی\\u200cها', 'دلیل', 'میتواند', 'ملی\\u200cمان', 'سبزوار', 'متوکل', 'آنقدرگستجرده', 'یزدی', 'دنیادن', 'بنیه', 'ابی\\u200cطالب', 'دامداری', 'هاب', 'مراجعات', 'علاوه', 'ذاکری', 'پرسد', 'احترام', 'الشرقیه', 'جان', 'روستاهایی', 'آینه\\u200cهای', 'بگذارند', 'ببینیم', 'نرم\\u200cهای', 'صابر', 'راهبری', 'دورتر', 'فیلمی', 'تنوا', 'ترینیداد', 'سرتاسر', 'می\\u200cیابیم', 'سروکار', 'میادین', 'خاتم', 'فراغت', 'هیجده', 'المپیک', 'بابا', 'للعقوبات', 'سازگاری', 'کسئولین', 'صدقه', 'جوانم', 'معادل', 'ازبکستان', 'الشرایع', 'بودهییان', 'اقامت', 'خوانده\\u200cاند', 'جا', 'سنجری', 'محیط\\u200cهای', 'مشتری', 'صلح', 'فلچر', 'مسیری', 'سرأسری', 'سیتی', 'قرنطینه', 'قرص\\u200cهای', 'کشفی', 'تورنمنت', 'عنایتی', 'شبم', 'بوشهری', 'مگه', 'کلنگ\\u200cزنی', 'امتحانات', 'صفحه\\u200cی', 'الصابرین', 'استعمار', 'تعاونی\\u200cهای', 'فرجی', 'برج', 'گمرکی', 'قلبم', 'محمد', 'سیرنیوز', 'خرداد', 'کریمی', 'موجودی', 'روحیه\\u200cی', 'گرم', 'متوالی', 'شبانه\\u200cروز', 'هک', 'آرزوهایم', 'سازید', 'صنعتی\\u200cمان', 'نجس', 'مفتح', 'تدارک', 'دهقان', 'بدشانسترین', 'خوانندگان', 'کرمان', 'کربلایی', 'اندارت', 'می\\u200cدادی', 'آتش\\u200cنشانان', 'آن\\u200cنشست', 'فرق', 'عرش', 'برترین', 'منبسط', 'ولتر', 'هموطنان', 'وای', 'حادثه\\u200cای', 'انجامید', 'دروازه\\u200cی', 'پیکی', 'دیگران', 'برگردونه', 'زودرس', 'پژوهش\\u200cهای', 'تندخیز', 'نفع', 'لارستان', 'مستضعف', 'تکذب', 'اثنای', 'بخشنامه\\u200cهای', 'شعوری', 'داوطلبان', 'خانوادگی', 'نرخی', 'اهداف', 'کاغذکنان', 'معاملات', 'سمتد', 'دقایق', 'تفکرات', 'بی\\u200cنتیجه', 'نژادپرست', 'هشام', 'چیزهایی', 'فزاید', 'درون\\u200cحزبی', 'ارزش', 'نادانسته', 'نزدکه', 'نظامی\\u200cها', 'خطبه\\u200cی', 'بی\\u200cشائبه', 'لذت', 'فرستنده', 'زدن', 'ایالت\\u200cهایش', 'پسران', 'قمیت', 'چشمه', 'خطی', 'نارحتیهاشو', 'اغما', 'مسئول', 'رقیه', 'الحجه', 'پهلوان', 'مفید', 'اوغلانا', 'خواهد', 'کشورش', 'ببندیم', 'فقرای', 'جاهلیت', 'مشتاقانه\\u200cای', 'موزون', 'رگ', 'گرمسار', 'سوءر', 'گونوزی', 'تابوت', 'اطمینانی', 'عزاداران', 'اینگونه', 'برخوردار', 'کمیسیون', 'ستاد', 'غدار', 'اخیرا', 'نود', 'یرجوان', 'امکانی', 'امتیازاتی', 'دستوالعمل', 'مثلثی', 'به\\u200cاستحضار', 'بی\\u200cنیاز', 'پرسگر', 'یکون', 'زاست', 'ضمیر', 'درخواست\\u200cها', 'اعحال', 'موازاتی', 'هواپیمایی', 'شهدا', 'دینی', 'پیمان\\u200cها', 'القفاری', 'راهور', 'می\\u200cپرسند', 'فنی', 'پیمان', 'کی', 'تسلیحات', 'سن', 'جایگاه\\u200cهای', 'تنفسی', 'نوادگان', 'پوراحمد', 'روشن\\u200cها', 'رایانه\\u200cهای', 'پژو', 'رفتم', 'برهان', 'کفن', 'سفیر', 'زغال\\u200cاخته', 'محرز', 'شاد', 'شناسه', 'رواج', 'موجه\\u200cشان', 'طولانی\\u200cمدت', 'علاقه\\u200cام', 'سریع', 'مهربان\\u200cترین', 'مردمانی', 'پیوندنامه\\u200cی', 'تجزیه', 'کبوتر', 'وارسته\\u200cای', 'پیمودن', 'آذین', 'سختتر', 'الاثر', 'سرانجام', 'سیرجان', 'سرتاپایم', 'امروزشا', 'پر', 'مؤثر', 'سی', 'مستحضرید', 'سپه', 'دخترم', 'مرعشیء', 'آندره\\u200cآ', 'پودمانی', 'به\\u200cدستورات', 'موسیقدان', 'همیت', 'خاله', 'شود', 'شخصیت', 'اعتراض', 'دوباره\\u200cای', 'دستگاه\\u200cه\\u200cهای', 'بشاش', 'ای\\u200cها', 'گلپایگانی', 'دشوار', 'هدف', 'تارک', 'برده', 'کوش', 'استانداردها', 'تور', 'برودنه\\u200cایم', 'استانداری', 'قات', 'ایوانف', 'میشیءگان', 'می\\u200cزنی', 'سرزمین', 'ذخایر', 'پیرحسین', 'محور', 'همجواری', 'درمانی', 'قمر', 'حشرات', 'افغانستانی', 'السلطانها', 'اموال', 'سرهای', 'آندری', 'رؤیال', 'ایستادگی', 'الرحمن', 'آقازاده', 'آزمایشیء', 'بدهد', 'اقطاب', 'ناعادلانه', 'نمیکنه', 'المرسلون', 'مغولان', 'ایران', 'ساسانیان', 'بی\\u200cاساس', 'کیأسری', 'بینانه\\u200cای', 'آرزوهای', 'سجادی', 'صدها', 'العالمین', 'سایمون', 'نمایی', 'انگیز', 'ناوک', 'برچیده', 'قرائن', 'شرکت\\u200cهایی', 'ایرلند', 'ناایمن', 'مختلف', 'محتوای', 'نتایج', 'صدابرداری', 'الغنی', 'میلیتو', 'مردنی', 'آثارش', 'تمرینات', 'تغییرات', 'غائبان', 'حایل', 'نهاد\\u200cهای', 'شمردند', 'قیدی', 'الحسین', 'نیکاراگوا', 'نابرابری\\u200cها', 'شرأفت', 'نویسندگان', 'الصراط', 'اینباردار', 'مزار', 'انگیزی', 'پشته', 'بخش\\u200c\\u200cهای', 'مباحث', 'بشیءن', 'اهواز', 'کافرون', 'متصدیان', 'ابینانه', 'خواهید', 'برمیگردن', 'آبرو', 'قوت', 'معنوی', 'خودی\\u200cها', 'آرسنال', 'بدحجاب', 'توصیه', 'وجهه', 'روانسر', 'کمالات', 'کامیون\\u200cهایی', 'گذشته\\u200cهای', 'نماهای', 'نومید', 'سامانه\\u200cهای', 'هست', 'دروغین', 'داروند', 'مورای', 'بهتر', 'همشهریان', 'روزگار', 'عبدیت', 'مناسبتی', 'برلین', 'بخشنامه', 'آبان', 'اندیشه\\u200cها', 'میانه', 'جاسازی', 'عالی\\u200cترین', 'زمینه\\u200cها', 'امکان\\u200cپذیر', 'وضوح', 'سیأسی', 'بین\\u200cالمللی', 'لطفا', 'شکر', 'جریمه', 'دما', 'شکرگزار', 'شورش\\u200cهای', 'مبلمان', 'زربین', 'بنادر', 'مطلق', 'بشوند', 'پاوه', 'برپایی', 'ظرفیت', 'اختلافات', 'اوغلان', 'باحال', 'پایانی', 'بینی', 'میرحسین', 'مناسبت', 'صدق', 'به\\u200cجزئیات', 'سیاوش', 'فرهمند', 'منوی', 'بالقول', 'تکان', 'چیاپاس', 'جاه', 'تلویحا', 'ماهر', 'سامکانه\\u200cهای', 'مشخص', 'حضوری', 'مثل', 'مارکسیسم', 'قافیه', 'زندگانی', 'بلگراد', 'مشایی', 'تکراری', 'دانشجویان', 'مقرره', 'تکنولوژی', 'پیوسته', 'خلیل', 'شبریز', 'امیر', 'پاسداری', 'مترو', 'مدیران', 'معدن\\u200cکاران', 'دارای', 'صالحان', 'آران', 'فیما', 'حج', 'اونز', 'آشامیدنی\\u200cها', 'هشدارهای', 'صنعتکاران', 'عهد\\u200cدار', 'فرمانروایی', 'وحدت', 'سپید', 'گنبد', 'مسئلت', 'ورزی', 'سرده\\u200cها', 'نمایشگاهی', 'پوسیده', 'پرویز', 'داوری', 'حجامت', 'تقسیم\\u200cبندی', 'ایی', 'جری', 'تاکنون', 'وزانتی', 'سالروز', 'فیروزه\\u200cای', 'زیستی', 'تماشاچیان', 'یآفته', 'العصفری', 'رعایتی', 'نآن\\u200cها', 'بلافاصله', 'فقیه', 'شنود', 'انفجاری', 'مبالاتی', 'دوزخ', 'رسوءل', 'صرافان', 'مسوءاک', 'یتیمانی', 'ننمودن', 'مرحومه\\u200cاش', 'می\\u200cشدیم', 'نصب', 'پلیمر', 'کاسبی', 'آیتم', 'ضرورتا', 'آلما', 'جنگنده\\u200cهای', 'کاوه', 'مینای', 'گرمارودی', 'مقاوم\\u200cتر', 'برخاسته', 'روبوسی', 'اعتراض\\u200cهای', 'سانی', 'شایعه', 'سیأست\\u200cگذاری', 'می\\u200cفروخت', 'کارانهایکه', 'باهاش', 'اردن', 'تخلیه', 'برشکردند', 'روابطی', 'سمفونی', 'هلال\\u200cاحمر', 'میخواد', 'فرارتان', 'بی\\u200cوزن', 'ناصواب', 'تو', 'پرپشت', 'چهره\\u200cی', 'آمدی', 'قیام', 'دوه', 'تحتها', 'دهستان', 'تموم', 'مطالبات', 'تراختور', 'قزاقستان', 'اسلاید', 'مراد', 'محکومیت', 'اقامات', 'ابتکار', 'مؤمن', 'حلیمی', 'تحولات', 'المطلب', 'پنهان', 'گفته\\u200cاند', 'تحولی', 'وفاداری', 'متکفلانه', 'طیب', 'هیون', 'می\\u200cنمود', 'هکرهای', 'صوت', 'حجاریان', 'قرایت', 'اثرعرض', 'قلعه', 'گیتاریست', 'اقامه', 'اسینکهلم', 'حامد', 'زحمتکش', 'کالاها', 'بدل', 'خواسته', 'می\\u200cپردازند', 'بنیانگذاردن', 'مسئولانه', 'مسیر', 'خلأق', 'به\\u200cطور', 'زورخانه\\u200cها', 'موناظمی', 'امسال', 'بعض', 'نیایش', 'ارکستر', 'الصایم', 'قوله', 'ترشرویی', 'شهرانهدا', 'انکار', 'کورس', 'جلوگیری', 'پولی', 'الملک', 'بازآفرینی', 'رم', 'لقایش', 'اکفیانی', 'بزن', 'ناصرا', 'ثلث', 'ادات', 'مینور', 'زرخبر', 'مشتاق', 'قارچ\\u200cها', 'وانگهی', 'کاگرشا', 'آقاتهرانی', 'بنا', 'الحسن', 'دلچسب', 'بر', 'دغدغه', 'کجهر', 'نبرده', 'مدرسه\\u200cساز', 'ریزی', 'فولاد', 'مدیریتیشان', 'نکته', 'تلاشگرانه\\u200cی', 'نیما', 'رگبار', 'تولیداتمان', 'دلنشیءن', 'مهاباد', 'یکر', 'کریمان', 'اخبار', 'صاغان', 'صفدریان', 'عناوینی', 'اوله', 'گازدار', 'کمکی', 'توران', 'درجه\\u200cی', 'نامبرده', 'مغناطیس', 'طیت', 'صاحب', 'باروری', 'تعویق', 'چمنیان', 'روبروی', 'حلی', 'وهک', 'دوتار', 'آزادیخواه', 'المزرعه', 'مسوءلیت', 'نامزداها', 'آناتولی', 'رمزگشایی', 'قاطعی', 'سهم', 'عشقه', 'یخودی', 'دوورویی', 'الکوکب', 'حلبی', 'آرش', 'اوباما', 'امنای', 'حواله\\u200cهای', 'پالایش', 'آنچنان', 'لیگ\\u200cبرتر', 'تبعاتش', 'صحابه', 'رنو', 'رساندند', 'بسط', 'البالا', 'فرماندهی', 'عادی', 'روبرو', 'قدمی', 'عزیزالله', 'خانومی', 'موعدهات', 'مغلوب', 'شده\\u200cاش', 'پژوهشگران', 'کاسانو', 'کمدی', 'اراده\\u200cای', 'دانشجویانم', 'موقوفات', 'کارجویان', 'مصونیت', 'نژادپرستانه', 'وبلاگ', 'والمسلمین', 'مشقت\\u200cها', 'منور', 'استند', 'اندرکار', 'وبر', 'مجبورند', 'گلدن', 'ماهواره', 'خم', 'عبدالجلیل', 'جبلی', 'اورژانس', 'اسامی', 'حسادت', 'تیم', 'واداشت', 'اعتبارهای', 'ترمزهای', 'رسته\\u200cهای', 'انتصابات', 'خرأسان', 'می\\u200cبخشیء', 'سیلک', 'آقاسلطان', 'پریسا', 'اندیشمند', 'انشاا', 'استعمال', 'انصرانی', 'قاچا', 'تعدد', 'زندانی', 'بیرونی', 'مستقیمی', 'عشره', 'وزن', 'رزمنده', 'اندازه', 'ترویج', 'مقبرود', 'پرداختی\\u200cهای', 'دیار', 'بلغت', 'حسینیان', 'نیل', 'فضلی', 'شواهدی', 'حیا', 'مناطق', 'زمانی', 'پوشش', 'شکننده\\u200cتر', 'معامله', 'پورتال', 'ورزشکار', 'کرکی', 'مالی', 'ساکنان', 'نگارگر', 'دکورأسیون', 'وزرک', 'البلا', 'طعنه\\u200cها', 'مقدماتی', 'ترکیه', 'اسکای', 'تقدیرنامه', 'نمادها', 'پرشمارد', 'ناگذیر', 'تکواندوی', 'الرحیماینجاایران', 'اطلا', 'یاد', 'تولستوی', 'تنها', 'نیازمندیم', 'می\\u200cخواست', 'صدیقه', 'نی', 'هایی', 'شنید', 'نیکاراگوئه\\u200cای', 'کریستوفر', 'نوش', 'گروه', 'نوردیده', 'اندیشه', 'بعضی', 'رسوءم', 'پرده\\u200cهای', 'محاسته', 'ریخت', 'آذربایجان\\u200cشرقی', 'پرتگاه\\u200cهای', 'بسیار', 'هیوندای', 'خودمراقبتی', 'موساد', 'ماندم', 'سیستم\\u200cهای', 'خطوطی', 'نظاره\\u200cگر', 'یاوران', 'گاوداری\\u200cهای', 'دارویی', 'ایستر', 'مدیریت', 'یعرف', 'مأیوس', 'بدیم', 'جاده\\u200cای', 'دی', 'گزینشیء', 'رابطه\\u200cای', 'پویاتر', 'سرزمینی', 'میلیون\\u200cها', 'ابزارها', 'موجسل\\u200cهای', 'پذیرد', 'بسته\\u200cهای', 'زائری', 'اختتامیه', 'می\\u200cروند', 'داوودی', 'کری', 'نامامنی', 'برنامه\\u200cریز', 'هزاره\\u200cها', 'بتوان', 'رباب', 'علی\\u200cعسکری', 'عواملی', 'پرستاران', 'یفتح', 'تصانیف', 'عزوجل', 'بدافزار', 'نکنیم', 'هم\\u200cصدا', 'ارتحال', 'حالک', 'انباشته', 'چنین', 'ذلیل', 'کلکچال', 'امپرئالیستی', 'محرک\\u200cها', 'فرهادی', 'سامکانه\\u200cها', 'منطقه\\u200cیی', 'راه\\u200cآهن', 'نمی\\u200cشوند', 'حمایت\\u200cهای', 'حسگرهای', 'اپتیک', 'الحادی', 'شاغل', 'انوشفر', 'زابلستان', 'سدهای', 'انگ', 'انفعال', 'گمانه\\u200cزنی', 'زکزاکی', 'عملیاتی', 'مطلع', 'زورخانه\\u200cای', 'تیزر', 'العجل', 'القرشیء', 'عایدی', 'عوامل', 'آب\\u200cبها', 'رامشمان', 'هشتکرد', 'تستوسطرون', 'واشنگتن', 'یکشنبه', 'گرایی', 'مجتبی', 'ملی', 'کیفری', 'تندرستی', 'کردهاید', 'چطور', 'وسط', 'متعه', 'گیلاس', 'تبصره', 'فاتحه', 'درآمدها', 'می\\u200cبست', 'المطوع', 'سرب', 'سفیدتر', 'التحصیل', 'مزبور', 'بخش\\u200cها', 'الخیل', 'قزوینی', 'التهاب', 'مکانیسموم', 'پومپی', 'منوره', 'شبانه', 'معکوس', 'فرانسه', 'برابری', 'جای\\u200cگذارد', 'آریا', 'تابی', 'حافظا', 'سوءسیالیست\\u200cها', 'دی\\u200cواس', 'نارضایتی', 'مرزبانی', 'احساسات', 'امروزشان', 'آزاردهنده', 'کریمراحلی', 'تجربه', 'معمولا', 'جام\\u200cهای', 'آتیش', 'وحی', 'عروق', 'مبنای', 'مذکور', 'تولیدکننده', 'دنیای', 'فصول', 'برگردد', 'گلدان', 'ناشناس', 'مشرف', 'کوران', 'منجی', 'سرآمد', 'قصاص', 'به\\u200cحق', 'اورمغان', 'کارنی', 'جوی\\u200cها', 'ماجرا', 'پیراندلو', 'مانع', 'مناقب', 'هیات', 'مسئولی', 'انسانیت', 'رؤیارویی', 'والیبال', 'بدافزاری', 'وفای', 'می\\u200cبردند', 'رله', 'الروایه', 'ادلب', 'مستکبران', 'آیدین', 'حرأست', 'فضیله', 'فضا', 'پانصد', 'پیش\\u200cنویس', 'کنسرت\\u200cهای', 'خدیرا', 'کمال', 'بایگان', 'اتلتیکو', 'دبیرستان\\u200cهای', 'سوءت', 'سپرده', 'مشرق', 'لانادینک', 'شرکت\\u200cها', 'روح\\u200cافزا', 'همراه', 'ینگ', 'برآوردهای', 'مصیب', 'دانلود', 'بین\\u200cلاملل', 'مدت\\u200cها', 'قد', 'کسری', 'گره\\u200cها', 'انبار', 'واردکنندگان', 'شورا', 'تذکر', 'لازم\\u200cی', 'اصطلاحی', 'رادیویی', 'لندینگ', 'محدوده\\u200cهای', 'کشاف', 'یظهر', 'خدادادی', 'مهم\\u200cتر', 'ایآن', 'جرقه', 'تعاون', 'ساعه', 'حفاظت', 'قربان', 'قیام\\u200cها', 'چاقویی', 'ومؤثرباشگاه\\u200cهای', 'کالباس', 'ناراحتی', 'مثبتی', 'عمان', 'اهدای', 'فیش', 'آهنگ', 'اتکا', 'چندین', 'علت\\u200cها', 'خانه\\u200cاش', 'نستعین', 'خلخالی', 'یهودی', 'شرکایمان', 'اولن', 'پوزش', 'محافظ', 'فازهای', 'گواردیولا', 'مرتبه', 'گوهرشاد', 'پایبندی', 'تصمیم\\u200cگیری', 'حمیل', 'معنویتی', 'فصاحت', 'فزونی', 'سیر', 'ذوب\\u200cآهن', 'جاوید', 'بند', 'وعده\\u200cشان', 'ولیکن', 'الشیءشانی', 'معمولی', 'حی', 'بخش\\u200cهایی', 'پاک', 'استخراج', 'رامبد', 'بورن', 'رنجش', 'دختری', 'غلامی', 'مامانش', 'آری', 'شوم', 'چورکین', 'ضعیف', 'طهورا', 'ماهیانه', 'کورا', 'برقراری', 'سفری', 'پلک', 'کلمح', 'مکانی', 'ابلاغ', 'قدرت\\u200cها', 'بوشهر', 'قصورها', 'توجهی', 'کنید', 'ببرید', 'عینا', 'حد', 'دوومعاون', 'طنزبهنام', 'به\\u200cهنگام', 'دوشادوش', 'ارتباطی', 'سیأستمداران', 'افتراک', 'دلگرم', 'باشگاه', 'معیشتی', 'العین', 'جمهوریخواه', 'وظایفمان', 'نهندکاسه', 'سنگر', 'امیدوارم', 'هشیءاری', 'یافته', 'رومانیایی', 'شادوران', 'برگه', 'چشمی\\u200cها', 'حقیقت\\u200cجویی', 'بارداری', 'خلأقیت', 'جامعه\\u200cشناسی', 'تاجیکستان', 'آهنگ\\u200cهای', 'فرستاد', 'پدیده', 'ظرف', 'اسید', 'ساعات', 'شیءمی', 'وظیفه\\u200cی', 'ارتباط\\u200cنداشتن', 'یادتم', 'توافقی', 'کوکا', 'رئیسهش', 'مخدوم', 'صید', 'جبران', 'اور', 'مفتی', 'لانه', 'امیرمؤمنان', 'تأثیرگذار', 'اینگذارش', 'افراز', 'نیاوران', 'منکارشناسان', 'تبلیغ', 'پراگ', 'می\\u200cانداختند', 'مسالهای', 'راحت', 'گرداب\\u200cهای', 'قطر', 'اصولگرایان', 'سوءید', 'مست', 'تضمنت', 'تبع', 'بزرگترین', 'هریسی', 'فراموشانند', 'وعده', 'بگذارد', 'تکوین', 'ست', 'شماری', 'جهنطاوهر', 'سهیل', 'نیروگاه\\u200cهای', 'لیاقت', 'طوعا', 'عاصم', 'همنورد', 'کارگرز', 'ارزیابان', 'ناکارآمدی', 'ممسیرش', 'بهره\\u200cمندی', 'نظیر', 'رستم', 'ضعف\\u200cهای', 'سعادتی\\u200cفر', 'مستضعفی', 'تست', 'گداازن', 'مسیح', 'اجزای', 'رسانه\\u200cی', 'متأسفانه', 'نتواند', 'شناگاه\\u200cها', 'پدرام', 'حیدر', 'باردار', 'زبانه\\u200cای', 'السجاد', 'شیء', 'نمایشگر', 'دیلم', 'انفسکم', 'خوردست', 'کارگردانی', 'عمودی', 'فداغی', 'ناصرالدین', 'شمرده\\u200cاند', 'مانندا', 'ناشو\\u200cترین', 'حالی', 'جناح\\u200cها', 'هرگاه', 'امانت', 'چنار', 'دهن', 'بزرگراه\\u200cهای', 'ساعتی', 'تطمیع\\u200cهای', 'موتورسیکلت', 'تراژدی\\u200cمان', 'تسکنه', 'الک', 'پرتعداد', 'کلینتون', 'بلژیک', 'تیموریان', 'شوق', 'مزارت', 'فرنی', 'فنون', 'عندییت', 'فرد', 'بالأخره', 'الرسوءل', 'رسانه\\u200cهای', 'مؤمنان', 'درستی', 'فدک', 'صهیونیست\\u200cها', 'کارت\\u200cهای', 'رهایت', 'کارآگاهان', 'خوراک', 'مقابل', 'پربارتر', 'تایی', 'هجر', 'مسکن\\u200cهای', 'بوته\\u200cزدایی', 'لوح\\u200cهای', 'چرب\\u200cزبانی', 'گفت\\u200cوها', 'نکو', 'فرج', 'کلوب', 'مرد', 'اولیاءء', 'بوقلمون', 'این\\u200cباره', 'اسطوره', 'پاتال', 'نگاه\\u200cها', 'رسمیت', 'پرتو', 'قطیف', 'تماشاگرانی', 'پیام', 'قیزقیز', 'به\\u200cاستناد', 'یخی', 'المقدسه', 'حقی', 'ژان', 'برآیند', 'شائبه', 'شده', 'اردبیل', 'اصوات', 'عسکری', 'تجاری', 'تحریم\\u200cها', 'شاهدان', 'سلطه\\u200cگر', 'کرمانی', 'جوامع', 'رتبه\\u200cهای', 'گرفتی', 'آبادانی', 'امیدشان', 'ماشیءن\\u200cهای', 'سردبیری', 'انبساط', 'عاشقانه', 'تغییراتی', 'بازیگر', 'بی\\u200cمعنا', 'سالیانه', 'پاداش', 'حریرچی', 'رفرنس', 'صریح', 'عبدک', 'تحمیلی', 'ممتاز', 'ملامام', 'ببینم', 'مذاکرات', 'فدریکو', 'جانعلی', 'زندگیشون', 'بهشتیان', 'ایستادن', 'سراب', 'چرای', 'یکتا', 'نوری', 'ذلیلی', 'فیلمنامه\\u200cهای', 'کلکسیون', 'وقت', 'نهج', 'موفقیت', 'سیأستی', 'سمپوزیوم', 'گاندی', 'حافظی', 'ذکره', 'گلهای', 'انهدام', 'گمانه\\u200cزنی\\u200cهای', 'انتقامک', 'مین', 'آرامش', 'هشتادمین', 'انگیزه\\u200cای', 'تبار', 'رای\\u200cآوری', 'فالح', 'محرمانه', 'دینامیک', 'عبادته', 'سرایانده', 'می\\u200cترسند', 'دوستداران', 'الهیات', 'نیکونیا', 'کاشکی', 'اوجاقکندی', 'اسداف', 'گشته\\u200cاند', 'بازرسانی', 'دهقاید', 'بلوغ', 'هجمه\\u200cهای', 'شرحی', 'زم', 'کمان', 'آفریده', 'فیزیکی', 'وارویک', 'می\\u200cگذرد', 'بیست\\u200cونهم', 'مدیری', 'چهل', 'حجت\\u200cالاسلام', 'غلام', 'سرنوشت', 'اجاره\\u200cبها', 'سرشتی', 'نشیءنی', 'رسوء', 'به\\u200cخوبی', 'بوده\\u200cام', 'اتوبوس\\u200cهای', 'مخالفت\\u200cهای', 'مادرانی', 'آلبوم', 'آفرینش', 'درخت\\u200cهای', 'گلچین', 'جذاب', 'فرصتی', 'وسعها', 'راه\\u200cنشیءنان', 'قطعا', 'هزینه\\u200cهایی', 'رایزنی', 'مصوب', 'اقرار', 'آموت', 'املاک', 'بهاالدینی', 'تماما', 'بنگر', 'حمله\\u200cات', 'فیلیپین', 'سپرده\\u200cگذار', 'جامد', 'برنامه\\u200cهایی', 'کینه', 'ایها', 'عزیزان', 'اصناف', 'کاندیداهایی', 'خراطها', 'خسارت\\u200cهای', 'نمی\\u200cدانستی', 'کرگن', 'بندش', 'مرج', 'خمس', 'پوربرگزارید', 'هری', 'مؤسس', 'حالش', 'روی', 'محکم', 'وال', 'داراتر', 'حیز', 'جنگال', 'الیک', 'وهابیان', 'افلاتون', 'دونیادی', 'دبستان', 'نماینده', 'اوزن', 'کامیابی\\u200cهای', 'قفل', 'سماک', 'مستخدمات', 'نواندیش', 'واقعه', 'سیلوهای', 'آدرنالین', 'اخلأط', 'گشودن', 'گنجانده', 'مقدور', 'مودریچ', 'نافزایشیء', 'اووندگی', 'بیمارستان\\u200cها', 'موج', 'رنکینگ', 'مامکان', 'ایحال', 'احراز', 'صراط', 'شانزدهم', 'متقن', 'نشست\\u200cهای', 'تجفیفه', 'الانهار', 'پیام\\u200cهای', 'لی', 'اولیش', 'ساختن', 'نشدید', 'ظاهر', 'سازمانی', 'کعبه', 'رورأست', 'تأسیسات', 'پرتا', 'عینک', 'عرضه', 'المنار', 'فجر', 'گون', 'اتصال', 'نوادا', 'حفظ', 'محمدرضا', 'یقین', 'فاطمیه', 'کله', 'بودایی', 'آبزیان', 'مدل\\u200cهای', 'فی\\u200cالارض', 'دوستانه\\u200cای', 'بدنمان', 'حزنی', 'تخت\\u200cهای', 'میگن', 'ریاضی', 'قربانی', 'متبرکه', 'موظف', 'پنجه', 'مرده', 'منفی', 'کمیسیون\\u200cها', 'اینستکس', 'ناچارا', 'سه\\u200cشنبه', 'پایش', 'شهروند', 'نصیحت', 'خاتمه', 'می\\u200cریختم', 'مشخصا', 'صورت\\u200cهای', 'پست\\u200cها', 'مخارج', 'ناپخته', 'خروشانش', 'انقلاب\\u200cاند', 'قله', 'کورکورانه', 'گواور', 'مهمان', 'الغرانیق', 'نماد', 'مسوءلان', 'داشتم', 'دم', 'دستوری', 'حامی', 'به\\u200cرأستی', 'مهدکودک', 'شرط', 'خواستند', 'سمپاتی', 'کاندیداهای', 'استادگی', 'عبدالمحمدی', 'تهدیدها', 'آستانا', 'دارؤسازی', 'خانواده\\u200cها', 'زنم', 'جنایات', 'رحلت', 'ماکسیمیلیان', 'سوءابق', 'طبقه', 'مرکزی', 'گوش\\u200cشان', 'وجب', 'واداشتن', 'فیلتر', 'داروها\\u200cهای', 'سازند', 'حایلی', 'اردکان', 'همراهنی', 'رضاییان', 'تنیس', 'تراکم', 'بهادری', 'سلیقه\\u200cای', 'فعالتها', 'اتخاذی', 'درج', 'جانشیءنی', 'رزورأسیون', 'بانک\\u200cها', 'رعایت', 'وجود', 'چه\\u200cطور', 'یتیم', 'کثیری', 'حکنفر', 'پیوندهای', 'ارگان\\u200cها', 'به\\u200cروش', 'خودم', 'القعده', 'معتبران', 'کسب', 'روزافزون', 'اتشکرازخانم', 'چترت', 'الم', 'برش', 'فاینی', 'ایشلنیب', 'ابزارهایی', 'بخشنده', 'مطلوب', 'کورش', 'تفقد', 'قوچانی', 'گدا', 'لوله\\u200cای', 'متفق\\u200cالقول', 'منظورش', 'شیءرازی', 'آسم', 'تیرماه', 'تندی\\u200cهای', 'عباس\\u200cآباد', 'اوفا', 'تغذیه', 'معسطح\\u200cشان', 'فارس', 'آکواریوم\\u200cفروشیء\\u200cها', 'جوار', 'جراحتش', 'حواستان', 'شنیدم', 'ذهنی', 'کارزی', 'روس', 'داربی', 'ونزوئلا', 'مهاجرت', 'سخنان\\u200cاش', 'استفاده\\u200cشده', 'وحیدکبیرمشاورتهیه', 'خلیج\\u200cفارس', 'ابوبکر', 'پرتوشناسی', 'مصارف', 'آمده\\u200cاست', 'نظری', 'یگان\\u200cهای', 'بینه', 'یوز', 'الحمد', 'نظامیان', 'قوی\\u200cها', 'شهرک\\u200cهای', 'داربست\\u200cها', 'صباحا', 'سندها', 'آژیر', 'کردار', 'دیلی', 'برازجان', 'شمشیءر', 'مفاد', 'تحویلی', 'شیءرخواره', 'حسابرسی', 'کمیک', 'زنجیره', 'هاشم\\u200cزاده', 'مایین', 'بنویسی', 'کنی', 'سبوس', 'روضه', 'افتتاحیه', 'روزها', 'روسیه', 'شعبانزاده', 'آسی', 'شمالیاترین', 'جفت', 'ستون\\u200cهایی', 'زیرین', 'مکرها', 'جیزان', 'میثم', 'نوید', 'دلنواز', 'اولسوءن', 'گرو', 'دودی', 'مساجد', 'چهارم', 'بهنام', 'لوله\\u200cهای', 'پروتکل\\u200cهای', 'تفریحی', 'مناقصه', 'مشروعیت', 'جومسافر', 'ضرری', 'مشکلات', 'زیور', 'پلیمرها', 'نصب\\u200cها', 'خانه\\u200cمان', 'العرفان', 'برداشت\\u200cهای', 'شدگی', 'انتقادی', 'عدیده', 'گرهای', 'مراعی', 'برم', 'روبی', 'مرحوم', 'مراکشیء\\u200cها', 'مکتب', 'فخرالدینی', 'لهستانی', 'برایمان', 'خیابانی', 'قبرس', 'گرأیان', 'رویکرد', 'مقاطع', 'پرتوی', 'ارتش', 'بعید', 'ابزاری', 'شام', 'تعریف', 'دستمال', 'پالایشگاهی', 'کانگروها', 'اطلاع\\u200cرسانی', 'صیرتنی', 'امره', 'مراجع', 'جعفرکوهی', 'شیءشه\\u200cای', 'فاجعه', 'اینباری', 'اسفندیاری', 'اعطای', 'ستیزی', 'نهای', 'گاومان', 'دحالتی', 'یک\\u200cبار', 'کرمیار', 'نسنجیده', 'هوشنگ', 'تجسس\\u200cها', 'پشت', 'استعانت', 'الطاف', 'دخانیات', 'آفتا', 'شاهین', 'داردف', 'خوراکی', 'نوحی', 'واکس', 'مسلمان', 'نیروزا', 'هیبتی', 'میپرانند', 'مجتهدی', 'استقرار', 'ماهانه\\u200cی', 'پایین\\u200cتر', 'شبرغان', 'بدفهمی', 'پیوند', 'تکفیری', 'طرز', 'برآورده\\u200cاند', 'صاحبه', 'کارکترهای', 'موافقت\\u200cنامه\\u200cای', 'چنگ', 'نیروی', 'ایسلادار', 'همکاران', 'پرس', 'محصورر', 'الزیارات', 'منافعی', 'مهنیاز', 'حلیمصالحه', 'مستندنگاری', 'علائم', 'ببخشد', 'تأسف\\u200cآور', 'جزیره', 'ایزدی', 'لطمه', 'متعهداتر', 'برکناری', 'صادرکنندگان', 'روشنئوند', 'الشهدا', 'فلاحت\\u200cپیشیءنه', 'کند', 'ذیس', 'مسلح', 'علت', 'وقوع', 'محسنجر', 'موضع', 'ابوجهل', 'پرچمداران', 'حتا', 'شدیدا', 'دام', 'مثمر', 'افغانی', 'مصمم', 'رسمی', 'عوارضی', 'پیشکسوءت', 'زابل', 'تعتزل', 'می\\u200cبرد', 'راهت', 'تره\\u200cبار', 'ناظر', 'محافظه\\u200cکاری', 'فطریه', 'تعزیرات', 'اوریی', 'کوروش', 'کمی', 'نتوانسته', 'خواهشمندم', 'احیا', 'وحشتناک', 'یهو', 'حل', 'صفدریسم', 'خداداد', 'توضیحات', 'غذای', 'فرسخی', 'اصولا', 'استرالیا', 'می\\u200cایستادندند', 'مرتبط', 'بحران\\u200cهای', 'مجامع', 'مرزها', 'امتزاجی', 'بوم', 'محال', 'نگذارد', 'مند', 'مجلس', 'طور', 'احتکار', 'شهرام', 'امیرآباد', 'دنیایی', 'بوته', 'کل', 'نیروگاه', 'شوهرم', 'وسیع', 'نمونه\\u200cهای', 'امیرالمؤمنان', 'هم\\u200cآمیز', 'گشایش', 'الکائنات', 'مؤسسین', 'ابری', 'اقیانوس', 'چالش\\u200cهایی', 'نانو', 'اینجانب', 'خانه\\u200cهای', 'شرطی', 'صونا', 'لحیمه', 'پیغامی', 'مسابقه', 'ملح', 'خوان', 'نگارستان', 'رویکردهای', 'لوتی', 'فرومد', 'سلیمان', 'عصیان', 'عقیده\\u200cی', 'مهرجویی', 'نیستم', 'خالی', 'مشارکت', 'رازهای', 'مبادی', 'پایه\\u200cای', 'برشمرد', 'حساب', 'بقایای', 'بازمانده', 'سهیب', 'مفروض', 'بوک\\u200cاش', 'رأستی', 'مدینه', 'خواستگاری', 'بعضکم', 'شنیدنی\\u200cها', 'بالصین', 'ملیت\\u200cهای', 'کاشته', 'سرمایه', 'بدانیم', 'یادگار', 'استخدام\\u200cها', 'قائدی', 'قانونگذاری', 'صهیونیستی', 'ابرا', 'سوءنی', 'اقداماتش', 'متحده', 'کرماشا', 'ممانعت', 'یک\\u200cچهارم', 'لودر', 'چهره\\u200cپردازی', 'برو', 'انزوا', 'بازیکنانش', 'بقعه', 'دور', 'فریدون', 'هم\\u200cچون', 'واعاد', 'نخوده', 'یونایتدها', 'رفتی', 'نفشاندیم', 'نفتی', 'گذاشت', 'آفته', 'نظارت', 'قرض\\u200cالحسنه', 'تسلیم', 'شناخته', 'استمرار', 'رسیدند', 'می\\u200cزدند', 'دارد', 'مغانی', 'نوآوران', 'ماد', 'یقینی', 'کولی', 'مشاور', 'عیار', 'منقی', 'عبوس', 'دبیرکل', 'اکسل', 'محفل', 'اشرافی', 'امیرحسنخانی', 'میکشن', 'صاحب\\u200cنام', 'کماج', 'گردوی', 'ال\\u200cای\\u200cدی', 'تبعیض\\u200cها', 'بسی', 'توانمند', 'ذخیرهی', 'هندی', 'عذابها', 'تندورها', 'سکانس', 'یادآور', 'احد', 'سانحه', 'شوخ', 'بستگی', 'زنده\\u200cروح', 'شانگهای', 'سلطنت', 'تعداد', 'قسم', 'برنامه\\u200cی', 'دقیقه\\u200cای', 'نابسامانی\\u200cهای', 'اعصار', 'کنش\\u200cها', 'ویله\\u200cگاس', 'تأثیر', 'بنابراینگذارش', 'مختل', 'ایالت', 'داده', 'مشهدایی', 'کشیء', 'ال', 'میدان', 'رفع', 'کفر', 'نوه\\u200cی', 'بودم', 'درخ', 'دودویی', 'نمی\\u200cشدند', 'اسفناج', 'داوطلبین', 'بدمینتون', 'کورتاژ', 'رحیم', 'خانواده\\u200cام', 'افزایش', 'خواهند', 'اسپورت', 'ایکس\\u200cری', 'مباحثه', 'تحققی', 'بخت', 'دلت', 'ایراداتی', 'می\\u200cتواند', 'شکل\\u200cگیری', 'غضبان', 'خودتو', 'نتیجه\\u200cگیری', 'حماس', 'پاراگوئه', 'تزئینات', 'کرونئون', 'آخرالزمان', 'فرمایش', 'بافنده', 'کلیه', 'تک', 'بخشیءدن', 'شونه', 'کیوان', 'بانکداری', 'ممنوعه', 'آتش\\u200cبس', 'آشنای', 'خدایند', 'فرهنگ', 'کما', 'مردانی', 'جنایت\\u200cهای', 'نهادن', 'گلزار', 'تأثیری', 'به\\u200cمنزله', 'لله', 'تأسیسیخ', 'شهباز', 'ماجراجویی', 'گفتگوهای', 'فاطمهالزهرا', 'مفقود', 'اظهار', 'هنجارشکن', 'سلطه\\u200cگرایانه', 'محققان', 'ظریف', 'اندیش', 'بازیگرانش', 'قدیس', 'اختلاط', 'بیولوژیکی', 'جومونگ', 'خدایان', 'خاش', 'آلاینده', 'نخست\\u200cوزیادی', 'لوزه\\u200cهایتان', 'امتیازی', 'سندیکایی', 'سازندگی', 'مدونی', 'واقعیم', 'داماش', 'انحامید', 'تبعه', 'کمیجان', 'گردنشان', 'بازگذشتند', 'گزیده', 'بازشدصدایی', 'ارصلانی', 'آخرتی', 'سهم\\u200cالشرکه', 'صدابردار', 'مهمی', 'ارتقا', 'متقاضی', 'کاربردی', 'داد', 'ازند', 'امسیر', 'یحیی', 'همشهری', 'ملتی', 'رزاقی', 'کنون', 'کارشناسانی', 'رمانتیک', 'بنیانگذار', 'پاریس', 'دموکرات', 'به\\u200cعبارت', 'جنسی', 'مسئولیت', 'لکومته', 'نوا', 'گیاهی', 'محراب', 'اجعلنا', 'چلسی', 'مقامات', 'هواپیما', 'کشاورزی', 'ناشران', 'کلاس', 'بسیجیان', 'مماتی', 'غضبان\\u200cپور', 'اتلاف', 'متوقف', 'رفته', 'خوبم', 'حزبی', 'عده', 'مجانی', 'تهران', 'دستورالعمل\\u200cها', 'دزدی', 'بخشودگی', 'چیستی', 'موجود', 'الزیاده', 'پاتریشیءا', 'جنوب', 'استیلی', 'سوءیم', 'ترتیب', 'فشار', 'برخوردند', 'خدشه', 'فوتبال', 'اجرا', 'احم', 'تاکتیک', 'لامپ', 'زهرایی', 'کروز', 'شیءعیان', 'منیازل', 'بکر', 'صبحانه', 'بزه', 'مفسده\\u200cانگیز', 'واردات', 'خودداری', 'رؤیتاها', 'موانعی', 'برضایک', 'افراطی', 'استقرا', 'قفس', 'می\\u200cآورد', 'مورد\\u200cهای', 'تعاریف', 'هسته\\u200cایش', 'اربلوا', 'قتل', 'خویینی\\u200cها', 'می\\u200cآید', 'رئیس\\u200cاین', 'حساب\\u200cهای', 'دارالمعلمین', 'تجرد', 'منتظران', 'اصغرآباد', 'قدرتمند', 'لیبی', 'تابعیتی\\u200cها', 'خمینی', 'فومن', 'نوبران', 'آنان', 'معلمان', 'عشقم', 'تدارکات', 'بیاید', 'باری', 'دیرینه', 'جامعتین', 'کمیسیون\\u200cهای', 'باران', 'بدنام', 'الهام', 'دوم', 'سلیمانی', 'کوبید', 'غازان', 'طناب', 'عد', 'پشتتیبانی', 'زوی', 'زودهنگام', 'الکویت', 'تبعات', 'پیک', 'الوداع', 'خشم', 'قربانگاه', 'آمدند', 'فراخوان', 'کمتر', 'نکردن', 'مداح', 'درشتی', 'گرفته\\u200cاند', 'جوری', 'دانشگاهی', 'کناره', 'منصور', 'کوتاهی', 'صدقی', 'نامه\\u200cای', 'رایانه', 'ویسفاتین', 'قدم', 'مطلبی', 'روانه', 'مسفر', 'صلواتی', 'بیت\\u200cالمال', 'حریم', 'بچه\\u200cهای\\u200cمان', 'ایبنا', 'سیأست\\u200cگذاری\\u200cهای', 'نمایش\\u200cهای', 'سیب\\u200cهای', 'هشته', 'تسلسل', 'لغزیدن', 'عذابک', 'المستشهدین', 'ارقام', 'زنجیر', 'آیه', 'فوتبالی\\u200cام', 'زن\\u200cدلیل', 'کردن', 'سهمی', 'برزیل', 'یخفف', 'سنجاق', 'می\\u200cدهند', 'مدتی', 'دیدم', 'ریگزار', 'کلماتی', 'میگیره', 'قضاییه', 'ویرانم', 'نقل', 'نزولی', 'کارگروه\\u200cها', 'اسبق', 'دلاوری\\u200cهای', 'باشماق', 'امیدیه', 'دفعتا', 'آرمان\\u200cهای', 'ویل', 'منعم', 'مترتب', 'باشیءد', 'پیشنهادمان', 'ملودی', 'بعضیا', 'رازپوش', 'به\\u200cاختصار', 'موسی', 'عقیده', 'یأسوءجی', 'چهارمحال', 'عکس', 'گروه\\u200cهایی', 'آموزگاران', 'قبرستان\\u200cهای', 'کوآهنگ\\u200cجو', 'نوردی', 'مجراهای', 'محالفان', 'علنی\\u200cتر', 'خوش\\u200cسابقه', 'آنها', 'جیمز', 'مادها', 'حوزه\\u200cی', 'بینیش', 'ذهنیت', 'اتحادیه', 'آذربایجانی', 'وصول', 'خرگوش', 'رغم', 'شورش', 'کامیار', 'پایینی', 'شتران', 'بدهکاران', 'علاالدوله', 'دروی', 'امیدوار', 'نورمرکزبروجن', 'تجری', 'او', 'افکار', 'اولیاءءی', 'اساسا', 'خوشحالم', 'کرمی', 'پیش\\u200cتر', 'معمم', 'اشتغالگران', 'معمار', 'فلک', 'بستکی', 'کد', 'خطرناک', 'محدود', 'آرایش', 'تنور', 'آجی', 'اعلی', 'گران\\u200cسنگ', 'پنجره\\u200cها', 'زن\\u200cها', 'فراتر', 'پرسشیء', 'احمقانه\\u200cترین', 'بگیرند', 'یلدا', 'رنجبران', 'مفاسد', 'احقاق', 'قایل', 'تأخیرهای', 'کسئولان', 'دستور', 'اکریم', 'بعث', 'وبلاگی', 'ولکن', 'نظرسنجی', 'بخشیء\\u200cهای', 'موفقیت\\u200cآمیزی', 'همر\\u200cهای', 'مددجویان', 'ناکام', 'السماوات', 'حجم', 'مهجور', 'بیشمراکشیءده', 'بانوی', 'یلان', 'تفاهم\\u200cآمیز', 'مناسب\\u200cترین', 'گذران', 'ماه\\u200cها', 'شکنجه', 'امکاناتمان', 'آموزان', 'رساله', 'جمهوری\\u200cخواهان', 'قضایایی', 'امامت', 'کاره', 'ممسیر', 'المعول', 'زنگانه', 'تکنیکال', 'مهد', 'اندرها', 'می\\u200cتوانیم', 'شهریار', 'تنوع', 'رب', 'مطرود', 'برگزاریدداعی', 'فردوس', 'رانده', 'جده', 'سفرای', 'پرمصرف', 'جود', 'موش', 'امتیازات', 'النقص', 'مملکت', 'فرمانده', 'اصیل', 'یودیت', 'سالور', 'نامنظم', 'وبخایددوچنگزآواز', 'معاونت\\u200cها', 'سمندریان', 'بخارست', 'رذیلت\\u200cهای', 'زخم', 'تدبیر', 'اشتایگر', 'مراجعه', 'سردار', 'پسوءند', 'لولهنگ', 'صعودی', 'ریختکن', 'سبزواری', 'وقایع', 'دفعات', 'باربعه', 'الجاهلین', 'سلاح', 'نیستلروی', 'ساسانی', 'اعتبار', 'هدیتنا', 'قایم', 'زرندیه', 'نسل\\u200cهای', 'مدیریتان', 'قویترین', 'استان', 'دریآفت', 'غیرضروری', 'احوال', 'کارسازی', 'رزمی', 'گلف', 'کتابت', 'نظرهای', 'باران\\u200cجدیدترین', 'اطلاعاتی', 'تنش\\u200cها', 'دونا', 'پایی', 'ختم', 'نازنین', 'تنظیم\\u200cکنندگان', 'اباعبدالله', 'آمریکایی', 'دین', 'اهاف', 'مفصل', 'بدین', 'جانبازی', 'پارلمان', 'موفقیتنامه\\u200cها', 'لوگوی', 'منکر', 'راوی', 'الثنیان', 'کرونایانس', 'آرامی', 'خوابگاه', 'تبعیضی', 'حسینعلی', 'دیوارهای', 'سید', 'تریبون', 'مرقد', 'نژادی', 'فولیکول', 'تصحیح', 'ردیف\\u200cها', 'آز', 'آنتونیو', 'تعدیل', 'شخصی', 'صداهای', 'اشغالی\\u200cهای', 'نرمشیء', 'اعدایک', 'محاسبه', 'العدل', 'جام', 'شهادتهدیه', 'چه', 'همایش\\u200cها', 'مرتکب', 'عصاره', 'نت', 'الاسلام', 'شایستگی', 'تجربه\\u200cهای', 'وحافظا', 'قیس', 'شعب', 'چو', 'نسبی', 'تنزل', 'شراب', 'نشده\\u200cاند', 'کارناک', 'معیارهای', 'ساختمان', 'برایش', 'تعبیر', 'مکتاب\\u200cهای', 'آنجلیس', 'آژانس\\u200cهای', 'انتفاع', 'سامکانه', 'مشهود', 'عطایی', 'درخواست\\u200cهای', 'نداشت', 'روباه', 'پاپر', 'دردودل', 'سرفصل\\u200cهایی', 'آلمان', 'فتوکپی', 'بازرسی\\u200cهایی', 'می\\u200cدانیم', 'اغماض', 'فراری', 'دائمی', 'استقلال\\u200cطلبی', 'فتح', 'منا', 'تفسفر', 'چچنی', 'لابی\\u200cهای', 'دانه', 'تحریف', 'تعادل\\u200cهای', 'پردیسان', 'پهلوانان', 'علیه', 'فرازهای', 'جلو', 'گاوصندوق', 'کنارشان', 'ماهه', 'سنایی', 'تبدیل', 'مخصوصی\\u200cها', 'صنعتمان', 'کانالی', 'پیشیءنه', 'زاهدانی', 'رافع', 'تجربیاتمان', 'نسیه', 'دیپلم', 'غیره', 'انتقام', 'اهله', 'جوان\\u200cها', 'دبیرخانه', 'محتمل', 'ارسالی', 'خرید', 'مشابه', 'مصوباتی', 'برسانیم', 'به\\u200cروشنایی', 'حرفشان', 'انبارگردانی', 'ویزا', 'ایمنولوژیست', 'المتقون', 'رخنه', 'عاشیءق\\u200cها', 'بابای', 'تعهداتمام', 'اذ', 'حداقلی', 'ملکیادس', 'الحسنه', 'بازیکن', 'نوجوانان', 'مقدمات', 'کام', 'آوارگان', 'دورود', 'منطقهای', 'باغات', 'می\\u200cگرد', 'لری', 'بهرامی', 'رسیدهد', 'رول', 'شرارت', 'بردسیر', 'صلاحیت\\u200cها', 'می\\u200cکنیم', 'تراکتور', 'فوت', 'عقل', 'افرادی', 'روحه', 'عمرشان', 'چهاردهم', 'واولیک', 'نیاوردن', 'بهره\\u200cبرداری', 'مقرن', 'سایت', 'اوست', 'تبعیضات', 'امیرخانی', 'النار', 'آبرومند', 'سوءار', 'ناقلین', 'رویه\\u200cای', 'بیمار', 'تاییدی', 'نوشابه', 'موجر', 'برنامه\\u200c\\u200cهای', 'پنیر', 'کیفیتی', 'مرورگرهای', 'سرطانی', 'خواهران', 'نوای', 'همدلانه', 'جاسوءس', 'قلم\\u200cسیاه', 'بیانیهی', 'دروغ\\u200cها', 'زندانیانی', 'برطرف', 'می\\u200cشود', 'ساول', 'ریسندگی', 'بولینجر', 'قطعات', 'گره', 'رکوردهای', 'الضرا', 'سرکابل\\u200cهای', 'کفاشیءان', 'تقابل', 'لزاکو', 'سوءدهای', 'منحصر', 'یکپارچه', 'بوته\\u200cهای', 'قلوب', 'کارهر', 'یصیب', 'می\\u200cآوردم', 'ایستادگی\\u200cهای', 'تعجب', 'قدیمی', 'نایل', 'الزنجبیل', 'کمیمتو', 'انصاف', 'استادیوم', 'نبش', 'سنگدل', 'فرنگی', 'عرض', 'امامی\\u200cفر', 'رای', 'آزاده', 'کاگراه\\u200cهای', 'مولاوردی', 'تیخذها', 'آموزش', 'اصولی', 'ایمان', 'هرمزی', 'مرزهای', 'منعت', 'کارها', 'وزارت', 'شاکیان', 'چادرنشیءنان', 'هسته\\u200cای', 'پرده\\u200cها', 'کردکوی', 'تشکلیک', 'بطالت', 'خیابان\\u200cهای', 'غرور', 'فرهیخته', 'تفنگ', 'سالمند', 'خلأقانه', 'ادعا', 'دیگرم', 'الحال', 'گرینگرس', 'قمصریان', 'مستدعی', 'دستیاری', 'یاهر', 'دانستنی\\u200cهای', 'کیمه', 'ارض', 'مر', 'رویکردها', 'بهش', 'خاورمیانه', 'آکینو', 'نهج\\u200cالبلاغه', 'انفجارهای', 'می\\u200cشناختم', 'نجوم', 'هویج', 'دانشنامه', 'انحصاری', 'زخم\\u200cهای', 'واضح', 'اینترنشنال', 'دزفولی', 'کسب\\u200cوکار', 'جویی', 'رسام', 'تحلیل\\u200cگر', 'یووه', 'تشکر', 'هزینه\\u200cای', 'تولدم', 'تمدید', 'خودی', 'اینطوری', 'ناقل', 'هجری', 'شدید', 'موشک\\u200cهای', 'تقصیر', 'مایلی', 'ساختمان\\u200cها', 'مهره\\u200cای', 'طریق', 'حیدریه', 'معزی', 'زیادی', 'سیستم', 'صدپیاهین', 'قرآن', 'ویتأمین\\u200cها', 'یامین', 'المموج', 'ابیانیه', 'پستویی', 'جمعیتیشان', 'نکرد', 'التی', 'جاده\\u200cهای', 'رجبعلی', 'می\\u200cافتاده', 'موقت', 'اعتصاب', 'هی', 'زدگان', 'تضمین', 'مخوف', 'خللی', 'دوست', 'سندرز', 'سام', 'خوردن', 'ترجیح', 'راهنمایی', 'کابراییب', 'محمدی\\u200cفرد', 'تقاطع', 'تثقدس', 'گفت\\u200cگو', 'کهر', 'خاموش', 'یارانه\\u200cهای', 'ارزن', 'آبه', 'ناصر', 'شناور', 'تداخل', 'محشور', 'متناوب', 'سررسید', 'تنباکو', 'شاکردوست', 'مقاومت\\u200cهایش', 'پرونده\\u200cهای', 'منتهی', 'تفسیری', 'می\\u200cدهدد', 'تحریف\\u200cهای', 'نیافتنی', 'حیرت\\u200cآور', 'سمی', 'چینش', 'فوتسال', 'التغییر', 'مسائل', 'نشست\\u200cها', 'مستدام', 'وسوءسه', 'جادویی', 'پرشور', 'کروبی', 'همراهان', 'بندوباری', 'اسرای', 'بخشیء', 'هسته\\u200cای\\u200cاش', 'آزادیخواهانه', 'کسر', 'مزرعه', 'به\\u200cاستثنای', 'قطعه\\u200cهای', 'بخاد', 'پیامبرش', 'نمایشگاه\\u200cها', 'اما', 'زیست\\u200cمحیطی', 'متمرکز', 'صلاحیت', 'امیدبربادرفته', 'امامی', 'سوءختیم', 'تانکر', 'دوبلور', 'اصلانی', 'بادرودی', 'نامحرم\\u200cه', 'غذا', 'جداساز', 'اسمابرگزارید', 'جاسوءسان', 'فارسی', 'کاخ\\u200cهای', 'کید', 'الریان', 'لطیف', 'جمله\\u200cهای', 'گنه', 'مورد', 'فطرت\\u200cگرایی', 'خرقانی', 'مجوزهای', 'خلبان', 'جرئت', 'دیفرانسیل', 'بذر', 'مهدویت', 'صمت', 'ازهای', 'خواند', 'سداگران', 'دیود', 'ماحصل', 'شهردار', 'فامیلی', 'بذارین', 'یازدهمین', 'موتورهای', 'حسین', 'بوی', 'امامیه', 'ذیصلاح', 'تصمیمش', 'سهیم', 'همزبانش', 'بار', 'تمامی', 'تعمیم', 'نگرشیء', 'پژوهشکده\\u200cها', 'ناکارآمد', 'طعم', 'چهارصد', 'مربی', 'فرصت\\u200cرسان', 'جداگانه', 'کاردرمانی', 'بغض', 'انیس', 'شیءث', 'می\\u200cگذاردد', 'تارنمای', 'شیءوه\\u200cهای', 'فقیهی', 'آلاسکایی\\u200cها', 'دست\\u200cدرازی', 'اجبرایی', 'متر', 'دوچرخه', 'نخودم', 'بینایی', 'نماینده\\u200cهای', 'خرابه', 'کمردرد', 'طیور', 'بازنشستگان', 'استقلال', 'الزوما', 'رابطه\\u200cام', 'اغتشاشات', 'می\\u200cگیردد', 'کرده\\u200cاست', 'المللی', 'صمد', 'ادیم', 'طلبه\\u200cای', 'مناسک', 'برگزیدن', 'مردم\\u200cنهاد', 'باقی', 'حکمی', 'مبلغ', 'ار', 'عطای', 'سوءره\\u200cها', 'منطقه\\u200cی', 'مسافربری', 'پیچیده\\u200cتر', 'پروسه\\u200cی', 'ارائه', 'افزود', 'غیرهمسطح', 'خواری', 'آلماتی', 'طاووس', 'نبردن', 'مواد', 'بیاورم', 'چشمگیری', 'منغص', 'همه\\u200cدستگاه\\u200cهایی', 'ناگوار', 'فیلم', 'نمی\\u200cکشه', 'هستی', 'مردممان', 'سپاهان', 'جلد', 'داروی', 'روزی', 'فهیمی', 'ستاره\\u200cای', 'مصداق', 'ابوالخیر', 'ذهن', 'مواجهه', 'ریزگردهایی', 'به\\u200cنگار', 'رسد', 'بکنند', 'میان\\u200cدوره\\u200cای', 'زراعی', 'اخذت', 'پویان', 'استگاه\\u200cهای', 'زبان\\u200cشناس', 'اماکن', 'معتقد', 'بریم', 'مبارزین', 'ندارد', 'نه', 'مدیریتی\\u200cاش', 'اول', 'مازوخیسم', 'شبیهه', 'بلاگ', 'زهد', 'تمثیلی', 'سیلی', 'حیاته', 'منشأء', 'می\\u200cزنم', 'بریده', 'پایتخت', 'نعمت\\u200cهای', 'کارگاه', 'آمارهایی', 'موجسل', 'عمران', 'وهذا', 'جداول', 'هیمه', 'ستایشگر', 'ملایم', 'پیرمرداده', 'ریسک\\u200cهای', 'مصر', 'خیریه\\u200cها', 'کلیکی', 'اولا', '\\u200cالحسنه', 'داده\\u200cام', 'یادواره\\u200cهای', 'نقشه\\u200cهای', 'اشغالگر', 'اقاماتان', 'می\\u200cشوید', 'غصه', 'نفاق', 'ایشان', 'یأس', 'شعرهایت', 'دیوارها', 'ذرت', 'سفارش', 'ساحتن', 'کو', 'نقاشیء', 'می\\u200cخرند', 'شدیم', 'می\\u200cخواهد', 'پیوندی', 'اواخر', 'دلتنگ', 'اشرار', 'غبه', 'تست\\u200c', 'زیاده\\u200cروی', 'مراحلی', 'العشاق', 'نادران', 'نبودند', 'بنیان', 'عزتی', 'زحمات', 'ردهمایی', 'اسهب', 'افزودنی', 'کاذب', 'پرستار', 'پرسید', 'روستای', 'لقمان', 'نیو', 'دیرمینا', 'زنده', 'برویم', 'مات', 'فاینانس\\u200cهای', 'عوام', 'رضایی', 'عهده\\u200cی', 'فقیهان', 'عذاب', 'توصیفاتی', 'سوءخت', 'رطوبتی', 'می\\u200cدانستند', 'دهش', 'بیش', 'مقدس', 'پشتیانی', 'نگفتن', 'نماهایی', 'پاکیزه', 'صیانت', 'مهربانترین', 'فلسفه', 'حدثنی', 'ایرانسل', 'هنر', 'مشاغل', 'جنگیده', 'آرزویش', 'هرأس', 'اختیاراتی', 'به\\u200cبه\\u200cگونه\\u200cای', 'ساخته\\u200cی', 'آداب', 'گاملا', 'الآخر', 'آسیب\\u200cهای', 'خبرخوزستان', 'دامپزشکی', 'متنابعی', 'نمی\\u200cرسد', 'آنگاه', 'کاریزماتیک', 'افتضاح', 'باربارا', 'کشوروبعضی', 'نزد', 'رصدخانه', 'رهگذران', 'اختصاص', 'شونده\\u200cای', 'احتراما', 'به\\u200cدسترسی', 'بزرگان', 'ایرانی', 'کویر', 'همیاری', 'نقض', 'تحلیلگر', 'نهان', 'روزنه', 'متقاعد', 'تسریع', 'مآبانه', 'کیأسر', 'مناظر', 'روستاهای', 'آسیأست', 'قاطبه', 'نمادهایی', 'می\\u200cنماید', 'آزادگان', 'تلفن\\u200cهای', 'ایم', 'نوشیءدنی\\u200cهای', 'شوش', 'اموز', 'مبدا', 'خواهم', 'افتادن', 'نمی\\u200cدانند', 'محسوءس', 'آلوز', 'رام', 'قدرت', 'صادق', 'ایسنا', 'پردیس', 'دیم', 'سبحانی', 'سرمای', 'پروین\\u200cنیا', 'روشنفکری', 'عضویت', 'تسهیلات', 'روندی', 'بمستوی', 'غلوآمیز', 'علیا', 'مزاح', 'زندان', 'نمادین', 'نویسان', 'ردیف', 'میلیونی', 'افخمی', 'دزدیده', 'روزانه', 'جامانده\\u200cام', 'فایر', 'حظور', 'المعارف', 'اتاق\\u200cهای', 'استثناء', 'متدینین', 'بحبوحه', 'تویسرکانی', 'سر', 'مادران', 'شپنا', 'طرفه', 'وه', 'رنتیسی', 'ظرفی', 'نفس', 'عابران', 'التویجری', 'صوتی', 'بیل', 'می\\u200cداند', 'مرزبانان', 'عرفانهای', 'سرشار', 'چشیءدند', 'ابوطالب', 'النهار', 'اخلأل', 'الصقعوب', 'بهط', 'رقیب', 'بازشماری', 'مدرسین', 'ابولا', 'بعد', 'مقبل', 'دات', 'دار', 'خوابی', 'آیینه', 'کمیت', 'خونین', 'تلقی', 'مطمئنا', 'صنفکتابفروشو', 'پرداخته\\u200cایم', 'کنن', 'العظیم', 'شهرزاد', 'گینه', 'سازمان\\u200cهایی', 'عربی', 'مصاف', 'آبرسانی', 'به\\u200cجایی', 'اسراییلی\\u200cها', 'راهیمی', 'رادیکال\\u200cهای', 'معنویی', 'نامه', 'کلیدهای', 'پرداخت\\u200cهای', 'بیا', 'آماتوری', 'پیشنهادهایی', 'وراث', 'خودتون', 'جوانده\\u200cاند', 'انبارهایشان', 'مادامی', 'مغایر', 'سبحانک', 'ویدیویی', 'گریبان', 'سوءلماز', 'انتقالی', 'بلکه', 'نیک', 'کلیدش', 'لحظه', 'ابونصر', 'بومی\\u200cها', 'تکاور', 'بنتو', 'رنج', 'کارخانی', 'تصاویری', 'عمل', 'عبارات', 'اشتبا', 'میکس', 'سعودی', 'قراگراه', 'طهماسب', 'آوران', 'روزم', 'ترانه', 'آگاه', 'وگمناماناینجافقط', 'گوش\\u200cدادن', 'گفتگوی', 'پلنگ', 'نزدیکه', 'بناب', 'طاها', 'سازان', 'پوشان', 'لژ', 'بادرود', 'مادیات', 'زلزله', 'سنجند', 'بازگو', 'ربنا', 'ماهنامه', 'الاه', 'مدل', 'فان', 'ایتالیایی\\u200cاش', 'تس\\u200cها', 'ثلاث', 'کرج', 'نمی\\u200cدهند', 'نعمت', 'آویز', 'ژنو', 'نون', 'کامل\\u200cکردن', 'اسدآباد', 'می\\u200cخواهم', 'هنرمند', 'اوسته', 'خفگی', 'نصیری', 'دکور', 'گم', 'محله\\u200cهای', 'محوریت', 'طالب', 'اکبری', 'عاجل', 'یواخیم', 'نظاره', 'همان\\u200cطور', 'برساند', 'مادر', 'آراشگر', 'برخوردارند', 'مبل', 'ماشه', 'شناورها', 'پرچم', 'داشتن', 'پرا', 'ساواک', 'نابار', 'چت', 'بازگذشتن', 'داده\\u200cایم', 'هل', 'فقراها', 'توریسم', 'طراحان', 'محموله\\u200cهای', 'مجدانه', 'مسیهای', 'شکایت\\u200cهایی', 'دریاها', 'پافشاری', 'عکس\\u200cهایی', 'قطعنامه\\u200cهای', 'طول', 'شادابی', 'آزمایشگاهای', 'زد', 'برهانند', 'نشانه\\u200cهای', 'مهلت\\u200cهای', 'آشکار', 'زنی\\u200cها', 'انعام', 'موجی', 'والسآیلین', 'ظرفت\\u200cهای', 'میلش', 'آنکه', 'خبیث', 'فقیر', 'می\\u200cاندیشیءد', 'لرستان', 'سرعتی', 'مداده\\u200cایم', 'اروپای', 'شالیزار', 'بمب\\u200cهای', 'میداوودی', 'فرخ', 'مختص', 'دیوونم', 'محدوده\\u200cای', 'هیچ\\u200cچیز', 'سهرین', 'الکبش', 'گوید', 'بی\\u200cاعتبار', 'گریم', 'نگرانی\\u200cها', 'بدان', 'تجاوزگرانه', 'سینمای', 'گمراه', 'آلوده', 'سرداران', 'هفته\\u200cهای', 'متمادی', 'مسجد', 'ثالث', 'صارمی', 'می\\u200cبلندید', 'جنبشیء', 'شهدابنژاد', 'جوزف', 'بازارهای', 'مروارید', 'زمین', 'داوطلبانه', 'نقاط', 'داخل', 'کاملچو', 'عوارف', 'جولای', 'چروک\\u200cهای', 'سازمانان', 'اسلحه\\u200cهای', 'مشهید', 'دخترچادربه', 'پزشکان', 'محبوس', 'سزمان', 'امکان\\u200cسنجی', 'اولتیماتوم', 'اکتشاف', 'تعرفه\\u200cهای', 'میونه', 'فرزندبرومنداستادمحمدحسین', 'افسانه', 'نوشت', 'تبیین', 'مقام', 'موقع', 'بد', 'سیفی', 'لینکدونی', 'گذشتن', 'تمنی', 'فاطمیون', 'علاءالدین', 'سپاه', 'بنوشأنند', 'تره', 'ولادیمیر', 'بابت', 'بالفعل', 'ناشناخته', 'شیءروان', 'قطره\\u200cای', 'کیک\\u200cهای', 'عناوین', 'پایم', 'بی\\u200cقیدی', 'سخنگوی', 'صورتشان', 'کهکشان', 'می\\u200cبخشد', 'گریه\\u200cها', 'الواجب', 'مسجدسلیمان', 'النهضه', 'عفو', 'قاجار', 'کنشگری', 'الصباح', 'فراگیری', 'ناستانیاهو', 'هویت', 'عابدپور', 'لقاح', 'اورادان', 'پاناتینایکوس', 'کثرت', 'یونانیان', 'ارزش\\u200cها', 'فعالانرین', 'ویترین', 'گذر', 'جفا', 'توفارقان', 'دسته\\u200cای', 'ایاک', 'خاکسترهای', 'بکند', 'فعلخاک', 'غذاهای', 'بوده\\u200cاند', 'رسوءایی\\u200cهای', 'هم\\u200cچنین', 'مسوءولن', 'گاهش', 'سایت\\u200cهای', 'فصل', 'کوهدشت', 'میراث\\u200cها', 'الوهیبی', 'غیربهداشتی', 'مقدره', 'دانستند', 'دا', 'جناحی', 'پژواک', 'قاتل', 'مربی\\u200cگری', 'قضایا', 'الیه', 'ماندگارترین', 'معجون', 'مگر', 'اینترنت', 'صحنه\\u200cهای', 'رحمه', 'سرمایه\\u200cهایشان', 'توسعه\\u200cای', 'مصاحبه\\u200cهای', 'منحل', 'عقیده\\u200cها', 'الغوث', 'تنبیه', 'خصوصی', 'جیره', 'حسابرس', 'بهانه\\u200cای', 'صاعقه', 'منها', 'خلق\\u200cاند', 'فیشوری', 'تنیدگی', 'مدرسه\\u200cها', 'بینانه\\u200cتر', 'ورزش\\u200cهای', 'سرنشیءن', 'طاغوتی', 'تحریر', 'وزارصنعتومعدنو', 'آوادانلیق', 'تهامی', 'بامداد', 'هزینه', 'پورغلامی', 'بزرگراه', 'غارتگری', 'ملکم', 'الحقیر', 'مخالفتی', 'اشتراک', 'برگه\\u200cهای', 'تمرکز', 'فرانسوءیان', 'چی', 'گفتی\\u200cها', 'مدارای', 'خارجه', 'پیش\\u200cبینی\\u200cهایی', 'برپا', 'راهدار', 'جنسیت', 'مذاهب', 'تعدادی', 'عباسی', 'فایل\\u200cهای', 'آمرزش', 'غبار', 'گرمایشیء', 'جاسک', 'اپراتورها', 'قبال', 'مستبد', 'اندی', 'داستان\\u200cهای', 'بهرهه\\u200cای', 'سارقان', 'سیزیف', 'می\\u200cبرند', 'رفتار\\u200cهای', 'الامکان', 'نافله', 'جنجالی', 'حقیقیت', 'تراکنش\\u200cهای', 'افراد', 'می\\u200cدهم', 'عکسی', 'نوزدهم', 'لایف', 'سرخی', 'دهشت', 'کاغذ', 'دودکش\\u200cها', 'متضرر', 'سمت\\u200cهای']\n"
     ]
    }
   ],
   "source": [
    "def read_txt_as_list_of_words(filename):\n",
    "    words = []\n",
    "    with open(filename, 'r', encoding='utf-8') as file:\n",
    "        for line in file:\n",
    "            # Split the line into words using split() method\n",
    "            line_words = line.split()\n",
    "            # Add words to the list\n",
    "            words.extend(line_words)\n",
    "    return words\n",
    "\n",
    "# Example usage:\n",
    "filename = 'cleaned_words.txt'\n",
    "word_list = read_txt_as_list_of_words(filename)\n",
    "print(word_list)"
   ]
  },
  {
   "cell_type": "code",
   "execution_count": null,
   "id": "05d9e477",
   "metadata": {},
   "outputs": [],
   "source": []
  },
  {
   "cell_type": "code",
   "execution_count": null,
   "id": "f6edb314",
   "metadata": {},
   "outputs": [],
   "source": []
  },
  {
   "cell_type": "code",
   "execution_count": null,
   "id": "d25c61ac",
   "metadata": {},
   "outputs": [],
   "source": []
  },
  {
   "cell_type": "code",
   "execution_count": null,
   "id": "6c047bfb",
   "metadata": {},
   "outputs": [],
   "source": []
  },
  {
   "cell_type": "code",
   "execution_count": null,
   "id": "4b94bd3d",
   "metadata": {},
   "outputs": [],
   "source": []
  },
  {
   "cell_type": "code",
   "execution_count": 11,
   "id": "534888cc",
   "metadata": {},
   "outputs": [],
   "source": [
    "import numpy as np\n",
    "import cv2 as cv\n",
    "from scipy.ndimage import interpolation as inter\n",
    "from PIL import Image as im\n",
    "\n",
    "def binary_otsus(image, filter:int=1):\n",
    "    \"\"\"Binarize an image 0's and 255's using Otsu's Binarization\"\"\"\n",
    "\n",
    "    if len(image.shape) == 3:\n",
    "        gray_img = cv.cvtColor(image, cv.COLOR_BGR2GRAY)\n",
    "    else:\n",
    "        gray_img = image\n",
    "\n",
    "    # Otsus Binarization\n",
    "    if filter != 0:\n",
    "        blur = cv.GaussianBlur(gray_img, (3,3), 0)\n",
    "        binary_img = cv.threshold(blur, 0, 255, cv.THRESH_BINARY+cv.THRESH_OTSU)[1]\n",
    "    else:\n",
    "        binary_img = cv.threshold(gray_img, 0, 255, cv.THRESH_BINARY+cv.THRESH_OTSU)[1]\n",
    "\n",
    "    return binary_img\n",
    "\n",
    "\n",
    "def find_score(arr, angle):\n",
    "    data = inter.rotate(arr, angle, reshape=False, order=0)\n",
    "    hist = np.sum(data, axis=1)\n",
    "    score = np.sum((hist[1:] - hist[:-1]) ** 2)\n",
    "    return hist, score\n",
    "\n",
    "def deskew(binary_img):\n",
    "    ht, wd = binary_img.shape\n",
    "    bin_img = (binary_img // 255.0)\n",
    "\n",
    "    delta = 0.1\n",
    "    limit = 3\n",
    "    angles = np.arange(-limit, limit+delta, delta)\n",
    "    scores = []\n",
    "    for angle in angles:\n",
    "        hist, score = find_score(bin_img, angle)\n",
    "        scores.append(score)\n",
    "\n",
    "    best_score = max(scores)\n",
    "    best_angle = angles[scores.index(best_score)]\n",
    "    data = inter.rotate(bin_img, best_angle, reshape=False, order=0)\n",
    "    img = im.fromarray((255 * data).astype(\"uint8\"))\n",
    "\n",
    "    pix = np.array(img)\n",
    "    return pix\n",
    "\n",
    "def vexpand(gray_img, color:int):\n",
    "    \"\"\"Expand the image by some space vertically in both directions\"\"\"\n",
    "\n",
    "    color = 1 if color > 0 else 0\n",
    "    (h, w) = gray_img.shape[:2]\n",
    "    space = np.ones((10, w)) * 255 * color\n",
    "\n",
    "    return np.block([[space], [gray_img], [space]])\n",
    "\n",
    "\n",
    "def hexpand(gray_img, color:int):\n",
    "    \"\"\"Expand the image by some space horizontally in both directions\"\"\"\n",
    "\n",
    "    color = 1 if color > 0 else 0\n",
    "    (h, w) = gray_img.shape[:2]\n",
    "    space = np.ones((h, 10)) * 255 * color\n",
    "\n",
    "    return np.block([space, gray_img, space])\n",
    "\n",
    "def valid(row, col, vis, word):\n",
    "    return (row < vis.shape[0] and col < vis.shape[1] and row >= 0 and col >=0 and vis[row][col] == 0 and word[row][col] > 0)\n",
    "\n",
    "def dfs(row, col, vis, word):\n",
    "\n",
    "    dX = [0,0,1,1,-1,-1,1,-1]\n",
    "    dY = [1,-1,0,1,0,-1,-1,1]\n",
    "    vis[row][col] += 1\n",
    "    for i in range(8):\n",
    "        if(valid(row+dX[i],col+dY[i],vis, word)):\n",
    "            dfs(row+dX[i], col+dY[i], vis, word)\n",
    "    return"
   ]
  },
  {
   "cell_type": "code",
   "execution_count": 12,
   "id": "c1285bbe",
   "metadata": {},
   "outputs": [],
   "source": [
    "import numpy as np\n",
    "import cv2 as cv\n",
    "\n",
    "\n",
    "def save_image(img, folder, title):\n",
    "    cv.imwrite(f'./{folder}/{title}.png', img)\n",
    "\n",
    "\n",
    "def projection(gray_img, axis:str='horizontal'):\n",
    "    \"\"\" Compute the horizontal or the vertical projection of a gray image \"\"\"\n",
    "\n",
    "    if axis == 'horizontal':\n",
    "        projection_bins = np.sum(gray_img, 1).astype('int32')\n",
    "    elif axis == 'vertical':\n",
    "        projection_bins = np.sum(gray_img, 0).astype('int32')\n",
    "\n",
    "    return projection_bins"
   ]
  },
  {
   "cell_type": "code",
   "execution_count": 13,
   "id": "6a9ce467",
   "metadata": {},
   "outputs": [],
   "source": [
    "import numpy as np\n",
    "import cv2 as cv\n",
    "# from preprocessing import binary_otsus, deskew\n",
    "# from utilities import projection, save_image\n",
    "from glob import glob\n",
    "\n",
    "\n",
    "def preprocess(image):\n",
    "    gray_img = cv.cvtColor(image, cv.COLOR_BGR2GRAY)\n",
    "    gray_img = cv.bitwise_not(gray_img)\n",
    "\n",
    "    binary_img = binary_otsus(gray_img, 0)\n",
    "    deskewed_img = deskew(binary_img)\n",
    "    return deskewed_img\n",
    "\n",
    "\n",
    "def projection_segmentation(clean_img, axis, cut=3):\n",
    "    \n",
    "    segments = []\n",
    "    start = -1\n",
    "    cnt = 0\n",
    "\n",
    "    projection_bins = projection(clean_img, axis)\n",
    "    for idx, projection_bin in enumerate(projection_bins):\n",
    "\n",
    "        if projection_bin != 0:\n",
    "            cnt = 0\n",
    "        if projection_bin != 0 and start == -1:\n",
    "            start = idx\n",
    "        if projection_bin == 0 and start != -1:\n",
    "            cnt += 1\n",
    "            if cnt >= cut:\n",
    "                if axis == 'horizontal':\n",
    "                    segments.append(clean_img[max(start-1, 0):idx, :])\n",
    "                elif axis == 'vertical':\n",
    "                    segments.append(clean_img[:, max(start-1, 0):idx])\n",
    "                cnt = 0\n",
    "                start = -1\n",
    "    \n",
    "    return segments\n",
    "\n",
    "\n",
    "# Line Segmentation\n",
    "#----------------------------------------------------------------------------------------\n",
    "def line_horizontal_projection(image, cut=3):\n",
    "\n",
    "    # Preprocess input image\n",
    "    clean_img = preprocess(image)\n",
    "\n",
    "\n",
    "    # Segmentation    \n",
    "    lines = projection_segmentation(clean_img, axis='horizontal', cut=cut)\n",
    "\n",
    "    return lines\n",
    "\n",
    "\n",
    "# Word Segmentation\n",
    "#----------------------------------------------------------------------------------------\n",
    "def word_vertical_projection(line_image, cut=3):\n",
    "    \n",
    "    line_words = projection_segmentation(line_image, axis='vertical', cut=cut)\n",
    "    line_words.reverse()\n",
    "    \n",
    "    return line_words\n",
    "\n",
    "\n",
    "def extract_words(img, visual=0):\n",
    "\n",
    "    lines = line_horizontal_projection(img)\n",
    "    words = []\n",
    "    \n",
    "    for idx, line in enumerate(lines):\n",
    "        \n",
    "        if visual:\n",
    "            save_image(line, 'lines', f'line{idx}')\n",
    "\n",
    "        line_words = word_vertical_projection(line)\n",
    "        for w in line_words:\n",
    "            words.append((w, line))\n",
    "\n",
    "    if visual:\n",
    "        for idx, word in enumerate(words):\n",
    "            save_image(word[0], 'words', f'word{idx}')\n",
    "\n",
    "    return words\n"
   ]
  },
  {
   "cell_type": "code",
   "execution_count": 14,
   "id": "73573d99",
   "metadata": {},
   "outputs": [],
   "source": [
    "import numpy as np\n",
    "import cv2 as cv\n",
    "# from utilities import projection, save_image\n",
    "# from segmentation import line_horizontal_projection, word_vertical_projection\n",
    "from skimage.morphology import skeletonize, thin\n",
    "\n",
    "\n",
    "def binarize(word_img):\n",
    "    _, binary_img = cv.threshold(word_img, 127, 255, cv.THRESH_BINARY)\n",
    "    return binary_img // 255\n",
    "\n",
    "\n",
    "def fill(binary_img, VP):\n",
    "    (h, w) = binary_img.shape\n",
    "\n",
    "    flag = 1\n",
    "    while flag:\n",
    "        flag = 0\n",
    "        for row in range(h-1):\n",
    "            for col in range(1, w-1):\n",
    "                if binary_img[row][col] == 0 and binary_img[row][col-1] == 1 and binary_img[row][col+1] == 1 and binary_img[row+1][col] == 1 and VP[col] != 0:\n",
    "                    binary_img[row][col] = 1\n",
    "\n",
    "    return binary_img\n",
    "    \n",
    "\n",
    "def baseline_detection(word_img):\n",
    "    '''Get baseline index of a given word'''\n",
    "    HP = projection(word_img, 'horizontal')\n",
    "    peak = np.amax(HP)\n",
    "    baseline_idx = np.where(HP == peak)[0]\n",
    "    upper_base = baseline_idx[0]\n",
    "    lower_base = baseline_idx[-1]\n",
    "    thickness = abs(lower_base - upper_base) + 1\n",
    "    \n",
    "    return upper_base, lower_base, thickness\n",
    "\n",
    "\n",
    "def horizontal_transitions(word_img, baseline_idx):\n",
    "    max_transitions = 0\n",
    "    max_transitions_idx = baseline_idx\n",
    "    line_idx = baseline_idx-1\n",
    "    lines = []\n",
    "    while line_idx >= 0:\n",
    "        current_transitions = 0\n",
    "        flag = 0\n",
    "\n",
    "        horizontal_line = word_img[line_idx, :]\n",
    "        for pixel in reversed(horizontal_line):\n",
    "\n",
    "            if pixel == 1 and flag == 0:\n",
    "                current_transitions += 1\n",
    "                flag = 1\n",
    "            elif pixel == 0 and flag == 1:\n",
    "                current_transitions += 1\n",
    "                flag = 0\n",
    "                \n",
    "        if current_transitions >= max_transitions:\n",
    "            max_transitions = current_transitions\n",
    "            lines.append(line_idx)\n",
    "            max_transitions_idx = line_idx\n",
    "\n",
    "        line_idx -= 1\n",
    "    return lines[len(lines)//2]\n",
    "\n",
    "\n",
    "def vertical_transitions(word_img, cut):\n",
    "    transitions = 0\n",
    "    vertical_line = word_img[:, cut]\n",
    "    flag = 0\n",
    "    for pixel in vertical_line:\n",
    "\n",
    "        if pixel == 1 and flag == 0:\n",
    "            transitions += 1\n",
    "            flag = 1\n",
    "        elif pixel == 0 and flag == 1:\n",
    "            transitions += 1\n",
    "            flag = 0\n",
    "    return transitions\n",
    "\n",
    "\n",
    "def cut_points(word_img, VP, MFV, MTI, baseline_idx):\n",
    "    f = 0\n",
    "    flag = 0\n",
    "    (h, w) = word_img.shape\n",
    "    i = w-1\n",
    "    separation_regions = []\n",
    "    wrong = 0\n",
    "    while i >= 0:\n",
    "\n",
    "        pixel = word_img[MTI, i]\n",
    "        \n",
    "        if pixel == 1 and f == 0:\n",
    "            f = 1\n",
    "            flag = 1\n",
    "        if f == 1:\n",
    "            # Get start and end of separation region (both are black pixels <----)\n",
    "            if pixel == 0 and flag == 1:\n",
    "                start = i+1\n",
    "                flag = 0\n",
    "            elif pixel == 1 and flag == 0:\n",
    "                end = i         # end maybe = i not i+1\n",
    "                flag = 1\n",
    "\n",
    "                mid = (start + end) // 2\n",
    "\n",
    "                left_zero = -1\n",
    "                left_MFV = -1\n",
    "                right_zero = -1\n",
    "                right_MFV = -1\n",
    "                # threshold for MFV\n",
    "                T = 1\n",
    "\n",
    "                j = mid - 1\n",
    "                # loop from mid to end to get nearest VP = 0 and VP = MFV\n",
    "                while j >= end:\n",
    "                    \n",
    "                    if VP[j] == 0 and left_zero == -1:\n",
    "                        left_zero = j\n",
    "                    if VP[j] <= MFV + T and left_MFV == -1:\n",
    "                        left_MFV = j\n",
    "\n",
    "                    # if left_zero != -1 and left_MFV != -1:\n",
    "                    #     break\n",
    "\n",
    "                    j -= 1\n",
    "\n",
    "                j = mid\n",
    "                # loop from mid to start to get nearest VP = 0 and VP = MFV\n",
    "                while j <= start:\n",
    "\n",
    "                    if VP[j] == 0 and right_zero == -1:\n",
    "                        right_zero = j\n",
    "                    if VP[j] <= MFV + T and right_MFV == -1:\n",
    "                        right_MFV = j\n",
    "\n",
    "                    if right_zero != -1 and right_MFV != -1:\n",
    "                        break\n",
    "\n",
    "                    j += 1\n",
    "\n",
    "                # Check for VP = 0 first\n",
    "                if VP[mid] == 0:\n",
    "                    cut_index = mid\n",
    "                elif left_zero != -1 and right_zero != -1:\n",
    "                    \n",
    "                    if abs(left_zero-mid) <= abs(right_zero-mid):\n",
    "                        cut_index = left_zero\n",
    "                    else:\n",
    "                        cut_index = right_zero\n",
    "                elif left_zero != -1:\n",
    "                    cut_index = left_zero\n",
    "                elif right_zero != -1:\n",
    "                    cut_index = right_zero\n",
    "\n",
    "                # Check for VP = MFV second\n",
    "                # elif VP[mid] <= MFV+T:\n",
    "                #     cut_index = mid\n",
    "                elif left_MFV != -1:\n",
    "                    cut_index = left_MFV\n",
    "                elif right_MFV != -1:\n",
    "                    cut_index = right_MFV\n",
    "                else:\n",
    "                    cut_index = mid\n",
    "\n",
    "\n",
    "                seg = word_img[:, end:start]\n",
    "                HP = projection(seg, 'horizontal')\n",
    "                SHPA = np.sum(HP[:MTI])\n",
    "                SHPB = np.sum(HP[MTI+1:])\n",
    "                \n",
    "                top = 0\n",
    "                for idx, proj in enumerate(HP):\n",
    "                    if proj != 0:\n",
    "                        top = idx\n",
    "                        break\n",
    "\n",
    "                cnt = 0\n",
    "                for k in range(end, cut_index+1):\n",
    "                    if vertical_transitions(word_img, k) > 2:\n",
    "                        cnt = 1\n",
    "                if SHPB == 0 and (baseline_idx - top) <= 5 and cnt == 1:\n",
    "                    # breakpoint()\n",
    "                    wrong = 1\n",
    "                else:\n",
    "                    separation_regions.append((end, cut_index, start))\n",
    "\n",
    "        i -= 1\n",
    "\n",
    "    return separation_regions, wrong\n",
    "\n",
    "\n",
    "def check_baseline(word_img, start, end, upper_base, lower_base):\n",
    "    \n",
    "    j = end+1\n",
    "\n",
    "    cnt = 0\n",
    "    while j < start:\n",
    "    \n",
    "        # Black pixel (Discontinuity)\n",
    "        base = upper_base\n",
    "        while base <= lower_base:\n",
    "            \n",
    "            pixel = word_img[base][j]\n",
    "            cnt += pixel\n",
    "\n",
    "            base += 1\n",
    "        \n",
    "        j += 1\n",
    "\n",
    "    if cnt == 0:\n",
    "        return False\n",
    "\n",
    "    return True\n",
    "\n",
    "\n",
    "def inside_hole(word_img, end_idx, start_idx):\n",
    "    '''Check if a segment has a hole or not'''\n",
    "\n",
    "    if end_idx == 0 and start_idx == 0:\n",
    "        return 0\n",
    "\n",
    "    sk = skeletonize(word_img)\n",
    "    j = end_idx + 1\n",
    "    flag = 1\n",
    "    while j < start_idx:\n",
    "        VT = vertical_transitions(sk, j)\n",
    "        if VT <= 2:\n",
    "            flag = 0\n",
    "            break\n",
    "        j += 1\n",
    "    \n",
    "    return flag\n",
    "\n",
    "\n",
    "def check_hole(segment):\n",
    "    '''Check if a segment has a hole or not'''\n",
    "\n",
    "    # no_dots = segment.copy()\n",
    "\n",
    "    contours, hierarchy = cv.findContours(segment, cv.RETR_TREE, cv.CHAIN_APPROX_NONE)\n",
    "    cnt = 0\n",
    "    for hier in hierarchy[0]:\n",
    "        if hier[3] >= 0:\n",
    "            cnt += 1\n",
    "\n",
    "    return cnt != 0\n",
    "\n",
    "\n",
    "def remove_dots(word_img, threshold=11):\n",
    "\n",
    "    no_dots = word_img.copy()\n",
    "\n",
    "    components, labels, stats, GoCs = cv.connectedComponentsWithStats(no_dots, connectivity=8)\n",
    "    char = []\n",
    "    for label in range(1, components):\n",
    "        _, _, _, _, size = stats[label]\n",
    "        if size > threshold:\n",
    "            char.append(label)\n",
    "    for label in range(1, components):\n",
    "        _, _, _, _, size = stats[label]\n",
    "        if label not in  char:\n",
    "            no_dots[labels == label] = 0\n",
    "\n",
    "    return no_dots\n",
    "\n",
    "\n",
    "def check_dots(segment):\n",
    "\n",
    "    contours, hierarchy = cv.findContours(segment[:, 1:segment.shape[1]-1], cv.RETR_TREE, cv.CHAIN_APPROX_SIMPLE)\n",
    "\n",
    "    cnt = 0\n",
    "    for c in contours:\n",
    "        if len(c) >= 1:\n",
    "            cnt +=1 \n",
    "    return cnt > 1\n",
    "\n",
    "\n",
    "def check_stroke(no_dots_copy, segment, upper_base, lower_base, SR1, SR2):\n",
    "\n",
    "    T = 1\n",
    "    components, labels, stats, cen= cv.connectedComponentsWithStats(segment, connectivity=8)\n",
    "    skeleton = skeletonize(segment.copy()).astype(np.uint8)\n",
    "    (h, w) = segment.shape\n",
    "\n",
    "    cnt = 0\n",
    "    for label in range(1, components):\n",
    "        if stats[label][4] > 3:\n",
    "            cnt += 1\n",
    "        else:\n",
    "            segment[labels==label] = 0\n",
    "\n",
    "    if cnt > 2 or cnt == 0:\n",
    "        return False\n",
    "\n",
    "    if check_hole(segment) or inside_hole(no_dots_copy, SR1[0], SR1[1]) or inside_hole(no_dots_copy, SR2[0], SR2[1]):\n",
    "        return False\n",
    "\n",
    "    HP = projection(skeleton, 'horizontal')\n",
    "    VP = projection(segment, 'vertical')\n",
    "\n",
    "    seg_l = -1\n",
    "    seg_r = -1\n",
    "    for i in range(0, len(VP)):\n",
    "        if VP[i] != 0:\n",
    "            seg_l = i\n",
    "            break\n",
    "    for i in range(len(VP)-1, -1, -1):\n",
    "        if VP[i] != 0:\n",
    "            seg_r = i\n",
    "            break\n",
    "\n",
    "    seg_width = seg_r - seg_l + 1\n",
    "    SHPA = np.sum(HP[:upper_base])\n",
    "    SHPB = np.sum(HP[lower_base+T+1:])\n",
    "    MFV_HP = np.argmax(np.bincount(HP)[1:])+1\n",
    "    MFV = lower_base - upper_base + 1 + T\n",
    "\n",
    "    top_pixel = -1\n",
    "    for i, proj in enumerate(HP):\n",
    "        if proj != 0:\n",
    "            top_pixel = i\n",
    "            break\n",
    "    height = upper_base-top_pixel\n",
    "    \n",
    "    VT = 0\n",
    "    for i in range(w):\n",
    "        if vertical_transitions(skeleton, i) > 2:\n",
    "            VT += 1\n",
    "    cnt = 0\n",
    "    for proj in VP:\n",
    "        if proj >= height:\n",
    "            cnt += 2\n",
    "        elif proj == height-1:\n",
    "            cnt += 1\n",
    "    # abs(MFV - MFV_HP) <= 2\n",
    "    if SHPB == 0  and height <= 6 and VT <= 2 and seg_width <= 6 and cnt >= 2:\n",
    "        return True\n",
    "\n",
    "    return False\n",
    "\n",
    "\n",
    "def filter_regions(word_img, no_dots_copy, SRL:list, VP:list, upper_base:int, lower_base:int, MTI:int, MFV:int, top_line:int):\n",
    "    \n",
    "    valid_separation_regions = []\n",
    "    overlap = []\n",
    "\n",
    "    T = 1\n",
    "    components, labels= cv.connectedComponents(word_img[:lower_base+5, :], connectivity=8)\n",
    "\n",
    "    SR_idx = 0\n",
    "    while SR_idx < len(SRL):\n",
    "        \n",
    "        SR = SRL[SR_idx]\n",
    "        end_idx, cut_idx, start_idx = SR\n",
    "\n",
    "        # Case 1 : Vertical Projection = 0\n",
    "        if VP[cut_idx] == 0:\n",
    "            valid_separation_regions.append(SR)\n",
    "            SR_idx += 1\n",
    "            continue\n",
    "\n",
    "      # Case 2 : no connected path between start and end\n",
    "        # components, labels= cv.connectedComponents(word_img[:, end_idx:start_idx+1], connectivity=8)\n",
    "        if labels[MTI, end_idx] != labels[MTI, start_idx]:\n",
    "            valid_separation_regions.append(SR)\n",
    "            overlap.append(SR)\n",
    "            SR_idx += 1\n",
    "            continue\n",
    "\n",
    "      \n",
    "\n",
    "        # Case 3 : Contain Holes\n",
    "        # if check_hole(no_dots_copy[:, end_idx: cut_idx]) and inside_hole(no_dots_copy, end_idx, start_idx):\n",
    "        cc, l = cv.connectedComponents(1-(no_dots_copy[:, end_idx:start_idx+1]), connectivity=4)\n",
    "        \n",
    "        if cc-1 >= 3 and inside_hole(no_dots_copy, end_idx, start_idx):\n",
    "            SR_idx += 1\n",
    "            continue\n",
    "       \n",
    "     \n",
    "        # Case 4 : No baseline between start and end\n",
    "        segment = no_dots_copy[:, end_idx+1: start_idx]\n",
    "        segment_width = start_idx-end_idx-1\n",
    "\n",
    "        j = end_idx+1\n",
    "        cnt = 0\n",
    "        while j < start_idx:\n",
    "            \n",
    "            # Black pixel (Discontinuity)\n",
    "            base = upper_base-T\n",
    "            while base <= lower_base+T:\n",
    "                \n",
    "                pixel = no_dots_copy[base][j]\n",
    "                cnt += pixel\n",
    "\n",
    "                base += 1\n",
    "            \n",
    "            j += 1\n",
    "\n",
    "        if cnt < segment_width-2 and segment_width > 4:\n",
    "            \n",
    "            segment_HP = projection(segment, 'horizontal')\n",
    "\n",
    "            SHPA = np.sum(segment_HP[:upper_base])\n",
    "            SHPB = np.sum(segment_HP[lower_base+T+1:])\n",
    "\n",
    "            if (int(SHPB) - int(SHPA)) >= 0:\n",
    "                SR_idx += 1\n",
    "                continue\n",
    "            elif VP[cut_idx] <= MFV + T:\n",
    "                valid_separation_regions.append(SR)\n",
    "                SR_idx += 1\n",
    "                continue\n",
    "            else:\n",
    "                SR_idx += 1\n",
    "                continue\n",
    "\n",
    "      \n",
    "        # if SR_idx == 0:\n",
    "        #     breakpoint()\n",
    "        # Case 5 : Last region or next VP[nextcut] = 0\n",
    "        if SR_idx == len(SRL) - 1 or VP[SRL[SR_idx+1][1]] == 0:\n",
    "\n",
    "            if SR_idx == len(SRL) - 1:\n",
    "                segment_dots = word_img[:, :SRL[SR_idx][1]+1]\n",
    "                segment = no_dots_copy[:, :SRL[SR_idx][1]+1]\n",
    "                next_cut = 0\n",
    "            else:\n",
    "                next_cut = SRL[SR_idx+1][1]\n",
    "                segment_dots = word_img[:, next_cut:SRL[SR_idx][1]+1]\n",
    "                segment = no_dots_copy[:, next_cut:SRL[SR_idx][1]+1]\n",
    "\n",
    "            segment_HP = projection(segment, 'horizontal')\n",
    "            (h, w) = segment.shape\n",
    "\n",
    "            top = -1\n",
    "            for i, proj in enumerate(segment_HP):\n",
    "                if proj != 0:\n",
    "                    top = i\n",
    "                    break\n",
    "            height = upper_base - top\n",
    "\n",
    "            # if SR_idx == len(SRL) - 1:\n",
    "                # breakpoint()\n",
    "            SHPA = np.sum(segment_HP[:upper_base])\n",
    "            SHPB = np.sum(segment_HP[lower_base+T+1:])\n",
    "            sk = skeletonize(segment).astype(np.uint8)\n",
    "            seg_VP = projection(segment, 'vertical')\n",
    "            non_zero =  np.nonzero(seg_VP)[0]\n",
    "            cnt = 0\n",
    "            # for k in range(0, (len(non_zero)//2)+(len(non_zero)%2)):\n",
    "            for k in range(0, 3):\n",
    "                if k >= len(non_zero):\n",
    "                    break\n",
    "                index = non_zero[k]\n",
    "                if seg_VP[index] >= height:\n",
    "                    cnt += 1\n",
    "            \n",
    "            if (SHPB <= 5 and cnt > 0 and height <= 6) or (len(non_zero) >= 10 and SHPB > SHPA and not check_dots(segment_dots)):\n",
    "                SR_idx += 1\n",
    "                continue\n",
    "                \n",
    "        # Strokes \n",
    "\n",
    "        SEGP = (-1, -1)\n",
    "        SEG = (-1, -1)\n",
    "        SEGN = (-1, -1)\n",
    "        SEGNN = (-1, -1)\n",
    "        SEGP_SR1 = (0, 0)\n",
    "        SEGP_SR2 = (0, 0)\n",
    "        SEG_SR1 = (0, 0)\n",
    "        SEG_SR2 = (0, 0)\n",
    "        SEGN_SR1 = (0, 0)\n",
    "        SEGN_SR2 = (0, 0)\n",
    "        SEGNN_SR1 = (0, 0)\n",
    "        SEGNN_SR2 = (0, 0)\n",
    "\n",
    "        current_cut = SR[1]\n",
    "     \n",
    "        if SR_idx == 0:\n",
    "            SEGP = (SRL[SR_idx][1], word_img.shape[1]-1)\n",
    "            SEGP_SR1 = (SRL[SR_idx][0], SRL[SR_idx][2])\n",
    "            SEGP_SR2 = (SRL[SR_idx][1], word_img.shape[1]-1)\n",
    "\n",
    "        if SR_idx > 0:\n",
    "            SEGP = (SRL[SR_idx][1], SRL[SR_idx-1][1])\n",
    "            SEGP_SR1 = (SRL[SR_idx][0], SRL[SR_idx][2])\n",
    "            SEGP_SR2 = (SRL[SR_idx-1][0], SRL[SR_idx-1][2])\n",
    "        \n",
    "        if SR_idx < len(SRL)-1:\n",
    "            SEG = (SRL[SR_idx+1][1], SRL[SR_idx][1])\n",
    "            SEG_SR1 = (SRL[SR_idx][0], SRL[SR_idx][2])\n",
    "            SEG_SR2 = (SRL[SR_idx+1][0], SRL[SR_idx+1][2])\n",
    "\n",
    "        if SR_idx < len(SRL)-2:\n",
    "            SEGN = (SRL[SR_idx+2][1], SRL[SR_idx+1][1])\n",
    "            SEGN_SR1 = (SRL[SR_idx+1][0], SRL[SR_idx+1][2])\n",
    "            SEGN_SR2 = (SRL[SR_idx+2][0], SRL[SR_idx+2][2])\n",
    "        elif SR_idx == len(SRL)-2:\n",
    "            SEGN = (0, SRL[SR_idx+1][1])\n",
    "            SEGN_SR1 = (SRL[SR_idx+1][0], SRL[SR_idx+1][2])\n",
    "            SEGN_SR2 = (0, SRL[SR_idx+1][2])\n",
    "\n",
    "            \n",
    "        if SR_idx < len(SRL)-3:\n",
    "            SEGNN = (SRL[SR_idx+3][1], SRL[SR_idx+2][1])\n",
    "            SEGNN_SR1 = (SRL[SR_idx+2][0], SRL[SR_idx+2][2])\n",
    "            SEGNN_SR2 = (SRL[SR_idx+3][0], SRL[SR_idx+3][2])\n",
    "\n",
    "            \n",
    "        # if SR_idx == 6:\n",
    "        #     breakpoint()\n",
    "        \n",
    "        # SEG is stroke with dots\n",
    "        if SEG[0] != -1 and\\\n",
    "            (check_stroke(no_dots_copy, no_dots_copy[:, SEG[0]:SEG[1]], upper_base, lower_base, SEG_SR1, SEG_SR2) \\\n",
    "            and check_dots(word_img[:, SEG[0]:SEG[1]])):\n",
    "            \n",
    "            # breakpoint()\n",
    "            # Case when starts with ش\n",
    "            if SEGP[0] != -1 and \\\n",
    "                ((check_stroke(no_dots_copy, no_dots_copy[:, SEGP[0]:SEGP[1]], upper_base, lower_base, SEGP_SR1, SEGP_SR2) \\\n",
    "                and not check_dots(word_img[:, SEGP[0]:SEGP[1]]))\\\n",
    "                and (SR_idx == 0 or VP[SRL[SR_idx-1][1]] == 0 or (VP[SRL[SR_idx-1][1]] == 0 and SRL[SR_idx-1] in overlap))):\n",
    "                \n",
    "                SR_idx += 2\n",
    "                continue\n",
    "            else:\n",
    "                valid_separation_regions.append(SR)\n",
    "                SR_idx += 1\n",
    "                continue\n",
    "                \n",
    "        # SEG is stroke without dots\n",
    "        elif SEG[0] != -1\\\n",
    "            and (check_stroke(no_dots_copy, no_dots_copy[:, SEG[0]:SEG[1]], upper_base, lower_base, SEG_SR1, SEG_SR2) \\\n",
    "            and not check_dots(word_img[:, SEG[0]:SEG[1]])):\n",
    "\n",
    "            # Case starts with س\n",
    "            if SEGP[0] != -1\\\n",
    "                and (check_stroke(no_dots_copy, no_dots_copy[:, SEGP[0]:SEGP[1]], upper_base, lower_base, SEGP_SR1, SEGP_SR2) \\\n",
    "                and not check_dots(word_img[:, SEGP[0]:SEGP[1]])):\n",
    "\n",
    "                SR_idx += 2\n",
    "                continue\n",
    "\n",
    "            # SEGN is stroke without dots\n",
    "            if SEGN[0] != -1 \\\n",
    "                and (check_stroke(no_dots_copy, no_dots_copy[:, SEGN[0]:SEGN[1]], upper_base, lower_base, SEGN_SR1, SEGN_SR2) \\\n",
    "                and not check_dots(word_img[:, SEGN[0]:SEGN[1]])):\n",
    "\n",
    "                valid_separation_regions.append(SR)\n",
    "                SR_idx += 3\n",
    "                continue\n",
    "\n",
    "            # SEGN stroke with Dots and SEGNN stroke without Dots\n",
    "            if SEGN[0] != -1\\\n",
    "                and (check_stroke(no_dots_copy, no_dots_copy[:, SEGN[0]:SEGN[1]], upper_base, lower_base, SEGN_SR1, SEGN_SR2) \\\n",
    "                and check_dots(word_img[:, SEGN[0]:SEGN[1]])) \\\n",
    "                and ((SEGNN[0] != -1 \\\n",
    "                and (check_stroke(no_dots_copy, no_dots_copy[:, SEGNN[0]:SEGNN[1]], upper_base, lower_base, SEGNN_SR1, SEGNN_SR2) \\\n",
    "                and not check_dots(word_img[:, SEGNN[0]:SEGNN[1]]))) or (len(SRL)-1-SR_idx == 2) or (len(SRL)-1-SR_idx == 3)):\n",
    "        \n",
    "                    valid_separation_regions.append(SR)\n",
    "                    SR_idx += 3\n",
    "                    continue\n",
    "            \n",
    "            # SEGN is not stroke or Stroke with Dots\n",
    "            if SEGN[0] != -1 \\\n",
    "                and ((not check_stroke(no_dots_copy, no_dots_copy[:, SEGN[0]:SEGN[1]], upper_base, lower_base, SEGN_SR1, SEGN_SR2)) \\\n",
    "                or (check_stroke(no_dots_copy, no_dots_copy[:, SEGN[0]:SEGN[1]], upper_base, lower_base, SEGN_SR1, SEGN_SR2) \\\n",
    "                and check_dots(word_img[:, SEGN[0]:SEGN[1]]))):\n",
    "                    \n",
    "                    SR_idx += 1\n",
    "                    continue\n",
    "            \n",
    "            SR_idx += 1\n",
    "            continue\n",
    "                \n",
    "\n",
    "        if (len(valid_separation_regions) == 0 or\\\n",
    "            len(valid_separation_regions) > 0 and abs(cut_idx-valid_separation_regions[-1][1]) > 2): \n",
    "            valid_separation_regions.append(SR)\n",
    "        SR_idx += 1\n",
    "\n",
    "    return valid_separation_regions\n",
    "\n",
    "\n",
    "def extract_char(img, valid_SR):\n",
    "\n",
    "    # binary image needs to be (0, 255) to be saved on disk not (0, 1)\n",
    "    img = img * 255\n",
    "    h, w = img.shape\n",
    "\n",
    "    next_cut = w\n",
    "    char_imgs = []\n",
    "\n",
    "    for SR in valid_SR:\n",
    "        char_imgs.append(img[:, SR[1]:next_cut])\n",
    "        next_cut = SR[1]\n",
    "    char_imgs.append(img[:, 0:next_cut])\n",
    "\n",
    "    return char_imgs\n",
    "\n",
    "\n",
    "def segment(line, word_img):\n",
    "\n",
    "    # binary_word = binarize(word_img)\n",
    "    binary_word = word_img//255\n",
    "    no_dots_copy = remove_dots(binary_word)\n",
    "\n",
    "    # l = binary_word.copy()\n",
    "\n",
    "    VP_no_dots = projection(no_dots_copy, 'vertical')\n",
    "    VP = projection(binary_word, 'vertical')\n",
    "    binary_word = fill(binary_word, VP_no_dots)\n",
    "    no_dots_copy = remove_dots(binary_word)\n",
    "\n",
    "    # sk = skeletonize(no_dots_copy)\n",
    "    upper_base, lower_base, MFV = baseline_detection(remove_dots(line))\n",
    "    MTI = horizontal_transitions(no_dots_copy, upper_base)\n",
    "        \n",
    "    SRL, wrong = cut_points(binary_word, VP, MFV, MTI, upper_base)\n",
    "\n",
    "    if wrong:\n",
    "        MTI -= 1\n",
    "        SRL.clear()\n",
    "        SRL, wrong = cut_points(binary_word, VP, MFV, MTI, upper_base)\n",
    "\n",
    "    HP = projection(line, 'horizontal')\n",
    "    top_line = -1\n",
    "\n",
    "    valid = filter_regions(binary_word, no_dots_copy, SRL, VP, upper_base, lower_base, MTI, MFV, top_line)\n",
    "\n",
    "    chars = extract_char(binary_word, valid)\n",
    "\n",
    "    return chars\n",
    "\n",
    "\n",
    "# if __name__ == \"__main__\":\n",
    "    \n",
    "#     img = cv.imread('../Dataset/scanned/coct1183.png')\n",
    "#     lines = line_horizontal_projection(img)\n",
    "\n",
    "#     line = lines[0]\n",
    "#     words = word_vertical_projection(line)\n",
    "\n",
    "#     word = words[0]\n",
    "\n",
    "#     cr = segment(line, word)"
   ]
  },
  {
   "cell_type": "code",
   "execution_count": null,
   "id": "74c06ffc",
   "metadata": {},
   "outputs": [],
   "source": []
  },
  {
   "cell_type": "code",
   "execution_count": 15,
   "id": "614bfe46",
   "metadata": {},
   "outputs": [
    {
     "name": "stdout",
     "output_type": "stream",
     "text": [
      "Word: exaple, Suggestions: {'example'}\n",
      "Word: worrds, Suggestions: {'words', 'worlds'}\n",
      "Word: dictionnary, Suggestions: {'dictionary'}\n"
     ]
    }
   ],
   "source": [
    "from spellchecker import SpellChecker\n",
    "\n",
    "spell = SpellChecker()\n",
    "\n",
    "# Add words to the dictionary\n",
    "spell.word_frequency.load_words([ 'words','ind','exaample', 'in', 'dictionary'])\n",
    "\n",
    "# Check spelling and get suggestions\n",
    "misspelled = spell.unknown(['exaple', 'worrds', 'in', 'dictionnary'])\n",
    "for word in misspelled:\n",
    "    suggestions = spell.candidates(word)\n",
    "    print(f\"Word: {word}, Suggestions: {suggestions}\")"
   ]
  },
  {
   "cell_type": "code",
   "execution_count": 1,
   "id": "ab550d1b",
   "metadata": {},
   "outputs": [],
   "source": [
    "import pandas as pd"
   ]
  },
  {
   "cell_type": "code",
   "execution_count": 2,
   "id": "7533f9cc",
   "metadata": {},
   "outputs": [
    {
     "data": {
      "text/plain": [
       "(570747, 2)"
      ]
     },
     "execution_count": 2,
     "metadata": {},
     "output_type": "execute_result"
    }
   ],
   "source": [
    "df=pd.read_csv('f_labels.csv')\n",
    "df.shape"
   ]
  },
  {
   "cell_type": "code",
   "execution_count": 3,
   "id": "820ea8ec",
   "metadata": {},
   "outputs": [
    {
     "data": {
      "text/plain": [
       "(427704, 2)"
      ]
     },
     "execution_count": 3,
     "metadata": {},
     "output_type": "execute_result"
    }
   ],
   "source": [
    "hf=pd.read_csv('labels.csv')\n",
    "hf.shape"
   ]
  },
  {
   "cell_type": "code",
   "execution_count": 4,
   "id": "59de4200",
   "metadata": {},
   "outputs": [],
   "source": [
    "hf['File_Name']=hf['File_Name']+570750"
   ]
  },
  {
   "cell_type": "code",
   "execution_count": 5,
   "id": "1bbb4e3c",
   "metadata": {},
   "outputs": [
    {
     "data": {
      "text/html": [
       "<div>\n",
       "<style scoped>\n",
       "    .dataframe tbody tr th:only-of-type {\n",
       "        vertical-align: middle;\n",
       "    }\n",
       "\n",
       "    .dataframe tbody tr th {\n",
       "        vertical-align: top;\n",
       "    }\n",
       "\n",
       "    .dataframe thead th {\n",
       "        text-align: right;\n",
       "    }\n",
       "</style>\n",
       "<table border=\"1\" class=\"dataframe\">\n",
       "  <thead>\n",
       "    <tr style=\"text-align: right;\">\n",
       "      <th></th>\n",
       "      <th>File_Name</th>\n",
       "      <th>Label</th>\n",
       "    </tr>\n",
       "  </thead>\n",
       "  <tbody>\n",
       "    <tr>\n",
       "      <th>0</th>\n",
       "      <td>570750</td>\n",
       "      <td>ﺗ</td>\n",
       "    </tr>\n",
       "    <tr>\n",
       "      <th>1</th>\n",
       "      <td>570751</td>\n",
       "      <td>ﺮ</td>\n",
       "    </tr>\n",
       "    <tr>\n",
       "      <th>2</th>\n",
       "      <td>570752</td>\n",
       "      <td>ﺍ</td>\n",
       "    </tr>\n",
       "    <tr>\n",
       "      <th>3</th>\n",
       "      <td>570753</td>\n",
       "      <td>ﺟ</td>\n",
       "    </tr>\n",
       "    <tr>\n",
       "      <th>4</th>\n",
       "      <td>570754</td>\n",
       "      <td>ﺎ</td>\n",
       "    </tr>\n",
       "    <tr>\n",
       "      <th>...</th>\n",
       "      <td>...</td>\n",
       "      <td>...</td>\n",
       "    </tr>\n",
       "    <tr>\n",
       "      <th>427699</th>\n",
       "      <td>998449</td>\n",
       "      <td>ﮑ</td>\n",
       "    </tr>\n",
       "    <tr>\n",
       "      <th>427700</th>\n",
       "      <td>998450</td>\n",
       "      <td>ﻔ</td>\n",
       "    </tr>\n",
       "    <tr>\n",
       "      <th>427701</th>\n",
       "      <td>998451</td>\n",
       "      <td>ﺘ</td>\n",
       "    </tr>\n",
       "    <tr>\n",
       "      <th>427702</th>\n",
       "      <td>998452</td>\n",
       "      <td>ﯿ</td>\n",
       "    </tr>\n",
       "    <tr>\n",
       "      <th>427703</th>\n",
       "      <td>998453</td>\n",
       "      <td>ﺪ</td>\n",
       "    </tr>\n",
       "  </tbody>\n",
       "</table>\n",
       "<p>427704 rows × 2 columns</p>\n",
       "</div>"
      ],
      "text/plain": [
       "        File_Name Label\n",
       "0          570750     ﺗ\n",
       "1          570751     ﺮ\n",
       "2          570752     ﺍ\n",
       "3          570753     ﺟ\n",
       "4          570754     ﺎ\n",
       "...           ...   ...\n",
       "427699     998449     ﮑ\n",
       "427700     998450     ﻔ\n",
       "427701     998451     ﺘ\n",
       "427702     998452     ﯿ\n",
       "427703     998453     ﺪ\n",
       "\n",
       "[427704 rows x 2 columns]"
      ]
     },
     "execution_count": 5,
     "metadata": {},
     "output_type": "execute_result"
    }
   ],
   "source": [
    "hf"
   ]
  },
  {
   "cell_type": "code",
   "execution_count": 6,
   "id": "3fe1e1b6",
   "metadata": {},
   "outputs": [],
   "source": [
    "f_df=pd.concat([df,hf])"
   ]
  },
  {
   "cell_type": "code",
   "execution_count": 7,
   "id": "1400389e",
   "metadata": {},
   "outputs": [
    {
     "data": {
      "text/plain": [
       "(998451, 2)"
      ]
     },
     "execution_count": 7,
     "metadata": {},
     "output_type": "execute_result"
    }
   ],
   "source": [
    "f_df.shape"
   ]
  },
  {
   "cell_type": "code",
   "execution_count": 8,
   "id": "6fa844c7",
   "metadata": {},
   "outputs": [
    {
     "data": {
      "text/plain": [
       "File_Name    570749\n",
       "Label             7\n",
       "Name: 570746, dtype: object"
      ]
     },
     "execution_count": 8,
     "metadata": {},
     "output_type": "execute_result"
    }
   ],
   "source": [
    "f_df.loc[570746]"
   ]
  },
  {
   "cell_type": "code",
   "execution_count": 9,
   "id": "231297af",
   "metadata": {},
   "outputs": [],
   "source": [
    "f_df.reset_index(inplace=True,drop=True)"
   ]
  },
  {
   "cell_type": "code",
   "execution_count": 10,
   "id": "c74ca39e",
   "metadata": {},
   "outputs": [
    {
     "data": {
      "text/plain": [
       "File_Name    570750\n",
       "Label             ﺗ\n",
       "Name: 570747, dtype: object"
      ]
     },
     "execution_count": 10,
     "metadata": {},
     "output_type": "execute_result"
    }
   ],
   "source": [
    "f_df.loc[570747]"
   ]
  },
  {
   "cell_type": "code",
   "execution_count": 45,
   "id": "4d6b328a",
   "metadata": {},
   "outputs": [
    {
     "data": {
      "text/plain": [
       "File_Name    998373\n",
       "Label             ﺳ\n",
       "Name: 998370, dtype: object"
      ]
     },
     "execution_count": 45,
     "metadata": {},
     "output_type": "execute_result"
    }
   ],
   "source": [
    "f_df.loc[998370]"
   ]
  },
  {
   "cell_type": "code",
   "execution_count": 11,
   "id": "156fc18a",
   "metadata": {},
   "outputs": [
    {
     "data": {
      "text/plain": [
       "(998451, 2)"
      ]
     },
     "execution_count": 11,
     "metadata": {},
     "output_type": "execute_result"
    }
   ],
   "source": [
    "f_df.shape"
   ]
  },
  {
   "cell_type": "code",
   "execution_count": 12,
   "id": "edcc2c14",
   "metadata": {},
   "outputs": [
    {
     "data": {
      "text/plain": [
       "0         1\n",
       "665657    1\n",
       "665629    1\n",
       "665630    1\n",
       "665631    1\n",
       "         ..\n",
       "332824    1\n",
       "332825    1\n",
       "332826    1\n",
       "332827    1\n",
       "998453    1\n",
       "Name: File_Name, Length: 998451, dtype: int64"
      ]
     },
     "execution_count": 12,
     "metadata": {},
     "output_type": "execute_result"
    }
   ],
   "source": [
    "f_df['File_Name'].value_counts()"
   ]
  },
  {
   "cell_type": "code",
   "execution_count": 13,
   "id": "d906f6a3",
   "metadata": {},
   "outputs": [
    {
     "data": {
      "text/html": [
       "<div>\n",
       "<style scoped>\n",
       "    .dataframe tbody tr th:only-of-type {\n",
       "        vertical-align: middle;\n",
       "    }\n",
       "\n",
       "    .dataframe tbody tr th {\n",
       "        vertical-align: top;\n",
       "    }\n",
       "\n",
       "    .dataframe thead th {\n",
       "        text-align: right;\n",
       "    }\n",
       "</style>\n",
       "<table border=\"1\" class=\"dataframe\">\n",
       "  <thead>\n",
       "    <tr style=\"text-align: right;\">\n",
       "      <th></th>\n",
       "      <th>File_Name</th>\n",
       "      <th>Label</th>\n",
       "    </tr>\n",
       "  </thead>\n",
       "  <tbody>\n",
       "    <tr>\n",
       "      <th>570744</th>\n",
       "      <td>570747</td>\n",
       "      <td>7</td>\n",
       "    </tr>\n",
       "  </tbody>\n",
       "</table>\n",
       "</div>"
      ],
      "text/plain": [
       "        File_Name Label\n",
       "570744     570747     7"
      ]
     },
     "execution_count": 13,
     "metadata": {},
     "output_type": "execute_result"
    }
   ],
   "source": [
    "f_df[f_df['File_Name']==570747]"
   ]
  },
  {
   "cell_type": "code",
   "execution_count": 14,
   "id": "481f1acb",
   "metadata": {},
   "outputs": [
    {
     "data": {
      "text/plain": [
       "168"
      ]
     },
     "execution_count": 14,
     "metadata": {},
     "output_type": "execute_result"
    }
   ],
   "source": [
    "len(f_df['Label'].unique())"
   ]
  },
  {
   "cell_type": "code",
   "execution_count": 15,
   "id": "663e4176",
   "metadata": {},
   "outputs": [
    {
     "data": {
      "text/plain": [
       "array(['ر', 'ا', 'ﯾ', 'ﻧ', 'ﻪ', 'ﻗ', 'ﭘ', 'ن', 'د', 'ﺗ', 'پ', 'ز', 'ﻫ',\n",
       "       'ل', 'ﺳ', 'و', 'م', 'ﺣ', 'ﻣ', 'ط', 'آ', 'ﭼ', 'ﻓ', 'ه', 'ﺑ', 'ی',\n",
       "       'ﮐ', 'ﻟ', 'ژ', 'ﺟ', 'ﺧ', 'ﻻ', 'ﺻ', 'ص', 'ﺷ', 'ت', 'ﮔ', 'ف', 'ک',\n",
       "       'ع', 'ﻌ', 'ﻬ', 'ذ', 'ح', 'س', 'گ', 'خ', 'ش', 'ﺿ', 'ﻋ', 'ب', 'ظ',\n",
       "       'ﻏ', 'ض', 'ق', 'ج', 'چ', 'ﺋ', 'غ', 'ث', 'ﺛ', 'ﻐ', 'ﻳ', 'ﻅ', '7',\n",
       "       '3', '2', '9', '8', '6', '5', '4', '1', '0', 'ﺮ', 'ﺍ', 'ﺎ', 'ﻥ',\n",
       "       'ﺭ', 'ﻭ', 'ﺯ', 'ﺸ', 'ﻖ', 'ﺲ', 'ﻩ', 'ﻞ', 'ﯽ', 'ﻮ', 'ﺵ', 'ﺩ', 'ﺶ',\n",
       "       'ﻡ', 'ﮎ', 'ﻠ', 'ﮏ', 'ﺁ', 'ﺪ', 'ﻢ', 'ﺖ', 'ﻨ', 'ﯿ', 'ﺴ', 'ﻦ', 'ﺠ',\n",
       "       'ﮑ', 'ﺨ', 'ﻤ', 'ﻝ', 'ﺰ', 'ﯼ', 'ﺏ', 'ﻔ', 'ﭻ', 'ﺐ', 'ﻘ', 'ﮓ', 'ﻎ',\n",
       "       'ﻒ', 'ﺘ', 'ﻃ', 'ﻑ', 'ﺤ', 'ﺬ', 'ﺼ', 'ﺒ', 'ﮕ', 'ﭽ', 'ﻕ', 'ﻈ', 'ﺫ',\n",
       "       'ﺚ', 'ﻊ', 'ﮒ', 'ﺡ', 'ﻀ', 'ﭙ', 'ﺥ', 'ﺕ', 'ﻄ', 'ﻼ', 'ﮋ', 'ﺱ', 'ﺞ',\n",
       "       'ﺦ', 'ﺝ', 'ﻂ', 'ﺢ', 'ﻉ', 'ﻍ', 'ﻆ', 'ﻁ', 'ﺜ', 'ﻇ', 'ﭗ', 'ﭺ', 'ﺺ',\n",
       "       'ﺽ', 'ﮊ', 'ﺙ', 'ﺹ', 'ﺾ', 'ﺂ', ' ', 'ﷲ', 'ﻵ', 'ﺉ', 'ﺌ', 'ﭖ'],\n",
       "      dtype=object)"
      ]
     },
     "execution_count": 15,
     "metadata": {},
     "output_type": "execute_result"
    }
   ],
   "source": [
    "f_df['Label'].unique()"
   ]
  },
  {
   "cell_type": "code",
   "execution_count": 16,
   "id": "fc99d9b0",
   "metadata": {},
   "outputs": [
    {
     "data": {
      "text/plain": [
       "File_Name    570749\n",
       "Label             7\n",
       "Name: 570746, dtype: object"
      ]
     },
     "execution_count": 16,
     "metadata": {},
     "output_type": "execute_result"
    }
   ],
   "source": [
    "df.loc[570746]"
   ]
  },
  {
   "cell_type": "code",
   "execution_count": null,
   "id": "6d834a76",
   "metadata": {},
   "outputs": [],
   "source": []
  },
  {
   "cell_type": "code",
   "execution_count": null,
   "id": "3b6f6fca",
   "metadata": {},
   "outputs": [],
   "source": []
  },
  {
   "cell_type": "code",
   "execution_count": null,
   "id": "6dc0c74a",
   "metadata": {},
   "outputs": [],
   "source": []
  },
  {
   "cell_type": "code",
   "execution_count": null,
   "id": "40054fac",
   "metadata": {},
   "outputs": [],
   "source": []
  },
  {
   "cell_type": "code",
   "execution_count": null,
   "id": "8c7b5786",
   "metadata": {},
   "outputs": [],
   "source": []
  },
  {
   "cell_type": "code",
   "execution_count": null,
   "id": "f8c751c8",
   "metadata": {},
   "outputs": [],
   "source": []
  },
  {
   "cell_type": "code",
   "execution_count": null,
   "id": "8c50473d",
   "metadata": {},
   "outputs": [],
   "source": []
  },
  {
   "cell_type": "code",
   "execution_count": null,
   "id": "1496e8b1",
   "metadata": {},
   "outputs": [],
   "source": []
  },
  {
   "cell_type": "code",
   "execution_count": null,
   "id": "075ea0d9",
   "metadata": {},
   "outputs": [],
   "source": [
    "f_df.to_csv('integrate.csv',encoding='utf-8-sig',index=False)"
   ]
  },
  {
   "cell_type": "code",
   "execution_count": null,
   "id": "1fd02452",
   "metadata": {},
   "outputs": [],
   "source": []
  },
  {
   "cell_type": "code",
   "execution_count": null,
   "id": "5d8371f8",
   "metadata": {},
   "outputs": [],
   "source": []
  },
  {
   "cell_type": "code",
   "execution_count": null,
   "id": "16734486",
   "metadata": {},
   "outputs": [],
   "source": []
  }
 ],
 "metadata": {
  "kernelspec": {
   "display_name": "Python 3 (ipykernel)",
   "language": "python",
   "name": "python3"
  },
  "language_info": {
   "codemirror_mode": {
    "name": "ipython",
    "version": 3
   },
   "file_extension": ".py",
   "mimetype": "text/x-python",
   "name": "python",
   "nbconvert_exporter": "python",
   "pygments_lexer": "ipython3",
   "version": "3.10.7"
  }
 },
 "nbformat": 4,
 "nbformat_minor": 5
}
