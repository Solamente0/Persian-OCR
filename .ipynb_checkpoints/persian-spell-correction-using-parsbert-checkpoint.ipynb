{
 "cells": [
  {
   "cell_type": "code",
   "execution_count": 1,
   "id": "589966fd",
   "metadata": {
    "execution": {
     "iopub.execute_input": "2023-07-04T11:24:55.911390Z",
     "iopub.status.busy": "2023-07-04T11:24:55.910944Z",
     "iopub.status.idle": "2023-07-04T11:24:57.853301Z",
     "shell.execute_reply": "2023-07-04T11:24:57.852022Z"
    },
    "papermill": {
     "duration": 1.969274,
     "end_time": "2023-07-04T11:24:57.856661",
     "exception": false,
     "start_time": "2023-07-04T11:24:55.887387",
     "status": "completed"
    },
    "tags": []
   },
   "outputs": [],
   "source": [
    "import hazm\n",
    "from collections import Counter\n",
    "import re"
   ]
  },
  {
   "cell_type": "markdown",
   "id": "14942b46",
   "metadata": {
    "papermill": {
     "duration": 0.02155,
     "end_time": "2023-07-04T11:24:58.001655",
     "exception": false,
     "start_time": "2023-07-04T11:24:57.980105",
     "status": "completed"
    },
    "tags": []
   },
   "source": [
    "Clean the text by normalizing and removing punctuations. "
   ]
  },
  {
   "cell_type": "code",
   "execution_count": 2,
   "id": "4348960b",
   "metadata": {
    "execution": {
     "iopub.execute_input": "2023-07-04T11:24:58.048452Z",
     "iopub.status.busy": "2023-07-04T11:24:58.047817Z",
     "iopub.status.idle": "2023-07-04T11:24:58.475512Z",
     "shell.execute_reply": "2023-07-04T11:24:58.474265Z"
    },
    "papermill": {
     "duration": 0.454746,
     "end_time": "2023-07-04T11:24:58.478572",
     "exception": false,
     "start_time": "2023-07-04T11:24:58.023826",
     "status": "completed"
    },
    "tags": []
   },
   "outputs": [],
   "source": [
    "normalizer = hazm.Normalizer()\n",
    "tokenizer = hazm.WordTokenizer()\n",
    "\n",
    "def clean_text(text, output='word'):\n",
    "    \"\"\"\n",
    "    Cleans and tokenizes the input text using the Hazm library.\n",
    "    \n",
    "    Args:\n",
    "        text (str): The input text as a string.\n",
    "        output (str): Optional string parameter, either 'word' (default) or 'sentence'.\n",
    "    \n",
    "    Returns:\n",
    "        A list of words or a sentence, depending on the value of 'output'.\n",
    "    \"\"\"\n",
    "    normalized_text = normalizer.normalize(text)\n",
    "    punc_removed = re.sub(r'[^\\w\\s]', '', normalized_text)\n",
    "    cleaned_text = tokenizer.tokenize(punc_removed)\n",
    "    if output == 'word':\n",
    "        return cleaned_text\n",
    "    else:\n",
    "        return ' '.join(cleaned_text)"
   ]
  },
  {
   "cell_type": "code",
   "execution_count": 3,
   "id": "0da11171",
   "metadata": {
    "execution": {
     "iopub.execute_input": "2023-07-04T11:24:58.524087Z",
     "iopub.status.busy": "2023-07-04T11:24:58.523675Z",
     "iopub.status.idle": "2023-07-04T11:24:58.528809Z",
     "shell.execute_reply": "2023-07-04T11:24:58.527628Z"
    },
    "papermill": {
     "duration": 0.030776,
     "end_time": "2023-07-04T11:24:58.531184",
     "exception": false,
     "start_time": "2023-07-04T11:24:58.500408",
     "status": "completed"
    },
    "tags": []
   },
   "outputs": [],
   "source": [
    "DATA_FILE_PATH = \"C:/Users/Mostafa/Desktop/Persian-OCR/Persian-WikiText-1.txt\""
   ]
  },
  {
   "cell_type": "code",
   "execution_count": 4,
   "id": "8eb4c4e8",
   "metadata": {
    "execution": {
     "iopub.execute_input": "2023-07-04T11:24:58.577454Z",
     "iopub.status.busy": "2023-07-04T11:24:58.577055Z",
     "iopub.status.idle": "2023-07-04T11:24:58.582565Z",
     "shell.execute_reply": "2023-07-04T11:24:58.581137Z"
    },
    "papermill": {
     "duration": 0.031853,
     "end_time": "2023-07-04T11:24:58.585134",
     "exception": false,
     "start_time": "2023-07-04T11:24:58.553281",
     "status": "completed"
    },
    "tags": []
   },
   "outputs": [],
   "source": [
    "def load_data(file_path):\n",
    "    with open(file_path, encoding='utf-8') as file:\n",
    "        return file.read()"
   ]
  },
  {
   "cell_type": "markdown",
   "id": "3ed4e0e3",
   "metadata": {
    "papermill": {
     "duration": 0.021338,
     "end_time": "2023-07-04T11:24:58.629401",
     "exception": false,
     "start_time": "2023-07-04T11:24:58.608063",
     "status": "completed"
    },
    "tags": []
   },
   "source": [
    "Extract all the words in Wikipeda corpus."
   ]
  },
  {
   "cell_type": "code",
   "execution_count": 5,
   "id": "005c108a",
   "metadata": {
    "execution": {
     "iopub.execute_input": "2023-07-04T11:24:58.675849Z",
     "iopub.status.busy": "2023-07-04T11:24:58.674571Z",
     "iopub.status.idle": "2023-07-04T11:26:24.682983Z",
     "shell.execute_reply": "2023-07-04T11:26:24.681531Z"
    },
    "papermill": {
     "duration": 86.035476,
     "end_time": "2023-07-04T11:26:24.686775",
     "exception": false,
     "start_time": "2023-07-04T11:24:58.651299",
     "status": "completed"
    },
    "tags": []
   },
   "outputs": [],
   "source": [
    "wikipedia = load_data(DATA_FILE_PATH)\n",
    "wikipedia_words = clean_text(wikipedia)"
   ]
  },
  {
   "cell_type": "code",
   "execution_count": 38,
   "id": "1f63f3fa",
   "metadata": {},
   "outputs": [],
   "source": [
    "wikipedia_words.append('قوچان')"
   ]
  },
  {
   "cell_type": "markdown",
   "id": "4d20acc3",
   "metadata": {
    "papermill": {
     "duration": 0.021295,
     "end_time": "2023-07-04T11:26:24.734734",
     "exception": false,
     "start_time": "2023-07-04T11:26:24.713439",
     "status": "completed"
    },
    "tags": []
   },
   "source": [
    "Modified version of Norvig spell checker that uses word frequency for generating candidates."
   ]
  },
  {
   "cell_type": "code",
   "execution_count": 6,
   "id": "349eff92",
   "metadata": {
    "execution": {
     "iopub.execute_input": "2023-07-04T11:26:24.779970Z",
     "iopub.status.busy": "2023-07-04T11:26:24.779523Z",
     "iopub.status.idle": "2023-07-04T11:26:25.049582Z",
     "shell.execute_reply": "2023-07-04T11:26:25.048579Z"
    },
    "papermill": {
     "duration": 0.295938,
     "end_time": "2023-07-04T11:26:25.052165",
     "exception": false,
     "start_time": "2023-07-04T11:26:24.756227",
     "status": "completed"
    },
    "tags": []
   },
   "outputs": [],
   "source": [
    "class NorvigSpellChecker:\n",
    "    def __init__(self, words):\n",
    "        self.WORDS = Counter(words)\n",
    "        self.N = sum(self.WORDS.values())\n",
    "        self.letters = 'آابپتثجچحخدذرزژسشصضطظعغفقکگلمنوهی'\n",
    "\n",
    "    def P(self, word):\n",
    "        \"Probability of word.\"\n",
    "        return self.WORDS[word] / self.N\n",
    "\n",
    "    def correction(self, word):\n",
    "        \"Most probable spelling correction for word.\"\n",
    "        return max(self.word_pool(word), key=self.P)\n",
    "\n",
    "    def word_pool(self, word):\n",
    "        \"Generate a pool of possible words.\"\n",
    "        return (self.known([word]) or self.known(self.edits1(word)) or self.known(self.edits2(word)) or [word])\n",
    "    \n",
    "    def candidates(self, word):\n",
    "        \"Generate possible spelling corrections for word.\"\n",
    "        if self.WORDS[word] < 30 or len(word) == 1 and word not in hazm.stopwords_list():\n",
    "            candidates_list = list(self.known(self.edits1(word)))\n",
    "            candidates_list.sort(key=self.P, reverse=True)\n",
    "            return candidates_list\n",
    "        else:\n",
    "            return word\n",
    "\n",
    "    def known(self, words):\n",
    "        \"The subset of words that appear in the dictionary of WORDS.\"\n",
    "        return set(w for w in words if w in self.WORDS)\n",
    "\n",
    "    def edits1(self, word):\n",
    "        \"All edits that are one edit away from word.\"\n",
    "        splits = [(word[:i], word[i:]) for i in range(len(word) + 1)]\n",
    "        deletes = [L + R[1:] for L, R in splits if R]\n",
    "        transposes = [L + R[1] + R[0] + R[2:] for L, R in splits if len(R) > 1]\n",
    "        replaces = [L + c + R[1:] for L, R in splits if R for c in self.letters]\n",
    "        inserts = [L + c + R for L, R in splits for c in self.letters]\n",
    "        return set(deletes + transposes + replaces + inserts)\n",
    "\n",
    "    def edits2(self, word):\n",
    "        \"All edits that are two edits away from word.\"\n",
    "        return (e2 for e1 in self.edits1(word) for e2 in self.edits1(e1))\n"
   ]
  },
  {
   "cell_type": "markdown",
   "id": "73b5f886",
   "metadata": {
    "papermill": {
     "duration": 0.021833,
     "end_time": "2023-07-04T11:26:25.096159",
     "exception": false,
     "start_time": "2023-07-04T11:26:25.074326",
     "status": "completed"
    },
    "tags": []
   },
   "source": [
    "Initialize NorvigSpellChecker using Wikipedia vocab."
   ]
  },
  {
   "cell_type": "code",
   "execution_count": 7,
   "id": "20a431f3",
   "metadata": {
    "execution": {
     "iopub.execute_input": "2023-07-04T11:26:25.142516Z",
     "iopub.status.busy": "2023-07-04T11:26:25.141779Z",
     "iopub.status.idle": "2023-07-04T11:26:27.670481Z",
     "shell.execute_reply": "2023-07-04T11:26:27.669204Z"
    },
    "papermill": {
     "duration": 2.555158,
     "end_time": "2023-07-04T11:26:27.673487",
     "exception": false,
     "start_time": "2023-07-04T11:26:25.118329",
     "status": "completed"
    },
    "tags": []
   },
   "outputs": [],
   "source": [
    "spl = NorvigSpellChecker(wikipedia_words)"
   ]
  },
  {
   "cell_type": "markdown",
   "id": "62d8a1cd",
   "metadata": {
    "papermill": {
     "duration": 0.021514,
     "end_time": "2023-07-04T11:26:27.716883",
     "exception": false,
     "start_time": "2023-07-04T11:26:27.695369",
     "status": "completed"
    },
    "tags": []
   },
   "source": [
    "Use ParsBERT model to fill the masked tokens in a given sentence."
   ]
  },
  {
   "cell_type": "code",
   "execution_count": 8,
   "id": "7b94ffd5",
   "metadata": {
    "execution": {
     "iopub.execute_input": "2023-07-04T11:26:27.762402Z",
     "iopub.status.busy": "2023-07-04T11:26:27.761955Z",
     "iopub.status.idle": "2023-07-04T11:26:43.936512Z",
     "shell.execute_reply": "2023-07-04T11:26:43.935313Z"
    },
    "papermill": {
     "duration": 16.200848,
     "end_time": "2023-07-04T11:26:43.939514",
     "exception": false,
     "start_time": "2023-07-04T11:26:27.738666",
     "status": "completed"
    },
    "tags": []
   },
   "outputs": [],
   "source": [
    "import torch\n",
    "from transformers import BertTokenizer, BertModel, BertForMaskedLM\n",
    "\n",
    "class MaskedSentencePredictor:\n",
    "    def __init__(self):\n",
    "        self.tokenizer = BertTokenizer.from_pretrained('HooshvareLab/bert-fa-base-uncased')\n",
    "        self.model = BertForMaskedLM.from_pretrained('HooshvareLab/bert-fa-base-uncased')\n",
    "        self.model.eval()\n",
    "        # self.model.to('cuda')\n",
    "\n",
    "    def predict_masked_sent(self, text, top_k=5):\n",
    "        \"\"\"\n",
    "        Predicts the top-k most likely tokens to fill in a masked token in the input text using the pre-trained\n",
    "        BERT-based model.\n",
    "\n",
    "        Args:\n",
    "            text (str): A string representing the input text with a [MASK] token to be filled in.\n",
    "            top_k (int): An integer representing the number of top predictions to return.\n",
    "\n",
    "        Returns:\n",
    "            A list of the top-k most likely tokens to fill in the [MASK] token in the input text.\n",
    "        \"\"\"\n",
    "        # Tokenize the input text\n",
    "        text = \"[CLS] %s [SEP]\" % text\n",
    "        tokenized_text = self.tokenizer.tokenize(text)\n",
    "        masked_index = tokenized_text.index(\"[MASK]\")\n",
    "        indexed_tokens = self.tokenizer.convert_tokens_to_ids(tokenized_text)\n",
    "        tokens_tensor = torch.tensor([indexed_tokens])\n",
    "        # tokens_tensor = tokens_tensor.to('cuda') \n",
    "\n",
    "        # Make predictions\n",
    "        with torch.no_grad():\n",
    "            outputs = self.model(tokens_tensor)\n",
    "            predictions = outputs[0]\n",
    "\n",
    "        # Get the top-k most likely tokens and their associated weights\n",
    "        probs = torch.nn.functional.softmax(predictions[0, masked_index], dim=-1)\n",
    "        top_k_weights, top_k_indices = torch.topk(probs, top_k, sorted=True)\n",
    "\n",
    "        # Convert the predicted token indices to actual tokens and return them\n",
    "        mighty_tokens = []\n",
    "        for i, pred_idx in enumerate(top_k_indices):\n",
    "            predicted_token = self.tokenizer.convert_ids_to_tokens([pred_idx])[0]\n",
    "            token_weight = top_k_weights[i]\n",
    "            mighty_tokens.append(predicted_token)\n",
    "        return mighty_tokens"
   ]
  },
  {
   "cell_type": "code",
   "execution_count": 9,
   "id": "83fc7592",
   "metadata": {
    "execution": {
     "iopub.execute_input": "2023-07-04T11:26:43.986103Z",
     "iopub.status.busy": "2023-07-04T11:26:43.985633Z",
     "iopub.status.idle": "2023-07-04T11:26:53.555390Z",
     "shell.execute_reply": "2023-07-04T11:26:53.554310Z"
    },
    "papermill": {
     "duration": 9.596742,
     "end_time": "2023-07-04T11:26:53.558335",
     "exception": false,
     "start_time": "2023-07-04T11:26:43.961593",
     "status": "completed"
    },
    "tags": []
   },
   "outputs": [
    {
     "name": "stderr",
     "output_type": "stream",
     "text": [
      "Some weights of the model checkpoint at HooshvareLab/bert-fa-base-uncased were not used when initializing BertForMaskedLM: ['bert.pooler.dense.weight', 'bert.pooler.dense.bias', 'cls.seq_relationship.weight', 'cls.seq_relationship.bias']\n",
      "- This IS expected if you are initializing BertForMaskedLM from the checkpoint of a model trained on another task or with another architecture (e.g. initializing a BertForSequenceClassification model from a BertForPreTraining model).\n",
      "- This IS NOT expected if you are initializing BertForMaskedLM from the checkpoint of a model that you expect to be exactly identical (initializing a BertForSequenceClassification model from a BertForSequenceClassification model).\n"
     ]
    }
   ],
   "source": [
    "bert_predictor = MaskedSentencePredictor()"
   ]
  },
  {
   "cell_type": "markdown",
   "id": "5a6f4258",
   "metadata": {
    "papermill": {
     "duration": 0.023206,
     "end_time": "2023-07-04T11:26:54.008457",
     "exception": false,
     "start_time": "2023-07-04T11:26:53.985251",
     "status": "completed"
    },
    "tags": []
   },
   "source": [
    "The main function that combines NorvigSpellChecker and ParsBERT to generate the correct sentence.\n",
    "We first check for OOV (Out Of Vocabulary) words and mask them, then predict the mask using bert.\n",
    "We do the same to homophones, if our sentence includes a homophone word, we mask it to check if the word is correct."
   ]
  },
  {
   "cell_type": "code",
   "execution_count": 10,
   "id": "ae6ff37e",
   "metadata": {
    "execution": {
     "iopub.execute_input": "2023-07-04T11:26:54.056638Z",
     "iopub.status.busy": "2023-07-04T11:26:54.055837Z",
     "iopub.status.idle": "2023-07-04T11:26:54.068758Z",
     "shell.execute_reply": "2023-07-04T11:26:54.067422Z"
    },
    "papermill": {
     "duration": 0.039808,
     "end_time": "2023-07-04T11:26:54.071242",
     "exception": false,
     "start_time": "2023-07-04T11:26:54.031434",
     "status": "completed"
    },
    "tags": []
   },
   "outputs": [],
   "source": [
    "def correct_spelling(sentence):\n",
    "    \"\"\"\n",
    "    Corrects the spelling of a given sentence.\n",
    "\n",
    "    Args:\n",
    "        sentence (str): A string representing the input sentence to correct.\n",
    "\n",
    "    Returns:\n",
    "        A string representing the corrected sentence.\n",
    "    \"\"\"\n",
    "    \n",
    "    # Split the sentence into words and clean it\n",
    "    words = clean_text(sentence)\n",
    "\n",
    "    # Check each word for spelling errors\n",
    "    for i, word in enumerate(words):\n",
    "        # If the word is spelled correctly, keep it\n",
    "        if word == spl.candidates(word):\n",
    "            continue\n",
    "        # Otherwise, replace it with a mask and predict the correct spelling\n",
    "        else:\n",
    "            words[i] = \"[MASK]\"\n",
    "            masked_sentence = ' '.join(words)\n",
    "            preds = bert_predictor.predict_masked_sent(masked_sentence, top_k=500)\n",
    "            norvig_cands = spl.candidates(word)\n",
    "            first_match = next((element for element in preds if element in norvig_cands), None)\n",
    "\n",
    "            # If a correct spelling is found, replace the mask with the correct spelling\n",
    "            if first_match:\n",
    "                words[i] = first_match\n",
    "            else:\n",
    "                words[i] = spl.correction(word)\n",
    "                \n",
    "    corrected_sentence = ' '.join(words)\n",
    "    \n",
    "    return corrected_sentence"
   ]
  },
  {
   "cell_type": "markdown",
   "id": "bc6862a6",
   "metadata": {
    "papermill": {
     "duration": 0.022762,
     "end_time": "2023-07-04T11:26:54.117499",
     "exception": false,
     "start_time": "2023-07-04T11:26:54.094737",
     "status": "completed"
    },
    "tags": []
   },
   "source": [
    "### Evaluation"
   ]
  },
  {
   "cell_type": "code",
   "execution_count": 11,
   "id": "d7dba81c",
   "metadata": {
    "execution": {
     "iopub.execute_input": "2023-07-04T11:26:54.166905Z",
     "iopub.status.busy": "2023-07-04T11:26:54.166479Z",
     "iopub.status.idle": "2023-07-04T11:26:54.375301Z",
     "shell.execute_reply": "2023-07-04T11:26:54.374483Z"
    },
    "papermill": {
     "duration": 0.235634,
     "end_time": "2023-07-04T11:26:54.377654",
     "exception": false,
     "start_time": "2023-07-04T11:26:54.142020",
     "status": "completed"
    },
    "tags": []
   },
   "outputs": [
    {
     "data": {
      "text/plain": [
       "'سارا در حیات خانه مشغول بازی است'"
      ]
     },
     "execution_count": 11,
     "metadata": {},
     "output_type": "execute_result"
    }
   ],
   "source": [
    "correct_spelling('سارا در حیات خانه مشقول بازی است')"
   ]
  },
  {
   "cell_type": "code",
   "execution_count": 12,
   "id": "50fcb066",
   "metadata": {},
   "outputs": [
    {
     "data": {
      "text/plain": [
       "'دوران'"
      ]
     },
     "execution_count": 12,
     "metadata": {},
     "output_type": "execute_result"
    }
   ],
   "source": [
    "correct_spelling('ﻗوﭼان')"
   ]
  },
  {
   "cell_type": "code",
   "execution_count": 40,
   "id": "de7630b9",
   "metadata": {},
   "outputs": [
    {
     "data": {
      "text/plain": [
       "'روس داﻧﺷﮔاه ﺣﻧﻗم دوران یا زبان اﯾﻧﮐﻪ ان ﻓﯾﻟم کوتاه راوی شهر در ﭼﻬارﺑﯾنی رویداد ﺑﯾناﻟﻣﻟدی ﻓﯾﻟم کوتاه دﻧﺻوﯾر دکمه آﻣادهﺷده است'"
      ]
     },
     "execution_count": 40,
     "metadata": {},
     "output_type": "execute_result"
    }
   ],
   "source": [
    "correct_spelling('رﯾﯾس داﻧﺷﮔاه ﺣﻧﻗم ﻗوﭼان ﺑا ﺑﯾان اﯾﻧﮐﻪ اﯾن ﻓﯾﻟم ﮐوﺗاه ﺑراوی ﺣﻓهر در ﭼﻬارﺑﯾنی روﯾداد ﺑﯾناﻟﻣﻟدی ﻓﯾﻟم ﮐوﺗاه دﻧﺻوﯾر دﻫمه آﻣادهﺷده اﺑت')"
   ]
  },
  {
   "cell_type": "code",
   "execution_count": 29,
   "id": "e1157c7f",
   "metadata": {},
   "outputs": [
    {
     "data": {
      "text/plain": [
       "'این'"
      ]
     },
     "execution_count": 29,
     "metadata": {},
     "output_type": "execute_result"
    }
   ],
   "source": [
    "correct_spelling('این')"
   ]
  },
  {
   "cell_type": "code",
   "execution_count": 30,
   "id": "2fc66a78",
   "metadata": {},
   "outputs": [
    {
     "data": {
      "text/plain": [
       "'رییس داﻧﺷﮔاه ﺣﻧﻗم دوران یا میان ایﻧﮐﻪ این فیلم کوتاه راوی شهر در ﭼﻬارﺑینی رویداد ﺑیناﻟﻣﻟدی فیلم کوتاه دلاویر دکمه آﻣادهﺷده است'"
      ]
     },
     "execution_count": 30,
     "metadata": {},
     "output_type": "execute_result"
    }
   ],
   "source": [
    "correct_spelling('رییس داﻧﺷﮔاه ﺣﻧﻗم ﻗوﭼان ﺑا ﺑیان ایﻧﮐﻪ این ﻓیﻟم ﮐوﺗاه ﺑراوی ﺣﻓهر در ﭼﻬارﺑینی رویداد ﺑیناﻟﻣﻟدی ﻓیﻟم ﮐوﺗاه دﻧﺻویر دﻫمه آﻣادهﺷده اﺑت')"
   ]
  },
  {
   "cell_type": "code",
   "execution_count": 13,
   "id": "b74dc5ef",
   "metadata": {},
   "outputs": [
    {
     "data": {
      "text/plain": [
       "'رییس دانشگاه ننقم قوچان با بیان اینکه این فیلم کوتاه برای حفر در چهاربیتی رویداد بینالمللی فیلم کوتاه تصویر همه آزادشده است'"
      ]
     },
     "execution_count": 13,
     "metadata": {},
     "output_type": "execute_result"
    }
   ],
   "source": [
    "correct_spelling('رییس دانشگاه حنقم قوچان با بیان اینکه این فیلم کوتاه براوی حفهر در چهاربینی رویداد بینالملدی فیلم کوتاه دنصویر دهمه آمادهشده ابت')"
   ]
  },
  {
   "cell_type": "code",
   "execution_count": 32,
   "id": "04239766",
   "metadata": {},
   "outputs": [
    {
     "data": {
      "text/plain": [
       "'سهم هر هندی هستم'"
      ]
     },
     "execution_count": 32,
     "metadata": {},
     "output_type": "execute_result"
    }
   ],
   "source": [
    "correct_spelling('سهضم هر هصدی هستم')"
   ]
  },
  {
   "cell_type": "code",
   "execution_count": 15,
   "id": "f2e539dd",
   "metadata": {},
   "outputs": [
    {
     "data": {
      "text/plain": [
       "'الماس خمریه یه با لنرت شبانه خوب یا تیان کوتاه از ین رها در واقع یه جا حساس نظم تمدن و برابر یار زید و یا استرسهای چی در عمل یار متون بره و شما رو به نقطهای نمونه که فو سپید دیگه گتوند داره باید مر ل شی ای یاردیان همه زمان بدون ر مغز کار و هم یاران نمکها اما فریون فی از ین فرار مش جن بد احساس خم جمح کم و که حساس موفقیت دارد سامان بهداشت دهی شوی را یک در شی اعلام کردم طی مقطعات فقط در آمریکا فرسودگی شری سازنه بعد از میلاد در ضرر یاد ش ک یک سوم لامرد در آمبرلا بوی فی و جبه وکیل تقریبا یک چهارم قطب یا همیشه چنین حسی دارند'"
      ]
     },
     "execution_count": 15,
     "metadata": {},
     "output_type": "execute_result"
    }
   ],
   "source": [
    "correct_spelling('اهماس خمئیه یه با لنرصت شثبانه خوب یا تطیالن کوناه از ین یرها در واقع یه جر حساس نمظم تتدن ا ببابر یار زید و یا اسنرسرهای چی در معل یار متونه بسه و شما رو به نفطهای یمونه که فو هپید دیئه یتوند دامه بدید ر ه شفی گای یارددان همه زمان خدشون ر مغط کار ب هف یارلرن نمکنا اما فریونث ثفی از ین فرار سش جن فبد احسطس خمف جمح یم و کهش حساس موفیت دارد سبمان بهداشت چهی فشوی را یک درم شی اعفﻻم کردم طغ مطقعاتث فقط در آمریکا فمسودای ششی ساﻻنه بعب از میلیاد دﻻر ضرر یتد پش ت یک سوم لارمدا در آمربلا فبوی شفی ب ثجبه وکدل تقبیبا یح چهارم قدب یا همیبه چیین بحسی دارند')"
   ]
  },
  {
   "cell_type": "code",
   "execution_count": null,
   "id": "b11bc6d9",
   "metadata": {},
   "outputs": [],
   "source": []
  },
  {
   "cell_type": "code",
   "execution_count": null,
   "id": "a8fbbea7",
   "metadata": {},
   "outputs": [],
   "source": []
  },
  {
   "cell_type": "code",
   "execution_count": null,
   "id": "b4cc2f8a",
   "metadata": {},
   "outputs": [],
   "source": []
  },
  {
   "cell_type": "code",
   "execution_count": null,
   "id": "09b6c6e0",
   "metadata": {},
   "outputs": [],
   "source": []
  },
  {
   "cell_type": "code",
   "execution_count": null,
   "id": "feeecf0f",
   "metadata": {},
   "outputs": [],
   "source": []
  }
 ],
 "metadata": {
  "kernelspec": {
   "display_name": "Python 3 (ipykernel)",
   "language": "python",
   "name": "python3"
  },
  "language_info": {
   "codemirror_mode": {
    "name": "ipython",
    "version": 3
   },
   "file_extension": ".py",
   "mimetype": "text/x-python",
   "name": "python",
   "nbconvert_exporter": "python",
   "pygments_lexer": "ipython3",
   "version": "3.10.7"
  },
  "papermill": {
   "default_parameters": {},
   "duration": 248.941747,
   "end_time": "2023-07-04T11:28:23.955885",
   "environment_variables": {},
   "exception": null,
   "input_path": "__notebook__.ipynb",
   "output_path": "__notebook__.ipynb",
   "parameters": {},
   "start_time": "2023-07-04T11:24:15.014138",
   "version": "2.4.0"
  },
  "widgets": {
   "application/vnd.jupyter.widget-state+json": {
    "state": {
     "0dfbd813a6244c348739419ecd9244d4": {
      "model_module": "@jupyter-widgets/controls",
      "model_module_version": "1.5.0",
      "model_name": "FloatProgressModel",
      "state": {
       "_dom_classes": [],
       "_model_module": "@jupyter-widgets/controls",
       "_model_module_version": "1.5.0",
       "_model_name": "FloatProgressModel",
       "_view_count": null,
       "_view_module": "@jupyter-widgets/controls",
       "_view_module_version": "1.5.0",
       "_view_name": "ProgressView",
       "bar_style": "success",
       "description": "",
       "description_tooltip": null,
       "layout": "IPY_MODEL_aff797c7f2f34c21b9abeeb32d1e3c7f",
       "max": 1198122,
       "min": 0,
       "orientation": "horizontal",
       "style": "IPY_MODEL_8fb002268db24eb985474bb188d432cd",
       "value": 1198122
      }
     },
     "20fb9a412dca44c68c90113624d3248b": {
      "model_module": "@jupyter-widgets/controls",
      "model_module_version": "1.5.0",
      "model_name": "DescriptionStyleModel",
      "state": {
       "_model_module": "@jupyter-widgets/controls",
       "_model_module_version": "1.5.0",
       "_model_name": "DescriptionStyleModel",
       "_view_count": null,
       "_view_module": "@jupyter-widgets/base",
       "_view_module_version": "1.2.0",
       "_view_name": "StyleView",
       "description_width": ""
      }
     },
     "213d6d297499490e979be85eca3eda71": {
      "model_module": "@jupyter-widgets/controls",
      "model_module_version": "1.5.0",
      "model_name": "HTMLModel",
      "state": {
       "_dom_classes": [],
       "_model_module": "@jupyter-widgets/controls",
       "_model_module_version": "1.5.0",
       "_model_name": "HTMLModel",
       "_view_count": null,
       "_view_module": "@jupyter-widgets/controls",
       "_view_module_version": "1.5.0",
       "_view_name": "HTMLView",
       "description": "",
       "description_tooltip": null,
       "layout": "IPY_MODEL_e206fa7c82104bd6bed5be4d55cff064",
       "placeholder": "​",
       "style": "IPY_MODEL_eee59147bc06423d855ff0e9a1e01777",
       "value": "Downloading (…)lve/main/config.json: 100%"
      }
     },
     "2b2e612eb7614ef799827e4fb5a424b7": {
      "model_module": "@jupyter-widgets/base",
      "model_module_version": "1.2.0",
      "model_name": "LayoutModel",
      "state": {
       "_model_module": "@jupyter-widgets/base",
       "_model_module_version": "1.2.0",
       "_model_name": "LayoutModel",
       "_view_count": null,
       "_view_module": "@jupyter-widgets/base",
       "_view_module_version": "1.2.0",
       "_view_name": "LayoutView",
       "align_content": null,
       "align_items": null,
       "align_self": null,
       "border": null,
       "bottom": null,
       "display": null,
       "flex": null,
       "flex_flow": null,
       "grid_area": null,
       "grid_auto_columns": null,
       "grid_auto_flow": null,
       "grid_auto_rows": null,
       "grid_column": null,
       "grid_gap": null,
       "grid_row": null,
       "grid_template_areas": null,
       "grid_template_columns": null,
       "grid_template_rows": null,
       "height": null,
       "justify_content": null,
       "justify_items": null,
       "left": null,
       "margin": null,
       "max_height": null,
       "max_width": null,
       "min_height": null,
       "min_width": null,
       "object_fit": null,
       "object_position": null,
       "order": null,
       "overflow": null,
       "overflow_x": null,
       "overflow_y": null,
       "padding": null,
       "right": null,
       "top": null,
       "visibility": null,
       "width": null
      }
     },
     "2bf1f91e2ed84590a0c88ebad28a6df0": {
      "model_module": "@jupyter-widgets/base",
      "model_module_version": "1.2.0",
      "model_name": "LayoutModel",
      "state": {
       "_model_module": "@jupyter-widgets/base",
       "_model_module_version": "1.2.0",
       "_model_name": "LayoutModel",
       "_view_count": null,
       "_view_module": "@jupyter-widgets/base",
       "_view_module_version": "1.2.0",
       "_view_name": "LayoutView",
       "align_content": null,
       "align_items": null,
       "align_self": null,
       "border": null,
       "bottom": null,
       "display": null,
       "flex": null,
       "flex_flow": null,
       "grid_area": null,
       "grid_auto_columns": null,
       "grid_auto_flow": null,
       "grid_auto_rows": null,
       "grid_column": null,
       "grid_gap": null,
       "grid_row": null,
       "grid_template_areas": null,
       "grid_template_columns": null,
       "grid_template_rows": null,
       "height": null,
       "justify_content": null,
       "justify_items": null,
       "left": null,
       "margin": null,
       "max_height": null,
       "max_width": null,
       "min_height": null,
       "min_width": null,
       "object_fit": null,
       "object_position": null,
       "order": null,
       "overflow": null,
       "overflow_x": null,
       "overflow_y": null,
       "padding": null,
       "right": null,
       "top": null,
       "visibility": null,
       "width": null
      }
     },
     "315260a8412a43f1b0dc4db741ff0605": {
      "model_module": "@jupyter-widgets/controls",
      "model_module_version": "1.5.0",
      "model_name": "ProgressStyleModel",
      "state": {
       "_model_module": "@jupyter-widgets/controls",
       "_model_module_version": "1.5.0",
       "_model_name": "ProgressStyleModel",
       "_view_count": null,
       "_view_module": "@jupyter-widgets/base",
       "_view_module_version": "1.2.0",
       "_view_name": "StyleView",
       "bar_color": null,
       "description_width": ""
      }
     },
     "335375e305564759be0c47b6908737a6": {
      "model_module": "@jupyter-widgets/controls",
      "model_module_version": "1.5.0",
      "model_name": "HBoxModel",
      "state": {
       "_dom_classes": [],
       "_model_module": "@jupyter-widgets/controls",
       "_model_module_version": "1.5.0",
       "_model_name": "HBoxModel",
       "_view_count": null,
       "_view_module": "@jupyter-widgets/controls",
       "_view_module_version": "1.5.0",
       "_view_name": "HBoxView",
       "box_style": "",
       "children": [
        "IPY_MODEL_ed50899144264efdbfd9b72eec79a007",
        "IPY_MODEL_a3ee879e700a4ce6b91649ff841755e3",
        "IPY_MODEL_c8425a33cd4843c2b8bedd970566c210"
       ],
       "layout": "IPY_MODEL_e9b2448a6ee24baa98836fe222cf87c6"
      }
     },
     "3a592308711f49abaaf7d7b80413fde8": {
      "model_module": "@jupyter-widgets/base",
      "model_module_version": "1.2.0",
      "model_name": "LayoutModel",
      "state": {
       "_model_module": "@jupyter-widgets/base",
       "_model_module_version": "1.2.0",
       "_model_name": "LayoutModel",
       "_view_count": null,
       "_view_module": "@jupyter-widgets/base",
       "_view_module_version": "1.2.0",
       "_view_name": "LayoutView",
       "align_content": null,
       "align_items": null,
       "align_self": null,
       "border": null,
       "bottom": null,
       "display": null,
       "flex": null,
       "flex_flow": null,
       "grid_area": null,
       "grid_auto_columns": null,
       "grid_auto_flow": null,
       "grid_auto_rows": null,
       "grid_column": null,
       "grid_gap": null,
       "grid_row": null,
       "grid_template_areas": null,
       "grid_template_columns": null,
       "grid_template_rows": null,
       "height": null,
       "justify_content": null,
       "justify_items": null,
       "left": null,
       "margin": null,
       "max_height": null,
       "max_width": null,
       "min_height": null,
       "min_width": null,
       "object_fit": null,
       "object_position": null,
       "order": null,
       "overflow": null,
       "overflow_x": null,
       "overflow_y": null,
       "padding": null,
       "right": null,
       "top": null,
       "visibility": null,
       "width": null
      }
     },
     "438c380282414002ad9f9b6ddf8eafd3": {
      "model_module": "@jupyter-widgets/controls",
      "model_module_version": "1.5.0",
      "model_name": "DescriptionStyleModel",
      "state": {
       "_model_module": "@jupyter-widgets/controls",
       "_model_module_version": "1.5.0",
       "_model_name": "DescriptionStyleModel",
       "_view_count": null,
       "_view_module": "@jupyter-widgets/base",
       "_view_module_version": "1.2.0",
       "_view_name": "StyleView",
       "description_width": ""
      }
     },
     "4fa0f350d5774920851ebe130397605b": {
      "model_module": "@jupyter-widgets/controls",
      "model_module_version": "1.5.0",
      "model_name": "DescriptionStyleModel",
      "state": {
       "_model_module": "@jupyter-widgets/controls",
       "_model_module_version": "1.5.0",
       "_model_name": "DescriptionStyleModel",
       "_view_count": null,
       "_view_module": "@jupyter-widgets/base",
       "_view_module_version": "1.2.0",
       "_view_name": "StyleView",
       "description_width": ""
      }
     },
     "552ce794b48a48539d49ececa4897b4c": {
      "model_module": "@jupyter-widgets/controls",
      "model_module_version": "1.5.0",
      "model_name": "FloatProgressModel",
      "state": {
       "_dom_classes": [],
       "_model_module": "@jupyter-widgets/controls",
       "_model_module_version": "1.5.0",
       "_model_name": "FloatProgressModel",
       "_view_count": null,
       "_view_module": "@jupyter-widgets/controls",
       "_view_module_version": "1.5.0",
       "_view_name": "ProgressView",
       "bar_style": "success",
       "description": "",
       "description_tooltip": null,
       "layout": "IPY_MODEL_9ffe1447eafa4fc18d5b21c1f3dec3be",
       "max": 440,
       "min": 0,
       "orientation": "horizontal",
       "style": "IPY_MODEL_864b4d00cabe4de9857a393aa45cd949",
       "value": 440
      }
     },
     "61c25c73d60e4cb7a516425e581bfae5": {
      "model_module": "@jupyter-widgets/base",
      "model_module_version": "1.2.0",
      "model_name": "LayoutModel",
      "state": {
       "_model_module": "@jupyter-widgets/base",
       "_model_module_version": "1.2.0",
       "_model_name": "LayoutModel",
       "_view_count": null,
       "_view_module": "@jupyter-widgets/base",
       "_view_module_version": "1.2.0",
       "_view_name": "LayoutView",
       "align_content": null,
       "align_items": null,
       "align_self": null,
       "border": null,
       "bottom": null,
       "display": null,
       "flex": null,
       "flex_flow": null,
       "grid_area": null,
       "grid_auto_columns": null,
       "grid_auto_flow": null,
       "grid_auto_rows": null,
       "grid_column": null,
       "grid_gap": null,
       "grid_row": null,
       "grid_template_areas": null,
       "grid_template_columns": null,
       "grid_template_rows": null,
       "height": null,
       "justify_content": null,
       "justify_items": null,
       "left": null,
       "margin": null,
       "max_height": null,
       "max_width": null,
       "min_height": null,
       "min_width": null,
       "object_fit": null,
       "object_position": null,
       "order": null,
       "overflow": null,
       "overflow_x": null,
       "overflow_y": null,
       "padding": null,
       "right": null,
       "top": null,
       "visibility": null,
       "width": null
      }
     },
     "66e857ce8eb24809bb269ee77686bb6f": {
      "model_module": "@jupyter-widgets/controls",
      "model_module_version": "1.5.0",
      "model_name": "HBoxModel",
      "state": {
       "_dom_classes": [],
       "_model_module": "@jupyter-widgets/controls",
       "_model_module_version": "1.5.0",
       "_model_name": "HBoxModel",
       "_view_count": null,
       "_view_module": "@jupyter-widgets/controls",
       "_view_module_version": "1.5.0",
       "_view_name": "HBoxView",
       "box_style": "",
       "children": [
        "IPY_MODEL_213d6d297499490e979be85eca3eda71",
        "IPY_MODEL_552ce794b48a48539d49ececa4897b4c",
        "IPY_MODEL_f93a1b7a07a041079b17b0fc12cd6fa6"
       ],
       "layout": "IPY_MODEL_2bf1f91e2ed84590a0c88ebad28a6df0"
      }
     },
     "8238d122cc6044f4967690d8350689c0": {
      "model_module": "@jupyter-widgets/controls",
      "model_module_version": "1.5.0",
      "model_name": "HBoxModel",
      "state": {
       "_dom_classes": [],
       "_model_module": "@jupyter-widgets/controls",
       "_model_module_version": "1.5.0",
       "_model_name": "HBoxModel",
       "_view_count": null,
       "_view_module": "@jupyter-widgets/controls",
       "_view_module_version": "1.5.0",
       "_view_name": "HBoxView",
       "box_style": "",
       "children": [
        "IPY_MODEL_debc73c866b549a2a36b7cb399783762",
        "IPY_MODEL_0dfbd813a6244c348739419ecd9244d4",
        "IPY_MODEL_a4f66c5bdaaf46e388290b763da47839"
       ],
       "layout": "IPY_MODEL_9e257d29cf484d11948189fd187ba301"
      }
     },
     "864b4d00cabe4de9857a393aa45cd949": {
      "model_module": "@jupyter-widgets/controls",
      "model_module_version": "1.5.0",
      "model_name": "ProgressStyleModel",
      "state": {
       "_model_module": "@jupyter-widgets/controls",
       "_model_module_version": "1.5.0",
       "_model_name": "ProgressStyleModel",
       "_view_count": null,
       "_view_module": "@jupyter-widgets/base",
       "_view_module_version": "1.2.0",
       "_view_name": "StyleView",
       "bar_color": null,
       "description_width": ""
      }
     },
     "8fb002268db24eb985474bb188d432cd": {
      "model_module": "@jupyter-widgets/controls",
      "model_module_version": "1.5.0",
      "model_name": "ProgressStyleModel",
      "state": {
       "_model_module": "@jupyter-widgets/controls",
       "_model_module_version": "1.5.0",
       "_model_name": "ProgressStyleModel",
       "_view_count": null,
       "_view_module": "@jupyter-widgets/base",
       "_view_module_version": "1.2.0",
       "_view_name": "StyleView",
       "bar_color": null,
       "description_width": ""
      }
     },
     "9884da21de7041aebac9a900da9b6a50": {
      "model_module": "@jupyter-widgets/base",
      "model_module_version": "1.2.0",
      "model_name": "LayoutModel",
      "state": {
       "_model_module": "@jupyter-widgets/base",
       "_model_module_version": "1.2.0",
       "_model_name": "LayoutModel",
       "_view_count": null,
       "_view_module": "@jupyter-widgets/base",
       "_view_module_version": "1.2.0",
       "_view_name": "LayoutView",
       "align_content": null,
       "align_items": null,
       "align_self": null,
       "border": null,
       "bottom": null,
       "display": null,
       "flex": null,
       "flex_flow": null,
       "grid_area": null,
       "grid_auto_columns": null,
       "grid_auto_flow": null,
       "grid_auto_rows": null,
       "grid_column": null,
       "grid_gap": null,
       "grid_row": null,
       "grid_template_areas": null,
       "grid_template_columns": null,
       "grid_template_rows": null,
       "height": null,
       "justify_content": null,
       "justify_items": null,
       "left": null,
       "margin": null,
       "max_height": null,
       "max_width": null,
       "min_height": null,
       "min_width": null,
       "object_fit": null,
       "object_position": null,
       "order": null,
       "overflow": null,
       "overflow_x": null,
       "overflow_y": null,
       "padding": null,
       "right": null,
       "top": null,
       "visibility": null,
       "width": null
      }
     },
     "9e257d29cf484d11948189fd187ba301": {
      "model_module": "@jupyter-widgets/base",
      "model_module_version": "1.2.0",
      "model_name": "LayoutModel",
      "state": {
       "_model_module": "@jupyter-widgets/base",
       "_model_module_version": "1.2.0",
       "_model_name": "LayoutModel",
       "_view_count": null,
       "_view_module": "@jupyter-widgets/base",
       "_view_module_version": "1.2.0",
       "_view_name": "LayoutView",
       "align_content": null,
       "align_items": null,
       "align_self": null,
       "border": null,
       "bottom": null,
       "display": null,
       "flex": null,
       "flex_flow": null,
       "grid_area": null,
       "grid_auto_columns": null,
       "grid_auto_flow": null,
       "grid_auto_rows": null,
       "grid_column": null,
       "grid_gap": null,
       "grid_row": null,
       "grid_template_areas": null,
       "grid_template_columns": null,
       "grid_template_rows": null,
       "height": null,
       "justify_content": null,
       "justify_items": null,
       "left": null,
       "margin": null,
       "max_height": null,
       "max_width": null,
       "min_height": null,
       "min_width": null,
       "object_fit": null,
       "object_position": null,
       "order": null,
       "overflow": null,
       "overflow_x": null,
       "overflow_y": null,
       "padding": null,
       "right": null,
       "top": null,
       "visibility": null,
       "width": null
      }
     },
     "9ffe1447eafa4fc18d5b21c1f3dec3be": {
      "model_module": "@jupyter-widgets/base",
      "model_module_version": "1.2.0",
      "model_name": "LayoutModel",
      "state": {
       "_model_module": "@jupyter-widgets/base",
       "_model_module_version": "1.2.0",
       "_model_name": "LayoutModel",
       "_view_count": null,
       "_view_module": "@jupyter-widgets/base",
       "_view_module_version": "1.2.0",
       "_view_name": "LayoutView",
       "align_content": null,
       "align_items": null,
       "align_self": null,
       "border": null,
       "bottom": null,
       "display": null,
       "flex": null,
       "flex_flow": null,
       "grid_area": null,
       "grid_auto_columns": null,
       "grid_auto_flow": null,
       "grid_auto_rows": null,
       "grid_column": null,
       "grid_gap": null,
       "grid_row": null,
       "grid_template_areas": null,
       "grid_template_columns": null,
       "grid_template_rows": null,
       "height": null,
       "justify_content": null,
       "justify_items": null,
       "left": null,
       "margin": null,
       "max_height": null,
       "max_width": null,
       "min_height": null,
       "min_width": null,
       "object_fit": null,
       "object_position": null,
       "order": null,
       "overflow": null,
       "overflow_x": null,
       "overflow_y": null,
       "padding": null,
       "right": null,
       "top": null,
       "visibility": null,
       "width": null
      }
     },
     "a3ee879e700a4ce6b91649ff841755e3": {
      "model_module": "@jupyter-widgets/controls",
      "model_module_version": "1.5.0",
      "model_name": "FloatProgressModel",
      "state": {
       "_dom_classes": [],
       "_model_module": "@jupyter-widgets/controls",
       "_model_module_version": "1.5.0",
       "_model_name": "FloatProgressModel",
       "_view_count": null,
       "_view_module": "@jupyter-widgets/controls",
       "_view_module_version": "1.5.0",
       "_view_name": "ProgressView",
       "bar_style": "success",
       "description": "",
       "description_tooltip": null,
       "layout": "IPY_MODEL_61c25c73d60e4cb7a516425e581bfae5",
       "max": 654226731,
       "min": 0,
       "orientation": "horizontal",
       "style": "IPY_MODEL_315260a8412a43f1b0dc4db741ff0605",
       "value": 654226731
      }
     },
     "a45886a6cef24ce7b57ea0500fa4ae92": {
      "model_module": "@jupyter-widgets/controls",
      "model_module_version": "1.5.0",
      "model_name": "DescriptionStyleModel",
      "state": {
       "_model_module": "@jupyter-widgets/controls",
       "_model_module_version": "1.5.0",
       "_model_name": "DescriptionStyleModel",
       "_view_count": null,
       "_view_module": "@jupyter-widgets/base",
       "_view_module_version": "1.2.0",
       "_view_name": "StyleView",
       "description_width": ""
      }
     },
     "a4f66c5bdaaf46e388290b763da47839": {
      "model_module": "@jupyter-widgets/controls",
      "model_module_version": "1.5.0",
      "model_name": "HTMLModel",
      "state": {
       "_dom_classes": [],
       "_model_module": "@jupyter-widgets/controls",
       "_model_module_version": "1.5.0",
       "_model_name": "HTMLModel",
       "_view_count": null,
       "_view_module": "@jupyter-widgets/controls",
       "_view_module_version": "1.5.0",
       "_view_name": "HTMLView",
       "description": "",
       "description_tooltip": null,
       "layout": "IPY_MODEL_2b2e612eb7614ef799827e4fb5a424b7",
       "placeholder": "​",
       "style": "IPY_MODEL_b83e735331a344759f4b0434751eef2b",
       "value": " 1.20M/1.20M [00:00&lt;00:00, 4.88MB/s]"
      }
     },
     "aff797c7f2f34c21b9abeeb32d1e3c7f": {
      "model_module": "@jupyter-widgets/base",
      "model_module_version": "1.2.0",
      "model_name": "LayoutModel",
      "state": {
       "_model_module": "@jupyter-widgets/base",
       "_model_module_version": "1.2.0",
       "_model_name": "LayoutModel",
       "_view_count": null,
       "_view_module": "@jupyter-widgets/base",
       "_view_module_version": "1.2.0",
       "_view_name": "LayoutView",
       "align_content": null,
       "align_items": null,
       "align_self": null,
       "border": null,
       "bottom": null,
       "display": null,
       "flex": null,
       "flex_flow": null,
       "grid_area": null,
       "grid_auto_columns": null,
       "grid_auto_flow": null,
       "grid_auto_rows": null,
       "grid_column": null,
       "grid_gap": null,
       "grid_row": null,
       "grid_template_areas": null,
       "grid_template_columns": null,
       "grid_template_rows": null,
       "height": null,
       "justify_content": null,
       "justify_items": null,
       "left": null,
       "margin": null,
       "max_height": null,
       "max_width": null,
       "min_height": null,
       "min_width": null,
       "object_fit": null,
       "object_position": null,
       "order": null,
       "overflow": null,
       "overflow_x": null,
       "overflow_y": null,
       "padding": null,
       "right": null,
       "top": null,
       "visibility": null,
       "width": null
      }
     },
     "b83e735331a344759f4b0434751eef2b": {
      "model_module": "@jupyter-widgets/controls",
      "model_module_version": "1.5.0",
      "model_name": "DescriptionStyleModel",
      "state": {
       "_model_module": "@jupyter-widgets/controls",
       "_model_module_version": "1.5.0",
       "_model_name": "DescriptionStyleModel",
       "_view_count": null,
       "_view_module": "@jupyter-widgets/base",
       "_view_module_version": "1.2.0",
       "_view_name": "StyleView",
       "description_width": ""
      }
     },
     "c8425a33cd4843c2b8bedd970566c210": {
      "model_module": "@jupyter-widgets/controls",
      "model_module_version": "1.5.0",
      "model_name": "HTMLModel",
      "state": {
       "_dom_classes": [],
       "_model_module": "@jupyter-widgets/controls",
       "_model_module_version": "1.5.0",
       "_model_name": "HTMLModel",
       "_view_count": null,
       "_view_module": "@jupyter-widgets/controls",
       "_view_module_version": "1.5.0",
       "_view_name": "HTMLView",
       "description": "",
       "description_tooltip": null,
       "layout": "IPY_MODEL_d3eb6e12ccf444ad93f44871db1fd93d",
       "placeholder": "​",
       "style": "IPY_MODEL_438c380282414002ad9f9b6ddf8eafd3",
       "value": " 654M/654M [00:02&lt;00:00, 259MB/s]"
      }
     },
     "d3eb6e12ccf444ad93f44871db1fd93d": {
      "model_module": "@jupyter-widgets/base",
      "model_module_version": "1.2.0",
      "model_name": "LayoutModel",
      "state": {
       "_model_module": "@jupyter-widgets/base",
       "_model_module_version": "1.2.0",
       "_model_name": "LayoutModel",
       "_view_count": null,
       "_view_module": "@jupyter-widgets/base",
       "_view_module_version": "1.2.0",
       "_view_name": "LayoutView",
       "align_content": null,
       "align_items": null,
       "align_self": null,
       "border": null,
       "bottom": null,
       "display": null,
       "flex": null,
       "flex_flow": null,
       "grid_area": null,
       "grid_auto_columns": null,
       "grid_auto_flow": null,
       "grid_auto_rows": null,
       "grid_column": null,
       "grid_gap": null,
       "grid_row": null,
       "grid_template_areas": null,
       "grid_template_columns": null,
       "grid_template_rows": null,
       "height": null,
       "justify_content": null,
       "justify_items": null,
       "left": null,
       "margin": null,
       "max_height": null,
       "max_width": null,
       "min_height": null,
       "min_width": null,
       "object_fit": null,
       "object_position": null,
       "order": null,
       "overflow": null,
       "overflow_x": null,
       "overflow_y": null,
       "padding": null,
       "right": null,
       "top": null,
       "visibility": null,
       "width": null
      }
     },
     "debc73c866b549a2a36b7cb399783762": {
      "model_module": "@jupyter-widgets/controls",
      "model_module_version": "1.5.0",
      "model_name": "HTMLModel",
      "state": {
       "_dom_classes": [],
       "_model_module": "@jupyter-widgets/controls",
       "_model_module_version": "1.5.0",
       "_model_name": "HTMLModel",
       "_view_count": null,
       "_view_module": "@jupyter-widgets/controls",
       "_view_module_version": "1.5.0",
       "_view_name": "HTMLView",
       "description": "",
       "description_tooltip": null,
       "layout": "IPY_MODEL_3a592308711f49abaaf7d7b80413fde8",
       "placeholder": "​",
       "style": "IPY_MODEL_20fb9a412dca44c68c90113624d3248b",
       "value": "Downloading (…)solve/main/vocab.txt: 100%"
      }
     },
     "e206fa7c82104bd6bed5be4d55cff064": {
      "model_module": "@jupyter-widgets/base",
      "model_module_version": "1.2.0",
      "model_name": "LayoutModel",
      "state": {
       "_model_module": "@jupyter-widgets/base",
       "_model_module_version": "1.2.0",
       "_model_name": "LayoutModel",
       "_view_count": null,
       "_view_module": "@jupyter-widgets/base",
       "_view_module_version": "1.2.0",
       "_view_name": "LayoutView",
       "align_content": null,
       "align_items": null,
       "align_self": null,
       "border": null,
       "bottom": null,
       "display": null,
       "flex": null,
       "flex_flow": null,
       "grid_area": null,
       "grid_auto_columns": null,
       "grid_auto_flow": null,
       "grid_auto_rows": null,
       "grid_column": null,
       "grid_gap": null,
       "grid_row": null,
       "grid_template_areas": null,
       "grid_template_columns": null,
       "grid_template_rows": null,
       "height": null,
       "justify_content": null,
       "justify_items": null,
       "left": null,
       "margin": null,
       "max_height": null,
       "max_width": null,
       "min_height": null,
       "min_width": null,
       "object_fit": null,
       "object_position": null,
       "order": null,
       "overflow": null,
       "overflow_x": null,
       "overflow_y": null,
       "padding": null,
       "right": null,
       "top": null,
       "visibility": null,
       "width": null
      }
     },
     "e9b2448a6ee24baa98836fe222cf87c6": {
      "model_module": "@jupyter-widgets/base",
      "model_module_version": "1.2.0",
      "model_name": "LayoutModel",
      "state": {
       "_model_module": "@jupyter-widgets/base",
       "_model_module_version": "1.2.0",
       "_model_name": "LayoutModel",
       "_view_count": null,
       "_view_module": "@jupyter-widgets/base",
       "_view_module_version": "1.2.0",
       "_view_name": "LayoutView",
       "align_content": null,
       "align_items": null,
       "align_self": null,
       "border": null,
       "bottom": null,
       "display": null,
       "flex": null,
       "flex_flow": null,
       "grid_area": null,
       "grid_auto_columns": null,
       "grid_auto_flow": null,
       "grid_auto_rows": null,
       "grid_column": null,
       "grid_gap": null,
       "grid_row": null,
       "grid_template_areas": null,
       "grid_template_columns": null,
       "grid_template_rows": null,
       "height": null,
       "justify_content": null,
       "justify_items": null,
       "left": null,
       "margin": null,
       "max_height": null,
       "max_width": null,
       "min_height": null,
       "min_width": null,
       "object_fit": null,
       "object_position": null,
       "order": null,
       "overflow": null,
       "overflow_x": null,
       "overflow_y": null,
       "padding": null,
       "right": null,
       "top": null,
       "visibility": null,
       "width": null
      }
     },
     "e9ef77cda95543429646c30504cd812d": {
      "model_module": "@jupyter-widgets/base",
      "model_module_version": "1.2.0",
      "model_name": "LayoutModel",
      "state": {
       "_model_module": "@jupyter-widgets/base",
       "_model_module_version": "1.2.0",
       "_model_name": "LayoutModel",
       "_view_count": null,
       "_view_module": "@jupyter-widgets/base",
       "_view_module_version": "1.2.0",
       "_view_name": "LayoutView",
       "align_content": null,
       "align_items": null,
       "align_self": null,
       "border": null,
       "bottom": null,
       "display": null,
       "flex": null,
       "flex_flow": null,
       "grid_area": null,
       "grid_auto_columns": null,
       "grid_auto_flow": null,
       "grid_auto_rows": null,
       "grid_column": null,
       "grid_gap": null,
       "grid_row": null,
       "grid_template_areas": null,
       "grid_template_columns": null,
       "grid_template_rows": null,
       "height": null,
       "justify_content": null,
       "justify_items": null,
       "left": null,
       "margin": null,
       "max_height": null,
       "max_width": null,
       "min_height": null,
       "min_width": null,
       "object_fit": null,
       "object_position": null,
       "order": null,
       "overflow": null,
       "overflow_x": null,
       "overflow_y": null,
       "padding": null,
       "right": null,
       "top": null,
       "visibility": null,
       "width": null
      }
     },
     "ed50899144264efdbfd9b72eec79a007": {
      "model_module": "@jupyter-widgets/controls",
      "model_module_version": "1.5.0",
      "model_name": "HTMLModel",
      "state": {
       "_dom_classes": [],
       "_model_module": "@jupyter-widgets/controls",
       "_model_module_version": "1.5.0",
       "_model_name": "HTMLModel",
       "_view_count": null,
       "_view_module": "@jupyter-widgets/controls",
       "_view_module_version": "1.5.0",
       "_view_name": "HTMLView",
       "description": "",
       "description_tooltip": null,
       "layout": "IPY_MODEL_9884da21de7041aebac9a900da9b6a50",
       "placeholder": "​",
       "style": "IPY_MODEL_4fa0f350d5774920851ebe130397605b",
       "value": "Downloading pytorch_model.bin: 100%"
      }
     },
     "eee59147bc06423d855ff0e9a1e01777": {
      "model_module": "@jupyter-widgets/controls",
      "model_module_version": "1.5.0",
      "model_name": "DescriptionStyleModel",
      "state": {
       "_model_module": "@jupyter-widgets/controls",
       "_model_module_version": "1.5.0",
       "_model_name": "DescriptionStyleModel",
       "_view_count": null,
       "_view_module": "@jupyter-widgets/base",
       "_view_module_version": "1.2.0",
       "_view_name": "StyleView",
       "description_width": ""
      }
     },
     "f93a1b7a07a041079b17b0fc12cd6fa6": {
      "model_module": "@jupyter-widgets/controls",
      "model_module_version": "1.5.0",
      "model_name": "HTMLModel",
      "state": {
       "_dom_classes": [],
       "_model_module": "@jupyter-widgets/controls",
       "_model_module_version": "1.5.0",
       "_model_name": "HTMLModel",
       "_view_count": null,
       "_view_module": "@jupyter-widgets/controls",
       "_view_module_version": "1.5.0",
       "_view_name": "HTMLView",
       "description": "",
       "description_tooltip": null,
       "layout": "IPY_MODEL_e9ef77cda95543429646c30504cd812d",
       "placeholder": "​",
       "style": "IPY_MODEL_a45886a6cef24ce7b57ea0500fa4ae92",
       "value": " 440/440 [00:00&lt;00:00, 28.1kB/s]"
      }
     }
    },
    "version_major": 2,
    "version_minor": 0
   }
  }
 },
 "nbformat": 4,
 "nbformat_minor": 5
}
